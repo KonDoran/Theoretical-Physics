{
 "cells": [
  {
   "cell_type": "markdown",
   "metadata": {},
   "source": [
    "# Plotting orbits of n objects using RK 4 solver in 2D\n",
    "\n",
    "## Konstantinos Doran SN:22007700 Date:01/03/24"
   ]
  },
  {
   "cell_type": "code",
   "execution_count": null,
   "metadata": {},
   "outputs": [],
   "source": [
    "%matplotlib inline\n",
    "import numpy as np\n",
    "import matplotlib.pyplot as plt"
   ]
  },
  {
   "cell_type": "code",
   "execution_count": null,
   "metadata": {},
   "outputs": [],
   "source": [
    "def force(r1,r2,m1,m2):\n",
    "    \"\"\"Returns the gravitational force on a mass, m1, at a point r1, due to another mass, m2, at a point r2.\n",
    "    \n",
    "    Inputs:\n",
    "    r1      position of first mass as a numpy array\n",
    "    r2      position of second mass as a numpy array\n",
    "    m1      mass of first object\n",
    "    m2      mass of second object    \n",
    "    Returns:\n",
    "    f_on_m1 force on mass 1 as a numpy array\n",
    "    \"\"\"\n",
    "    # Find r_12 and its magnitude\n",
    "    r12 = r2 - r1\n",
    "    f_on_m1 = G*m1*m2/(np.sqrt((np.dot(r12,r12))**3))*r12\n",
    "    return f_on_m1"
   ]
  },
  {
   "cell_type": "code",
   "execution_count": null,
   "metadata": {},
   "outputs": [],
   "source": [
    "def potential(r1,r2,m1,m2):\n",
    "    \"\"\"Returns the gravitational potential energy of a mass, m1, at a point r1, due to another mass, m2, at a point r2.\n",
    "    \n",
    "    Inputs:\n",
    "    r1      positions of first mass as a 2D numpy array\n",
    "    r2      positions of second mass as a 2D numpy array\n",
    "    m1      mass of first object\n",
    "    m2      mass of second object    \n",
    "    Returns:\n",
    "    pot potential energy of mass 1 as a 2D numpy array\n",
    "    \"\"\"\n",
    "    # Find r_12 and its magnitude\n",
    "    r12 = r2 - r1\n",
    "    pot = -G*m1*m2/np.linalg.norm(r12, axis=1)\n",
    "    return pot"
   ]
  },
  {
   "cell_type": "markdown",
   "metadata": {},
   "source": [
    "First I set it up to work for 2 bodies and check if it works the same as in my previous workbook. "
   ]
  },
  {
   "cell_type": "code",
   "execution_count": null,
   "metadata": {},
   "outputs": [],
   "source": [
    "# Set up parameters\n",
    "Ndim = 2     #2D problem for now\n",
    "Nsteps = 15000\n",
    "Nbodies = 2\n",
    "G = 1        # Appropriate units\n",
    "dt = 0.001\n",
    "m1 = 0.5  # Small\n",
    "m2 = 1.0     # Large\n",
    "masses = np.array([m1,m2])\n",
    "# Initial conditions\n",
    "r1 = np.array((-2/3,0))\n",
    "v1 = np.array((0,np.sqrt(2/3)))\n",
    "r2 = np.array((1/3,0))\n",
    "v2 = np.array((0,-np.sqrt(1/6)))\n",
    "y0 = np.array((r1,r2,v1,v2))"
   ]
  },
  {
   "cell_type": "code",
   "execution_count": null,
   "metadata": {},
   "outputs": [],
   "source": [
    "def RK4_solver(fun,y0,dt,N):\n",
    "    \"\"\"Solve dy/dt = fun(y,t) using fourth-order RK method.\n",
    "    Inputs:\n",
    "    fun  f(y,t)\n",
    "    y0   Initial condition array - positions and velocities of each object in the form (r1,v1,r2,v2,....)\n",
    "    dt   Step size\n",
    "    N    Number of steps\n",
    "    Returns: two arrays of length N+1 (x and v or equivalent)\n",
    "    \"\"\"\n",
    "    # Storage for solution\n",
    "    #State vector consisting of positions and velocities of each body at each time\n",
    "    # E.g   state vector at t0 = ((x1,y1), (x2,y2), (vx1,vy1), (vx2,vy2)) or simply (r1,r2,v1,v2)\n",
    "    y = np.zeros((Nsteps,2*Nbodies,Ndim))\n",
    "    Energies = np.zeros((Nsteps,Nbodies))\n",
    "    # Initial condition\n",
    "    y[0] = y0\n",
    "    #print(y[0])\n",
    "    t = 0\n",
    "    for i in range(N-1):\n",
    "        # RK4 formulae\n",
    "        #print(y[i,0])\n",
    "        k1 = dt*fun(y[i],t)\n",
    "        k2 = dt*fun(y[i]+0.5*k1,t+0.5*dt)\n",
    "        k3 = dt*fun(y[i]+0.5*k2,t+0.5*dt)\n",
    "        #print(k3, y[i])\n",
    "        k4 = dt*fun(y[i]+k3,t+dt)\n",
    "        y[i+1]=y[i]+(k1+2*k2+2*k3+k4)/6\n",
    "        t += dt\n",
    "        \n",
    "    return y"
   ]
  },
  {
   "cell_type": "code",
   "execution_count": null,
   "metadata": {},
   "outputs": [],
   "source": [
    "def RHS_Orbital_motion(y,t):\n",
    "    \"\"\"Implements gravitational force of n bodies RHS for ODE solver\n",
    "    \n",
    "    Inputs:\n",
    "    y_n   state vector containing r and v for each object\n",
    "    t     Time (unused)\n",
    "    \n",
    "    Output:\n",
    "    dy_n  state vector containing gradients dr and dv\n",
    "    \"\"\"\n",
    "    statevec = np.zeros((2*Nbodies,Ndim))\n",
    "    forces = np.zeros((Nbodies,Ndim))\n",
    "    energy = np.zeros((Nbodies))\n",
    "    #print(statevec)\n",
    "    for i in range(Nbodies-1):\n",
    "        for j in range(i+1,Nbodies):\n",
    "            fij = force(y[i],y[j],masses[i],masses[j])\n",
    "            forces[i] += fij\n",
    "            forces[j] -= fij\n",
    "            \n",
    "    for i in range(Nbodies):\n",
    "        statevec[i] = y[Nbodies+i]\n",
    "        statevec[Nbodies+i] = forces[i]/masses[i]\n",
    "    #f12 = force(y[0],y[1],masses[0], masses[1])      \n",
    "    #f21 = -f12  \n",
    "    #accel1 = f12/masses[0]\n",
    "    #accel2 = f21/masses[1]\n",
    "    #statevec[2] = accel1\n",
    "    #statevec[3] = accel2\n",
    "    #print(statevec)\n",
    "    # statevec = (v1,v2,a1,a2)\n",
    "    return statevec"
   ]
  },
  {
   "cell_type": "code",
   "execution_count": null,
   "metadata": {},
   "outputs": [],
   "source": [
    "t_arr = np.linspace(0,Nsteps*dt,Nsteps)\n",
    "orbits = RK4_solver(RHS_Orbital_motion,y0,dt,Nsteps)"
   ]
  },
  {
   "cell_type": "code",
   "execution_count": null,
   "metadata": {},
   "outputs": [],
   "source": [
    "#plt.plot(t_arr, orbits[:,0])\n",
    "plt.plot(orbits[:,0,0], orbits[:,0,1])\n",
    "plt.plot(orbits[:,1,0], orbits[:,1,1])\n",
    "plt.axis(\"scaled\")\n",
    "print(orbits[0,3,:])"
   ]
  },
  {
   "cell_type": "code",
   "execution_count": null,
   "metadata": {},
   "outputs": [],
   "source": [
    "# Create figure with correct size\n",
    "fig_parts = plt.figure(figsize=(10,10), tight_layout=True)\n",
    "# Initialise number of plots\n",
    "rows = 5\n",
    "cols = 4\n",
    "num  = rows*cols\n",
    "step = int(Nsteps/num)\n",
    "for i in range(num):\n",
    "    ax = fig_parts.add_subplot(rows,cols,i+1)\n",
    "    ax.plot(orbits[:step*i,0,0], orbits[:step*i,0,1])\n",
    "    ax.plot(orbits[:step*i,1,0], orbits[:step*i,1,1])\n",
    "    ax.axis('scaled')\n",
    "    ax.set_ylim((-0.75,0.75))\n",
    "    ax.set_xlim((-0.75,0.75))\n",
    "    # Add title and labels\n",
    "    ax.set_title(f\"time step={i*step}\")"
   ]
  },
  {
   "cell_type": "code",
   "execution_count": null,
   "metadata": {},
   "outputs": [],
   "source": [
    "def totalenergy(orbits):\n",
    "    \"\"\"\n",
    "    \"\"\"\n",
    "    TotE = np.zeros((Nsteps))\n",
    "    KE = np.zeros((Nbodies,Nsteps))\n",
    "    PE = np.zeros((Nbodies,Nsteps))\n",
    "    for i in range(Nbodies):\n",
    "        KE[i] = 0.5*masses[i]*np.linalg.norm(orbits[:,Nbodies+i], axis=1)*np.linalg.norm(orbits[:,Nbodies+i], axis=1)\n",
    "        for j in range(Nbodies):\n",
    "            if j !=i:\n",
    "                PE[i] += potential(orbits[:,i], orbits[:,j], masses[i], masses[j])\n",
    "    TotE = KE + PE\n",
    "    return TotE, KE, PE"
   ]
  },
  {
   "cell_type": "code",
   "execution_count": null,
   "metadata": {},
   "outputs": [],
   "source": [
    "Energy, KE, PE = totalenergy(orbits)\n",
    "print(Energy)\n",
    "#plt.plot(t_arr, Energy[0])\n",
    "#plt.plot(t_arr, Energy[1])\n",
    "plt.plot(t_arr, Energy[0]+Energy[1])"
   ]
  },
  {
   "cell_type": "code",
   "execution_count": null,
   "metadata": {},
   "outputs": [],
   "source": [
    "def totalangmomentum(orbits):\n",
    "    \"\"\"\"\"\"\n",
    "    angularmom = np.zeros((Nbodies,Nsteps))\n",
    "    for i in range(Nbodies):\n",
    "        angularmom[i] = np.cross(orbits[:,i], orbits[:,Nbodies+i])*masses[i]\n",
    "    totmomentum = np.sum(angularmom,axis=0)\n",
    "    return totmomentum"
   ]
  },
  {
   "cell_type": "code",
   "execution_count": null,
   "metadata": {},
   "outputs": [],
   "source": [
    "L = totalangmomentum(orbits)\n",
    "print(L)\n",
    "plt.plot(t_arr, L)"
   ]
  },
  {
   "cell_type": "code",
   "execution_count": null,
   "metadata": {},
   "outputs": [],
   "source": [
    "# Set up parameters\n",
    "Ndim = 2     #2D problem for now\n",
    "Nsteps = 30000\n",
    "Nbodies = 3\n",
    "G = 1        # Appropriate units\n",
    "dt = 0.001\n",
    "m1 = 1.0  \n",
    "m2 = 3e-6     \n",
    "m3 = 3e-8\n",
    "masses = np.array([m1,m2,m3])\n",
    "r12 = 1\n",
    "r23 = 0.0025\n",
    "v2mag = np.sqrt(G*m1*(r12-(m2*r12/(m1+m2))))/r12\n",
    "v3mag = v2mag- np.sqrt((G*m2*(r23-(m3*r23/(m2+m3)))))/r23\n",
    "# Initial conditions\n",
    "r1 = np.array((0,0))\n",
    "v1 = np.array((0,0))\n",
    "r2 = np.array((r12,0))\n",
    "v2 = np.array((0,v2mag))\n",
    "r3 = np.array((r12+r23,0))\n",
    "v3 = np.array((0,v3mag))\n",
    "y0 = np.array((r1,r2,r3,v1,v2,v3))"
   ]
  },
  {
   "cell_type": "code",
   "execution_count": null,
   "metadata": {},
   "outputs": [],
   "source": [
    "t_arr = np.linspace(0,Nsteps*dt,Nsteps)\n",
    "orbits = RK4_solver(RHS_Orbital_motion,y0,dt,Nsteps)"
   ]
  },
  {
   "cell_type": "code",
   "execution_count": null,
   "metadata": {},
   "outputs": [],
   "source": [
    "#plt.plot(orbits[:,0,0], orbits[:,0,1])\n",
    "#plt.plot(orbits[:,1,0], orbits[:,1,1])\n",
    "plt.plot(orbits[:,2,0]-orbits[:,1,0], orbits[:,2,1]-orbits[:,1,1])\n",
    "plt.axis(\"scaled\")"
   ]
  },
  {
   "cell_type": "code",
   "execution_count": null,
   "metadata": {},
   "outputs": [],
   "source": [
    "fig3 = plt.figure(figsize=(12,5))\n",
    "ax1 = fig3.add_subplot(1,2,1)\n",
    "#ax1.plot(orbits[:,0,0], orbits[:,0,1])\n",
    "#ax1.plot(orbits[:,1,0], orbits[:,1,1])\n",
    "ax1.plot(orbits[:,2,0]-orbits[:,1,0], orbits[:,2,1]-orbits[:,1,1])\n",
    "ax1.axis('scaled')\n",
    "ax1.set_xlabel(\"x\")\n",
    "ax1.set_ylabel(\"y\")\n",
    "ax1.set_title(\"Position of $m_3$ relative to $m_2$\")\n",
    "ax2 = fig3.add_subplot(1,2,2)\n",
    "ax2.plot(t_arr,orbits[:,2,0]-orbits[:,1,0], label=\"x\")\n",
    "ax2.plot(t_arr,orbits[:,2,1]-orbits[:,1,1], label=\"y\")\n",
    "ax2.set_xlabel(\"Time\")\n",
    "ax2.set_ylabel(\"Position\")\n",
    "ax2.set_title(\"Position of mass 2 with respect to time\")\n",
    "ax2.legend()\n",
    "# ax3 = fig3.add_subplot(1,3,3)\n",
    "# ax3.plot(t_arr,orbits[:,2,0], label=\"x\")\n",
    "# ax3.plot(t_arr,orbits[:,2,1], label=\"y\")\n",
    "# ax3.set_xlabel(\"time\")\n",
    "# ax3.set_ylabel(\"position\")\n",
    "# ax3.set_title(\"Position of mass 3 with respect to time\")\n",
    "# ax3.legend()    "
   ]
  },
  {
   "cell_type": "code",
   "execution_count": null,
   "metadata": {},
   "outputs": [],
   "source": [
    "fig3.savefig(\"RK4 relative m3 orbit.pdf\")"
   ]
  },
  {
   "cell_type": "markdown",
   "metadata": {},
   "source": [
    "Emulates the same result as in verlet method with much faster processing time!!!!"
   ]
  },
  {
   "cell_type": "code",
   "execution_count": null,
   "metadata": {},
   "outputs": [],
   "source": [
    "Energy, KE, PE = totalenergy(orbits)\n",
    "print(Energy)\n",
    "#plt.plot(t_arr, Energy[0])\n",
    "#plt.plot(t_arr, Energy[1])\n",
    "plt.plot(t_arr, Energy[0]+Energy[1]+Energy[2])"
   ]
  },
  {
   "cell_type": "code",
   "execution_count": null,
   "metadata": {},
   "outputs": [],
   "source": [
    "L = totalangmomentum(orbits)\n",
    "print(L)\n",
    "plt.plot(t_arr, L)"
   ]
  },
  {
   "cell_type": "code",
   "execution_count": null,
   "metadata": {},
   "outputs": [],
   "source": [
    "# Plot some kind of energy (calculate if necessary) vs t\n",
    "fig2 = plt.figure(figsize=(12,20))\n",
    "#fig2.tight_layout()\n",
    "ax1 = fig2.add_subplot(4,2,3)\n",
    "ax1.plot(t_arr, Energy[0]+Energy[1]+Energy[2])\n",
    "ax1.set_xlabel(\"Time\")\n",
    "ax1.set_ylabel(\"E\")\n",
    "ax1.set_title(\"Total Energy over time\", loc = \"right\")\n",
    "\n",
    "# Plot angular momentum vs t\n",
    "ax2 = fig2.add_subplot(4,2,4)\n",
    "ax2.plot(t_arr,L)\n",
    "ax2.set_xlabel(\"Time\")\n",
    "ax2.set_ylabel(\"L\")\n",
    "ax2.set_title(\"Total Angular momentum over time\", loc = \"right\")\n",
    "\n",
    "#plot KE vs t\n",
    "ax3 = fig2.add_subplot(4,2,1)\n",
    "ax3.plot(t_arr, KE[0]+KE[1]+KE[2])\n",
    "ax3.set_xlabel(\"Time\")\n",
    "ax3.set_ylabel(\"KE\")\n",
    "ax3.set_title(\"Total Kinetic Energy over time\", loc = \"right\")\n",
    "\n",
    "#plot PE vs t\n",
    "ax4 = fig2.add_subplot(4,2,2)\n",
    "ax4.plot(t_arr, PE[0]+PE[1]+PE[2])\n",
    "ax4.set_xlabel(\"Time\")\n",
    "ax4.set_ylabel(\"PE\")\n",
    "ax4.set_title(\"Total Potential Energy over time\", loc = \"right\")"
   ]
  },
  {
   "cell_type": "code",
   "execution_count": null,
   "metadata": {},
   "outputs": [],
   "source": [
    "fig3.savefig(\"RK4 three body energy and momentum.pdf\")"
   ]
  }
 ],
 "metadata": {
  "kernelspec": {
   "display_name": "base",
   "language": "python",
   "name": "python3"
  },
  "language_info": {
   "codemirror_mode": {
    "name": "ipython",
    "version": 3
   },
   "file_extension": ".py",
   "mimetype": "text/x-python",
   "name": "python",
   "nbconvert_exporter": "python",
   "pygments_lexer": "ipython3",
   "version": "3.8.8"
  }
 },
 "nbformat": 4,
 "nbformat_minor": 2
}
