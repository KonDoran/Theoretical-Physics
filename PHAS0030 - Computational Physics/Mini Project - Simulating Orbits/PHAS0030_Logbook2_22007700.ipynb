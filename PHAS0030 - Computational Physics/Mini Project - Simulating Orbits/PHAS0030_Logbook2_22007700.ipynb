{
 "cells": [
  {
   "cell_type": "markdown",
   "metadata": {},
   "source": [
    "# Plotting orbits of two objects using RK 4 solver\n",
    "\n",
    "## Konstantinos Doran SN:22007700 Date:21/02/24\n"
   ]
  },
  {
   "cell_type": "code",
   "execution_count": null,
   "metadata": {},
   "outputs": [],
   "source": [
    "%matplotlib inline\n",
    "import numpy as np\n",
    "import matplotlib.pyplot as plt"
   ]
  },
  {
   "cell_type": "code",
   "execution_count": null,
   "metadata": {},
   "outputs": [],
   "source": [
    "def force(r1,r2,m1,m2):\n",
    "    \"\"\"Returns the gravitational force on a mass, m1, at a point r1, due to another mass, m2, at a point r2.\n",
    "    \n",
    "    Inputs:\n",
    "    r1      position of first mass as a numpy array\n",
    "    r2      position of second mass as a numpy array\n",
    "    m1      mass of first object\n",
    "    m2      mass of second object    \n",
    "    Returns:\n",
    "    f_on_m1 force on mass 1 as a numpy array\n",
    "    \"\"\"\n",
    "    # Find r_12 and its magnitude\n",
    "    r12 = r2 - r1\n",
    "    f_on_m1 = G*m1*m2/(np.sqrt((np.dot(r12,r12))**3))*r12\n",
    "    return f_on_m1"
   ]
  },
  {
   "cell_type": "code",
   "execution_count": null,
   "metadata": {},
   "outputs": [],
   "source": [
    "# Set up parameters\n",
    "Ndim = 2     #2D problem for now\n",
    "Nsteps = 30000\n",
    "Nbodies = 2\n",
    "G = 1        # Appropriate units\n",
    "dt = 0.001\n",
    "m1 = 0.5  # Small\n",
    "m2 = 1.0     # Large\n",
    "masses = np.array([m1,m2])\n",
    "# Initial conditions\n",
    "r1 = np.array((-2/3,0))\n",
    "v1 = np.array((0,np.sqrt(2/3)))\n",
    "r2 = np.array((1/3,0))\n",
    "v2 = np.array((0,-np.sqrt(1/6)))\n",
    "y0 = np.array((r1,r2,v1,v2))\n",
    "\n"
   ]
  },
  {
   "cell_type": "markdown",
   "metadata": {},
   "source": [
    "Completely restructured my array into a singular array so that it is easier to manage positions and velocities with RK4 Solver\n"
   ]
  },
  {
   "cell_type": "code",
   "execution_count": null,
   "metadata": {},
   "outputs": [],
   "source": [
    "def RK4_solver(fun,y0,dt,N):\n",
    "    \"\"\"Solve dy/dt = fun(y,t) using fourth-order RK method.\n",
    "    Inputs:\n",
    "    fun  f(y,t)\n",
    "    y0   Initial condition array - positions and velocities of each object in the form (r1,v1,r2,v2,....)\n",
    "    dt   Step size\n",
    "    N    Number of steps\n",
    "    Returns: two arrays of length N+1 (x and v or equivalent)\n",
    "    \"\"\"\n",
    "    # Storage for solution\n",
    "    #State vector consisting of positions and velocities of each body at each time\n",
    "    # E.g   state vector at t0 = ((x1,y1), (x2,y2), (vx1,vy1), (vx2,vy2)) or simply (r1,r2,v1,v2)\n",
    "    y = np.zeros((Nsteps,2*Nbodies,Ndim))\n",
    "    # Initial condition\n",
    "    y[0] = y0\n",
    "    #print(y[0])\n",
    "    t = 0\n",
    "    for i in range(N-1):\n",
    "        # RK4 formulae\n",
    "        #print(y[i,0])\n",
    "        k1 = dt*fun(y[i],t)\n",
    "        k2 = dt*fun(y[i]+0.5*k1,t+0.5*dt)\n",
    "        k3 = dt*fun(y[i]+0.5*k2,t+0.5*dt)\n",
    "        #print(k3, y[i])\n",
    "        k4 = dt*fun(y[i]+k3,t+dt)\n",
    "        y[i+1]=y[i]+(k1+2*k2+2*k3+k4)/6\n",
    "        t += dt\n",
    "    return y"
   ]
  },
  {
   "cell_type": "code",
   "execution_count": null,
   "metadata": {},
   "outputs": [],
   "source": [
    "def RHS_Orbital_motion(y,t):\n",
    "    \"\"\"Implements gravitational force of n bodies RHS for ODE solver\n",
    "    \n",
    "    Inputs:\n",
    "    y_n   state vector containing r and v for each object\n",
    "    t     Time (unused)\n",
    "    \n",
    "    Output:\n",
    "    dy_n  state vector containing gradients dr and dv\n",
    "    \"\"\"\n",
    "    statevec = np.roll(y,Ndim, axis=0)\n",
    "    print(statevec)\n",
    "    # for j in range(0,Nbodies-1):\n",
    "    #     #Differentiate positions so velocities now replace positions in state vector\n",
    "    #     forcesum = 0\n",
    "    #     for i in range(0,Nbodies-1):\n",
    "    #         if i!=j:\n",
    "    #             forcesum += force(y[j],y[i],masses[j],masses[i])\n",
    "    #             #print(forcesum)\n",
    "    #     statevec[j] = y[Nbodies+j]\n",
    "\n",
    "    f12 = force(y[0],y[1],masses[0], masses[1])      \n",
    "    f21 = -f12  \n",
    "    accel1 = f12/masses[0]\n",
    "    accel2 = f21/masses[1]\n",
    "    statevec[2] = accel1\n",
    "    statevec[3] = accel2\n",
    "    print(statevec)\n",
    "    # statevec = (v1,v2,a1,a2)\n",
    "    return statevec\n",
    "\n"
   ]
  },
  {
   "cell_type": "code",
   "execution_count": null,
   "metadata": {},
   "outputs": [],
   "source": [
    "t_arr = np.linspace(0,Nsteps*dt,Nsteps)\n",
    "orbits = RK4_solver(RHS_Orbital_motion,y0,dt,Nsteps)\n",
    "\n"
   ]
  },
  {
   "cell_type": "code",
   "execution_count": null,
   "metadata": {},
   "outputs": [],
   "source": [
    "#plt.plot(t_arr, orbits[:,0])\n",
    "plt.plot(orbits[:,0,0], orbits[:,0,1])\n",
    "plt.plot(orbits[:,1,0], orbits[:,1,1])\n",
    "plt.axis(\"scaled\")\n",
    "print(orbits[0,3,:])"
   ]
  },
  {
   "cell_type": "code",
   "execution_count": null,
   "metadata": {},
   "outputs": [],
   "source": [
    "TotE = np.zeros((Nsteps))\n",
    "KE = np.zeros((Nbodies,Nsteps))\n",
    "PE = np.zeros((Nbodies,Nsteps))\n",
    "KE[0] = 0.5*masses[0]*np.linalg.norm(orbits[:,2], axis=1)*np.linalg.norm(orbits[:,2], axis=1)\n",
    "KE[1] = 0.5*masses[1]*np.linalg.norm(orbits[:,3], axis=1)*np.linalg.norm(orbits[:,3], axis=1)\n",
    "r12 = np.linalg.norm(orbits[:,1]-orbits[:,0], axis=1)\n",
    "r12i = 1.0/r12\n",
    "#print(-G*masses[0]*masses[1]*r12i)\n",
    "PE[0] = -G*masses[0]*masses[1]*r12i\n",
    "PE[1] = -G*masses[0]*masses[1]*r12i\n",
    "TotE = KE[0]+PE[0]+ KE[1]+PE[1]\n",
    "print(TotE)\n",
    "plt.plot(t_arr,TotE)"
   ]
  },
  {
   "cell_type": "code",
   "execution_count": null,
   "metadata": {},
   "outputs": [],
   "source": [
    "L = np.zeros((Nsteps))\n",
    "L1 = np.cross(orbits[:,0],orbits[:,2])*masses[0]\n",
    "L2 = np.cross(orbits[:,1],orbits[:,3])*masses[1]\n",
    "L = L1 +L2\n",
    "print(L)\n",
    "plt.plot(t_arr, L)"
   ]
  },
  {
   "cell_type": "code",
   "execution_count": null,
   "metadata": {},
   "outputs": [],
   "source": []
  }
 ],
 "metadata": {
  "kernelspec": {
   "display_name": "base",
   "language": "python",
   "name": "python3"
  },
  "language_info": {
   "codemirror_mode": {
    "name": "ipython",
    "version": 3
   },
   "file_extension": ".py",
   "mimetype": "text/x-python",
   "name": "python",
   "nbconvert_exporter": "python",
   "pygments_lexer": "ipython3",
   "version": "3.8.8"
  }
 },
 "nbformat": 4,
 "nbformat_minor": 2
}
