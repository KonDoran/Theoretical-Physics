{
 "cells": [
  {
   "cell_type": "markdown",
   "metadata": {},
   "source": [
    "# Plotting orbit of Jupiter  using RK 4 solver in 3D\n",
    "\n",
    "## Konstantinos Doran SN:22007700 Date:06/03/24\n",
    "Start of with just n bodies in 3D"
   ]
  },
  {
   "cell_type": "code",
   "execution_count": null,
   "metadata": {},
   "outputs": [],
   "source": [
    "%matplotlib inline\n",
    "import numpy as np\n",
    "import matplotlib.pyplot as plt\n",
    "from scipy import constants"
   ]
  },
  {
   "cell_type": "code",
   "execution_count": null,
   "metadata": {},
   "outputs": [],
   "source": [
    "def force(r1,r2,m1,m2):\n",
    "    \"\"\"Returns the gravitational force on a mass, m1, at a point r1, due to another mass, m2, at a point r2. Assuming G is defined externally\n",
    "    \n",
    "    Inputs:\n",
    "    r1      position of first mass as a numpy array\n",
    "    r2      position of second mass as a numpy array\n",
    "    m1      mass of first object\n",
    "    m2      mass of second object    \n",
    "    Returns:\n",
    "    f_on_m1 force on mass 1 as a numpy array\n",
    "    \"\"\"\n",
    "    # Find r_12 and its magnitude\n",
    "    r12 = r2 - r1\n",
    "    f_on_m1 = G*m1*m2/(np.sqrt((np.dot(r12,r12))**3))*r12\n",
    "    return f_on_m1"
   ]
  },
  {
   "cell_type": "code",
   "execution_count": null,
   "metadata": {},
   "outputs": [],
   "source": [
    "def potential(r1,r2,m1,m2):\n",
    "    \"\"\"Returns the gravitational potential energy of a mass, m1, at a point r1, due to another mass, m2, at a point r2.\n",
    "    \n",
    "    Inputs:\n",
    "    r1      positions of first mass as a 2D numpy array\n",
    "    r2      positions of second mass as a 2D numpy array\n",
    "    m1      mass of first object\n",
    "    m2      mass of second object    \n",
    "    Returns:\n",
    "    pot potential energy of mass 1 as a 2D numpy array\n",
    "    \"\"\"\n",
    "    # Find r_12 and its magnitude\n",
    "    r12 = r2 - r1\n",
    "    pot = -G*m1*m2/np.linalg.norm(r12, axis=1)\n",
    "    return pot"
   ]
  },
  {
   "cell_type": "code",
   "execution_count": null,
   "metadata": {},
   "outputs": [],
   "source": [
    "# Set up parameters\n",
    "Ndim = 3     #2D problem for now\n",
    "Nsteps = 1500\n",
    "Nbodies = 2\n",
    "G = 1        # Appropriate units\n",
    "dt = 0.01\n",
    "m1 = 0.5  # Small\n",
    "m2 = 1.0     # Large\n",
    "masses = np.array([m1,m2])\n",
    "# Initial conditions\n",
    "r1 = np.array((-2/3,0,0))\n",
    "v1 = np.array((0,np.sqrt(2/3),0.1))\n",
    "r2 = np.array((1/3,0,0))\n",
    "v2 = np.array((0,-np.sqrt(1/6),0))\n",
    "y0 = np.array((r1,r2,v1,v2))"
   ]
  },
  {
   "cell_type": "code",
   "execution_count": null,
   "metadata": {},
   "outputs": [],
   "source": [
    "def RK4_solver(fun,y0,dt,N):\n",
    "    \"\"\"Solve dy/dt = fun(y,t) using fourth-order RK method.\n",
    "    Inputs:\n",
    "    fun  f(y,t)\n",
    "    y0   Initial condition array - positions and velocities of each object in the form (r1,v1,r2,v2,....)\n",
    "    dt   Step size\n",
    "    N    Number of steps\n",
    "    Returns: two arrays of length N+1 (x and v or equivalent)\n",
    "    \"\"\"\n",
    "    # Storage for solution\n",
    "    #State vector consisting of positions and velocities of each body at each time\n",
    "    # E.g   state vector at t0 = ((x1,y1), (x2,y2), (vx1,vy1), (vx2,vy2)) or simply (r1,r2,v1,v2)\n",
    "    y = np.zeros((Nsteps,2*Nbodies,Ndim))\n",
    "    Energies = np.zeros((Nsteps,Nbodies))\n",
    "    # Initial condition\n",
    "    y[0] = y0\n",
    "    #print(y[0])\n",
    "    t = 0\n",
    "    for i in range(N-1):\n",
    "        # RK4 formulae\n",
    "        #print(y[i,0])\n",
    "        k1 = dt*fun(y[i],t)\n",
    "        k2 = dt*fun(y[i]+0.5*k1,t+0.5*dt)\n",
    "        k3 = dt*fun(y[i]+0.5*k2,t+0.5*dt)\n",
    "        #print(k3, y[i])\n",
    "        k4 = dt*fun(y[i]+k3,t+dt)\n",
    "        y[i+1]=y[i]+(k1+2*k2+2*k3+k4)/6\n",
    "        t += dt\n",
    "        \n",
    "    return y"
   ]
  },
  {
   "cell_type": "code",
   "execution_count": null,
   "metadata": {},
   "outputs": [],
   "source": [
    "def RHS_Orbital_motion(y,t):\n",
    "    \"\"\"Implements gravitational force of n bodies RHS for ODE solver\n",
    "    \n",
    "    Inputs:\n",
    "    y_n   state vector containing r and v for each object\n",
    "    t     Time (unused)\n",
    "    \n",
    "    Output:\n",
    "    dy_n  state vector containing gradients dr and dv\n",
    "    \"\"\"\n",
    "    statevec = np.zeros((2*Nbodies,Ndim))\n",
    "    forces = np.zeros((Nbodies,Ndim))\n",
    "    energy = np.zeros((Nbodies))\n",
    "    #print(statevec)\n",
    "    for i in range(Nbodies-1):\n",
    "        for j in range(i+1,Nbodies):\n",
    "            fij = force(y[i],y[j],masses[i],masses[j])\n",
    "            forces[i] += fij\n",
    "            forces[j] -= fij\n",
    "            \n",
    "    for i in range(Nbodies):\n",
    "        statevec[i] = y[Nbodies+i]\n",
    "        statevec[Nbodies+i] = forces[i]/masses[i]\n",
    "    #f12 = force(y[0],y[1],masses[0], masses[1])      \n",
    "    #f21 = -f12  \n",
    "    #accel1 = f12/masses[0]\n",
    "    #accel2 = f21/masses[1]\n",
    "    #statevec[2] = accel1\n",
    "    #statevec[3] = accel2\n",
    "    #print(statevec)\n",
    "    # statevec = (v1,v2,a1,a2)\n",
    "    return statevec"
   ]
  },
  {
   "cell_type": "code",
   "execution_count": null,
   "metadata": {},
   "outputs": [],
   "source": [
    "t_arr = np.linspace(0,Nsteps*dt,Nsteps)\n",
    "orbits = RK4_solver(RHS_Orbital_motion,y0,dt,Nsteps)"
   ]
  },
  {
   "cell_type": "code",
   "execution_count": null,
   "metadata": {},
   "outputs": [],
   "source": [
    "plt.plot(orbits[:,0,0], orbits[:,0,1])\n",
    "plt.plot(orbits[:,1,0], orbits[:,1,1])\n",
    "plt.axis(\"scaled\")\n",
    "print(orbits[0,3,:])\n",
    "fig = plt.figure()\n",
    "ax = fig.add_subplot(111,projection='3d')\n",
    "ax.plot(orbits[:,0,0], orbits[:,0,1], orbits[:,0,2])\n",
    "ax.plot(orbits[:,1,0], orbits[:,1,1], orbits[:,1,2])"
   ]
  },
  {
   "cell_type": "code",
   "execution_count": null,
   "metadata": {},
   "outputs": [],
   "source": [
    "# Set up parameters\n",
    "Ndim = 3     #2D problem for now\n",
    "Nsteps = 3000\n",
    "Nbodies = 3\n",
    "G = 1        # Appropriate units\n",
    "dt = 0.01\n",
    "m1 = 1.0  \n",
    "m2 = 3e-6     \n",
    "m3 = 3e-8\n",
    "masses = np.array([m1,m2,m3])\n",
    "r12 = 1\n",
    "r23 = 0.0025\n",
    "v2mag = np.sqrt(G*m1*(r12-(m2*r12/(m1+m2))))/r12\n",
    "v3mag = v2mag- np.sqrt((G*m2*(r23-(m3*r23/(m2+m3)))))/r23\n",
    "# Initial conditions\n",
    "r1 = np.array((0,0,0))\n",
    "v1 = np.array((0,0,0))\n",
    "r2 = np.array((r12,0,0))\n",
    "v2 = np.array((0,v2mag*np.cos(-np.pi/4),v2mag*np.sin(-np.pi/4)))\n",
    "r3 = np.array((r12+r23,0,0))\n",
    "v3 = np.array((0,v3mag*np.cos(np.pi/3),v3mag*np.sin(2*np.pi/3)))\n",
    "y0 = np.array((r1,r2,r3,v1,v2,v3))"
   ]
  },
  {
   "cell_type": "code",
   "execution_count": null,
   "metadata": {},
   "outputs": [],
   "source": [
    "t_arr = np.linspace(0,Nsteps*dt,Nsteps)\n",
    "orbits = RK4_solver(RHS_Orbital_motion,y0,dt,Nsteps)"
   ]
  },
  {
   "cell_type": "code",
   "execution_count": null,
   "metadata": {},
   "outputs": [],
   "source": [
    "fig = plt.figure(figsize=(20,20))\n",
    "ax = fig.add_subplot(121,projection='3d',)\n",
    "ax.plot(orbits[:,0,0], orbits[:,0,1], orbits[:,0,2], label=\"$m_1$ orbit\")\n",
    "ax.plot(orbits[:,1,0], orbits[:,1,1], orbits[:,1,2], label=\"$m_2$ orbit\")\n",
    "ax.plot(orbits[:,2,0], orbits[:,2,1], orbits[:,2,2], label=\"$m_3$ orbit\")\n",
    "ax.set_xlabel(\"x\")\n",
    "ax.set_ylabel(\"y\")\n",
    "ax.set_zlabel(\"z\")\n",
    "ax.set_title(\"3-D plot of three body system\")\n",
    "ax.legend()\n",
    "ax.view_init(20, 45)\n",
    "ax1 = fig.add_subplot(122)\n",
    "ax1.plot(orbits[:,0,0], orbits[:,0,1], label=r\"$m_1$ orbit\", color='y')\n",
    "ax1.plot(orbits[:,1,0], orbits[:,1,1], label=r\"$m_2$ orbit\", color='b')\n",
    "ax1.plot(orbits[:,2,0], orbits[:,2,1], label=r\"$m_3$ orbit\", color='r')\n",
    "ax1.plot(orbits[0,0,0], orbits[0,0,1], \"o\", color='y',label=r\"$m_1$\")\n",
    "ax1.plot(orbits[0,1,0], orbits[0,1,1], \"o\" , color='b', label=r\"$m_2$\")\n",
    "ax1.plot(orbits[0,2,0], orbits[0,2,1], \"o\" , color='r', label=r\"$m_3$\")\n",
    "ax1.axis('scaled')\n",
    "ax1.set_xlabel(\"x\")\n",
    "ax1.set_ylabel(\"y\")\n",
    "ax1.set_title(\"x-y plot of three body system\")\n",
    "ax1.legend()"
   ]
  },
  {
   "cell_type": "code",
   "execution_count": null,
   "metadata": {},
   "outputs": [],
   "source": [
    "fig.savefig(\"3d rk4 3 body orbit.pdf\")"
   ]
  },
  {
   "cell_type": "code",
   "execution_count": null,
   "metadata": {},
   "outputs": [],
   "source": [
    "fig3 = plt.figure(figsize=(26,5))\n",
    "ax1 = fig3.add_subplot(1,2,1)\n",
    "ax1.plot(orbits[:,0,0], orbits[:,0,1])\n",
    "ax1.plot(orbits[:,1,0], orbits[:,1,1])\n",
    "ax1.plot(orbits[:,2,0], orbits[:,2,1])\n",
    "ax1.axis('scaled')\n",
    "ax1.set_xlabel(\"x\")\n",
    "ax1.set_ylabel(\"y\")\n",
    "#ax1.set_title(\"Three bodies using velocity Verlet\")\n",
    "ax2 = fig3.add_subplot(1,3,2)\n",
    "ax2.plot(t_arr,orbits[:,1,0], label=\"x\")\n",
    "ax2.plot(t_arr,orbits[:,1,1], label=\"y\")\n",
    "ax2.plot(t_arr,orbits[:,1,2], label=\"z\")\n",
    "ax2.set_xlabel(\"time\")\n",
    "ax2.set_ylabel(\"position\")\n",
    "ax2.set_title(\"Position of mass 2 with respect to time\")\n",
    "ax2.legend()\n",
    "ax3 = fig3.add_subplot(1,3,3)\n",
    "ax3.plot(t_arr,orbits[:,2,0], label=\"x\")\n",
    "ax3.plot(t_arr,orbits[:,2,1], label=\"y\")\n",
    "ax3.plot(t_arr,orbits[:,2,2], label=\"z\")\n",
    "ax3.set_xlabel(\"time\")\n",
    "ax3.set_ylabel(\"position\")\n",
    "ax3.set_title(\"Position of mass 3 with respect to time\")\n",
    "ax3.legend()    "
   ]
  },
  {
   "cell_type": "code",
   "execution_count": null,
   "metadata": {},
   "outputs": [],
   "source": [
    "def totalenergy(orbits):\n",
    "    \"\"\"\n",
    "    \"\"\"\n",
    "    TotE = np.zeros((Nsteps))\n",
    "    KE = np.zeros((Nbodies,Nsteps))\n",
    "    PE = np.zeros((Nbodies,Nsteps))\n",
    "    for i in range(Nbodies):\n",
    "        KE[i] = 0.5*masses[i]*np.linalg.norm(orbits[:,Nbodies+i], axis=1)*np.linalg.norm(orbits[:,Nbodies+i], axis=1)\n",
    "        for j in range(Nbodies):\n",
    "            if j !=i:\n",
    "                PE[i] += potential(orbits[:,i], orbits[:,j], masses[i], masses[j])\n",
    "    TotE = KE + PE\n",
    "    return TotE, KE, PE"
   ]
  },
  {
   "cell_type": "code",
   "execution_count": null,
   "metadata": {},
   "outputs": [],
   "source": [
    "def totalangmomentum(orbits):\n",
    "    \"\"\"\"\"\"\n",
    "    angularmom = np.zeros((Nbodies,Nsteps, Ndim))\n",
    "    for i in range(Nbodies):\n",
    "        angularmom[i] = np.cross(orbits[:,i], orbits[:,Nbodies+i])*masses[i]\n",
    "        #print(angularmom[i])\n",
    "    totmomentum = np.sum(angularmom,axis=0)\n",
    "    #print(totmomentum)\n",
    "    return totmomentum"
   ]
  },
  {
   "cell_type": "code",
   "execution_count": null,
   "metadata": {},
   "outputs": [],
   "source": [
    "Energy, KE, PE = totalenergy(orbits)\n",
    "print(Energy)\n",
    "#plt.plot(t_arr, Energy[0])\n",
    "#plt.plot(t_arr, Energy[1])\n",
    "fig = plt.figure(figsize=(5,5))\n",
    "ax = fig.add_subplot(111)\n",
    "ax.plot(t_arr, Energy[0]+Energy[1]+Energy[2])\n",
    "ax.set_xlabel(\"Time\")\n",
    "ax.set_ylabel(\"E\")\n",
    "ax.set_title(\"Total Energy over time\")"
   ]
  },
  {
   "cell_type": "code",
   "execution_count": null,
   "metadata": {},
   "outputs": [],
   "source": [
    "fig.savefig(\"RK4 3 body total energy 3D.pdf\")"
   ]
  },
  {
   "cell_type": "code",
   "execution_count": null,
   "metadata": {},
   "outputs": [],
   "source": [
    "L = totalangmomentum(orbits)\n",
    "angfig = plt.figure(figsize=(10,6), tight_layout=True)\n",
    "#print(L[0,1])\n",
    "ax1 = angfig.add_subplot(131)\n",
    "ax1.plot(t_arr, L[:,0])\n",
    "ax1.set_xlabel(\"Time\")\n",
    "ax1.set_ylabel(r\"$L_x$\")\n",
    "ax2 = angfig.add_subplot(132)\n",
    "ax2.plot(t_arr, L[:,1])\n",
    "ax2.set_xlabel(\"Time\")\n",
    "ax2.set_ylabel(r\"$L_y$\")\n",
    "ax3 = angfig.add_subplot(133)\n",
    "ax3.plot(t_arr, L[:,2])\n",
    "ax3.set_xlabel(\"Time\")\n",
    "ax3.set_ylabel(r\"$L_z$\")\n",
    "angfig.suptitle(\"Total Angular Momentum of system\")"
   ]
  },
  {
   "cell_type": "code",
   "execution_count": null,
   "metadata": {},
   "outputs": [],
   "source": [
    "angfig.savefig(\"RK4 3 body ang momentum 3D.pdf\")"
   ]
  },
  {
   "cell_type": "markdown",
   "metadata": {},
   "source": [
    "Add reference to values"
   ]
  },
  {
   "cell_type": "code",
   "execution_count": null,
   "metadata": {},
   "outputs": [],
   "source": [
    "# Set up parameters\n",
    "# Values taken from https://ssd.jpl.nasa.gov/horizons/app.html#/ with date set to 06-03-24\n",
    "Ndim = 3     #3D problem for now\n",
    "Nsteps = 600000\n",
    "Nbodies = 2\n",
    "G = constants.G        # Appropriate units\n",
    "dt = 60*30    # s\n",
    "mSun = 1988500 * 10**24 # kg\n",
    "mJup = 189818722 * 10**19     # kg\n",
    "masses = np.array([mSun,mJup])\n",
    "# Initial conditions\n",
    "r1 = np.array((-1.142389309034058E+06,-5.009058423486830E+05,3.095836895255174E+04))*1000 # m\n",
    "v1 = np.array((9.244118454845832E-03,-1.136017714077767E-02,-1.036700033153707E-04))*1000 # m/s\n",
    "r2 = np.array((4.656502915513301E+08,5.834910884460863E+08,-1.283856850003496E+07))*1000 # m\n",
    "v2 = np.array((-1.035714698991324E+01,8.770443233178732E+00,1.953703646066063E-01))*1000 # m/s\n",
    "y0 = np.array((r1,r2,v1,v2))\n",
    "print(G)"
   ]
  },
  {
   "cell_type": "code",
   "execution_count": null,
   "metadata": {},
   "outputs": [],
   "source": [
    "t_arr = np.linspace(0,Nsteps*dt,Nsteps)\n",
    "orbits2 = RK4_solver(RHS_Orbital_motion,y0,dt,Nsteps)"
   ]
  },
  {
   "cell_type": "markdown",
   "metadata": {},
   "source": [
    "Add different 2D viewpoints"
   ]
  },
  {
   "cell_type": "code",
   "execution_count": null,
   "metadata": {},
   "outputs": [],
   "source": [
    "fig = plt.figure(figsize=(20,20))\n",
    "ax = fig.add_subplot(121,projection='3d',)\n",
    "ax.plot(orbits2[:,0,0], orbits2[:,0,1], orbits2[:,0,2], label=\"Sun's orbit\")\n",
    "ax.plot(orbits2[:,1,0], orbits2[:,1,1], orbits2[:,1,2], label=\"Jupiter's orbit\")\n",
    "ax.set_xlabel(\"x\")\n",
    "ax.set_ylabel(\"y\")\n",
    "ax.set_zlabel(\"z\")\n",
    "ax.set_title(\"3-D plot of Jupiter's orbit\")\n",
    "ax.legend()\n",
    "ax.view_init(20, 45)\n",
    "ax1 = fig.add_subplot(122)\n",
    "ax1.plot(orbits2[:,0,0], orbits2[:,0,1], label=\"Sun's orbit\", color='y')\n",
    "ax1.plot(orbits2[:,1,0], orbits2[:,1,1], label=\"Jupiter's orbit\", color='b')\n",
    "ax1.plot(orbits2[0,0,0], orbits2[0,0,1], \"o\", color='y',label=\"Sun\")\n",
    "ax1.plot(orbits2[0,1,0], orbits2[0,1,1], \"o\" , color='b', label=\"Jupiter\")\n",
    "ax1.axis('scaled')\n",
    "ax1.set_xlabel(\"x\")\n",
    "ax1.set_ylabel(\"y\")\n",
    "ax1.set_title(\"x-y plot of Jupiter's orbit\")\n",
    "ax1.legend()"
   ]
  },
  {
   "cell_type": "code",
   "execution_count": null,
   "metadata": {},
   "outputs": [],
   "source": [
    "fig.savefig(\"Jupiter-Sun orbit.pdf\")"
   ]
  },
  {
   "cell_type": "code",
   "execution_count": null,
   "metadata": {},
   "outputs": [],
   "source": [
    "plt.plot(t_arr,orbits2[:,1,0] )\n",
    "plt.plot(t_arr,orbits2[:,1,1] )\n",
    "plt.plot(t_arr,orbits2[:,1,2] )\n",
    "#plt.ylim(6e+11,8.1e+11)"
   ]
  },
  {
   "cell_type": "code",
   "execution_count": null,
   "metadata": {},
   "outputs": [],
   "source": [
    "Energy, KE, PE = totalenergy(orbits2)\n",
    "print(Energy)\n",
    "#plt.plot(t_arr, Energy[0])\n",
    "#plt.plot(t_arr, Energy[1])\n",
    "fig = plt.figure(figsize=(5,5))\n",
    "ax = fig.add_subplot(111)\n",
    "ax.plot(t_arr, Energy[0]+Energy[1])\n",
    "ax.set_xlabel(\"Time\")\n",
    "ax.set_ylabel(\"E\")\n",
    "ax.set_title(\"Total Energy over time\")"
   ]
  },
  {
   "cell_type": "code",
   "execution_count": null,
   "metadata": {},
   "outputs": [],
   "source": [
    "fig.savefig(\"Jupiter-Sun energy.pdf\")"
   ]
  },
  {
   "cell_type": "code",
   "execution_count": null,
   "metadata": {},
   "outputs": [],
   "source": [
    "L = totalangmomentum(orbits2)\n",
    "angfig = plt.figure(figsize=(10,6), tight_layout=True)\n",
    "#print(L[0,1])\n",
    "ax1 = angfig.add_subplot(131)\n",
    "ax1.plot(t_arr, L[:,0])\n",
    "ax1.set_xlabel(\"Time\")\n",
    "ax1.set_ylabel(r\"$L_x$\")\n",
    "ax2 = angfig.add_subplot(132)\n",
    "ax2.plot(t_arr, L[:,1])\n",
    "ax2.set_xlabel(\"Time\")\n",
    "ax2.set_ylabel(r\"$L_y$\")\n",
    "ax3 = angfig.add_subplot(133)\n",
    "ax3.plot(t_arr, L[:,2])\n",
    "ax3.set_xlabel(\"Time\")\n",
    "ax3.set_ylabel(r\"$L_z$\")\n",
    "angfig.suptitle(\"Total Angular Momentum of system\")"
   ]
  },
  {
   "cell_type": "code",
   "execution_count": null,
   "metadata": {},
   "outputs": [],
   "source": [
    "angfig.savefig(\"Jupiter-Sun ang momentum.pdf\")"
   ]
  },
  {
   "cell_type": "markdown",
   "metadata": {},
   "source": [
    "RK4 struggling to conserve angular momentum of system, particlularly in 3D where always 1 axis seems to fluctuate considerably"
   ]
  },
  {
   "cell_type": "code",
   "execution_count": null,
   "metadata": {},
   "outputs": [],
   "source": [
    "# Set up parameters\n",
    "# Position and velocity values taken from https://ssd.jpl.nasa.gov/horizons/app.html#/ with date set to 06-03-24\n",
    "Ndim = 3     #3D problem for now\n",
    "Nsteps = 600000\n",
    "Nbodies = 3\n",
    "G = constants.G        # Appropriate units\n",
    "dt = 60*30            # s\n",
    "mSun = 1988500 * 10**24 # kg\n",
    "mJup = 189818722 * 10**19     # kg\n",
    "mGanymede = 1.482* 10**23     # kg from https://doi.org/10.1126%2Fscience.286.5437.77\n",
    "masses = np.array([mSun,mJup,mGanymede])\n",
    "# Initial conditions\n",
    "r1 = np.array((-1.142389309034058E+06,-5.009058423486830E+05,3.095836895255174E+04))*1000 # m\n",
    "v1 = np.array((9.244118454845832E-03,-1.136017714077767E-02,-1.036700033153707E-04))*1000 # m/s\n",
    "r2 = np.array((4.656502915513301E+08,5.834910884460863E+08,-1.283856850003496E+07))*1000 # m\n",
    "v2 = np.array((-1.035714698991324E+01,8.770443233178732E+00,1.953703646066063E-01))*1000 # m/s\n",
    "r3 = np.array((4.663298235072411E+08,5.826676629609896E+08 ,-1.286038673101431E+07))* 1000 # m\n",
    "v3 = np.array((-1.954342380671196E+00, 1.571157393854946E+01, 5.784998944007400E-01))*1000 # m/s\n",
    "y0 = np.array((r1,r2,r3,v1,v2,v3))"
   ]
  },
  {
   "cell_type": "code",
   "execution_count": null,
   "metadata": {},
   "outputs": [],
   "source": [
    "t_arr = np.linspace(0,Nsteps*dt,Nsteps)\n",
    "orbits3 = RK4_solver(RHS_Orbital_motion,y0,dt,Nsteps)"
   ]
  },
  {
   "cell_type": "code",
   "execution_count": null,
   "metadata": {},
   "outputs": [],
   "source": [
    "fig = plt.figure(figsize=(20,20))\n",
    "ax = fig.add_subplot(121,projection='3d',)\n",
    "ax.plot(orbits3[:,0,0], orbits3[:,0,1], orbits3[:,0,2], label=\"Sun's orbit\")\n",
    "ax.plot(orbits3[:,1,0], orbits3[:,1,1], orbits3[:,1,2], label=\"Jupiter's orbit\")\n",
    "ax.plot(orbits3[:,2,0], orbits3[:,2,1], orbits3[:,2,2], label=\"Ganymede's orbit\")\n",
    "ax.set_xlabel(\"x\")\n",
    "ax.set_ylabel(\"y\")\n",
    "ax.set_zlabel(\"z\")\n",
    "ax.set_title(\"3-D plot of Jupiter's orbit\")\n",
    "ax.legend()\n",
    "ax.view_init(20, 45)\n",
    "ax1 = fig.add_subplot(122)\n",
    "ax1.plot(orbits3[:,0,0], orbits3[:,0,1], label=\"Sun's orbit\")\n",
    "ax1.plot(orbits3[:,1,0], orbits3[:,1,1], label=\"Jupiter's orbit\")\n",
    "ax1.plot(orbits3[:,2,0], orbits3[:,2,1], label=\"Ganymede's orbit\")\n",
    "ax1.plot(orbits3[0,0,0], orbits3[0,0,1], \"o\", color='b')\n",
    "ax1.plot(orbits3[0,1,0], orbits3[0,1,1], \"o\" , color='b')\n",
    "ax1.plot(orbits3[0,2,0], orbits3[0,2,1],  \"o\" , color='b')\n",
    "ax1.axis('scaled')\n",
    "ax1.set_xlabel(\"x\")\n",
    "ax1.set_ylabel(\"y\")\n",
    "ax1.set_title(\"x-y plot of Jupiter's orbit\")\n",
    "ax1.legend()"
   ]
  },
  {
   "cell_type": "code",
   "execution_count": null,
   "metadata": {},
   "outputs": [],
   "source": [
    "ganorbit = orbits3[:,2] - orbits3[:,1]\n",
    "fig = plt.figure(figsize=(20,20))\n",
    "ax = fig.add_subplot(121,projection='3d',)\n",
    "ax.plot(ganorbit[:,0],ganorbit[:,1],ganorbit[:,2], label=\"Ganymede's orbit\")\n",
    "ax.plot(0,0,0,   \"o\" , color='b', label=\"Jupiter\")\n",
    "ax.plot(ganorbit[0,0],ganorbit[0,1],ganorbit[0,2],  \"o\" , color='r')\n",
    "ax.set_xlabel(\"x\")\n",
    "ax.set_ylabel(\"y\")\n",
    "ax.set_zlabel(\"z\")\n",
    "ax.set_title(\"3-D plot of Ganymede's orbit\")\n",
    "ax.legend()\n",
    "ax.view_init(20, 45)\n",
    "ax1 = fig.add_subplot(122)\n",
    "ax1.plot(ganorbit[:,0],ganorbit[:,1], label=\"Ganymede's orbit\")\n",
    "ax1.plot(0, 0,   \"o\" , color='b', label=\"Jupiter\")\n",
    "ax1.plot(ganorbit[0,0],ganorbit[0,1],  \"o\" , color='r')\n",
    "ax1.axis('scaled')\n",
    "ax1.set_xlabel(\"x\")\n",
    "ax1.set_ylabel(\"y\")\n",
    "ax1.set_title(\"x-y plot of Ganymede's orbit\")\n",
    "ax1.legend()"
   ]
  },
  {
   "cell_type": "code",
   "execution_count": null,
   "metadata": {},
   "outputs": [],
   "source": [
    "fig.savefig(\"Ganymede orbit.pdf\")"
   ]
  },
  {
   "cell_type": "code",
   "execution_count": null,
   "metadata": {},
   "outputs": [],
   "source": [
    "fig = plt.figure(figsize=(10,10))\n",
    "ax = fig.add_subplot(121,projection='3d',)\n",
    "ax.view_init(0,90)\n",
    "#ax.plot(orbits[:,1,0], orbits[:,1,1], orbits[:,1,2])\n",
    "ax.plot(ganorbit[:10000,0], ganorbit[:10000,1], ganorbit[:10000,2])\n",
    "ax2 = fig.add_subplot(122)\n",
    "#ax.plot(orbits[:,1,0], orbits[:,1,1], orbits[:,1,2])\n",
    "ax2.plot(ganorbit[:10000,0], ganorbit[:10000,1])"
   ]
  },
  {
   "cell_type": "markdown",
   "metadata": {},
   "source": [
    "Effect of ganymede on orbit of Jupiter:\n"
   ]
  },
  {
   "cell_type": "code",
   "execution_count": null,
   "metadata": {},
   "outputs": [],
   "source": [
    "orbitdiff = orbits3[:,1]-orbits2[:,1]\n",
    "#plt.plot(orbitdiff)\n",
    "fig3 = plt.figure(figsize=(28,5))\n",
    "ax1 = fig3.add_subplot(1,3,1)\n",
    "#ax1.plot(orbits[:,0,0], orbits[:,0,1])\n",
    "#ax1.plot(orbits[:,1,0], orbits[:,1,1])\n",
    "ax1.plot(t_arr, orbitdiff[:,0])\n",
    "ax1.set_xlabel(\"Time\")\n",
    "ax1.set_ylabel(\"x\")\n",
    "ax1.set_title(\"Change in Jupiter's orbit in x direction\")\n",
    "ax1.grid()\n",
    "ax2 = fig3.add_subplot(1,3,2)\n",
    "ax2.plot(t_arr, orbitdiff[:,1])\n",
    "ax2.set_xlabel(\"Time\")\n",
    "ax2.set_ylabel(\"y\")\n",
    "ax2.set_title(\"Change in Jupiter's orbit in y direction\")\n",
    "ax2.legend()\n",
    "ax2.grid()\n",
    "ax3 = fig3.add_subplot(1,3,3)\n",
    "ax3.plot(t_arr, orbitdiff[:,2])\n",
    "ax3.set_xlabel(\"Time\")\n",
    "ax3.set_ylabel(\"z\")\n",
    "ax3.set_title(\"Change in Jupiter's orbit in z direction\")\n",
    "ax3.legend()\n",
    "ax3.grid()    "
   ]
  },
  {
   "cell_type": "code",
   "execution_count": null,
   "metadata": {},
   "outputs": [],
   "source": [
    "fig3.savefig(\"Ganymede effect on Jupiter.pdf\")"
   ]
  },
  {
   "cell_type": "code",
   "execution_count": null,
   "metadata": {},
   "outputs": [],
   "source": [
    "Energy, KE, PE = totalenergy(orbits3)\n",
    "print(Energy)\n",
    "#plt.plot(t_arr, Energy[0])\n",
    "#plt.plot(t_arr, Energy[1])\n",
    "fig = plt.figure(figsize=(5,5))\n",
    "ax = fig.add_subplot(111)\n",
    "ax.plot(t_arr, Energy[0]+Energy[1]+Energy[2])\n",
    "ax.set_xlabel(\"Time\")\n",
    "ax.set_ylabel(\"E\")\n",
    "ax.set_title(\"Total Energy over time\")"
   ]
  },
  {
   "cell_type": "code",
   "execution_count": null,
   "metadata": {},
   "outputs": [],
   "source": [
    "fig.savefig(\"Ganymede energy.pdf\")"
   ]
  },
  {
   "cell_type": "code",
   "execution_count": null,
   "metadata": {},
   "outputs": [],
   "source": [
    "L = totalangmomentum(orbits3)\n",
    "angfig = plt.figure(figsize=(10,6), tight_layout=True)\n",
    "#print(L[0,1])\n",
    "ax1 = angfig.add_subplot(131)\n",
    "ax1.plot(t_arr, L[:,0])\n",
    "ax1.set_xlabel(\"Time\")\n",
    "ax1.set_ylabel(r\"$L_x$\")\n",
    "ax2 = angfig.add_subplot(132)\n",
    "ax2.plot(t_arr, L[:,1])\n",
    "ax2.set_xlabel(\"Time\")\n",
    "ax2.set_ylabel(r\"$L_y$\")\n",
    "ax3 = angfig.add_subplot(133)\n",
    "ax3.plot(t_arr, L[:,2])\n",
    "ax3.set_xlabel(\"Time\")\n",
    "ax3.set_ylabel(r\"$L_z$\")\n",
    "angfig.suptitle(\"Total Angular Momentum of system\")"
   ]
  },
  {
   "cell_type": "code",
   "execution_count": null,
   "metadata": {},
   "outputs": [],
   "source": [
    "angfig.savefig(\"Ganymede ang momentum.pdf\")"
   ]
  },
  {
   "cell_type": "code",
   "execution_count": null,
   "metadata": {},
   "outputs": [],
   "source": [
    "# Set up parameters\n",
    "# Position and velocity values taken from https://ssd.jpl.nasa.gov/horizons/app.html#/ with date set to 06-03-24\n",
    "Ndim = 3     #3D problem for now\n",
    "Nsteps = 600000\n",
    "Nbodies = 4\n",
    "G = constants.G        # Appropriate units\n",
    "dt = 60*30            # s\n",
    "mSun = 1988500 * 10**24 # kg\n",
    "mJup = 189818722 * 10**19     # kg\n",
    "mGanymede = 1.482* 10**23     # kg from https://doi.org/10.1126%2Fscience.286.5437.77\n",
    "mCallisto = 1.076* 10**23     # kg from https://doi.org/10.1126%2Fscience.286.5437.77\n",
    "masses = np.array([mSun,mJup,mGanymede,mCallisto])\n",
    "# Initial conditions\n",
    "r1 = np.array((-1.142389309034058E+06,-5.009058423486830E+05,3.095836895255174E+04))*1000 # m\n",
    "v1 = np.array((9.244118454845832E-03,-1.136017714077767E-02,-1.036700033153707E-04))*1000 # m/s\n",
    "r2 = np.array((4.656502915513301E+08,5.834910884460863E+08,-1.283856850003496E+07))*1000 # m\n",
    "v2 = np.array((-1.035714698991324E+01,8.770443233178732E+00,1.953703646066063E-01))*1000 # m/s\n",
    "r3 = np.array((4.663298235072411E+08,5.826676629609896E+08 ,-1.286038673101431E+07))* 1000 # m\n",
    "v3 = np.array((-1.954342380671196E+00, 1.571157393854946E+01, 5.784998944007400E-01))*1000 # m/s\n",
    "r4 = np.array((4.646133092078045E+08,  5.850685313774981E+08, -1.280301715879852E+07))* 1000 # m\n",
    "v4 = np.array((-1.722217212361970E+01,  4.327917320305715E+00, -3.556385749064983E-02))*1000 # m/s\n",
    "y0 = np.array((r1,r2,r3,r4,v1,v2,v3,v4))"
   ]
  },
  {
   "cell_type": "code",
   "execution_count": null,
   "metadata": {},
   "outputs": [],
   "source": [
    "t_arr = np.linspace(0,Nsteps*dt,Nsteps)\n",
    "orbits4 = RK4_solver(RHS_Orbital_motion,y0,dt,Nsteps)"
   ]
  },
  {
   "cell_type": "code",
   "execution_count": null,
   "metadata": {},
   "outputs": [],
   "source": [
    "fig = plt.figure()\n",
    "ax = fig.add_subplot(111,projection='3d',)\n",
    "ax.view_init(45,45)\n",
    "ax.plot(orbits4[:,0,0], orbits4[:,0,1], orbits4[:,0,2])\n",
    "ax.plot(orbits4[:,1,0], orbits4[:,1,1], orbits4[:,1,2])\n",
    "ax.plot(orbits4[:,2,0], orbits4[:,2,1], orbits4[:,2,2])\n",
    "ax.plot(orbits4[:,3,0], orbits4[:,3,1], orbits4[:,3,2])"
   ]
  },
  {
   "cell_type": "code",
   "execution_count": null,
   "metadata": {},
   "outputs": [],
   "source": [
    "ganorbit = orbits4[:,2] - orbits4[:,1]\n",
    "callorbit = orbits4[:,3] - orbits4[:,1]\n",
    "plt.plot(callorbit[:500])"
   ]
  },
  {
   "cell_type": "code",
   "execution_count": null,
   "metadata": {},
   "outputs": [],
   "source": [
    "fig = plt.figure(figsize=(20,20))\n",
    "ax = fig.add_subplot(121,projection='3d',)\n",
    "ax.plot(ganorbit[:,0],ganorbit[:,1],ganorbit[:,2], label=\"Ganymede's orbit\")\n",
    "ax.plot(callorbit[:,0],callorbit[:,1],callorbit[:,2], label=\"Callisto's orbit\")\n",
    "ax.plot(0,0,0,   \"o\" , color='b', label=\"Jupiter\")\n",
    "ax.plot(ganorbit[0,0],ganorbit[0,1],ganorbit[0,2],  \"o\" , color='r')\n",
    "ax.plot(callorbit[0,0],callorbit[0,1],callorbit[0,2],  \"o\" , color='r')\n",
    "ax.set_xlabel(\"x\")\n",
    "ax.set_ylabel(\"y\")\n",
    "ax.set_zlabel(\"z\")\n",
    "ax.set_title(\"3-D plot of Callisto's orbit\")\n",
    "ax.legend()\n",
    "ax.view_init(20, 45)\n",
    "ax1 = fig.add_subplot(122)\n",
    "ax1.plot(ganorbit[:,0],ganorbit[:,1], label=\"Ganymede's orbit\")\n",
    "ax1.plot(callorbit[:,0],callorbit[:,1], label=\"Callisto's orbit\")\n",
    "ax1.plot(0, 0,   \"o\" , color='b', label=\"Jupiter\")\n",
    "ax1.plot(ganorbit[0,0],ganorbit[0,1],  \"o\" , color='r')\n",
    "ax1.plot(callorbit[0,0],callorbit[0,1],   \"o\" , color='r')\n",
    "ax1.axis('scaled')\n",
    "ax1.set_xlabel(\"x\")\n",
    "ax1.set_ylabel(\"y\")\n",
    "ax1.set_title(\"x-y plot of Callisto's orbit\")\n",
    "ax1.legend()"
   ]
  },
  {
   "cell_type": "code",
   "execution_count": null,
   "metadata": {},
   "outputs": [],
   "source": [
    "fig.savefig(\"Callisto orbit.pdf\")"
   ]
  },
  {
   "cell_type": "code",
   "execution_count": null,
   "metadata": {},
   "outputs": [],
   "source": [
    "orbitdiff43 = orbits4[:,1]-orbits3[:,1]\n",
    "orbitdiff42 = orbits4[:,1]-orbits2[:,1]\n",
    "#plt.plot(orbitdiff42)\n",
    "fig3 = plt.figure(figsize=(28,5))\n",
    "ax1 = fig3.add_subplot(1,3,1)\n",
    "#ax1.plot(orbits[:,0,0], orbits[:,0,1])\n",
    "#ax1.plot(orbits[:,1,0], orbits[:,1,1])\n",
    "ax1.plot(t_arr, orbitdiff42[:,0])\n",
    "ax1.set_xlabel(\"Time\")\n",
    "ax1.set_ylabel(\"x\")\n",
    "ax1.set_title(\"Change in Jupiter's orbit in x direction\")\n",
    "ax1.grid()\n",
    "ax2 = fig3.add_subplot(1,3,2)\n",
    "ax2.plot(t_arr, orbitdiff42[:,1])\n",
    "ax2.set_xlabel(\"Time\")\n",
    "ax2.set_ylabel(\"y\")\n",
    "ax2.set_title(\"Change in Jupiter's orbit in y direction\")\n",
    "ax2.legend()\n",
    "ax2.grid()\n",
    "ax3 = fig3.add_subplot(1,3,3)\n",
    "ax3.plot(t_arr, orbitdiff42[:,2])\n",
    "ax3.set_xlabel(\"Time\")\n",
    "ax3.set_ylabel(\"z\")\n",
    "ax3.set_title(\"Change in Jupiter's orbit in z direction\")\n",
    "ax3.legend()\n",
    "ax3.grid()    "
   ]
  },
  {
   "cell_type": "code",
   "execution_count": null,
   "metadata": {},
   "outputs": [],
   "source": [
    "fig3.savefig(\"2 moons effect on Jupiter.pdf\")"
   ]
  },
  {
   "cell_type": "code",
   "execution_count": null,
   "metadata": {},
   "outputs": [],
   "source": [
    "plt.plot(orbitdiff43)"
   ]
  },
  {
   "cell_type": "code",
   "execution_count": null,
   "metadata": {},
   "outputs": [],
   "source": [
    "Energy, KE, PE = totalenergy(orbits4)\n",
    "fig = plt.figure(figsize=(5,5))\n",
    "ax = fig.add_subplot(111)\n",
    "ax.plot(t_arr, Energy[0]+Energy[1]+Energy[2]+Energy[3])\n",
    "ax.set_xlabel(\"Time\")\n",
    "ax.set_ylabel(\"E\")\n",
    "ax.set_title(\"Total Energy over time\")"
   ]
  },
  {
   "cell_type": "code",
   "execution_count": null,
   "metadata": {},
   "outputs": [],
   "source": [
    "fig.savefig(\"2 moon energy.pdf\")"
   ]
  },
  {
   "cell_type": "code",
   "execution_count": null,
   "metadata": {},
   "outputs": [],
   "source": [
    "L = totalangmomentum(orbits4)\n",
    "angfig = plt.figure(figsize=(10,6), tight_layout=True)\n",
    "#print(L[0,1])\n",
    "ax1 = angfig.add_subplot(131)\n",
    "ax1.plot(t_arr, L[:,0])\n",
    "ax1.set_xlabel(\"Time\")\n",
    "ax1.set_ylabel(r\"$L_x$\")\n",
    "ax2 = angfig.add_subplot(132)\n",
    "ax2.plot(t_arr, L[:,1])\n",
    "ax2.set_xlabel(\"Time\")\n",
    "ax2.set_ylabel(r\"$L_y$\")\n",
    "ax3 = angfig.add_subplot(133)\n",
    "ax3.plot(t_arr, L[:,2])\n",
    "ax3.set_xlabel(\"Time\")\n",
    "ax3.set_ylabel(r\"$L_z$\")\n",
    "angfig.suptitle(\"Total Angular Momentum of system\")"
   ]
  },
  {
   "cell_type": "code",
   "execution_count": null,
   "metadata": {},
   "outputs": [],
   "source": [
    "angfig.savefig(\"2 moon ang momentum.pdf\")"
   ]
  },
  {
   "cell_type": "code",
   "execution_count": null,
   "metadata": {},
   "outputs": [],
   "source": [
    "# Set up parameters\n",
    "# Position and velocity values taken from https://ssd.jpl.nasa.gov/horizons/app.html#/ with date set to 06-03-24\n",
    "Ndim = 3     #3D problem for now\n",
    "Nsteps = 600000\n",
    "Nbodies = 5\n",
    "G = constants.G        # Appropriate units\n",
    "dt = 60*30            # s\n",
    "mSun = 1988500 * 10**24 # kg\n",
    "mJup = 189818722 * 10**19     # kg\n",
    "mGanymede = 1.482* 10**23     # kg from https://doi.org/10.1126%2Fscience.286.5437.77\n",
    "mCallisto = 1.076* 10**23     # kg from https://doi.org/10.1126%2Fscience.286.5437.77\n",
    "mIo = 0.8932*10**23           # kg from https://doi.org/10.1126%2Fscience.286.5437.77\n",
    "masses = np.array([mSun,mJup,mGanymede,mCallisto,mIo])\n",
    "# Initial conditions\n",
    "r1 = np.array((-1.142389309034058E+06,-5.009058423486830E+05,3.095836895255174E+04))*1000 # m\n",
    "v1 = np.array((9.244118454845832E-03,-1.136017714077767E-02,-1.036700033153707E-04))*1000 # m/s\n",
    "r2 = np.array((4.656502915513301E+08,5.834910884460863E+08,-1.283856850003496E+07))*1000 # m\n",
    "v2 = np.array((-1.035714698991324E+01,8.770443233178732E+00,1.953703646066063E-01))*1000 # m/s\n",
    "r3 = np.array((4.663298235072411E+08,5.826676629609896E+08 ,-1.286038673101431E+07))* 1000 # m\n",
    "v3 = np.array((-1.954342380671196E+00, 1.571157393854946E+01, 5.784998944007400E-01))*1000 # m/s\n",
    "r4 = np.array((4.646133092078045E+08,  5.850685313774981E+08, -1.280301715879852E+07))* 1000 # m\n",
    "v4 = np.array((-1.722217212361970E+01,  4.327917320305715E+00, -3.556385749064983E-02))*1000 # m/s\n",
    "r5 = np.array((4.652368585181826E+08,  5.835828494477390E+08, -1.284137882235295E+07))* 1000 # m\n",
    "v5 = np.array((-1.410261135257421E+01, -8.071639586690274E+00, -4.515334237343565E-01))*1000 # m/s\n",
    "y0 = np.array((r1,r2,r3,r4,r5,v1,v2,v3,v4,v5))"
   ]
  },
  {
   "cell_type": "code",
   "execution_count": null,
   "metadata": {},
   "outputs": [],
   "source": [
    "t_arr = np.linspace(0,Nsteps*dt,Nsteps)\n",
    "orbits5 = RK4_solver(RHS_Orbital_motion,y0,dt,Nsteps)"
   ]
  },
  {
   "cell_type": "code",
   "execution_count": null,
   "metadata": {},
   "outputs": [],
   "source": [
    "fig = plt.figure()\n",
    "ax = fig.add_subplot(111,projection='3d',)\n",
    "ax.view_init(0,45)\n",
    "ax.plot(orbits5[:,0,0], orbits5[:,0,1], orbits5[:,0,2])\n",
    "ax.plot(orbits5[:,1,0], orbits5[:,1,1], orbits5[:,1,2])\n",
    "ax.plot(orbits5[:,2,0], orbits5[:,2,1], orbits5[:,2,2], label=\"Ganymede\")\n",
    "ax.plot(orbits5[:,3,0], orbits5[:,3,1], orbits5[:,3,2], label=\"Callisto\")\n",
    "ax.plot(orbits5[:,4,0], orbits5[:,4,1], orbits5[:,4,2], label=\"Io\")\n",
    "ax.legend()"
   ]
  },
  {
   "cell_type": "code",
   "execution_count": null,
   "metadata": {},
   "outputs": [],
   "source": [
    "ganorbit = orbits5[:,2] - orbits5[:,1]\n",
    "callorbit = orbits5[:,3] - orbits5[:,1]\n",
    "Ioorbit = orbits5[:,4] - orbits5[:,1]\n",
    "plt.plot(Ioorbit[:500])\n"
   ]
  },
  {
   "cell_type": "code",
   "execution_count": null,
   "metadata": {},
   "outputs": [],
   "source": [
    "fig = plt.figure(figsize=(20,20))\n",
    "ax = fig.add_subplot(121,projection='3d',)\n",
    "ax.plot(ganorbit[:,0],ganorbit[:,1],ganorbit[:,2], label=\"Ganymede's orbit\")\n",
    "ax.plot(callorbit[:,0],callorbit[:,1],callorbit[:,2], label=\"Callisto's orbit\")\n",
    "ax.plot(Ioorbit[:,0],Ioorbit[:,1],Ioorbit[:,2],label=\"Io's orbit\")\n",
    "ax.plot(0,0,0,   \"o\" , color='b', label=\"Jupiter\")\n",
    "ax.plot(ganorbit[0,0],ganorbit[0,1],ganorbit[0,2],  \"o\" , color='r')\n",
    "ax.plot(callorbit[0,0],callorbit[0,1],callorbit[0,2],  \"o\" , color='r')\n",
    "ax.plot(Ioorbit[0,0],Ioorbit[0,1],Ioorbit[0,2],  \"o\" , color='r')\n",
    "ax.set_xlabel(\"x\")\n",
    "ax.set_ylabel(\"y\")\n",
    "ax.set_zlabel(\"z\")\n",
    "ax.set_title(\"3-D plot of Io's orbit\")\n",
    "ax.legend()\n",
    "ax.view_init(20, 45)\n",
    "ax1 = fig.add_subplot(122)\n",
    "ax1.plot(ganorbit[:,0],ganorbit[:,1], label=\"Ganymede's orbit\")\n",
    "ax1.plot(callorbit[:,0],callorbit[:,1], label=\"Callisto's orbit\")\n",
    "ax1.plot(Ioorbit[:,0],Ioorbit[:,1],label=\"Io's orbit\")\n",
    "ax1.plot(0, 0,   \"o\" , color='b', label=\"Jupiter\")\n",
    "ax1.plot(ganorbit[0,0],ganorbit[0,1],  \"o\" , color='r')\n",
    "ax1.plot(callorbit[0,0],callorbit[0,1],   \"o\" , color='r')\n",
    "ax1.plot(Ioorbit[0,0],Ioorbit[0,1],  \"o\" , color='r')\n",
    "ax1.axis('scaled')\n",
    "ax1.set_xlabel(\"x\")\n",
    "ax1.set_ylabel(\"y\")\n",
    "ax1.set_title(\"x-y plot of Io's orbit\")\n",
    "ax1.legend()"
   ]
  },
  {
   "cell_type": "code",
   "execution_count": null,
   "metadata": {},
   "outputs": [],
   "source": [
    "fig.savefig(\"Io orbit.pdf\")"
   ]
  },
  {
   "cell_type": "markdown",
   "metadata": {},
   "source": [
    "With Io orbiting so close to Jupiter, it requires the time step to be even smaller so that the numerical integration remains accurate. However, this comes with doubling the simulation calculation time\n"
   ]
  },
  {
   "cell_type": "code",
   "execution_count": null,
   "metadata": {},
   "outputs": [],
   "source": [
    "fig = plt.figure()\n",
    "ax = fig.add_subplot(111,projection='3d',)\n",
    "ax.view_init(0,45)\n",
    "#ax.plot(orbits[:,1,0], orbits[:,1,1], orbits[:,1,2])\n",
    "ax.plot(ganorbit[:1000,0], ganorbit[:1000,1], ganorbit[:1000,2], label=\"Ganymede\")\n",
    "ax.plot(callorbit[:1000,0], callorbit[:1000,1], callorbit[:1000,2], label=\"Callisto\")\n",
    "ax.plot(Ioorbit[:1000,0], Ioorbit[:1000,1], Ioorbit[:1000,2], label=\"Io\")\n",
    "ax.legend()"
   ]
  },
  {
   "cell_type": "code",
   "execution_count": null,
   "metadata": {},
   "outputs": [],
   "source": [
    "orbitdiff54 = orbits5[:,1]-orbits4[:,1]\n",
    "orbitdiff53 = orbits5[:,1]-orbits3[:,1]\n",
    "orbitdiff52 = orbits5[:,1]-orbits2[:,1]\n",
    "#plt.plot(orbitdiff52)\n",
    "fig3 = plt.figure(figsize=(28,5))\n",
    "ax1 = fig3.add_subplot(1,3,1)\n",
    "#ax1.plot(orbits[:,0,0], orbits[:,0,1])\n",
    "#ax1.plot(orbits[:,1,0], orbits[:,1,1])\n",
    "ax1.plot(t_arr, orbitdiff52[:,0])\n",
    "ax1.set_xlabel(\"Time\")\n",
    "ax1.set_ylabel(\"x\")\n",
    "ax1.grid()\n",
    "ax1.set_title(\"Change in Jupiter's orbit in x direction\")\n",
    "ax2 = fig3.add_subplot(1,3,2)\n",
    "ax2.plot(t_arr, orbitdiff52[:,1])\n",
    "ax2.set_xlabel(\"Time\")\n",
    "ax2.set_ylabel(\"y\")\n",
    "ax2.set_title(\"Change in Jupiter's orbit in y direction\")\n",
    "ax2.legend()\n",
    "ax2.grid()\n",
    "ax3 = fig3.add_subplot(1,3,3)\n",
    "ax3.plot(t_arr, orbitdiff52[:,2])\n",
    "ax3.set_xlabel(\"Time\")\n",
    "ax3.set_ylabel(\"z\")\n",
    "ax3.set_title(\"Change in Jupiter's orbit in z direction\")\n",
    "ax3.legend()    \n",
    "ax3.grid()"
   ]
  },
  {
   "cell_type": "code",
   "execution_count": null,
   "metadata": {},
   "outputs": [],
   "source": [
    "fig3.savefig(\"3 moons effect on Jupiter.pdf\")"
   ]
  },
  {
   "cell_type": "code",
   "execution_count": null,
   "metadata": {},
   "outputs": [],
   "source": [
    "Energy, KE, PE = totalenergy(orbits5)\n",
    "#print(Energy)\n",
    "#plt.plot(t_arr, Energy[0])\n",
    "#plt.plot(t_arr, Energy[1])\n",
    "fig = plt.figure(figsize=(5,5))\n",
    "ax = fig.add_subplot(111)\n",
    "ax.plot(t_arr, Energy[0]+Energy[1]+Energy[2]+Energy[3]+Energy[4])\n",
    "ax.set_xlabel(\"Time\")\n",
    "ax.set_ylabel(\"E\")\n",
    "ax.set_title(\"Total Energy over time\")"
   ]
  },
  {
   "cell_type": "code",
   "execution_count": null,
   "metadata": {},
   "outputs": [],
   "source": [
    "fig.savefig(\"3 moon energy.pdf\")"
   ]
  },
  {
   "cell_type": "code",
   "execution_count": null,
   "metadata": {},
   "outputs": [],
   "source": [
    "L = totalangmomentum(orbits5)\n",
    "angfig = plt.figure(figsize=(10,6), tight_layout=True)\n",
    "#print(L[0,1])\n",
    "ax1 = angfig.add_subplot(131)\n",
    "ax1.plot(t_arr, L[:,0])\n",
    "ax1.set_xlabel(\"Time\")\n",
    "ax1.set_ylabel(r\"$L_x$\")\n",
    "ax2 = angfig.add_subplot(132)\n",
    "ax2.plot(t_arr, L[:,1])\n",
    "ax2.set_xlabel(\"Time\")\n",
    "ax2.set_ylabel(r\"$L_y$\")\n",
    "ax3 = angfig.add_subplot(133)\n",
    "ax3.plot(t_arr, L[:,2])\n",
    "ax3.set_xlabel(\"Time\")\n",
    "ax3.set_ylabel(r\"$L_z$\")\n",
    "angfig.suptitle(\"Total Angular Momentum of system\")"
   ]
  },
  {
   "cell_type": "code",
   "execution_count": null,
   "metadata": {},
   "outputs": [],
   "source": [
    "angfig.savefig(\"3 moon ang momentum.pdf\")"
   ]
  },
  {
   "cell_type": "code",
   "execution_count": null,
   "metadata": {},
   "outputs": [],
   "source": [
    "# Set up parameters\n",
    "# Position and velocity values taken from https://ssd.jpl.nasa.gov/horizons/app.html#/ with date set to 06-03-24\n",
    "Ndim = 3     #3D problem for now\n",
    "Nsteps = 600000\n",
    "Nbodies = 6\n",
    "G = constants.G        # Appropriate units\n",
    "dt = 60*30            # s\n",
    "mSun = 1988500 * 10**24 # kg\n",
    "mJup = 189818722 * 10**19     # kg\n",
    "mGanymede = 1.482* 10**23     # kg from https://doi.org/10.1126%2Fscience.286.5437.77\n",
    "mCallisto = 1.076* 10**23     # kg from https://doi.org/10.1126%2Fscience.286.5437.77\n",
    "mIo = 0.8932*10**23           # kg from https://doi.org/10.1126%2Fscience.286.5437.77\n",
    "mEuropa = 0.480*10**23        # kg from https://doi.org/10.1126%2Fscience.286.5437.77  \n",
    "masses = np.array([mSun,mJup,mGanymede,mCallisto,mIo,mEuropa])\n",
    "# Initial conditions\n",
    "r1 = np.array((-1.142389309034058E+06,-5.009058423486830E+05,3.095836895255174E+04))*1000 # m\n",
    "v1 = np.array((9.244118454845832E-03,-1.136017714077767E-02,-1.036700033153707E-04))*1000 # m/s\n",
    "r2 = np.array((4.656502915513301E+08,5.834910884460863E+08,-1.283856850003496E+07))*1000 # m\n",
    "v2 = np.array((-1.035714698991324E+01,8.770443233178732E+00,1.953703646066063E-01))*1000 # m/s\n",
    "r3 = np.array((4.663298235072411E+08,5.826676629609896E+08 ,-1.286038673101431E+07))* 1000 # m\n",
    "v3 = np.array((-1.954342380671196E+00, 1.571157393854946E+01, 5.784998944007400E-01))*1000 # m/s\n",
    "r4 = np.array((4.646133092078045E+08,  5.850685313774981E+08, -1.280301715879852E+07))* 1000 # m\n",
    "v4 = np.array((-1.722217212361970E+01,  4.327917320305715E+00, -3.556385749064983E-02))*1000 # m/s\n",
    "r5 = np.array((4.652368585181826E+08,  5.835828494477390E+08, -1.284137882235295E+07))* 1000 # m\n",
    "v5 = np.array((-1.410261135257421E+01, -8.071639586690274E+00, -4.515334237343565E-01))*1000 # m/s\n",
    "r6 = np.array((4.657534133009982E+08,  5.841542177435417E+08, -1.281381382777277E+07))* 1000 # m\n",
    "v6 = np.array((-2.394184419030606E+01,  1.076395626919765E+01, -4.104233699513227E-02))*1000 # m/s\n",
    "y0 = np.array((r1,r2,r3,r4,r5,r6,v1,v2,v3,v4,v5,v6))"
   ]
  },
  {
   "cell_type": "code",
   "execution_count": null,
   "metadata": {},
   "outputs": [],
   "source": [
    "t_arr = np.linspace(0,Nsteps*dt,Nsteps)\n",
    "orbits6 = RK4_solver(RHS_Orbital_motion,y0,dt,Nsteps)"
   ]
  },
  {
   "cell_type": "code",
   "execution_count": null,
   "metadata": {},
   "outputs": [],
   "source": [
    "fig = plt.figure()\n",
    "ax = fig.add_subplot(111,projection='3d',)\n",
    "ax.view_init(0,45)\n",
    "ax.plot(orbits6[:,0,0], orbits6[:,0,1], orbits6[:,0,2], label=\"Sun\")\n",
    "ax.plot(orbits6[:,1,0], orbits6[:,1,1], orbits6[:,1,2], label=\"Jupiter\")\n",
    "ax.plot(orbits6[:,2,0], orbits6[:,2,1], orbits6[:,2,2], label=\"Ganymede\")\n",
    "ax.plot(orbits6[:,3,0], orbits6[:,3,1], orbits6[:,3,2], label=\"Callisto\")\n",
    "ax.plot(orbits6[:,4,0], orbits6[:,4,1], orbits6[:,4,2], label=\"Io\")\n",
    "ax.plot(orbits6[:,5,0], orbits6[:,5,1], orbits6[:,5,2], label=\"Europa\")\n",
    "ax.legend()"
   ]
  },
  {
   "cell_type": "code",
   "execution_count": null,
   "metadata": {},
   "outputs": [],
   "source": [
    "ganorbit = orbits6[:,2] - orbits6[:,1]\n",
    "callorbit = orbits6[:,3] - orbits6[:,1]\n",
    "Ioorbit = orbits6[:,4] - orbits6[:,1]\n",
    "Europaorbit = orbits6[:,5] - orbits6[:,1]\n",
    "plt.plot(Europaorbit[:1000])"
   ]
  },
  {
   "cell_type": "code",
   "execution_count": null,
   "metadata": {},
   "outputs": [],
   "source": [
    "fig = plt.figure(figsize=(20,20))\n",
    "ax = fig.add_subplot(121,projection='3d',)\n",
    "ax.plot(ganorbit[:,0],ganorbit[:,1],ganorbit[:,2], label=\"Ganymede's orbit\")\n",
    "ax.plot(callorbit[:,0],callorbit[:,1],callorbit[:,2], label=\"Callisto's orbit\")\n",
    "ax.plot(Ioorbit[:,0],Ioorbit[:,1],Ioorbit[:,2],label=\"Io's orbit\")\n",
    "ax.plot(Europaorbit[:,0],Europaorbit[:,1],Europaorbit[:,2],label=\"Europa's orbit\")\n",
    "ax.plot(0,0,0,   \"o\" , color='b', label=\"Jupiter\")\n",
    "ax.plot(ganorbit[0,0],ganorbit[0,1],ganorbit[0,2],  \"o\" , color='r')\n",
    "ax.plot(callorbit[0,0],callorbit[0,1],callorbit[0,2],  \"o\" , color='r')\n",
    "ax.plot(Ioorbit[0,0],Ioorbit[0,1],Ioorbit[0,2],  \"o\" , color='r')\n",
    "ax.plot(Europaorbit[0,0],Europaorbit[0,1],Europaorbit[0,2],  \"o\" , color='r')\n",
    "ax.set_xlabel(\"x\")\n",
    "ax.set_ylabel(\"y\")\n",
    "ax.set_zlabel(\"z\")\n",
    "ax.set_title(\"3-D plot of Europa's orbit\")\n",
    "ax.legend()\n",
    "ax.view_init(20, 45)\n",
    "ax1 = fig.add_subplot(122)\n",
    "ax1.plot(ganorbit[:,0],ganorbit[:,1], label=\"Ganymede's orbit\")\n",
    "ax1.plot(callorbit[:,0],callorbit[:,1], label=\"Callisto's orbit\")\n",
    "ax1.plot(Ioorbit[:,0],Ioorbit[:,1],label=\"Io's orbit\")\n",
    "ax1.plot(Europaorbit[:,0],Europaorbit[:,1],label=\"Europa's orbit\")\n",
    "ax1.plot(0, 0,   \"o\" , color='b', label=\"Jupiter\")\n",
    "ax1.plot(ganorbit[0,0],ganorbit[0,1],  \"o\" , color='r')\n",
    "ax1.plot(callorbit[0,0],callorbit[0,1],   \"o\" , color='r')\n",
    "ax1.plot(Ioorbit[0,0],Ioorbit[0,1],  \"o\" , color='r')\n",
    "ax1.plot(Europaorbit[0,0],Europaorbit[0,1],  \"o\" , color='r')\n",
    "ax1.axis('scaled')\n",
    "ax1.set_xlabel(\"x\")\n",
    "ax1.set_ylabel(\"y\")\n",
    "ax1.set_title(\"x-y plot of Europa's orbit\")\n",
    "ax1.legend()"
   ]
  },
  {
   "cell_type": "code",
   "execution_count": null,
   "metadata": {},
   "outputs": [],
   "source": [
    "fig.savefig(\"Europa orbit.pdf\")"
   ]
  },
  {
   "cell_type": "code",
   "execution_count": null,
   "metadata": {},
   "outputs": [],
   "source": [
    "orbitdiff65 = orbits6[:,1]-orbits5[:,1]\n",
    "orbitdiff64 = orbits6[:,1]-orbits4[:,1]\n",
    "orbitdiff63 = orbits6[:,1]-orbits3[:,1]\n",
    "orbitdiff62 = orbits6[:,1]-orbits2[:,1]\n",
    "#plt.plot(orbitdiff62)\n",
    "fig3 = plt.figure(figsize=(28,5))\n",
    "ax1 = fig3.add_subplot(1,3,1)\n",
    "#ax1.plot(orbits[:,0,0], orbits[:,0,1])\n",
    "#ax1.plot(orbits[:,1,0], orbits[:,1,1])\n",
    "ax1.plot(t_arr, orbitdiff62[:,0])\n",
    "ax1.set_xlabel(\"Time\")\n",
    "ax1.set_ylabel(\"x\")\n",
    "ax1.grid()\n",
    "ax1.set_title(\"Change in Jupiter's orbit in x direction\")\n",
    "ax2 = fig3.add_subplot(1,3,2)\n",
    "ax2.plot(t_arr, orbitdiff62[:,1])\n",
    "ax2.set_xlabel(\"Time\")\n",
    "ax2.set_ylabel(\"y\")\n",
    "ax2.set_title(\"Change in Jupiter's orbit in y direction\")\n",
    "ax2.legend()\n",
    "ax2.grid()\n",
    "ax3 = fig3.add_subplot(1,3,3)\n",
    "ax3.plot(t_arr, orbitdiff62[:,2])\n",
    "ax3.set_xlabel(\"Time\")\n",
    "ax3.set_ylabel(\"z\")\n",
    "ax3.set_title(\"Change in Jupiter's orbit in z direction\")\n",
    "ax3.legend()    \n",
    "ax3.grid()"
   ]
  },
  {
   "cell_type": "code",
   "execution_count": null,
   "metadata": {},
   "outputs": [],
   "source": [
    "fig3.savefig(\"4 moons effect on Jupiter.pdf\")"
   ]
  },
  {
   "cell_type": "code",
   "execution_count": null,
   "metadata": {},
   "outputs": [],
   "source": [
    "Energy, KE, PE = totalenergy(orbits6)\n",
    "#print(Energy)\n",
    "#plt.plot(t_arr, Energy[0])\n",
    "#plt.plot(t_arr, Energy[1])\n",
    "fig = plt.figure(figsize=(5,5))\n",
    "ax = fig.add_subplot(111)\n",
    "ax.plot(t_arr, Energy[0]+Energy[1]+Energy[2]+Energy[3]+Energy[4]+Energy[5])\n",
    "ax.set_xlabel(\"Time\")\n",
    "ax.set_ylabel(\"E\")\n",
    "ax.set_title(\"Total Energy over time\")"
   ]
  },
  {
   "cell_type": "code",
   "execution_count": null,
   "metadata": {},
   "outputs": [],
   "source": [
    "fig.savefig(\"4 moon energy.pdf\")"
   ]
  },
  {
   "cell_type": "code",
   "execution_count": null,
   "metadata": {},
   "outputs": [],
   "source": [
    "L = totalangmomentum(orbits6)\n",
    "angfig = plt.figure(figsize=(10,6), tight_layout=True)\n",
    "#print(L[0,1])\n",
    "ax1 = angfig.add_subplot(131)\n",
    "ax1.plot(t_arr, L[:,0])\n",
    "ax1.set_xlabel(\"time\")\n",
    "ax1.set_ylabel(r\"$L_x$\")\n",
    "ax2 = angfig.add_subplot(132)\n",
    "ax2.plot(t_arr, L[:,1])\n",
    "ax2.set_xlabel(\"time\")\n",
    "ax2.set_ylabel(r\"$L_y$\")\n",
    "ax3 = angfig.add_subplot(133)\n",
    "ax3.plot(t_arr, L[:,2])\n",
    "ax3.set_xlabel(\"time\")\n",
    "ax3.set_ylabel(r\"$L_z$\")\n",
    "angfig.suptitle(\"Total Angular Momentum of system\")"
   ]
  },
  {
   "cell_type": "code",
   "execution_count": null,
   "metadata": {},
   "outputs": [],
   "source": [
    "angfig.savefig(\"4 moon ang momentum.pdf\")"
   ]
  },
  {
   "cell_type": "markdown",
   "metadata": {},
   "source": [
    "Due to Europa struggling to orbit without drifting I decided to plot Europa on its own:"
   ]
  },
  {
   "cell_type": "code",
   "execution_count": null,
   "metadata": {},
   "outputs": [],
   "source": [
    "# Set up parameters\n",
    "# Position and velocity values taken from https://ssd.jpl.nasa.gov/horizons/app.html#/ with date set to 06-03-24\n",
    "Ndim = 3     #3D problem for now\n",
    "Nsteps = 600000\n",
    "Nbodies = 3\n",
    "G = constants.G        # Appropriate units\n",
    "dt = 60*30            # s\n",
    "mSun = 1988500 * 10**24 # kg\n",
    "mJup = 189818722 * 10**19     # kg\n",
    "mGanymede = 1.482* 10**23     # kg from https://doi.org/10.1126%2Fscience.286.5437.77\n",
    "mCallisto = 1.076* 10**23     # kg from https://doi.org/10.1126%2Fscience.286.5437.77\n",
    "mIo = 0.8932*10**23           # kg from https://doi.org/10.1126%2Fscience.286.5437.77\n",
    "mEuropa = 0.480*10**23        # kg from https://doi.org/10.1126%2Fscience.286.5437.77  \n",
    "masses = np.array([mSun,mJup,mEuropa])\n",
    "# Initial conditions\n",
    "r1 = np.array((-1.142389309034058E+06,-5.009058423486830E+05,3.095836895255174E+04))*1000 # m\n",
    "v1 = np.array((9.244118454845832E-03,-1.136017714077767E-02,-1.036700033153707E-04))*1000 # m/s\n",
    "r2 = np.array((4.656502915513301E+08,5.834910884460863E+08,-1.283856850003496E+07))*1000 # m\n",
    "v2 = np.array((-1.035714698991324E+01,8.770443233178732E+00,1.953703646066063E-01))*1000 # m/s\n",
    "r3 = np.array((4.663298235072411E+08,5.826676629609896E+08 ,-1.286038673101431E+07))* 1000 # m\n",
    "v3 = np.array((-1.954342380671196E+00, 1.571157393854946E+01, 5.784998944007400E-01))*1000 # m/s\n",
    "r4 = np.array((4.646133092078045E+08,  5.850685313774981E+08, -1.280301715879852E+07))* 1000 # m\n",
    "v4 = np.array((-1.722217212361970E+01,  4.327917320305715E+00, -3.556385749064983E-02))*1000 # m/s\n",
    "r5 = np.array((4.652368585181826E+08,  5.835828494477390E+08, -1.284137882235295E+07))* 1000 # m\n",
    "v5 = np.array((-1.410261135257421E+01, -8.071639586690274E+00, -4.515334237343565E-01))*1000 # m/s\n",
    "r6 = np.array((4.657534133009982E+08,  5.841542177435417E+08, -1.281381382777277E+07))* 1000 # m\n",
    "v6 = np.array((-2.394184419030606E+01,  1.076395626919765E+01, -4.104233699513227E-02))*1000 # m/s\n",
    "y0 = np.array((r1,r2,r6,v1,v2,v6))"
   ]
  },
  {
   "cell_type": "code",
   "execution_count": null,
   "metadata": {},
   "outputs": [],
   "source": [
    "t_arr = np.linspace(0,Nsteps*dt,Nsteps)\n",
    "orbits7 = RK4_solver(RHS_Orbital_motion,y0,dt,Nsteps)"
   ]
  },
  {
   "cell_type": "code",
   "execution_count": null,
   "metadata": {},
   "outputs": [],
   "source": [
    "fig = plt.figure()\n",
    "ax = fig.add_subplot(111,projection='3d',)\n",
    "ax.view_init(0,45)\n",
    "ax.plot(orbits7[:,0,0], orbits6[:,0,1], orbits6[:,0,2], label=\"Sun\")\n",
    "ax.plot(orbits7[:,1,0], orbits6[:,1,1], orbits6[:,1,2], label=\"Jupiter\")\n",
    "ax.plot(orbits7[:,2,0], orbits6[:,2,1], orbits6[:,2,2], label=\"Europa\")\n",
    "ax.legend()"
   ]
  },
  {
   "cell_type": "code",
   "execution_count": null,
   "metadata": {},
   "outputs": [],
   "source": [
    "Europaorbit = orbits7[:,2] - orbits7[:,1]"
   ]
  },
  {
   "cell_type": "code",
   "execution_count": null,
   "metadata": {},
   "outputs": [],
   "source": [
    "fig = plt.figure(figsize=(20,20))\n",
    "ax = fig.add_subplot(121,projection='3d',)\n",
    "ax.plot(Europaorbit[:,0],Europaorbit[:,1],Europaorbit[:,2],label=\"Europa's orbit\")\n",
    "ax.plot(0,0,0,   \"o\" , color='b', label=\"Jupiter\")\n",
    "ax.plot(Europaorbit[0,0],Europaorbit[0,1],Europaorbit[0,2],  \"o\" , color='r')\n",
    "ax.set_xlabel(\"x\")\n",
    "ax.set_ylabel(\"y\")\n",
    "ax.set_zlabel(\"z\")\n",
    "ax.set_title(\"3-D plot of Europa's orbit\")\n",
    "ax.legend()\n",
    "ax.view_init(20, 45)\n",
    "ax1 = fig.add_subplot(122)\n",
    "ax1.plot(Europaorbit[:,0],Europaorbit[:,1],label=\"Europa's orbit\")\n",
    "ax1.plot(0, 0,   \"o\" , color='b', label=\"Jupiter\")\n",
    "ax1.plot(Europaorbit[0,0],Europaorbit[0,1],  \"o\" , color='r')\n",
    "ax1.axis('scaled')\n",
    "ax1.set_xlabel(\"x\")\n",
    "ax1.set_ylabel(\"y\")\n",
    "ax1.set_title(\"x-y plot of Europa's orbit\")\n",
    "ax1.legend()"
   ]
  },
  {
   "cell_type": "code",
   "execution_count": null,
   "metadata": {},
   "outputs": [],
   "source": [
    "fig.savefig(\"Europa solo orbit.pdf\")"
   ]
  },
  {
   "cell_type": "code",
   "execution_count": null,
   "metadata": {},
   "outputs": [],
   "source": [
    "orbitdiff72 = orbits7[:,1]-orbits2[:,1]\n",
    "#plt.plot(orbitdiff62)\n",
    "fig3 = plt.figure(figsize=(28,5))\n",
    "ax1 = fig3.add_subplot(1,3,1)\n",
    "#ax1.plot(orbits[:,0,0], orbits[:,0,1])\n",
    "#ax1.plot(orbits[:,1,0], orbits[:,1,1])\n",
    "ax1.plot(t_arr, orbitdiff72[:,0])\n",
    "ax1.set_xlabel(\"Time\")\n",
    "ax1.set_ylabel(\"x\")\n",
    "ax1.grid()\n",
    "ax1.set_title(\"Change in Jupiter's orbit in x direction\")\n",
    "ax2 = fig3.add_subplot(1,3,2)\n",
    "ax2.plot(t_arr, orbitdiff72[:,1])\n",
    "ax2.set_xlabel(\"Time\")\n",
    "ax2.set_ylabel(\"y\")\n",
    "ax2.set_title(\"Change in Jupiter's orbit in y direction\")\n",
    "ax2.legend()\n",
    "ax2.grid()\n",
    "ax3 = fig3.add_subplot(1,3,3)\n",
    "ax3.plot(t_arr, orbitdiff72[:,2])\n",
    "ax3.set_xlabel(\"Time\")\n",
    "ax3.set_ylabel(\"z\")\n",
    "ax3.set_title(\"Change in Jupiter's orbit in z direction\")\n",
    "ax3.legend()    \n",
    "ax3.grid()"
   ]
  },
  {
   "cell_type": "code",
   "execution_count": null,
   "metadata": {},
   "outputs": [],
   "source": [
    "fig3.savefig(\"Europa effect on Jupiter.pdf\")"
   ]
  },
  {
   "cell_type": "code",
   "execution_count": null,
   "metadata": {},
   "outputs": [],
   "source": []
  }
 ],
 "metadata": {
  "kernelspec": {
   "display_name": "base",
   "language": "python",
   "name": "python3"
  },
  "language_info": {
   "codemirror_mode": {
    "name": "ipython",
    "version": 3
   },
   "file_extension": ".py",
   "mimetype": "text/x-python",
   "name": "python",
   "nbconvert_exporter": "python",
   "pygments_lexer": "ipython3",
   "version": "3.8.8"
  }
 },
 "nbformat": 4,
 "nbformat_minor": 2
}
