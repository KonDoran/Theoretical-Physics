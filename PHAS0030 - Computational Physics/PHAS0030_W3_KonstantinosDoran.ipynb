{
 "cells": [
  {
   "cell_type": "markdown",
   "metadata": {},
   "source": [
    "# Energy of a Quantum Harmonic Oscillator (QHO) using integration\n",
    "## Konstantinos Doran SN:22007700\n",
    "### Introduction\n",
    "This notebook will explore the wavefunction of a 1D QHO and its energy and look to calculate the energy of the wavefunction for different $\\alpha$ values using numerical integration. \n",
    "The energy for any wavefunction $\\psi(x)$ using the formula:\n",
    "$$\n",
    "E_{\\psi} = \\frac{ \\int  \\psi^{*}(x)\\hat{H}\\psi(x)dx} {\\int \\psi^{*}(x)\\psi(x)dx}\n",
    "$$\n",
    "where $\\hat{H}$ is the Halmiltonian. If the wavefunction is normalised then the bottom of the fraction equates to 1. For the QHO the Hamiltonian is:\n",
    "$$\n",
    "\\hat{H} = \\hat{T} + \\hat{V} = -\\frac{1}{2}\\frac{d^2}{dx^2} +\\frac{1}{2}kx^2\n",
    "$$\n",
    "where the $\\hat{T}$ and $\\hat{V}$ are the kinetic and potential energies of the wavefunction."
   ]
  },
  {
   "cell_type": "code",
   "execution_count": null,
   "metadata": {},
   "outputs": [],
   "source": [
    "# Importing matplotlib and numpy\n",
    "%matplotlib inline\n",
    "import numpy as np\n",
    "import matplotlib.pyplot as plt"
   ]
  },
  {
   "cell_type": "markdown",
   "metadata": {},
   "source": [
    "### Section on wavefunction and derivatives\n",
    "In this section I will evaluate and plot the wavefunction of the QHO and find its second derivative using finite differences.\n",
    "The formula of the wavefunction is:\n",
    "$$\n",
    "\\psi(x) = (2\\alpha/\\pi)^{1/4}e^{-\\alpha x^2}\n",
    "$$\n",
    "Where $\\alpha$ is a positive constant and x is the position.\n",
    "To approximate the second derivative we can use the forward and backward difference ($f(x+\\Delta x), f(x-\\Delta x)$) differentials and finite difference ($\\Delta x$):\n",
    "$$ \n",
    "f''(x) \\simeq \\frac {f(x+\\Delta x) -2f(x) + f(x-\\Delta x)}{\\Delta x^2}\n",
    "$$"
   ]
  },
  {
   "cell_type": "code",
   "execution_count": null,
   "metadata": {},
   "outputs": [],
   "source": [
    "#define finite difference, x and alpha values\n",
    "deltax = 0.05\n",
    "x = np.arange(-5,5,deltax)\n",
    "alpha = 1.0\n",
    "\n",
    "# Create wavefunction function to call\n",
    "def wavefunction(alpha,x):\n",
    "    \"\"\"Wavefunction takes in alpha value and array of x values and returns\n",
    "    array of wavefunction values for x coordinates.\n",
    "    Inputs:\n",
    "    alpha   float value that affects shape of wavefunction\n",
    "    x       array of x coordinates to evaluate the wavefunction\n",
    "    Outputs:\n",
    "    wave    array of wavefunction values at given coordinates\n",
    "    \"\"\"\n",
    "    wave = np.power((2*alpha/np.pi),0.25) * np.exp(-alpha*np.square(x))\n",
    "    return wave\n",
    "    \n",
    "psi1 = wavefunction(alpha,x)"
   ]
  },
  {
   "cell_type": "code",
   "execution_count": null,
   "metadata": {},
   "outputs": [],
   "source": [
    "# Create second derivative function to call\n",
    "def d2f(f,dx):\n",
    "    \"\"\"Function that calculates the second-order centred difference derivative\n",
    "    of an array of function values.\n",
    "    Inputs:\n",
    "    f     array containing values of a function at that position\n",
    "    dx    finite difference used to numerically calculate finite derivative\n",
    "    Outputs:\n",
    "    d2f   array of second-order centred difference derivative values\n",
    "    \"\"\"\n",
    "    # calculate forward and backward difference\n",
    "    forwardf = np.roll(f,-1)\n",
    "    backwardf = np.roll(f,1)\n",
    "    #calculate second-order derivative\n",
    "    d2f = (forwardf -2*f + backwardf)/(np.square(dx))\n",
    "    return d2f"
   ]
  },
  {
   "cell_type": "code",
   "execution_count": null,
   "metadata": {},
   "outputs": [],
   "source": [
    "# Calculate d2psi\n",
    "d2psi1 = d2f(psi1,deltax)\n",
    "# Plot d2psi and psi with alpha = 1\n",
    "fig1 = plt.figure(figsize=(12,20))\n",
    "fig1.suptitle(\"Wavefunction and second derivative against position\")\n",
    "ax1 = fig1.add_subplot(3,1,2)\n",
    "ax1.plot(x,d2psi1, label=r\"$\\frac{d^{2}\\psi}{dx^{2}}$\")\n",
    "ax1.plot(x,psi1, label=r\"$\\psi(x)$\")\n",
    "ax1.grid()\n",
    "# Add labels and legend for 1st plot\n",
    "ax1.set_xlabel(\"x\")\n",
    "ax1.set_ylabel(\"f(x)\")\n",
    "ax1.set_title(r\"$\\psi(x)$ and $\\frac{d^{2}\\psi}{dx^{2}}$ with $\\alpha = 1.0$\")\n",
    "ax1.legend(loc=\"lower right\")\n",
    "\n",
    "# Plot d2psi and psi with alpha = 2\n",
    "psi2 = wavefunction(2.0, x)\n",
    "ax2 = fig1.add_subplot(3,1,3)\n",
    "ax2.plot(x,d2f(psi2,deltax), label=r\"$\\frac{d^{2}\\psi}{dx^{2}}$\")\n",
    "ax2.plot(x,psi2, label=r\"$\\psi(x)$\")\n",
    "ax2.grid()\n",
    "#add labels and legend for 2nd plot\n",
    "ax2.set_xlabel(\"x\")\n",
    "ax2.set_ylabel(\"f(x)\")\n",
    "ax2.set_title(r\"$\\psi(x)$ and $\\frac{d^{2}\\psi}{dx^{2}}$ with $\\alpha = 2.0$\")\n",
    "ax2.legend(loc=\"lower right\")\n",
    "\n",
    "# Plot d2psi and psi with alpha = 0.5\n",
    "psi3 = wavefunction(0.5, x)\n",
    "ax3 = fig1.add_subplot(3,1,1)\n",
    "ax3.plot(x,d2f(psi3,deltax), label=r\"$\\frac{d^{2}\\psi}{dx^{2}}$\")\n",
    "ax3.plot(x,psi3, label=r\"$\\psi(x)$\")\n",
    "ax3.grid()\n",
    "# Add labels and legend for 3rd plot\n",
    "ax3.set_xlabel(\"x\")\n",
    "ax3.set_ylabel(\"f(x)\")\n",
    "ax3.set_title(r\"$\\psi(x)$ and $\\frac{d^{2}\\psi}{dx^{2}}$ with $\\alpha = 0.5$\")\n",
    "ax3.legend(loc=\"lower right\")"
   ]
  },
  {
   "cell_type": "markdown",
   "metadata": {},
   "source": [
    "### Section on evaluating the energy\n",
    "In this section, I will plot the kinetic and potential energies of wavefunctions for different values of $\\alpha$ using the derivative calculated in the previous sections. The kinetic and potential energies of the wavefunction are given by the following formulae:\n",
    "$$\n",
    "E_{KE} = -\\frac{1}{2} \\int \\psi(x)\\frac{d^2\\psi}{dx^2}dx\n",
    "$$\n",
    "$$\n",
    "E_{PE} = \\frac{1}{2} \\int \\psi(x) x^2 \\psi(x)dx\n",
    "$$\n",
    "With these integrals being calculated using Simpson's rule for numerical integration between our given x coordinates."
   ]
  },
  {
   "cell_type": "code",
   "execution_count": null,
   "metadata": {},
   "outputs": [],
   "source": [
    "# Create figure\n",
    "fig2 = plt.figure(figsize=(12,20))\n",
    "fig2.suptitle(r\"Energies of $\\psi(x)$ against position\")\n",
    "# Plot psi*d2psi and psi*(0.5*x*x)*psi for alpha = 1\n",
    "ax1 = fig2.add_subplot(3,1,2)\n",
    "ax1.plot(x,(-0.5*psi1*d2psi1), label=r\"$E_{KE}$\")\n",
    "ax1.plot(x,(psi1*(np.square(x)/2)*psi1), label=r\"$E_{PE}$\")\n",
    "ax1.grid()\n",
    "# First plot labels and legend\n",
    "ax1.set_xlabel(\"x\")\n",
    "ax1.set_ylabel(\"Energies of wavefunction\")\n",
    "ax1.set_title(r\"Kinetic and Potential Energy with $\\alpha = 1.0$\")\n",
    "ax1.legend(loc=\"upper right\")\n",
    "\n",
    "# Plot psi*d2psi and psi*(0.5*x*x)*psi for alpha = 2\n",
    "ax2 = fig2.add_subplot(3,1,3)\n",
    "ax2.plot(x,(-0.5*psi2*d2f(psi2,deltax)), label=r\"$E_{KE}$\")\n",
    "ax2.plot(x,(psi2*(np.square(x)/2)*psi2), label=r\"$E_{PE}$\")\n",
    "ax2.grid()\n",
    "# First plot labels and legend\n",
    "ax2.set_xlabel(\"x\")\n",
    "ax2.set_ylabel(\"Energies of wavefunction\")\n",
    "ax2.set_title(r\"Kinetic and Potential Energy with $\\alpha = 2.0$\")\n",
    "ax2.legend(loc=\"upper right\")\n",
    "\n",
    "# Plot psi*d2psi and psi*(0.5*x*x)*psi for alpha = 0.5\n",
    "ax3 = fig2.add_subplot(3,1,1)\n",
    "ax3.plot(x,(-0.5*psi3*d2f(psi3,deltax)), label=r\"$E_{KE}$\")\n",
    "ax3.plot(x,(psi3*(np.square(x)/2)*psi3), label=r\"$E_{PE}$\")\n",
    "ax3.grid()\n",
    "# First plot labels and legend\n",
    "ax3.set_xlabel(\"x\")\n",
    "ax3.set_ylabel(\"Energies of wavefunction\")\n",
    "ax3.set_title(r\"Kinetic and Potential Energy with $\\alpha = 0.5$\")\n",
    "ax3.legend(loc=\"upper right\")"
   ]
  },
  {
   "cell_type": "code",
   "execution_count": null,
   "metadata": {},
   "outputs": [],
   "source": [
    "# Import integrate function \n",
    "from scipy import integrate\n",
    "# Calculate KE using integrate.simps( array, x) for alpha = 1\n",
    "E_KE1 = integrate.simpson(-0.5*psi1*d2psi1, x)           #atomic units\n",
    "# Calculate PE using integrate.simps( array, x)\n",
    "E_PE1 = integrate.simpson(psi1*(np.square(x)/2)*psi1, x) # atomic units\n",
    "# Print results\n",
    "print(\"For alpha = 1.0:\")\n",
    "print(\"The kinetic energy is:\", E_KE1)\n",
    "print(\"The potential energy is:\", E_PE1)\n",
    "print(\"The total energy is:\", (E_KE1+E_PE1))"
   ]
  },
  {
   "cell_type": "code",
   "execution_count": null,
   "metadata": {
    "scrolled": true
   },
   "outputs": [],
   "source": [
    "# Calculate KE using integrate.simps( array, x) for alpha = 0.5\n",
    "E_KE2 = integrate.simpson(-0.5*psi3*d2f(psi3,deltax), x) #atomic units\n",
    "# Calculate PE using integrate.simps( array, x)\n",
    "E_PE2 = integrate.simpson(psi3*(np.square(x)/2)*psi3, x) # atomic units\n",
    "# Print results\n",
    "print(\"For alpha = 0.5:\")\n",
    "print(\"The kinetic energy is:\", E_KE2)\n",
    "print(\"The potential energy is:\", E_PE2)\n",
    "print(\"The total energy is:\", (E_KE2+E_PE2))"
   ]
  },
  {
   "cell_type": "markdown",
   "metadata": {},
   "source": [
    "Evidently, adjusting the $\\alpha$ value to be larger increases the relative size of the kinetic energy compared to the potential energy. When $\\alpha = 0.5$ the proportion of kinetic energy to potential energy is equal."
   ]
  },
  {
   "cell_type": "markdown",
   "metadata": {},
   "source": [
    "### Conclusions\n",
    "When creating this notebook, I experimented with grid spacing of 0.5 initially. This value was far too large as there were too few points to plot accurate graphs of the wavefunction and its energies. Decreasing this value to 0.1 seemed adequate, however plotting the energy functions proved to be too choppy and a smaller value was needed even though the calculated energy values were correct to 2 significant figures. Thus I settled on a value of 0.05 which produces much smoother graphs and also produces a value for the total energy when $\\alpha = 0.5$ accurate to 3 s.f. compared to the value calculated last week."
   ]
  }
 ],
 "metadata": {
  "kernelspec": {
   "display_name": "Python 3",
   "language": "python",
   "name": "python3"
  },
  "language_info": {
   "codemirror_mode": {
    "name": "ipython",
    "version": 3
   },
   "file_extension": ".py",
   "mimetype": "text/x-python",
   "name": "python",
   "nbconvert_exporter": "python",
   "pygments_lexer": "ipython3",
   "version": "3.8.8"
  }
 },
 "nbformat": 4,
 "nbformat_minor": 2
}
