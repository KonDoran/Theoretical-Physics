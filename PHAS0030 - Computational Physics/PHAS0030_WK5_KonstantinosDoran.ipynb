{
 "cells": [
  {
   "cell_type": "markdown",
   "metadata": {},
   "source": [
    "# Investigating the temperature distribution along a bar\n",
    "\n",
    "## Konstantinos Doran SN: 22007700\n",
    "\n",
    "### Introduction\n",
    "\n",
    "In this notebook I will be investigating the heat equation in two forms. The first is the steady state solution and the second the time-varying solution. For our steady-state solution I will use an iterative approach to the elliptic equation:\n",
    "$$\n",
    "\\frac{\\partial^2 \\theta}{\\partial x^2} + \\frac{\\partial^2 \\theta}{\\partial y^2} = 0\n",
    "$$\n",
    "To solve this, I will implement the successive over-relaxation (SOR) update. Which finds a value $\\phi_{i,j}$ at an iteration k+1 from its surrounding points using the following equation:\n",
    "$$\n",
    "\\phi_{i,j}^{(k+1)} = \\frac{\\omega}{4} (\\phi_{i+1,j}^{(k)}+\\phi_{i-1,j}^{(k)}+\\phi_{i,j+1}^{(k)}+\\phi_{i,j-1}^{(k)}) + (1-\\omega)\\phi_{i,j}^{(k)}\n",
    "$$\n",
    "where $\\omega$ is between 0 and 1 and is the relaxation parameter. \n",
    "NOTE:\n",
    "All the plots DO NOT calculate what occurs at the boundaries of each plot."
   ]
  },
  {
   "cell_type": "code",
   "execution_count": null,
   "metadata": {},
   "outputs": [],
   "source": [
    "# Appropriate imports\n",
    "%matplotlib inline\n",
    "import numpy as np\n",
    "import matplotlib.pyplot as plt"
   ]
  },
  {
   "cell_type": "markdown",
   "metadata": {},
   "source": [
    "### 1. Set up the SOR solver"
   ]
  },
  {
   "cell_type": "code",
   "execution_count": null,
   "metadata": {},
   "outputs": [],
   "source": [
    "def update_GS_SOR(phi, M, N, omega):\n",
    "    \"\"\"Update MxN grid of phi using SOR and Gauss-Seidel method\n",
    "    Inputs:\n",
    "    phi     array of temperature with dimension [N,M]\n",
    "    M       size of array in one dimension\n",
    "    N       size of array in second dimension\n",
    "    omega   relaxation parameter\n",
    "    Outputs:\n",
    "    phi     updated array of temperature with dimension [N,M]\n",
    "    \"\"\"\n",
    "    # We exclude i=0, i=M, j=0 and j=N as they are boundaries\n",
    "    for i in range(1,N-1):\n",
    "        for j in range(1,M-1):\n",
    "            phi[i,j] = omega*0.25*(phi[i-1,j] + phi[i+1,j] + phi[i,j-1] + phi[i,j+1]) + (1 - omega)*phi[i,j]\n",
    "    return phi"
   ]
  },
  {
   "cell_type": "markdown",
   "metadata": {},
   "source": [
    "### 2. Set up the array and initial conditions"
   ]
  },
  {
   "cell_type": "code",
   "execution_count": null,
   "metadata": {},
   "outputs": [],
   "source": [
    "# Initialise array and boundary conditions\n",
    "M = 42\n",
    "N = 30                      \n",
    "T1 = 300                    #celsius\n",
    "T2 = 400                    #celsius\n",
    "theta = T1 * np.ones( (N,M) )\n",
    "theta[ :,0] = T2\n",
    "#print(theta)\n",
    "# Plot initial guess\n",
    "plt.imshow(theta,origin='lower', extent=[0,21,0,15])\n",
    "plt.colorbar(label='Temperature (C)')\n",
    "plt.xlabel('length in m')\n",
    "plt.ylabel('width in m')\n",
    "plt.title('Guess Temperature distribution along bar')"
   ]
  },
  {
   "cell_type": "markdown",
   "metadata": {},
   "source": [
    "### 3. Run the solver and plot the result\n",
    "First I will look at the effect of changing the array size before plotting the result and how the size and also our value for omega affects the time it takes to calculate our distribution."
   ]
  },
  {
   "cell_type": "code",
   "execution_count": null,
   "metadata": {},
   "outputs": [],
   "source": [
    "# Initialise array and boundary conditions\n",
    "M = 21\n",
    "N = 15\n",
    "T1 = 300                    #celsius\n",
    "T2 = 400                    #celsius\n",
    "theta = T1 * np.ones( (N,M) )\n",
    "theta[ :,0] = T2\n",
    "# Set parameter values for while loop\n",
    "omega = 0.5\n",
    "delta = 1\n",
    "tol = 1e-3\n",
    "iter = 1\n",
    "maxiter = 1000\n",
    "while delta > tol and iter < maxiter:\n",
    "    # Calculate new theta array\n",
    "    thetain = np.copy(theta)\n",
    "    theta = update_GS_SOR(theta, M, N, omega)\n",
    "    # Compare to previous array\n",
    "    delta = np.max(np.abs(thetain - theta))\n",
    "    iter += 1\n",
    "print(\"Finished after \",iter,\" iterations\")\n"
   ]
  },
  {
   "cell_type": "markdown",
   "metadata": {},
   "source": [
    "With array size of 1 element per meter, our solver requires 463 iterations, which is a large amount. When using omega = 1 the number of iterations is cut down to below 200 which saves a lot more time and requires less computational resources."
   ]
  },
  {
   "cell_type": "code",
   "execution_count": null,
   "metadata": {},
   "outputs": [],
   "source": [
    "# Initialise array and boundary conditions\n",
    "M = 42\n",
    "N = 30\n",
    "T1 = 300                    #celsius\n",
    "T2 = 400                    #celsius\n",
    "theta = T1 * np.ones( (N,M) )\n",
    "theta[ :,0] = T2\n",
    "# Set parameter values for while loop\n",
    "omega = 0.5\n",
    "delta = 1\n",
    "tol = 1e-3\n",
    "iter = 1\n",
    "maxiter = 1000\n",
    "while delta > tol and iter < maxiter:\n",
    "    # Calculate new theta array\n",
    "    thetain = np.copy(theta)\n",
    "    theta = update_GS_SOR(theta, M, N, omega)\n",
    "    # Compare to previous array\n",
    "    delta = np.max(np.abs(thetain - theta))\n",
    "    iter += 1\n",
    "print(\"Finished after \",iter,\" iterations\")"
   ]
  },
  {
   "cell_type": "markdown",
   "metadata": {},
   "source": [
    "With omega still at 0.5 but the array size becoming 4 times larger, it reaches the maximum iterations before finding a stable distribution. This indicates that we need to increase our value of omega so that it is less relaxed and will take fewer iterations."
   ]
  },
  {
   "cell_type": "code",
   "execution_count": null,
   "metadata": {},
   "outputs": [],
   "source": [
    "# Initialise array and boundary conditions\n",
    "M = 42\n",
    "N = 30\n",
    "T1 = 300                    #celsius\n",
    "T2 = 400                    #celsius\n",
    "theta = T1 * np.ones( (N,M) )\n",
    "theta[:,0] = T2\n",
    "# Set parameter values for while loop\n",
    "omega = 1\n",
    "delta = 1\n",
    "tol = 1e-3\n",
    "iter = 1\n",
    "maxiter = 1000\n",
    "while delta > tol and iter < maxiter:\n",
    "    # Calculate new theta array\n",
    "    thetain = np.copy(theta)\n",
    "    theta = update_GS_SOR(theta, M, N, omega)\n",
    "    # Compare to previous array\n",
    "    delta = np.max(np.abs(thetain - theta))\n",
    "    iter += 1\n",
    "print(\"Finished after \",iter,\" iterations\")"
   ]
  },
  {
   "cell_type": "markdown",
   "metadata": {},
   "source": [
    "With omega set to one, the over-relaxation parameter can be discarded. It only increases the number of iterations and now our SOR solver becomes a normal Gauss-Seidel Solver and completes the distribution calculation in the fewest number of iterations."
   ]
  },
  {
   "cell_type": "code",
   "execution_count": null,
   "metadata": {},
   "outputs": [],
   "source": [
    "# Plot final distribution using SOR method\n",
    "plt.imshow(theta,origin='lower', extent=[0,21,0,15])\n",
    "plt.colorbar(label='Temperature (C)')\n",
    "plt.xlabel('length in m')\n",
    "plt.ylabel('width in m')\n",
    "plt.title('Final Temperature distribution along bar')"
   ]
  },
  {
   "cell_type": "markdown",
   "metadata": {},
   "source": [
    "### 4. Time evolution function\n",
    "Now looking at the time evolving solution, our method for calculating each point in the array is similar and uses the following equation:\n",
    "$$\n",
    "\\theta_{i,j,n+1} = \\theta_{i,j,n} + \\zeta ( \\theta_{i+1,j,n} + \\theta_{i-1,j,n} + \\theta_{i,j+1,n} + \\theta_{i,j-1,n} - 4 \\theta_{i,j,n})\n",
    "$$\n",
    "With n being the current timestep and i and j the x and y position in the array. "
   ]
  },
  {
   "cell_type": "code",
   "execution_count": null,
   "metadata": {},
   "outputs": [],
   "source": [
    "def update_temperature2D(temper, M, N, zeta):\n",
    "    \"\"\"Perform explicit forward FD update for heat equation\n",
    "    Inputs:\n",
    "    temper  Array of temperature at present timestep\n",
    "    n       Temperature timestep to calculate\n",
    "    zeta    Constant of proportionality\n",
    "    Outputs:\n",
    "    temper_next Array of temperature at next timestep\n",
    "    \"\"\"\n",
    "    # How do you initialise temper_next to preserve boundary conditions?\n",
    "    temper_next = np.zeros((N,M))\n",
    "    temper_next[:,0] =temper[:,0]\n",
    "    temper_next[:,-1] = temper[:,-1]\n",
    "    temper_next[0,:] = temper[0,:]\n",
    "    temper_next[-1,:] = temper[-1,:]\n",
    "    for i in range(1, N-1): # Don't update end-points\n",
    "        for j in range(1, M-1):\n",
    "            temper_next[i,j] = temper[i,j] + zeta*(temper[i+1,j] + temper[i-1,j] + temper[i,j+1] + temper[i,j-1] - 4*temper[i,j])\n",
    "    return temper_next"
   ]
  },
  {
   "cell_type": "markdown",
   "metadata": {},
   "source": [
    "### 5. Set up initial conditions"
   ]
  },
  {
   "cell_type": "code",
   "execution_count": null,
   "metadata": {},
   "outputs": [],
   "source": [
    "# Initialise array and boundary conditions\n",
    "M = 42\n",
    "N = 30\n",
    "T1 = 300                    #celsius\n",
    "T2 = 400                    #celsius\n",
    "theta0 = T1*np.ones((N,M))\n",
    "theta0[:,0] = T2 \n",
    "# Plot initial guess\n",
    "plt.imshow(theta0,origin='lower', extent=[0,21,0,15])\n",
    "plt.colorbar(label='Temperature (C)')\n",
    "plt.xlabel('length in m')\n",
    "plt.ylabel('width in m')\n",
    "plt.title('Initial Temperature distribution along bar')"
   ]
  },
  {
   "cell_type": "markdown",
   "metadata": {},
   "source": [
    "### 6. Propagate the solution and store selected points"
   ]
  },
  {
   "cell_type": "code",
   "execution_count": null,
   "metadata": {},
   "outputs": [],
   "source": [
    "# Initialise zeta and number of time steps\n",
    "Nt = 400\n",
    "zeta = 0.1\n",
    "for i in range(1,Nt):\n",
    "    # Use new distribution to calculate next one\n",
    "    theta_next = update_temperature2D(theta0, M, N, zeta)\n",
    "    theta0 = theta_next\n",
    "\n",
    "    \n",
    "#Plot final distribution    \n",
    "plt.imshow(theta0,origin='lower',extent=[0,21,0,15])\n",
    "plt.colorbar(label='Temperature (C)')\n",
    "plt.xlabel('length in m')\n",
    "plt.ylabel('width in m')\n",
    "plt.title('Final Temperature distribution along bar')"
   ]
  },
  {
   "cell_type": "markdown",
   "metadata": {},
   "source": [
    "### Plot the final and steady-state solutions\n",
    "Below, we also plot the difference between the two solutions to see in detail the difference between the elliptic and the parabolic equations."
   ]
  },
  {
   "cell_type": "code",
   "execution_count": null,
   "metadata": {},
   "outputs": [],
   "source": [
    "# Plot the difference between the two solutions\n",
    "difftheta = theta0 - theta\n",
    "plt.imshow(difftheta,origin='lower', extent=[0,21,0,15])\n",
    "plt.colorbar(label='Temperature (C)')\n",
    "plt.xlabel('length in m')\n",
    "plt.ylabel('width in m')\n",
    "plt.title('Final Temperature distribution along bar')"
   ]
  },
  {
   "cell_type": "markdown",
   "metadata": {},
   "source": [
    "## Conclusion\n",
    "When we increase the size of the array, it is evident that the two solutions differ towards the central sections of the bar, however, if we are to approximate the bar to be thinner, or have a smaller array size the difference between the two solutions would be smaller. Interestingly, the temperature around the boundaries is almost equal or equal and only differs where the temperature difference changes rapidly in the initial distribution. Also the time varying solution took less time to run compared to the iterative approach of the SOR solver."
   ]
  }
 ],
 "metadata": {
  "kernelspec": {
   "display_name": "Python 3",
   "language": "python",
   "name": "python3"
  },
  "language_info": {
   "codemirror_mode": {
    "name": "ipython",
    "version": 3
   },
   "file_extension": ".py",
   "mimetype": "text/x-python",
   "name": "python",
   "nbconvert_exporter": "python",
   "pygments_lexer": "ipython3",
   "version": "3.8.8"
  }
 },
 "nbformat": 4,
 "nbformat_minor": 2
}
