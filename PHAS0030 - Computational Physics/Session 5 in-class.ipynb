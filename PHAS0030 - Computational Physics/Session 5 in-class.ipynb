{
 "cells": [
  {
   "cell_type": "markdown",
   "metadata": {},
   "source": [
    "# Session 5 Exercises\n",
    "These are sample answers for the in-class exercises in Session 5 of PHAS0030.  You should make sure that you can do these yourself ! The further work exercises will be in a separate notebook."
   ]
  },
  {
   "cell_type": "code",
   "execution_count": null,
   "metadata": {},
   "outputs": [],
   "source": [
    "# We always start with appropriate imports; note the use of the IPython magic\n",
    "# command to set up Matplotlib within the notebook\n",
    "%matplotlib inline\n",
    "import numpy as np\n",
    "import matplotlib.pyplot as plt"
   ]
  },
  {
   "cell_type": "markdown",
   "metadata": {},
   "source": [
    "## 3. Matrix approach to boundary-value problems\n",
    "\n",
    "### Question 1\n",
    "\n",
    "I think that this is the most compact way to create the matrix; note that the vectors that will form the off-diagonal entries are shorter than the full diagonal."
   ]
  },
  {
   "cell_type": "code",
   "execution_count": null,
   "metadata": {},
   "outputs": [],
   "source": [
    "# Set system length\n",
    "N = 7\n",
    "# Create arrays for diagonals\n",
    "ondiag = -2*np.ones(N)\n",
    "offdiag = np.ones(N-1)\n",
    "# Assemble matrix and print\n",
    "M = np.diag(ondiag) + np.diag(offdiag,k=1) +np.diag(offdiag,k=-1)\n",
    "print(M)"
   ]
  },
  {
   "cell_type": "markdown",
   "metadata": {},
   "source": [
    "### Question 2\n",
    "\n",
    "Notice that the boundary condition vector **b** has only two entries, corresponding to the ends of the bar.  The sign of the vector comes from the algebra (in the notes, we have the first entry as $-c_{1,1}\\theta_1$ with $c_{1,1}=1$ and the final entry as $-c_{N-2,N}\\theta_N$ with $c_{N-2,N}=1$ because we have moved these to the right-hand side of the equation)."
   ]
  },
  {
   "cell_type": "code",
   "execution_count": null,
   "metadata": {},
   "outputs": [],
   "source": [
    "# Set up boundary conditions\n",
    "b = np.zeros(N)\n",
    "# Note that these are negative - see equation in notes\n",
    "b[0] = -500\n",
    "b[N-1] = -300\n",
    "# Solve for theta\n",
    "Minv = np.linalg.inv(M)\n",
    "theta = np.dot(Minv,b)\n",
    "plt.plot(theta)\n",
    "plt.xlabel('Index of point')\n",
    "plt.ylabel('Temperature in K')\n",
    "plt.title('Temperature in uniform bar')"
   ]
  },
  {
   "cell_type": "markdown",
   "metadata": {},
   "source": [
    "This may look somewhat uninteresting (or even potentially wrong) but it is the correct steady-state solution: the temperature decreases evenly along the bar.  You could plot with points to check that you have the correct array displayed.\n",
    "\n",
    "Notice that we are missing the end points in the solution: we included the boundary conditions in our calculation, but we did not calculate the ends.  Let's fix that."
   ]
  },
  {
   "cell_type": "code",
   "execution_count": null,
   "metadata": {},
   "outputs": [],
   "source": [
    "# Define a range large enough to include the ends\n",
    "theta_full = np.zeros(N+2)\n",
    "# Boundary conditions\n",
    "theta_full[0] = 500\n",
    "theta_full[N+1] = 300\n",
    "# Copy solution\n",
    "theta_full[1:N+1] = theta\n",
    "# Plot\n",
    "x = np.linspace(0,1,N+2)\n",
    "plt.plot(x,theta_full)\n",
    "plt.xlabel('Distance in m')\n",
    "plt.ylabel('Temperature in K')\n",
    "plt.title('Temperature in uniform bar')"
   ]
  },
  {
   "cell_type": "markdown",
   "metadata": {},
   "source": [
    "## 5. Parabolic equations\n",
    "\n",
    "### Question 1\n",
    "\n",
    "I have made two functions here: the first iterates over the array, to make the algebra clear, while the second uses `np.roll` for efficiency.  Notice that in both cases we do not fix the boundary conditions, which must be done externally."
   ]
  },
  {
   "cell_type": "code",
   "execution_count": null,
   "metadata": {},
   "outputs": [],
   "source": [
    "def update_temperature(temper, zeta):\n",
    "    \"\"\"Perform explicit forward FD update for heat equation\n",
    "    Inputs:\n",
    "    temper  Array of temperature at present timestep\n",
    "    zeta    Constant of proportionality\n",
    "    \n",
    "    Output:\n",
    "    Array of temperature at next timestep\n",
    "    \"\"\"\n",
    "    len_bar = np.size(temper)\n",
    "    temper_next = np.zeros(len_bar)\n",
    "    for i in range(1,len_bar-1): # Don't update end-points\n",
    "        temper_next[i] = zeta*(temper[i+1] + temper[i-1]) + (1.0-2.0*zeta)*temper[i]\n",
    "    return temper_next"
   ]
  },
  {
   "cell_type": "code",
   "execution_count": null,
   "metadata": {},
   "outputs": [],
   "source": [
    "def update_temperature_alt(temper, zeta):\n",
    "    \"\"\"Perform forward FD update for heat equation using efficient approach\n",
    "    Inputs:\n",
    "    temper  Array of temperature at present timestep\n",
    "    zeta    Constant of proportionality\n",
    "    \n",
    "    Output:\n",
    "    Array of temperature at next timestep\n",
    "    \"\"\"\n",
    "    # Second derivative (spatial) using np.roll\n",
    "    temper_next = zeta*(np.roll(temper,-1) + np.roll(temper,1)) + (1.0-2.0*zeta)*temper\n",
    "    # Fix end-points to zero (undefined here: should be defined externally)\n",
    "    temper_next[0] = 0.0\n",
    "    temper_next[-1] = 0.0\n",
    "    return temper_next"
   ]
  },
  {
   "cell_type": "markdown",
   "metadata": {},
   "source": [
    "### Question 2\n",
    "\n",
    "We define $\\theta_{0,i}$ as the initial condition for the problem via `temperature[0]=300` and `temperature[0,0]=500`. We also fix the temperature at the ends of the bar throughout the simulation via `temperature[:,0]=500` and `temperature[:,-1]=300`.  We then perform the integration in time to calculate values of temperature for all points on the bar for successive time steps."
   ]
  },
  {
   "cell_type": "code",
   "execution_count": null,
   "metadata": {},
   "outputs": [],
   "source": [
    "Nx = 7  # Seven points in spatial domain, ends will be fixed\n",
    "Nt = 40 # Timesteps\n",
    "temperature = np.zeros((Nt,Nx))\n",
    "# Initial conditions (t=0)\n",
    "temperature[0] = 300\n",
    "temperature[0,0] = 500\n",
    "# Boundary conditions (all times) though this may need updates\n",
    "temperature[:,0] = 500 \n",
    "temperature[:,-1] = 300 \n",
    "zeta = 0.5\n",
    "for n in range(1,Nt):\n",
    "    temperature[n] = update_temperature_alt(temperature[n-1],zeta)\n",
    "    # Set boundary conditions \n",
    "    temperature[n,0] = 500\n",
    "    temperature[n,-1] = 300"
   ]
  },
  {
   "cell_type": "markdown",
   "metadata": {},
   "source": [
    "### Question 3\n",
    "\n",
    "Each line represents the temperature along the bar at a different timestep.  I've chosen to plot the lines every 5 steps (using `range(0,Nt,5)`) to simplify the plot.  (I have not calculated a timestep, dt: this would come from `zeta` and `dx` as well as the physical parameters of the system, but would make no significant difference to the plot.)"
   ]
  },
  {
   "cell_type": "code",
   "execution_count": null,
   "metadata": {},
   "outputs": [],
   "source": [
    "x = np.linspace(0,1,Nx)\n",
    "for n in range(0,Nt,5):\n",
    "    plt.plot(x,temperature[n],label=f'step {n}')\n",
    "plt.xlabel('x in m')\n",
    "plt.ylabel('Temperature in K')\n",
    "plt.title('Temperature distribution along bar for zeta=0.5')\n",
    "plt.legend()"
   ]
  },
  {
   "cell_type": "markdown",
   "metadata": {},
   "source": [
    "We see that the temperature propagates down the bar over time, as we might expect.  The long-time solution is exactly the linear decrease from 500K to 300K that we saw in the steady state solution (as we would expect - a useful check that we have met one condition).\n"
   ]
  },
  {
   "cell_type": "code",
   "execution_count": null,
   "metadata": {},
   "outputs": [],
   "source": [
    "plt.imshow(temperature)\n",
    "plt.colorbar(label='Temperature')\n",
    "plt.xlabel('x index')\n",
    "plt.ylabel('t index')"
   ]
  },
  {
   "cell_type": "markdown",
   "metadata": {},
   "source": [
    "## Question 4\n",
    "\n",
    "The critical value of zeta is a little larger than 0.5; note the scale of 1e9 in the top left hand corner of the graph (in a rather small font)"
   ]
  },
  {
   "cell_type": "code",
   "execution_count": null,
   "metadata": {},
   "outputs": [],
   "source": [
    "# Initial conditions\n",
    "temperature[0] = 300\n",
    "# Boundary conditions\n",
    "temperature[:,0] = 500 \n",
    "temperature[:,N-1] = 300 \n",
    "zeta = 0.7\n",
    "for n in range(1,Nt):\n",
    "    temperature[n] = update_temperature(temperature[n-1],zeta)\n",
    "    temperature[n,0] = 500\n",
    "    temperature[n,-1] = 300\n",
    "for n in range(0,Nt):\n",
    "    plt.plot(x,temperature[n])\n",
    "plt.xlabel('x in m')\n",
    "plt.ylabel('Temperature in K')\n",
    "plt.title('Temperature distribution along bar for zeta=0.7')"
   ]
  },
  {
   "cell_type": "markdown",
   "metadata": {},
   "source": [
    "## 6. Elliptic equations: iterative approaches\n",
    "\n",
    "### Question 1\n",
    "\n",
    "We include the basic Jacobi solver for completeness."
   ]
  },
  {
   "cell_type": "code",
   "execution_count": null,
   "metadata": {},
   "outputs": [],
   "source": [
    "def update_phi(phi, N):\n",
    "    \"\"\"Update NxN grid of phi using Jacobi method\"\"\"\n",
    "    phiout = np.copy(phi)\n",
    "    for i in range(1,N-1):\n",
    "        for j in range(1,N-1):\n",
    "            phiout[i,j] = 0.25*(phi[i-1,j] + phi[i+1,j] \n",
    "                              + phi[i,j-1] + phi[i,j+1])\n",
    "    return phiout"
   ]
  },
  {
   "cell_type": "code",
   "execution_count": null,
   "metadata": {},
   "outputs": [],
   "source": [
    "def update_phi_GS(phi, N):\n",
    "    \"\"\"Update NxN grid of phi using Gauss-Seidel method\"\"\"\n",
    "    for i in range(1,N-1):\n",
    "        for j in range(1,N-1):\n",
    "            phi[i,j] = 0.25*(phi[i-1,j] + phi[i+1,j] + phi[i,j-1] + phi[i,j+1])\n",
    "    return phi"
   ]
  },
  {
   "cell_type": "code",
   "execution_count": null,
   "metadata": {},
   "outputs": [],
   "source": [
    "def update_phi_GS_SOR(phi, N, omega):\n",
    "    \"\"\"Update NxN grid of phi using SOR and Gauss-Seidel\"\"\"\n",
    "    for i in range(1,N-1):\n",
    "        for j in range(1,N-1):\n",
    "            phi[i,j] = omega*0.25*(phi[i-1,j] + phi[i+1,j] + phi[i,j-1] + phi[i,j+1]) + (1 - omega)*phi[i,j]\n",
    "    return phi"
   ]
  },
  {
   "cell_type": "markdown",
   "metadata": {},
   "source": [
    "### Question 2\n",
    "\n",
    "The heart of any relaxation calculation is a loop which continues until the change between successive solutions is smaller than a given tolerance.  As always, we should include a maximum number of iterations to prevent infinite loops (it is perfectly possible in this type of calculation to have a system which never reaches the tolerance)."
   ]
  },
  {
   "cell_type": "code",
   "execution_count": null,
   "metadata": {},
   "outputs": [],
   "source": [
    "N = 15\n",
    "phi = np.zeros((N,N))\n",
    "# imshow expects the indices to be row, column\n",
    "# So y=0 is the first row, or phi[0,:] which is counter-intuitive!\n",
    "phi[0,:] = 4\n",
    "phi[N-1,:] = 4\n",
    "phi[:,0] = 3\n",
    "phi[:,N-1] = 3\n",
    "# Notice that these corners actually aren't used in the calculation\n",
    "# but I define them for completeness\n",
    "phi[0,0] = 3.5\n",
    "phi[0,N-1] = 3.5\n",
    "phi[N-1,0] =  3.5\n",
    "phi[N-1,N-1] = 3.5"
   ]
  },
  {
   "cell_type": "code",
   "execution_count": null,
   "metadata": {},
   "outputs": [],
   "source": [
    "# Tolerance and maximum number of iterations\n",
    "tol = 1e-4\n",
    "maxiter = 400\n",
    "# Maximum change\n",
    "delta = 1.0\n",
    "iters = 1\n",
    "while delta > tol and iters<maxiter:\n",
    "    phiin = np.copy(phi)\n",
    "    phi = update_phi_GS(phi,N)\n",
    "    delta = np.max(np.abs(phiin - phi))\n",
    "    iters += 1\n",
    "print(f\"Finished after {iters} iterations with maximum change {delta}\")"
   ]
  },
  {
   "cell_type": "markdown",
   "metadata": {},
   "source": [
    "### Question 3\n",
    "\n",
    "I have chosen to use `plt.imshow` with interpolation, to give a smooth plot, but to add contours using `plt.contour` to make it more quantitative.  Note the parameter `levels` that can be passed to `plt.contour` and experiment to see the effect it has. (Notice also the value of the final level: I found that if I used 4.0 then the contour was not plotted; this must be rounding error.)  I also plot with `plt.contourf` below."
   ]
  },
  {
   "cell_type": "code",
   "execution_count": null,
   "metadata": {},
   "outputs": [],
   "source": [
    "plt.imshow(phi,origin='lower',interpolation='bicubic')\n",
    "plt.colorbar(label='Potential (V)')\n",
    "plt.contour(phi,colors='white',levels=[3.0,3.2,3.4,3.6,3.8,3.9999])\n",
    "# This alternative gives the same set of contours as below\n",
    "#plt.contour(phi,colors='white',levels=10)\n",
    "plt.title('Map of potential')\n",
    "plt.xlabel('x')\n",
    "plt.ylabel('y')"
   ]
  },
  {
   "cell_type": "code",
   "execution_count": null,
   "metadata": {},
   "outputs": [],
   "source": [
    "plt.contourf(phi,levels=10)\n",
    "plt.axis('scaled')\n",
    "plt.colorbar(label='Potential (V)')\n",
    "plt.title('Potential with filled contours')\n",
    "plt.xlabel('x')\n",
    "plt.ylabel('y')"
   ]
  },
  {
   "cell_type": "markdown",
   "metadata": {},
   "source": [
    "## 7. Supplementary: Elliptic equations: matrix approach\n",
    "\n",
    "These solutions are provided to show you how this technique works; we mentioned it in class.  It is far from trivial to understand or implement, so do not worry if you didn't do this!\n",
    "\n",
    "### Question 1\n",
    "\n",
    "First, the indexing functions given in the notes"
   ]
  },
  {
   "cell_type": "code",
   "execution_count": null,
   "metadata": {},
   "outputs": [],
   "source": [
    "def ij_to_index(i,j,N):\n",
    "    \"\"\"Convert i,j pair in (NxN) grid to index\"\"\"\n",
    "    return i+j*N"
   ]
  },
  {
   "cell_type": "code",
   "execution_count": null,
   "metadata": {},
   "outputs": [],
   "source": [
    "from math import floor\n",
    "def index_to_ij(index,N):\n",
    "    \"\"\"Convert index to i,j pair in (NxN) grid\"\"\"\n",
    "    j = floor(index/N)\n",
    "    i = index - j*N\n",
    "    return i,j"
   ]
  },
  {
   "cell_type": "markdown",
   "metadata": {},
   "source": [
    "Now we calculate the Laplacian matrix and the boundary condition vector"
   ]
  },
  {
   "cell_type": "code",
   "execution_count": null,
   "metadata": {},
   "outputs": [],
   "source": [
    "def laplace_matrix(N,bx,by):\n",
    "    \"\"\"Calculate matrix of Laplacian and boundary condition vector\n",
    "    N is the total number of points in the grid\n",
    "    \"\"\"\n",
    "    # Set up grid size\n",
    "    Nx = int(N**0.5)\n",
    "    # Build diagonal and sub-diagonal arrays\n",
    "    ondiag = -4*np.ones(N)\n",
    "    offdiag1 = np.ones(N-1)\n",
    "    for i in range(1,Nx):\n",
    "        offdiag1[i*Nx-1] = 0\n",
    "    offdiag3 = np.ones(N-3)\n",
    "    # Build matrix\n",
    "    M = np.diag(ondiag) + np.diag(offdiag1,k=1) + np.diag(offdiag1,k=-1)\n",
    "    M += np.diag(offdiag3,k=3) + np.diag(offdiag,k=-3)\n",
    "    # Build RHS using boundary conditions\n",
    "    b = np.zeros(N)\n",
    "    for n in range(N):\n",
    "        i,j = index_to_ij(n,Nx)\n",
    "        if i==0 or i==Nx-1:\n",
    "            b[n] -= bx\n",
    "        if j==0 or j==Nx-1:\n",
    "            b[n] -= by\n",
    "    return M, b"
   ]
  },
  {
   "cell_type": "code",
   "execution_count": null,
   "metadata": {},
   "outputs": [],
   "source": [
    "N=9\n",
    "matMlap, blap = laplace_matrix(N,3,4)\n",
    "print(matMlap)\n",
    "print(blap)"
   ]
  },
  {
   "cell_type": "markdown",
   "metadata": {},
   "source": [
    "### Question 2\n",
    "\n",
    "Having built the matrix (which was complicated) the solution is almost trivial! The only problem is mapping the solution vector back onto the 2D grid."
   ]
  },
  {
   "cell_type": "code",
   "execution_count": null,
   "metadata": {},
   "outputs": [],
   "source": [
    "# We have a square array; define the size as Nx\n",
    "Nx = int(np.sqrt(N))\n",
    "solution = np.dot(np.linalg.inv(matMlap),blap)\n",
    "potential = np.reshape(solution,(Nx,Nx))"
   ]
  },
  {
   "cell_type": "markdown",
   "metadata": {},
   "source": [
    "I've decided here to create a larger array which includes the boundaries to make the plot more like the plots we saw above.  To do this I add the solution just created into the middle of the display array, and then set the boundaries."
   ]
  },
  {
   "cell_type": "code",
   "execution_count": null,
   "metadata": {},
   "outputs": [],
   "source": [
    "# Size of the array with boundary conditions\n",
    "Nbc = Nx+2\n",
    "# Create space for array\n",
    "potential_bc = np.ones((Nbc,Nbc))\n",
    "# Place solution in centre of array\n",
    "potential_bc[1:Nbc-1,1:Nbc-1] = potential\n",
    "# Set boundary conditions along edges\n",
    "potential_bc[0] = 4\n",
    "potential_bc[-1] = 4\n",
    "potential_bc[:,0] = 3\n",
    "potential_bc[:,-1] = 3\n",
    "# Boundary conditions at the corners are not defined, but this makes a nicer plot\n",
    "potential_bc[0,0] = 3.5\n",
    "potential_bc[0,-1] = 3.5\n",
    "potential_bc[-1,0] = 3.5\n",
    "potential_bc[-1,-1] = 3.5\n",
    "plt.imshow(potential_bc,interpolation='bicubic')\n",
    "plt.colorbar(label='Potential(V)')"
   ]
  },
  {
   "cell_type": "markdown",
   "metadata": {},
   "source": [
    "The interpolation makes the image look nicer (less blocky) but you must be careful with how it works.  We can also plot filled contours, or add contours to the image above."
   ]
  },
  {
   "cell_type": "code",
   "execution_count": null,
   "metadata": {},
   "outputs": [],
   "source": [
    "plt.contourf(potential_bc,levels=10)\n",
    "plt.colorbar()\n",
    "plt.axis('scaled')"
   ]
  },
  {
   "cell_type": "markdown",
   "metadata": {},
   "source": [
    "Note that these are quite small grids; when you use the relaxation methods in the alternative approach, it is simple to extend to larger grids which are more realistic.  Notice also that we have not included the boundaries, which is why the plots look a little different to the previous results."
   ]
  },
  {
   "cell_type": "code",
   "execution_count": null,
   "metadata": {},
   "outputs": [],
   "source": []
  }
 ],
 "metadata": {
  "kernelspec": {
   "display_name": "Python 3 (ipykernel)",
   "language": "python",
   "name": "python3"
  },
  "language_info": {
   "codemirror_mode": {
    "name": "ipython",
    "version": 3
   },
   "file_extension": ".py",
   "mimetype": "text/x-python",
   "name": "python",
   "nbconvert_exporter": "python",
   "pygments_lexer": "ipython3",
   "version": "3.8.8"
  }
 },
 "nbformat": 4,
 "nbformat_minor": 2
}
