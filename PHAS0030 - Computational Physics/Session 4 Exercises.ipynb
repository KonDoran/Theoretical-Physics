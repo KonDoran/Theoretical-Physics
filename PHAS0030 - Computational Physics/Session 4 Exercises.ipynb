{
 "cells": [
  {
   "cell_type": "markdown",
   "id": "8ee595e5",
   "metadata": {},
   "source": [
    "# Session 4 Exercises\n",
    "\n",
    "These are the exercises from the session 4 notes"
   ]
  },
  {
   "cell_type": "code",
   "execution_count": null,
   "id": "34b77689",
   "metadata": {},
   "outputs": [],
   "source": [
    "# We always start with appropriate imports; note the use of the IPython magic\n",
    "# command to set up Matplotlib within the notebook\n",
    "%matplotlib inline\n",
    "import numpy as np\n",
    "import matplotlib.pyplot as plt"
   ]
  },
  {
   "cell_type": "markdown",
   "id": "5ca3bc8b",
   "metadata": {},
   "source": [
    "## 4. Euler's method\n",
    "\n",
    "### In-class\n",
    "\n",
    "1. Using a `for` simple loop, solve the differential equation $dy/dx=-ky$ using Euler’s method. For flexibility, set up $\\Delta x$ as a variable, calculate the possible values of $x$ and store the results in an array. You will also need to store $y$ in an array. Use $k=1.2$ and solve for $0\\le x\\le 10$, with $y(0)=1.0$. (You might find the basic set-up below useful.)  Plot the approximate and exact solutions."
   ]
  },
  {
   "cell_type": "code",
   "execution_count": null,
   "id": "ff33e207",
   "metadata": {},
   "outputs": [],
   "source": [
    "# Specify step size and simulation length\n",
    "dx = 0.5\n",
    "total_x = 20\n",
    "N = int(total_x/dx)\n",
    "x = np.linspace(0,total_x,N+1)\n",
    "# Initial condition\n",
    "y0 = 1.0\n",
    "k = 1.2\n",
    "y = np.zeros(N+1)\n",
    "y0 = 1.0\n",
    "y[0] = y0\n",
    "analyticY = y0*np.power()\n",
    "for i in range(0,len(y)-1):\n",
    "    y[i+1] = y[i]*(1-k*dx) \n",
    "fig1 = plt.figure()\n",
    "ax1 = fig1.add_subplot(1,1,1)\n",
    "ax1.plot(x,y)"
   ]
  },
  {
   "cell_type": "markdown",
   "id": "c88e7eea",
   "metadata": {},
   "source": [
    "2.\tNow write a function to calculate N steps of the Euler solver (use the specification below).  At the start of the function, you will need to create an array to store results, which you will return (note that it should be length N+1 if you store the initial conditions for t=0).  Use this Euler function for the problem in question 1 (you will need to define and pass the function `fun_rhs` though in this case it is extremely simple!), and explore how the step size affects agreement. Look at the effect of increasing $\\Delta x$."
   ]
  },
  {
   "cell_type": "code",
   "execution_count": null,
   "id": "47e5119e",
   "metadata": {},
   "outputs": [],
   "source": [
    "def euler_solver(fun_rhs,y0,dt,N):\n",
    "    \"\"\"Solve dy/dt = fun(y,t) using Euler's method.\n",
    "    Inputs ...\n",
    "    Returns: array of length N+1 with values of y\n",
    "    \"\"\"\n"
   ]
  },
  {
   "cell_type": "markdown",
   "id": "d687c032",
   "metadata": {},
   "source": [
    "### Further work\n",
    "\n",
    "1. Create a set of four sub-plots for values of $\\Delta x$ that give divergence, oscillation, stability but poor agreement, and good agreement respectively. Use the `fig = plt.figure, ax = fig.add_subplot, ax.plot` protocol that we discussed in Session 1."
   ]
  },
  {
   "cell_type": "code",
   "execution_count": null,
   "id": "dcefec6c",
   "metadata": {},
   "outputs": [],
   "source": []
  },
  {
   "cell_type": "markdown",
   "id": "5812a0a4",
   "metadata": {},
   "source": [
    "2. Solve the equation $dy/dx=xy^2$ with $y(0)=-1$ using Euler’s method. What values of $\\Delta x$ give stable solutions? How well do these match the exact solution?  (You should be able to solve this analytically  relatively easily)"
   ]
  },
  {
   "cell_type": "code",
   "execution_count": null,
   "id": "8e016048",
   "metadata": {},
   "outputs": [],
   "source": []
  },
  {
   "cell_type": "markdown",
   "id": "83afa817",
   "metadata": {},
   "source": [
    "## 4.3 Beyond first order and one dimension\n",
    "\n",
    "### In-class\n",
    "\n",
    "1.\tUpdate your Euler function above to solve more generally for arrays.  You can allow the results array `y` to be of arbitrary dimension (in which case you will need to use the NumPy function to find the right size) or assume a simple two-component problem as seen for the SHO.  Use one of the functions `rhs_sho_function` in Sec. 4.3 of the notes if you want."
   ]
  },
  {
   "cell_type": "code",
   "execution_count": null,
   "id": "fa489729",
   "metadata": {},
   "outputs": [],
   "source": []
  },
  {
   "cell_type": "markdown",
   "id": "cfa092a1",
   "metadata": {},
   "source": [
    "2.\tApply this function to the simple harmonic oscillator above, and plot your result (you should know what it looks like!). Check the effect of step size."
   ]
  },
  {
   "cell_type": "code",
   "execution_count": null,
   "id": "ed21da3c",
   "metadata": {},
   "outputs": [],
   "source": []
  },
  {
   "cell_type": "markdown",
   "id": "2f4c0e32",
   "metadata": {},
   "source": [
    "### Further work\n",
    "\n",
    "1. Add a damping term ($-c dx/dt$ on the right hand side) to the SHO solver you have created above in question 2 above and explore the effect of the damping coefficient, c. Plot your solutions using sub-plots."
   ]
  },
  {
   "cell_type": "code",
   "execution_count": null,
   "id": "b4576bf3",
   "metadata": {},
   "outputs": [],
   "source": []
  },
  {
   "cell_type": "markdown",
   "id": "071db254",
   "metadata": {},
   "source": [
    "2.\tYou could explore adding a driving term on the RHS of the SHO equation if you have time."
   ]
  },
  {
   "cell_type": "code",
   "execution_count": null,
   "id": "72300ffa",
   "metadata": {},
   "outputs": [],
   "source": []
  },
  {
   "cell_type": "markdown",
   "id": "4f2f7838",
   "metadata": {},
   "source": [
    "## 5 Beyond Euler\n",
    "\n",
    "### In-class\n",
    "\n",
    "1.\tWrite a function to implement a fourth-order RK solver, using the equations above, using your Euler function as a basis (assume that you will solve a second-order equation which will be split into two coupled first-order equations)."
   ]
  },
  {
   "cell_type": "code",
   "execution_count": null,
   "id": "8c43f4af",
   "metadata": {},
   "outputs": [],
   "source": []
  },
  {
   "cell_type": "markdown",
   "id": "9a9112dd",
   "metadata": {},
   "source": [
    "2. Apply it to a pendulum, for the moment working simply with the linear solution: $$\\frac{d^2 \\theta}{dt^2} =-\\frac{g}{L} \\theta$$ where $g=9.8m/s^2$, the acceleration due to gravity, and $L=1m$, the length of the pendulum. You will need to:\n",
    "\n",
    "    1. break this into two coupled equations;\n",
    "\t2. write an appropriate function for the right-hand sides;\n",
    "\t3. write a loop calling your RK4 solver to propagate the motion of the pendulum.\n",
    "\n",
    "How large can the step size be while still giving a stable solution? (If you have time, try the same solution with an Euler solver, and compare the necessary step sizes). Be sure to make the initial angle (**in radians!**) small enough that the approximation is good.\n"
   ]
  },
  {
   "cell_type": "code",
   "execution_count": null,
   "id": "2efda749",
   "metadata": {},
   "outputs": [],
   "source": []
  },
  {
   "cell_type": "markdown",
   "id": "ddeb61cb",
   "metadata": {},
   "source": [
    "### Further work\n",
    "\n",
    "1.\tWrite either a predictor-corrector function or a mid-point function"
   ]
  },
  {
   "cell_type": "code",
   "execution_count": null,
   "id": "898e012e",
   "metadata": {},
   "outputs": [],
   "source": []
  },
  {
   "cell_type": "markdown",
   "id": "9f63f828",
   "metadata": {},
   "source": [
    "2. Now model the non-linear pendulum, comparing the RK4 and the function that you coded in question 1 of this further work:\n",
    "$$\\frac{d^2 \\theta}{dt^2} = \\frac{-g}{L} \\sin(\\theta)$$\n",
    "You will need to write a new function for the right-hand side. Start with an angle of $\\pi/2$, and compare the two methods for the same step size.\n"
   ]
  },
  {
   "cell_type": "code",
   "execution_count": null,
   "id": "60e4db19",
   "metadata": {},
   "outputs": [],
   "source": []
  },
  {
   "cell_type": "markdown",
   "id": "192b0ffe",
   "metadata": {},
   "source": [
    "3. You should now extend the model further: test an initial angle of just less than $\\pi$ (to observe strongly non-linear effects); add a damping term ($-c d\\theta/dt$) and test the effect of $c$."
   ]
  },
  {
   "cell_type": "code",
   "execution_count": null,
   "id": "0c5965f5",
   "metadata": {},
   "outputs": [],
   "source": []
  },
  {
   "cell_type": "markdown",
   "id": "885acf3a",
   "metadata": {},
   "source": [
    "## 6. Boundary Value Problems\n",
    "\n",
    "### In-class\n",
    "\n",
    "1. Write a simple piece of code (either as a function or just a `for` loop) to find the initial vertical velocity at which a ball moving vertically under the influence of gravity needs to be launched from the ground at $t=0s$ so that it reaches the ground again at $t=10s$. You should use the RK4 solver that you have written, and implement a basic bisection or secant solver, as described in the text above (you could copy this from your answers to Session 2). Plot the trajectory versus time."
   ]
  },
  {
   "cell_type": "code",
   "execution_count": null,
   "id": "f17f5739",
   "metadata": {},
   "outputs": [],
   "source": []
  },
  {
   "cell_type": "markdown",
   "id": "62974947",
   "metadata": {},
   "source": [
    "2.\tIf you have time, try storing and plotting all the trajectories that the solver works through, to see how the process works."
   ]
  },
  {
   "cell_type": "code",
   "execution_count": null,
   "id": "1ef66a62",
   "metadata": {},
   "outputs": [],
   "source": []
  },
  {
   "cell_type": "markdown",
   "id": "81ca667b",
   "metadata": {},
   "source": [
    "### Further work\n",
    "\n",
    "1. Try extending the solver so that you are now working in two spatial dimensions ($x$ and $z$, say). You will need to be careful about how you specify your equations: you will need position and velocity for both dimensions (four variables in total). You will need to specify both $x$ and z at $t_0$ and $t_1$."
   ]
  },
  {
   "cell_type": "code",
   "execution_count": null,
   "id": "f3868794",
   "metadata": {},
   "outputs": [],
   "source": []
  },
  {
   "cell_type": "markdown",
   "id": "87479051",
   "metadata": {},
   "source": [
    "2.\tIf you want to extend this model, you could add an air-resistance term (proportional to the velocity) in one or two dimensions."
   ]
  },
  {
   "cell_type": "code",
   "execution_count": null,
   "id": "f60bf462",
   "metadata": {},
   "outputs": [],
   "source": []
  },
  {
   "cell_type": "markdown",
   "id": "b98c76fa",
   "metadata": {},
   "source": [
    "## 7. SciPy Functions\n",
    "\n",
    "### In-class\n",
    "\n",
    "1.\tUse `solve_ivp` and `odeint` to solve for the linear pendulum model from section 5."
   ]
  },
  {
   "cell_type": "code",
   "execution_count": null,
   "id": "30bcb0c7",
   "metadata": {},
   "outputs": [],
   "source": []
  },
  {
   "cell_type": "markdown",
   "id": "c13f33bf",
   "metadata": {},
   "source": [
    "### Further work\n",
    "\n",
    "1.\tWrite a non-linear pendulum function that takes parameters (`g`, `L` and a damping term) and pass it to `solve_ivp` or `odeint` to make sure that you understand how optional arguments are passed."
   ]
  },
  {
   "cell_type": "code",
   "execution_count": null,
   "id": "b5c3b615",
   "metadata": {},
   "outputs": [],
   "source": []
  }
 ],
 "metadata": {
  "kernelspec": {
   "display_name": "Python 3 (ipykernel)",
   "language": "python",
   "name": "python3"
  },
  "language_info": {
   "codemirror_mode": {
    "name": "ipython",
    "version": 3
   },
   "file_extension": ".py",
   "mimetype": "text/x-python",
   "name": "python",
   "nbconvert_exporter": "python",
   "pygments_lexer": "ipython3",
   "version": "3.8.8"
  }
 },
 "nbformat": 4,
 "nbformat_minor": 5
}
