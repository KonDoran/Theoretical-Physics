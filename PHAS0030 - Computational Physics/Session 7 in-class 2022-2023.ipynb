{
 "cells": [
  {
   "cell_type": "markdown",
   "metadata": {},
   "source": [
    "# Session 7 exercises\n",
    "\n",
    "These are sample answers for the in-class exercises in Session 7 of PHAS0030.  You should make sure that you can do these yourself! The further work exercises will be in a separate notebook.\n",
    "\n",
    "Most of these exercises use the same integration technique: the velocity Verlet integrator.  The main difference between the sections is the interaction between particles, and the number of particles.  The most important section to understand is the Lennard-Jones section, which contains all the important ideas."
   ]
  },
  {
   "cell_type": "code",
   "execution_count": null,
   "metadata": {},
   "outputs": [],
   "source": [
    "# We always start with appropriate imports; note the use of the IPython magic\n",
    "# command to set up Matplotlib within the notebook\n",
    "%matplotlib inline\n",
    "import numpy as np\n",
    "import matplotlib.pyplot as plt"
   ]
  },
  {
   "cell_type": "markdown",
   "metadata": {},
   "source": [
    "## 4. Small particles\n",
    "\n",
    "### 1. Single particle, no box\n",
    "\n",
    "#### Question 1a"
   ]
  },
  {
   "cell_type": "code",
   "execution_count": null,
   "metadata": {},
   "outputs": [],
   "source": [
    "Nstep = 200\n",
    "# Storage\n",
    "r = np.zeros([Nstep,3])\n",
    "v = np.zeros([Nstep,3])\n",
    "a = np.zeros([Nstep,3])\n",
    "# t=0\n",
    "r[0] = np.array([1.0,0.0,0.0])\n",
    "v[0] = np.array([0.0,1.0,0.1])\n",
    "a[0] = np.array([-1.0,0.0,0.0])\n",
    "# Timestep\n",
    "dt = 0.1"
   ]
  },
  {
   "cell_type": "markdown",
   "metadata": {},
   "source": [
    "#### Question 1b"
   ]
  },
  {
   "cell_type": "code",
   "execution_count": null,
   "metadata": {},
   "outputs": [],
   "source": [
    "# Velocity Verlet algorithm\n",
    "for i in range(1,Nstep):\n",
    "    t = i*dt\n",
    "    # Update r\n",
    "    r[i] = r[i-1] + dt*v[i-1] + 0.5*dt*dt*a[i-1]\n",
    "    # Set the acceleration: doesn't depend on r[i] in this case\n",
    "    # but will in general, so the order is important\n",
    "    a[i] = np.array([-np.cos(t),-np.sin(t),0.0])\n",
    "    v[i] = v[i-1] + 0.5*dt*(a[i] + a[i-1])"
   ]
  },
  {
   "cell_type": "markdown",
   "metadata": {},
   "source": [
    "#### Question 1c\n",
    "\n",
    "Given the acceleration, the circular motion in $x$ and $y$ shouldn't surprise you; the initial velocity along $z$ gives us the helical path."
   ]
  },
  {
   "cell_type": "code",
   "execution_count": null,
   "metadata": {},
   "outputs": [],
   "source": [
    "fig_3d1 = plt.figure()\n",
    "ax3d1 = fig_3d1.add_subplot(111,projection='3d')\n",
    "ax3d1.plot(r[:,0],r[:,1],r[:,2])\n",
    "ax3d1.set_xlabel('x')\n",
    "ax3d1.set_ylabel('y')\n",
    "ax3d1.set_zlabel('z')"
   ]
  },
  {
   "cell_type": "markdown",
   "metadata": {},
   "source": [
    "### 2. Single particle, open boundaries\n",
    "\n",
    "#### Question 2a"
   ]
  },
  {
   "cell_type": "code",
   "execution_count": null,
   "metadata": {},
   "outputs": [],
   "source": [
    "boxlen = 10.0\n",
    "Nstep = 200\n",
    "# Storage\n",
    "rbox = np.zeros([Nstep,3])\n",
    "vbox = np.zeros([Nstep,3])\n",
    "# t=0\n",
    "rng = np.random.default_rng()\n",
    "rbox[0] = boxlen*rng.random(3)\n",
    "vbox[0] = rng.random(3)\n",
    "# Timestep\n",
    "dt = 0.1\n",
    "a = np.zeros(3)"
   ]
  },
  {
   "cell_type": "markdown",
   "metadata": {},
   "source": [
    "#### Question 2b"
   ]
  },
  {
   "cell_type": "code",
   "execution_count": null,
   "metadata": {},
   "outputs": [],
   "source": [
    "# Velocity Verlet algorithm\n",
    "for i in range(1,Nstep):\n",
    "    t = i*dt\n",
    "    rbox[i] = rbox[i-1] + dt*vbox[i-1] + 0.5*dt*dt*a\n",
    "    vbox[i] = vbox[i-1] + 0.5*dt*(a + a)\n",
    "fig_3d2 = plt.figure(figsize=(10,3))\n",
    "ax3d2a = fig_3d2.add_subplot(121,projection='3d')\n",
    "ax3d2a.scatter(rbox[:,0],rbox[:,1],rbox[:,2])\n",
    "ax3d2a.set_xlabel('x')\n",
    "ax3d2a.set_ylabel('y')\n",
    "ax3d2a.set_zlabel('z')"
   ]
  },
  {
   "cell_type": "markdown",
   "metadata": {},
   "source": [
    "# Question 2c\n",
    "\n",
    "Looking carefully at the axes, we can see that the particle has left the box (though it is not Elvis...)\n",
    "\n",
    "### 3. Single particle, periodic boundaries\n",
    "\n",
    "This function imposes periodic boundaries using the numpy `np.mod` function, which is equivalent to the modulo operator (`%`)."
   ]
  },
  {
   "cell_type": "code",
   "execution_count": null,
   "metadata": {},
   "outputs": [],
   "source": [
    "def pbc(r,boxlen):\n",
    "    \"\"\"Implements periodic boundary conditions for a particle\"\"\"\n",
    "    rout = np.mod(r,boxlen)\n",
    "    return rout"
   ]
  },
  {
   "cell_type": "markdown",
   "metadata": {},
   "source": [
    "#### Question 3a"
   ]
  },
  {
   "cell_type": "code",
   "execution_count": null,
   "metadata": {},
   "outputs": [],
   "source": [
    "boxlen = 10.0\n",
    "Nsteps = 20\n",
    "# Storage\n",
    "rbox3 = np.zeros([Nsteps,3])\n",
    "vbox3 = np.zeros([Nsteps,3])\n",
    "# t=0\n",
    "rbox3[0] = boxlen*rng.random(3)\n",
    "vbox3[0] = 5*rng.random(3)\n",
    "# Timestep\n",
    "dt = 0.1\n",
    "a = np.zeros(3)"
   ]
  },
  {
   "cell_type": "markdown",
   "metadata": {},
   "source": [
    "#### Question 3b"
   ]
  },
  {
   "cell_type": "code",
   "execution_count": null,
   "metadata": {},
   "outputs": [],
   "source": [
    "# Velocity Verlet algorithm\n",
    "for i in range(1,Nsteps):\n",
    "    t = i*dt\n",
    "    rbox3[i] = rbox3[i-1] + dt*vbox3[i-1] + 0.5*dt*dt*a\n",
    "    rbox3[i] = pbc(rbox3[i],boxlen)\n",
    "    vbox3[i] = vbox3[i-1] + 0.5*dt*(a + a)"
   ]
  },
  {
   "cell_type": "markdown",
   "metadata": {},
   "source": [
    "#### Question 3c\n",
    "\n",
    "I found that I had to play around with the `view_init` parameters to view the trajectory."
   ]
  },
  {
   "cell_type": "code",
   "execution_count": null,
   "metadata": {},
   "outputs": [],
   "source": [
    "fig_3d4 = plt.figure(figsize=(10,3))\n",
    "ax3d4a = fig_3d4.add_subplot(121,projection='3d')\n",
    "ax3d4a.scatter(rbox3[:,0],rbox3[:,1],rbox3[:,2])\n",
    "ax3d4a.set_xlim(0,10)\n",
    "ax3d4a.set_ylim(0,10)\n",
    "ax3d4a.set_zlim(0,10)\n",
    "ax3d4a.view_init(10,30)\n",
    "ax3d4a.set_xlabel('x')\n",
    "ax3d4a.set_ylabel('y')\n",
    "ax3d4a.set_zlabel('z')"
   ]
  },
  {
   "cell_type": "markdown",
   "metadata": {},
   "source": [
    "Here is another way to visualise the trajectory, but plotting it projected into the $x-y$, $x-z$ and $y-z$ planes.  This requires a little work to understand, but gives a good insight."
   ]
  },
  {
   "cell_type": "code",
   "execution_count": null,
   "metadata": {},
   "outputs": [],
   "source": [
    "fig3alt = plt.figure(figsize=(10,4),tight_layout=True)\n",
    "ax3alt1 = fig3alt.add_subplot(1,3,1)\n",
    "ax3alt1.plot(rbox3[:,0],rbox3[:,1])\n",
    "ax3alt1.set_xlabel('x')\n",
    "ax3alt1.set_ylabel('y')\n",
    "ax3alt1.set_xlim(0,10)\n",
    "ax3alt1.set_ylim(0,10)\n",
    "ax3alt1.set_aspect('equal')\n",
    "ax3alt2 = fig3alt.add_subplot(1,3,2)\n",
    "ax3alt2.plot(rbox3[:,0],rbox3[:,2])\n",
    "ax3alt2.set_xlabel('x')\n",
    "ax3alt2.set_ylabel('z')\n",
    "ax3alt2.set_xlim(0,10)\n",
    "ax3alt2.set_ylim(0,10)\n",
    "ax3alt2.set_aspect('equal')\n",
    "ax3alt3 = fig3alt.add_subplot(1,3,3)\n",
    "ax3alt3.plot(rbox3[:,1],rbox3[:,2])\n",
    "ax3alt3.set_xlabel('y')\n",
    "ax3alt3.set_ylabel('z')\n",
    "ax3alt3.set_xlim(0,10)\n",
    "ax3alt3.set_ylim(0,10)\n",
    "ax3alt3.set_aspect('equal')"
   ]
  },
  {
   "cell_type": "markdown",
   "metadata": {},
   "source": [
    "And now we calculate and plot the kinetic energy"
   ]
  },
  {
   "cell_type": "code",
   "execution_count": null,
   "metadata": {},
   "outputs": [],
   "source": [
    "ke2 = 0.5*np.sum(vbox3*vbox3,axis=1)\n",
    "plt.plot(np.linspace(0,dt*Nsteps,Nsteps),ke2)\n",
    "plt.xlabel('Time')\n",
    "plt.ylabel('Kinetic energy')\n",
    "plt.title('Test of conservation of energy')"
   ]
  },
  {
   "cell_type": "markdown",
   "metadata": {},
   "source": [
    "The kinetic energy is perfectly conserved (as we would expect - there is no acceleration, so this is very simple motion).\n",
    "\n",
    "## 5. The Lennard-Jones potential\n",
    "\n",
    "### Question 1"
   ]
  },
  {
   "cell_type": "code",
   "execution_count": null,
   "metadata": {},
   "outputs": [],
   "source": [
    "def find_energy_LJ(pos,Npart,sigma,epsilon):\n",
    "    \"\"\"Evaluate the energy due to Lennard-Jones potential\n",
    "    \n",
    "    Inputs:\n",
    "    pos             Positions (Npart x 3 array)\n",
    "    Npart           Number of particles\n",
    "    sigma, epsilon  LJ parameters\n",
    "    \n",
    "    Output:\n",
    "    energy\n",
    "    \"\"\"\n",
    "    energy = 0.0\n",
    "    for i in range(N-1):\n",
    "        for j in range(i+1,N):\n",
    "            rij = pos[j]-pos[i]\n",
    "            rij2 = np.sum(rij*rij)\n",
    "            # These lines are likely to be more efficient computationally than a power\n",
    "            sigma2_rij2 = sigma*sigma/rij2\n",
    "            sigma6_rij6 = sigma2_rij2*sigma2_rij2*sigma2_rij2\n",
    "            sigma12_rij12 = sigma6_rij6*sigma6_rij6\n",
    "            energy+= 4.0*epsilon*(sigma12_rij12 - sigma6_rij6)\n",
    "    return energy"
   ]
  },
  {
   "cell_type": "markdown",
   "metadata": {},
   "source": [
    "### Question 2"
   ]
  },
  {
   "cell_type": "code",
   "execution_count": null,
   "metadata": {},
   "outputs": [],
   "source": [
    "def find_forces_LJ(pos,Npart,sigma,epsilon,boxlen):\n",
    "    \"\"\"Evaluate the force due to Lennard-Jones potential\n",
    "    \n",
    "    Inputs:\n",
    "    pos             Positions (Npart x 3 array)\n",
    "    Npart           Number of particles\n",
    "    sigma, epsilon  LJ parameters\n",
    "    boxlen          Length of simulation cell\n",
    "    \n",
    "    Output:\n",
    "    energy          LJ energy\n",
    "    force           Forces on particles (Npart x 3 array)\n",
    "    \"\"\"\n",
    "    force = np.zeros((Npart,3))\n",
    "    energy = 0.0\n",
    "    sigma6 = sigma**6\n",
    "    sigma12 = sigma6*sigma6\n",
    "    for i in range(Npart-1):\n",
    "        for j in range(i+1,Npart):\n",
    "            dr = pos[j]-pos[i]\n",
    "            # Ensure that we interact with the closest particle through periodic boundaries\n",
    "            # For larger arrays, using np.mod(dr,boxlen) is likely to be more efficient\n",
    "            dr -= boxlen*np.rint(dr/boxlen)\n",
    "            dr2 = np.sum(dr*dr)\n",
    "            dr2i = 1.0/dr2\n",
    "            dr6i = dr2i*dr2i*dr2i\n",
    "            fij= 24.0*epsilon*dr*dr2i*dr6i*(sigma6 - 2.0*sigma12*dr6i)\n",
    "            force[i] += fij\n",
    "            force[j] -= fij\n",
    "            energy += 4.0*epsilon*dr6i*(sigma12*dr6i - sigma6)\n",
    "    return energy, force"
   ]
  },
  {
   "cell_type": "markdown",
   "metadata": {},
   "source": [
    "### Question 3"
   ]
  },
  {
   "cell_type": "code",
   "execution_count": null,
   "metadata": {},
   "outputs": [],
   "source": [
    "# Initialisation\n",
    "Nsteps = 5000\n",
    "kB = 1.38e-23         # J/K\n",
    "sigma = 0.275e-9      # 0.275nm\n",
    "epsilon = 36*kB       # 36kT\n",
    "mass = 20.2*1.673e-27 # kg"
   ]
  },
  {
   "cell_type": "markdown",
   "metadata": {},
   "source": [
    "### Question 4"
   ]
  },
  {
   "cell_type": "code",
   "execution_count": null,
   "metadata": {},
   "outputs": [],
   "source": [
    "Ncells = 3\n",
    "boxlen = Ncells*2**(1/6)*sigma\n",
    "Npart = Ncells*Ncells*Ncells\n",
    "rbox3 = np.zeros([Nsteps,Npart,3])\n",
    "vbox3 = np.zeros([Nsteps,Npart,3])\n",
    "count = 0\n",
    "for i in range(Ncells):\n",
    "    for j in range(Ncells):\n",
    "        for k in range(Ncells):\n",
    "            rbox3[0,count] = (1.0/Ncells)*boxlen*np.array([i,j,k])\n",
    "            count += 1\n",
    "fig_3d5 = plt.figure(figsize=(10,6))\n",
    "ax3d5 = fig_3d5.add_subplot(111,projection='3d')\n",
    "ax3d5.scatter(rbox3[0,:,0],rbox3[0,:,1],rbox3[0,:,2])"
   ]
  },
  {
   "cell_type": "markdown",
   "metadata": {},
   "source": [
    "### Question 5"
   ]
  },
  {
   "cell_type": "code",
   "execution_count": null,
   "metadata": {},
   "outputs": [],
   "source": [
    "# Initialise velocities\n",
    "initT  = 300          # K\n",
    "# Either set the width here\n",
    "# vsig = np.sqrt(kB*initT/mass)\n",
    "# vbox3[0] = rng.normal(scale=vsig, size=(Npart,3))\n",
    "# Or draw from a standard normal and rescale\n",
    "vbox3[0] = rng.standard_normal(size=(Npart,3))\n",
    "v_scale = np.sqrt(3*Npart*kB*initT/(mass*np.sum(vbox3[0]*vbox3[0])))\n",
    "vbox3[0] *= v_scale\n",
    "\n",
    "# Initial conditions\n",
    "energy = np.zeros(Nsteps)\n",
    "temp = np.zeros(Nsteps)\n",
    "e, f = find_forces_LJ(rbox3[0],Npart,sigma,epsilon,boxlen)\n",
    "energy[0] = e\n",
    "temp[0] = mass*np.sum(vbox3[0]*vbox3[0])/(3*Npart*kB)\n",
    "acc = f/mass\n",
    "print(\"Potential energy and temperature are \",e,\"J \",temp[0],\"K\")\n",
    "dt = 1e-15 # s "
   ]
  },
  {
   "cell_type": "markdown",
   "metadata": {},
   "source": [
    "### Question 6"
   ]
  },
  {
   "cell_type": "code",
   "execution_count": null,
   "metadata": {
    "scrolled": false
   },
   "outputs": [],
   "source": [
    "for step in range(1,Nsteps):\n",
    "    rbox3[step] = rbox3[step-1] + dt*vbox3[step-1] + 0.5*dt*dt*acc # acc at step-1\n",
    "    rbox3[step] = pbc(rbox3[step],boxlen)\n",
    "    energy[step], f = find_forces_LJ(rbox3[step],Npart,sigma,epsilon,boxlen)\n",
    "    acc_next = f/mass\n",
    "    vbox3[step] = vbox3[step-1] + 0.5*dt*(acc_next + acc)\n",
    "    temp[step] = mass*np.sum(vbox3[step]*vbox3[step])/(3*Npart*kB)\n",
    "    acc = acc_next"
   ]
  },
  {
   "cell_type": "code",
   "execution_count": null,
   "metadata": {},
   "outputs": [],
   "source": [
    "timeaxis = np.linspace(0,Nsteps*dt - dt,Nsteps)\n",
    "ke = 0.5*mass*np.sum(vbox3*vbox3,axis=(1,2))\n",
    "plt.plot(timeaxis,ke/(Npart*epsilon),label='Kinetic')\n",
    "plt.plot(timeaxis,energy/(Npart*epsilon),label='Potential')\n",
    "plt.plot(timeaxis,(ke+energy)/(Npart*epsilon),label='Total')\n",
    "plt.title(\"Energy per particle\")\n",
    "plt.xlabel(\"Time in s\")\n",
    "plt.ylabel(\"Energy/epsilon\")\n",
    "plt.legend()"
   ]
  },
  {
   "cell_type": "markdown",
   "metadata": {},
   "source": [
    "We see that, while the PE and KE fluctuate, the total energy is very well conserved over time.  If you plot just the total energy, it changes by no more than $4\\times 10^{-4}$ reduced units over the 5ps run.\n",
    "\n",
    "Since the kinetic energy fluctuates, we expect that the temperature will also fluctuate (and drop initially).  We can check this by plotting the temperature."
   ]
  },
  {
   "cell_type": "code",
   "execution_count": null,
   "metadata": {},
   "outputs": [],
   "source": [
    "plt.plot(timeaxis,temp)\n",
    "plt.title(\"Temperature of system\")\n",
    "plt.xlabel(\"Time in s\")\n",
    "plt.ylabel(\"Temperature (K)\")"
   ]
  },
  {
   "cell_type": "markdown",
   "metadata": {},
   "source": [
    "## 6. Inverse quadratic\n",
    "\n",
    "### Question 1"
   ]
  },
  {
   "cell_type": "code",
   "execution_count": null,
   "metadata": {},
   "outputs": [],
   "source": [
    "def find_force_elec(pos,q1,q2):\n",
    "    \"\"\"Evaluate the electrostatic force between two objects\n",
    "    \n",
    "    Inputs:\n",
    "    pos    Position (Ndim array)\n",
    "    q1, q2 Charges of two objects\n",
    "    \n",
    "    Econst 1/4pi epsilon0 or equivalent defined externally\n",
    "    \n",
    "    Output:\n",
    "    force on q1, oriented along pos\n",
    "    \"\"\"\n",
    "    dr2 = np.dot(pos,pos)\n",
    "    dri3 = 1.0/(np.sqrt(dr2)*dr2)\n",
    "    # Econst is 1/(4pi epsilon0)\n",
    "    f1 = Econst*q1*q2*pos*dri3 \n",
    "    return f1"
   ]
  },
  {
   "cell_type": "markdown",
   "metadata": {},
   "source": [
    "### Question 2"
   ]
  },
  {
   "cell_type": "code",
   "execution_count": null,
   "metadata": {},
   "outputs": [],
   "source": [
    "from scipy import constants\n",
    "q1 =  2*constants.e # Alpha particle\n",
    "q2 = 79*constants.e # Gold nucleus\n",
    "Econst  = 1/(4*np.pi*constants.epsilon_0) # \n",
    "m1 = 4*constants.m_p"
   ]
  },
  {
   "cell_type": "code",
   "execution_count": null,
   "metadata": {},
   "outputs": [],
   "source": [
    "# Starting velocity and position\n",
    "v0 = 1e7      # m/s\n",
    "l0 = 1000e-15 # m\n",
    "b = 40e-15    # m\n",
    "x0 = l0\n",
    "y0 = b\n",
    "r0 = np.sqrt(x0**2 + y0**2)\n",
    "\n",
    "# Time: steps and total\n",
    "dt = 1e-23 # s\n",
    "total_time = 2*l0/v0\n",
    "Nsteps = int(total_time/dt)\n",
    "print(f\"Total time: {total_time}\")\n",
    "\n",
    "# Initial positions and velocities\n",
    "Ndim = 2\n",
    "pos = np.zeros((Nsteps,Ndim))\n",
    "pos[0] = np.array([x0,y0])\n",
    "vel = np.zeros((Nsteps,Ndim))\n",
    "vel[0] = np.array([-v0,0.0])\n",
    "acc = find_force_elec(pos[0],q1,q2)/m1"
   ]
  },
  {
   "cell_type": "markdown",
   "metadata": {},
   "source": [
    "### Question 3"
   ]
  },
  {
   "cell_type": "code",
   "execution_count": null,
   "metadata": {},
   "outputs": [],
   "source": [
    "for step in range(1,Nsteps):\n",
    "    pos[step] = pos[step-1] + dt*vel[step-1] + 0.5*dt*dt*acc\n",
    "    acc_next = find_force_elec(pos[step],q1,q2)/m1\n",
    "    vel[step] = vel[step-1] + 0.5*dt*(acc+acc_next)\n",
    "    acc = acc_next"
   ]
  },
  {
   "cell_type": "code",
   "execution_count": null,
   "metadata": {},
   "outputs": [],
   "source": [
    "plt.axis('equal')\n",
    "plt.plot(pos[:,0],pos[:,1],label='Alpha particle trajectory')\n",
    "plt.plot(0,0,'o',label='Au nucleus')\n",
    "plt.axhline(c='k',ls=':',alpha = 0.5)\n",
    "plt.axvline(c='k',ls=':',alpha = 0.5)\n",
    "plt.xlabel('x')\n",
    "plt.ylabel('y')\n",
    "plt.legend()\n",
    "plt.title(\"Rutherford scattering\")"
   ]
  },
  {
   "cell_type": "markdown",
   "metadata": {},
   "source": [
    "We can calculate the angle of deflection and closest approach point quite easily.  It is possible that the final speed will be larger than the initial speed depending on the distance travelled: the initial potential energy is not zero, and will eventually be converted into kinetic energy."
   ]
  },
  {
   "cell_type": "code",
   "execution_count": null,
   "metadata": {},
   "outputs": [],
   "source": [
    "v1 = np.sqrt(np.dot(vel[-1],vel[-1]))\n",
    "print(f\"Final speed {v1}\")\n",
    "angle = 180*np.arccos(np.dot(vel[0],vel[-1])/(v1*v0))/np.pi\n",
    "print(f\"Angle of deflection {angle}\")\n",
    "dr_arr = np.linalg.norm(pos,axis=1)\n",
    "print(f\"Closest approach is {np.min(dr_arr)}m\")"
   ]
  },
  {
   "cell_type": "code",
   "execution_count": null,
   "metadata": {},
   "outputs": [],
   "source": [
    "# Find energy at each step\n",
    "ke = 0.5*m1*np.linalg.norm(vel,axis=1)**2\n",
    "pe = Econst*q1*q2/np.linalg.norm(pos,axis=1)\n",
    "plt.plot(ke,label='KE')\n",
    "plt.plot(pe,label='PE')\n",
    "plt.plot(ke+pe,label='Total energy')\n",
    "plt.legend()\n",
    "plt.xlabel(\"Timestep\")\n",
    "plt.ylabel(\"Energy (J)\")\n",
    "plt.title(\"Energy conservation\")"
   ]
  },
  {
   "cell_type": "markdown",
   "metadata": {},
   "source": [
    "If you plot just the total energy, you will find that the deviation is around 1e-20J (in a quantity with a magnitude of 1e-13J).  The kinetic energy drops as the potential energy rises (the repulsive force slows the alpha particle down as it comes closer to the Au nucleus)."
   ]
  },
  {
   "cell_type": "markdown",
   "metadata": {},
   "source": [
    "## 7. Coarse graining\n",
    "\n",
    "### Question 1"
   ]
  },
  {
   "cell_type": "code",
   "execution_count": null,
   "metadata": {},
   "outputs": [],
   "source": [
    "def int_force(pos,N):\n",
    "    \"\"\"Generic interaction force; exclude ends\"\"\"\n",
    "    force = np.zeros_like(pos)\n",
    "    for i in range(1,N-1):\n",
    "        for j in (-1,1):\n",
    "            dr = pos[i+j]-pos[i]\n",
    "            dri2 = 1.0/np.sum(dr*dr)\n",
    "            dri4 = dri2*dri2\n",
    "            dri6 = dri4*dri2\n",
    "            force[i] += Dconst*(2.0*dri4 - 4.0*dri6)*dr\n",
    "    return force"
   ]
  },
  {
   "cell_type": "markdown",
   "metadata": {},
   "source": [
    "### Question 2"
   ]
  },
  {
   "cell_type": "code",
   "execution_count": null,
   "metadata": {},
   "outputs": [],
   "source": [
    "Nsteps_ch = 3000\n",
    "dt = 1e-3\n",
    "Dconst = 1e4\n",
    "Nchain = 20\n",
    "pos_chain = np.zeros((Nsteps_ch,Nchain,2))\n",
    "pos_chain[0,:,0] = np.sqrt(2)*np.linspace(0,Nchain-1,Nchain)\n",
    "# Implicit mass of 1kg assumed for each link"
   ]
  },
  {
   "cell_type": "code",
   "execution_count": null,
   "metadata": {},
   "outputs": [],
   "source": [
    "plt.plot(pos_chain[0,:,0],pos_chain[0,:,1],'o')"
   ]
  },
  {
   "cell_type": "code",
   "execution_count": null,
   "metadata": {},
   "outputs": [],
   "source": [
    "vel_chain = np.zeros((Nsteps_ch,Nchain,2))\n",
    "acc_chain = int_force(pos_chain[0],Nchain) + np.array([0.0,-9.8])"
   ]
  },
  {
   "cell_type": "markdown",
   "metadata": {},
   "source": [
    "### Question 3"
   ]
  },
  {
   "cell_type": "code",
   "execution_count": null,
   "metadata": {},
   "outputs": [],
   "source": [
    "for step in range(1,Nsteps_ch):\n",
    "    pos_chain[step] = pos_chain[step-1] + dt*vel_chain[step-1] + 0.5*dt*dt*acc_chain\n",
    "    pos_chain[step,0] = np.sqrt(2)*np.array([0.0,0.0])\n",
    "    pos_chain[step,-1] = np.sqrt(2)*np.array([Nchain-1,0.0])\n",
    "    acc_next = int_force(pos_chain[step],Nchain) + np.array([0.0,-9.8])\n",
    "    vel_chain[step] = vel_chain[step-1] + 0.5*dt*(acc_chain+acc_next)\n",
    "    vel_chain[step,0]  = np.zeros(2)\n",
    "    vel_chain[step,-1] = np.zeros(2)\n",
    "    acc_chain = acc_next"
   ]
  },
  {
   "cell_type": "code",
   "execution_count": null,
   "metadata": {},
   "outputs": [],
   "source": [
    "figS5Q4 = plt.figure(figsize=(10,6))\n",
    "index = 1\n",
    "for i in range(0,Nsteps_ch,250):\n",
    "    ax = figS5Q4.add_subplot(3,4,index)\n",
    "    ax.plot(pos_chain[i,:,0],pos_chain[i,:,1],'o')\n",
    "    index += 1"
   ]
  },
  {
   "cell_type": "markdown",
   "metadata": {},
   "source": [
    "The chain oscillates in a somewhat uncontrolled fashion, though the shape that it will take at equilibrium can be seen from time to time.  Note that the axes on different graphs are rather different."
   ]
  },
  {
   "cell_type": "code",
   "execution_count": null,
   "metadata": {},
   "outputs": [],
   "source": []
  }
 ],
 "metadata": {
  "kernelspec": {
   "display_name": "Python 3",
   "language": "python",
   "name": "python3"
  },
  "language_info": {
   "codemirror_mode": {
    "name": "ipython",
    "version": 3
   },
   "file_extension": ".py",
   "mimetype": "text/x-python",
   "name": "python",
   "nbconvert_exporter": "python",
   "pygments_lexer": "ipython3",
   "version": "3.7.9"
  }
 },
 "nbformat": 4,
 "nbformat_minor": 2
}
