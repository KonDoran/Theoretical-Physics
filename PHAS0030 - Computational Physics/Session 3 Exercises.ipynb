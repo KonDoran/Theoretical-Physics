{
 "cells": [
  {
   "cell_type": "markdown",
   "id": "6e39ec99",
   "metadata": {},
   "source": [
    "# Session 3 Exercises\n",
    "\n",
    "These are the exercises from the Session 3 notes"
   ]
  },
  {
   "cell_type": "code",
   "execution_count": 1,
   "id": "65de66d2",
   "metadata": {},
   "outputs": [],
   "source": [
    "# We always start with appropriate imports; note the use of the IPython magic\n",
    "# command to set up Matplotlib within the notebook\n",
    "%matplotlib notebook\n",
    "import numpy as np\n",
    "import matplotlib.pyplot as plt"
   ]
  },
  {
   "cell_type": "markdown",
   "id": "fab9c6c5",
   "metadata": {},
   "source": [
    "## 3. Grids\n",
    "\n",
    "### In-class\n",
    "\n",
    "1. Use `np.logspace` to create an array `x` with twenty elements that run from $10^{-3}$ to 1 (check the syntax with the interactive help). Create an array `y` of twenty zeros (or ones if you prefer) and plot `y` vs `x` with points (the point here is to see how the grid works). Use `fig = plt.figure` and `ax = fig.add_subplot(1,2,1)` to create a $1\\times 2$ array of subplots (you will fill in the other plot in the next question). NB You will need to use `%matplotlib notebook` at the start of your notebook to be able to update a figure between different cells."
   ]
  },
  {
   "cell_type": "code",
   "execution_count": null,
   "id": "59a0160b",
   "metadata": {},
   "outputs": [],
   "source": []
  },
  {
   "cell_type": "markdown",
   "id": "72f83766",
   "metadata": {},
   "source": [
    "2.\tNow add a plot to your figure (remember that the final argument to `ax2 = fig.add_subplot` should now be 2, for the second subplot) of the same arrays using `ax2.semilogx`. I found `ax2.grid` helpful here (on both axes) to visualise what is happening. How do the two plots compare in terms of clarity?"
   ]
  },
  {
   "cell_type": "code",
   "execution_count": null,
   "id": "b81879d2",
   "metadata": {},
   "outputs": [],
   "source": []
  },
  {
   "cell_type": "markdown",
   "id": "719ae124",
   "metadata": {},
   "source": [
    "3. The Archimedes spiral is defined in polar coordinates as $r=a+b\\theta$. Create a new figure using `fig = plt.figure(figsize=(9,3))` (though you may change the figure size to suit your preference) and add a polar subplot using `ax = fig.add_subplot(1,2,1,polar=True)`. Make a polar plot for $0\\le \\theta \\le 6\\pi$, calculating $r$ from the definition above, using `ax.plot(theta,r)` (note that the arguments are not the standard way around!) . Experiment with values of $a$ and $b$."
   ]
  },
  {
   "cell_type": "code",
   "execution_count": null,
   "id": "34be5629",
   "metadata": {},
   "outputs": [],
   "source": []
  },
  {
   "cell_type": "markdown",
   "id": "42a4446a",
   "metadata": {},
   "source": [
    "4. The logarithmic spiral is defined rather differently: $r=a \\exp(b\\theta)$, where $a$ and $b$ are different variables to those in the Archimedes spiral. Add a polar plot for this spiral to your figure."
   ]
  },
  {
   "cell_type": "code",
   "execution_count": null,
   "id": "1d1a315a",
   "metadata": {},
   "outputs": [],
   "source": []
  },
  {
   "cell_type": "markdown",
   "id": "b1d3711e",
   "metadata": {},
   "source": [
    "### Further work\n",
    "\n",
    "1. With the array that you created in Q1 (in the in-class exercises above), make plots of $1/x$ on linear axes (`plt.plot`), semi-log axes (`plt.semilogx`) and log-log axes (`plt.loglog`). Think carefully about the advantages and disadvantages of each of these approaches."
   ]
  },
  {
   "cell_type": "code",
   "execution_count": null,
   "id": "784571aa",
   "metadata": {},
   "outputs": [],
   "source": []
  },
  {
   "cell_type": "markdown",
   "id": "ae67f675",
   "metadata": {},
   "source": [
    "2. Make Cartesian plots for the Archimedes and logarithmic spirals, calculating $x$ and $y$ explicitly from $r$ and $\\theta$. Experiment with using points rather than lines for the plot: would a logarithmic grid or some other grid make more sense for the logarithmic spiral with points?"
   ]
  },
  {
   "cell_type": "code",
   "execution_count": null,
   "id": "ee533fc5",
   "metadata": {},
   "outputs": [],
   "source": []
  },
  {
   "cell_type": "markdown",
   "id": "70d6d615",
   "metadata": {},
   "source": [
    "3. (*More challenging; do not worry if you cannot complete this*) We can create a non-orthogonal grid by defining vectors $\\mathbf{a}=(1,0)$ and $\\mathbf{b}=(0.5,√3/2)$ and a mesh whose points are found at $i\\mathbf{a}+j\\mathbf{b}$ for $i$ and $j$ integers. Create one array `pos` (dimensions `[2,N,N]` where N is the grid size) to store the $x$ and $y$ components of the grid positions and calculate them (it’s easiest to loop over $i$ and $j$ and use the expression above).  You might like to plot the points of the grid (use dots) to help visualize it, using something like `plt.plot(pos[0],pos[1],’bo’)`.  Create a 2D function such as $\\cos(x)\\times \\sin(y)$ (remember that you can use `pos[0]` to access the entire 2D array of x values) and plot it using `plt.contourf(x,y,surface)`."
   ]
  },
  {
   "cell_type": "code",
   "execution_count": null,
   "id": "0aac4bf3",
   "metadata": {},
   "outputs": [],
   "source": []
  },
  {
   "cell_type": "markdown",
   "id": "a753d529",
   "metadata": {},
   "source": [
    "## 4. Differentiation\n",
    "\n",
    "### In-class\n",
    "\n",
    "1. Create a function that implements the forward difference formula, taking the function $f(x)$, $x$ and $\\Delta x$ as inputs and returns the approximation to the differential (in this case do not use `np.roll`: here we use a function and a specified value x though of course it could be an array)."
   ]
  },
  {
   "cell_type": "code",
   "execution_count": null,
   "id": "4b6ee20c",
   "metadata": {},
   "outputs": [],
   "source": []
  },
  {
   "cell_type": "markdown",
   "id": "779af0ad",
   "metadata": {},
   "source": [
    "2. Test it on the sine function for one specific value of $x$ (I chose $x=1.0$; any value except a special pint such as $x=0$ or $x=\\pi$ will do), using `np.cos` to check the result. Plot the difference between the approximation and the analytic differential for different values of $\\Delta x$. Try using `np.logspace` to set up an array of values for $\\Delta x$, and see if `plt.loglog` is useful. (Note: if you take $\\Delta x$ below about $10^{-5}$ then you will see interesting behaviour.)"
   ]
  },
  {
   "cell_type": "code",
   "execution_count": null,
   "id": "3ff31511",
   "metadata": {},
   "outputs": [],
   "source": []
  },
  {
   "cell_type": "markdown",
   "id": "c4e9ddf6",
   "metadata": {},
   "source": [
    "3. Create an array of $x$ values from $0\\rightarrow 2\\pi - \\Delta x$ with spacing $\\Delta x=2\\pi/500$. Create an array holding $cos(x)$ using `np.cos`. Now calculate the forward finite difference approximation to the differential of the array using `np.roll`, and compare to the exact result found using `np.sin`. (The shift in `np.roll` equivalent to $+\\Delta x$ is an index of -1. Make sure that you understand why. Also think about why we chose the value of $\\Delta x$.)"
   ]
  },
  {
   "cell_type": "code",
   "execution_count": null,
   "id": "f538fb15",
   "metadata": {},
   "outputs": [],
   "source": []
  },
  {
   "cell_type": "markdown",
   "id": "ae26a00b",
   "metadata": {},
   "source": [
    "### Further work\n",
    "\n",
    "1.\tImplement a function for the *centred* difference and do the same analysis you did for the forward difference in the in-class exercises. Does this behave as expected? Check that the errors in the formulae for differentials follow our analysis above (linear for forward, quadratic for centred). "
   ]
  },
  {
   "cell_type": "markdown",
   "id": "ed392f06",
   "metadata": {},
   "source": [
    "## "
   ]
  },
  {
   "cell_type": "markdown",
   "id": "1e20f054",
   "metadata": {},
   "source": [
    "2.\tWrite a function to calculate the second derivative using the centred formula. As in the previous question, test it for sine, comparing to what you know the analytic result to be."
   ]
  },
  {
   "cell_type": "code",
   "execution_count": null,
   "id": "dca39f26",
   "metadata": {},
   "outputs": [],
   "source": []
  },
  {
   "cell_type": "markdown",
   "id": "3c04fe8d",
   "metadata": {},
   "source": [
    "3.\tWrite a function that combines two first derivative FD functions and compare the results to the centred second derivative you did in class (you may wish to experiment with two forward differences vs forward and back)."
   ]
  },
  {
   "cell_type": "code",
   "execution_count": null,
   "id": "4aa04944",
   "metadata": {},
   "outputs": [],
   "source": []
  },
  {
   "cell_type": "markdown",
   "id": "65582002",
   "metadata": {},
   "source": [
    "## 5. Integration\n",
    "\n",
    "### In-class\n",
    "\n",
    "1.\tCreate a simple integration function that uses the rectangle formula. It will need to take a function, two limits and a number of points (or spacing) as arguments. You could use this interface:"
   ]
  },
  {
   "cell_type": "code",
   "execution_count": null,
   "id": "94ced166",
   "metadata": {},
   "outputs": [],
   "source": [
    "def rectangle_int(f,a,b,N):\n",
    "    \"\"\"docstring: f is a Python function to be integrated\"\"\""
   ]
  },
  {
   "cell_type": "markdown",
   "id": "5073b251",
   "metadata": {},
   "source": [
    "2. Use this function to calculate the definite integral of a simple function (choose something that you can solve analytically in the first instance, like $2x$ which will integrate to $x^2$) and investigate the effect of the spacing (width)."
   ]
  },
  {
   "cell_type": "code",
   "execution_count": null,
   "id": "3f3eb957",
   "metadata": {},
   "outputs": [],
   "source": []
  },
  {
   "cell_type": "markdown",
   "id": "4f05b073",
   "metadata": {},
   "source": [
    "3. Now calculate the integral of $x\\cos(x)$ from 0 to 1."
   ]
  },
  {
   "cell_type": "code",
   "execution_count": null,
   "id": "22e55bf6",
   "metadata": {},
   "outputs": [],
   "source": []
  },
  {
   "cell_type": "markdown",
   "id": "282382d5",
   "metadata": {},
   "source": [
    "4.\tImplement the trapezium rule (copy and adapt your rectangular integration function if you like) and do the same calculation (be careful about the beginning and end points). You should be able to find the exact answer using integration by parts."
   ]
  },
  {
   "cell_type": "code",
   "execution_count": null,
   "id": "8d808e3b",
   "metadata": {},
   "outputs": [],
   "source": []
  },
  {
   "cell_type": "markdown",
   "id": "9a0e3700",
   "metadata": {},
   "source": [
    "### Further work\n",
    "\n",
    "1. Implement Simpson’s rule, and integrate $x \\cos(x)$ from 0 to 1. By looking at the formulae, consider which is the best approximation in terms of accuracy vs effort."
   ]
  },
  {
   "cell_type": "code",
   "execution_count": null,
   "id": "3540b5b7",
   "metadata": {},
   "outputs": [],
   "source": []
  },
  {
   "cell_type": "markdown",
   "id": "04e09ce4",
   "metadata": {},
   "source": [
    "2. Write a Python function to integrate a two-dimensional function, $f(x,y)$, using the simple 2D extension of the rectangle rule above: you should sum over the values of the function on a 2D grid (note that `np.sum(a)` will return the sum over all the entries in the array `a`, even if 2D) and scale by the area between grid points. Your function definition should look like this:"
   ]
  },
  {
   "cell_type": "code",
   "execution_count": null,
   "id": "477aae35",
   "metadata": {},
   "outputs": [],
   "source": [
    "def integrate_2d(fun,x,y,dx,dy):\n",
    "    \"\"\"Docstring\"\"\""
   ]
  },
  {
   "cell_type": "markdown",
   "id": "481b4118",
   "metadata": {},
   "source": [
    "Now test this. Define the function f(x,y)=cos(x)cos(y) and integrate between 0 and π/4 for both x and y (you should be able to work out the analytic result quite easily). Explore the effect of the grid spacing on the accuracy and the time taken. Be sure to include the end point in the integration."
   ]
  },
  {
   "cell_type": "code",
   "execution_count": null,
   "id": "b49be6d8",
   "metadata": {},
   "outputs": [],
   "source": []
  },
  {
   "cell_type": "markdown",
   "id": "cc1f7838",
   "metadata": {},
   "source": [
    "## 5.2 Library routines\n",
    "\n",
    "### In-class exercises\n",
    "\n",
    "1.\tCalculate the same integrals using SciPy’s routines (`integrate.trapz` and `integrate.simps`) as you did in the previous section (remember to import the appropriate module). Compare the answers."
   ]
  },
  {
   "cell_type": "code",
   "execution_count": null,
   "id": "cbd10744",
   "metadata": {},
   "outputs": [],
   "source": []
  },
  {
   "cell_type": "markdown",
   "id": "2a9b77dd",
   "metadata": {},
   "source": [
    "### Further work\n",
    "\n",
    "1. Use the library routine `quad` from `scipy.integrate` and see how accurate it is. Try adding an argument to your $x\\cos(x)$ function (to change to $x\\cos(\\alpha x)$,say), and passing it to quad."
   ]
  },
  {
   "cell_type": "code",
   "execution_count": null,
   "id": "9796f55b",
   "metadata": {},
   "outputs": [],
   "source": []
  }
 ],
 "metadata": {
  "kernelspec": {
   "display_name": "Python 3",
   "language": "python",
   "name": "python3"
  },
  "language_info": {
   "codemirror_mode": {
    "name": "ipython",
    "version": 3
   },
   "file_extension": ".py",
   "mimetype": "text/x-python",
   "name": "python",
   "nbconvert_exporter": "python",
   "pygments_lexer": "ipython3",
   "version": "3.7.9"
  }
 },
 "nbformat": 4,
 "nbformat_minor": 5
}
