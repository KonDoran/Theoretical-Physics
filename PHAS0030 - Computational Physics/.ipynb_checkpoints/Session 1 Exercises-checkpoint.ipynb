{
 "cells": [
  {
   "cell_type": "code",
   "execution_count": 1,
   "id": "66bb7d7a",
   "metadata": {},
   "outputs": [],
   "source": [
    "%matplotlib inline\n",
    "import numpy as np\n",
    "import matplotlib.pyplot as plt"
   ]
  },
  {
   "cell_type": "markdown",
   "id": "2f9df093",
   "metadata": {},
   "source": [
    "# Session 1 Exercises\n",
    "\n",
    "These are the exercises from the Session 1 notes\n",
    "\n",
    "## 3. Arrays in NumPy\n",
    "\n",
    "### In-class\n",
    "\n",
    "1.\tThere is an example above that creates arrays from 0 to 1 with a spacing of 0.1 using both `np.linspace` and `np.arange`. Write some Python code to create arrays between two points, a and b, with a given step size, using both `np.linspace` and `np.arange` (you will have to work out an appropriate number of points for `np.linspace`; note also that the two approaches will give different results if the range between a and b is not an integer multiple of the step size)."
   ]
  },
  {
   "cell_type": "code",
   "execution_count": 7,
   "id": "ce4f7514",
   "metadata": {},
   "outputs": [
    {
     "name": "stdout",
     "output_type": "stream",
     "text": [
      "[ 1  3  5  7  9 11 13 15 17 20]\n",
      "[ 1  2  3  4  5  6  7  8  9 10 11 12 13 14 15 16 17 18 19]\n"
     ]
    }
   ],
   "source": [
    "a = 1\n",
    "b = 20\n",
    "linarray = np.linspace(a,b,10, dtype=int)\n",
    "arangearray = np.arange(a,b)\n",
    "print(linarray)\n",
    "print(arangearray)"
   ]
  },
  {
   "cell_type": "markdown",
   "id": "53463b4d",
   "metadata": {},
   "source": [
    "2.\tNow write Python code to create arrays between two points, a and b, with a given number of points, using both `np.linspace` and `np.arange` (you will have to work out an appropriate step size for `np.arange`). Be sure that you understand the differences between these functions and these approaches."
   ]
  },
  {
   "cell_type": "code",
   "execution_count": 8,
   "id": "e045d356",
   "metadata": {},
   "outputs": [
    {
     "name": "stdout",
     "output_type": "stream",
     "text": [
      "[ 1  2  3  4  5  6  7  8  9 10 11 12 13 14 15 16 17 18 19 20]\n",
      "[ 1  2  3  4  5  6  7  8  9 10 11 12 13 14 15 16 17 18 19 20]\n"
     ]
    }
   ],
   "source": [
    "linarray = np.linspace(a,b,20, dtype=int)\n",
    "arangearray = np.arange(a,b+1)\n",
    "print(linarray)\n",
    "print(arangearray)"
   ]
  },
  {
   "cell_type": "markdown",
   "id": "8ade7310",
   "metadata": {},
   "source": [
    "3.\tCreate an array of integers from 0 to 49 inclusive. Use array slices to print the first five and the last five entries. Use array stepping to print every five entries (experiment with the starting point as well)."
   ]
  },
  {
   "cell_type": "code",
   "execution_count": 34,
   "id": "8f0b90c1",
   "metadata": {},
   "outputs": [
    {
     "name": "stdout",
     "output_type": "stream",
     "text": [
      "[0 1 2 3 4]\n",
      "[45 46 47 48 49]\n"
     ]
    }
   ],
   "source": [
    "a = 0\n",
    "b = 50\n",
    "fifty = np.arange(a,b,1)\n",
    "print(fifty[:5])\n",
    "print(fifty[-5:])\n",
    "fives = fifty[::5]\n"
   ]
  },
  {
   "cell_type": "markdown",
   "id": "c247381c",
   "metadata": {},
   "source": [
    "4.\tOperating on the array from the previous question, use `np.roll` to shift the array to the left and right by five places. Find a way to produce the same effects with array slices and `np.append`."
   ]
  },
  {
   "cell_type": "code",
   "execution_count": 30,
   "id": "2daf6efb",
   "metadata": {},
   "outputs": [
    {
     "name": "stdout",
     "output_type": "stream",
     "text": [
      "[45 46 47 48 49  0  1  2  3  4  5  6  7  8  9 10 11 12 13 14 15 16 17 18\n",
      " 19 20 21 22 23 24 25 26 27 28 29 30 31 32 33 34 35 36 37 38 39 40 41 42\n",
      " 43 44]\n",
      "[ 5  6  7  8  9 10 11 12 13 14 15 16 17 18 19 20 21 22 23 24 25 26 27 28\n",
      " 29 30 31 32 33 34 35 36 37 38 39 40 41 42 43 44 45 46 47 48 49  0  1  2\n",
      "  3  4]\n",
      "[ True  True  True  True  True  True  True  True  True  True  True  True\n",
      "  True  True  True  True  True  True  True  True  True  True  True  True\n",
      "  True  True  True  True  True  True  True  True  True  True  True  True\n",
      "  True  True  True  True  True  True  True  True  True  True  True  True\n",
      "  True  True]\n",
      "[ True  True  True  True  True  True  True  True  True  True  True  True\n",
      "  True  True  True  True  True  True  True  True  True  True  True  True\n",
      "  True  True  True  True  True  True  True  True  True  True  True  True\n",
      "  True  True  True  True  True  True  True  True  True  True  True  True\n",
      "  True  True]\n"
     ]
    }
   ],
   "source": [
    "fiftyleft = np.roll(fifty,5)\n",
    "print(fiftyleft)\n",
    "fiftyright = np.roll(fifty,-5)\n",
    "print(fiftyright)\n",
    "left = np.append(fifty[-5:], fifty[:-5])\n",
    "print(left==fiftyleft)\n",
    "right = np.append(fifty[5:],fifty[:5])\n",
    "print(right==fiftyright)"
   ]
  },
  {
   "cell_type": "markdown",
   "id": "54237232",
   "metadata": {},
   "source": [
    "5.\tUse the array stepping at the end of question 3 and np.reshape to create a (2×5) array containing only multiples of five"
   ]
  },
  {
   "cell_type": "code",
   "execution_count": 37,
   "id": "9b752a60",
   "metadata": {},
   "outputs": [
    {
     "data": {
      "text/plain": [
       "array([[ 0,  5, 10, 15, 20],\n",
       "       [25, 30, 35, 40, 45]])"
      ]
     },
     "execution_count": 37,
     "metadata": {},
     "output_type": "execute_result"
    }
   ],
   "source": [
    "np.reshape(fives,(2,5))"
   ]
  },
  {
   "cell_type": "markdown",
   "id": "cfcad9ab",
   "metadata": {},
   "source": [
    "6.\tUse `np.reshape` to make a (10×10) array from an array from 0 to 99 inclusive. Now use array slicing to print rows and columns (be sure to understand the difference !). Also use array slicing to print out some (2×2) sub-matrices (experiment)."
   ]
  },
  {
   "cell_type": "code",
   "execution_count": 40,
   "id": "205ed1aa",
   "metadata": {},
   "outputs": [
    {
     "data": {
      "text/plain": [
       "array([[ 0,  1,  2,  3,  4,  5,  6,  7,  8,  9],\n",
       "       [10, 11, 12, 13, 14, 15, 16, 17, 18, 19],\n",
       "       [20, 21, 22, 23, 24, 25, 26, 27, 28, 29],\n",
       "       [30, 31, 32, 33, 34, 35, 36, 37, 38, 39],\n",
       "       [40, 41, 42, 43, 44, 45, 46, 47, 48, 49],\n",
       "       [50, 51, 52, 53, 54, 55, 56, 57, 58, 59],\n",
       "       [60, 61, 62, 63, 64, 65, 66, 67, 68, 69],\n",
       "       [70, 71, 72, 73, 74, 75, 76, 77, 78, 79],\n",
       "       [80, 81, 82, 83, 84, 85, 86, 87, 88, 89],\n",
       "       [90, 91, 92, 93, 94, 95, 96, 97, 98, 99]])"
      ]
     },
     "execution_count": 40,
     "metadata": {},
     "output_type": "execute_result"
    }
   ],
   "source": [
    "hundred = np.arange(0,100,1)\n",
    "np.reshape(hundred,(10,10))"
   ]
  },
  {
   "cell_type": "markdown",
   "id": "753e9df6",
   "metadata": {},
   "source": [
    "### Further work\n",
    "\n",
    "1.\tExplore how the normal arithmetic operators + and * work with 2D arrays, and compare to `np.dot`. You should choose small arrays with integer spacing so that you can understand what is being done."
   ]
  },
  {
   "cell_type": "code",
   "execution_count": null,
   "id": "798fbf85",
   "metadata": {},
   "outputs": [],
   "source": []
  },
  {
   "cell_type": "markdown",
   "id": "0f7df0c4",
   "metadata": {},
   "source": [
    "2. \tCreate an (8×8) array of zeros, and then change alternating entries to 1 using slices and steps. Plot with `plt.imshow`: you should see columns of colour."
   ]
  },
  {
   "cell_type": "code",
   "execution_count": null,
   "id": "59e91c25",
   "metadata": {},
   "outputs": [],
   "source": []
  },
  {
   "cell_type": "markdown",
   "id": "e090866d",
   "metadata": {},
   "source": [
    "3.\tStill setting different elements to 1, now try to create a chessboard from the array in the previous question by treating even and odd rows differently."
   ]
  },
  {
   "cell_type": "code",
   "execution_count": null,
   "id": "e4206a2d",
   "metadata": {},
   "outputs": [],
   "source": []
  },
  {
   "cell_type": "markdown",
   "id": "711272fd",
   "metadata": {},
   "source": [
    "## 4. Plotting with Matplotlib\n",
    "\n",
    "### In-class\n",
    "\n",
    "1.\tPractise plotting simple functions (trigonometric etc) using the basic pyplot approach, adding labels to axes, different lines with colours and symbols.  Make sure that you are confident with how everything works.  As well as sine and cosine, try tan, and experiment with limits on the y-axis: `plt.ylim(low,hi)`."
   ]
  },
  {
   "cell_type": "code",
   "execution_count": 73,
   "id": "c479ad28",
   "metadata": {},
   "outputs": [
    {
     "data": {
      "text/plain": [
       "<matplotlib.legend.Legend at 0x146fd544d00>"
      ]
     },
     "execution_count": 73,
     "metadata": {},
     "output_type": "execute_result"
    },
    {
     "data": {
      "image/png": "[encoded data removed]",
      "text/plain": [
       "<Figure size 432x288 with 1 Axes>"
      ]
     },
     "metadata": {
      "needs_background": "light"
     },
     "output_type": "display_data"
    }
   ],
   "source": [
    "n=100\n",
    "\n",
    "theta = np.linspace(0,2*np.pi, n)\n",
    "tan = np.tan(theta)\n",
    "plt.plot(theta, np.sin(theta))\n",
    "plt.plot (theta, np.cos(theta))\n",
    "plt.plot (theta, tan)\n",
    "plt.ylim(-3,3)\n",
    "plt.title(\"Trigonomtric Functions\")\n",
    "plt.xlabel(r\"$\\theta$ in radians\")\n",
    "plt.ylabel(r\"f($\\theta$)\")\n",
    "plt.legend((r\"sin($\\theta$)\",r\"cos($\\theta$)\",r\"tan($\\theta$)\"))"
   ]
  },
  {
   "cell_type": "markdown",
   "id": "3d6b6921",
   "metadata": {},
   "source": [
    "2.\tNow experiment with creating a figure with the more powerful approach: in the first place, try two graphs showing sine and cosine. You may want to give a figure size when creating the figure (`plt.figure(figsize=(w,h)`) where width and height are given in inches)."
   ]
  },
  {
   "cell_type": "code",
   "execution_count": 76,
   "id": "187ddb2d",
   "metadata": {},
   "outputs": [
    {
     "data": {
      "text/plain": [
       "[<matplotlib.lines.Line2D at 0x146fdda11f0>]"
      ]
     },
     "execution_count": 76,
     "metadata": {},
     "output_type": "execute_result"
    },
    {
     "data": {
      "image/png": "[encoded data removed]",
      "text/plain": [
       "<Figure size 432x288 with 2 Axes>"
      ]
     },
     "metadata": {
      "needs_background": "light"
     },
     "output_type": "display_data"
    }
   ],
   "source": [
    "fig1 = plt.figure()\n",
    "ax1 = fig1.add_subplot(1,2,1)\n",
    "ax1.plot(theta, np.sin(theta))\n",
    "ax2 = fig1.add_subplot(1,2,2)\n",
    "ax2.plot(theta,np.cos(theta))"
   ]
  },
  {
   "cell_type": "markdown",
   "id": "1f3c1255",
   "metadata": {},
   "source": [
    "3.\tWe are going to develop a 2D array of distance, following on from the example in Section 3.1. Create 1D arrays of x and y from 0 to 9 with a spacing of 1, and using `np.meshgrid`, create equivalent 2D arrays. Use these to calculate the distance of all points in the grid from the origin with a single line of Python, and plot it using `plt.imshow`. Experiment with different colour maps, and try creating more arrays with different grid spacing."
   ]
  },
  {
   "cell_type": "code",
   "execution_count": 146,
   "id": "e80f25a8",
   "metadata": {},
   "outputs": [
    {
     "data": {
      "text/plain": [
       "<matplotlib.colorbar.Colorbar at 0x146feaf3100>"
      ]
     },
     "execution_count": 146,
     "metadata": {},
     "output_type": "execute_result"
    },
    {
     "data": {
      "image/png": "[encoded data removed]",
      "text/plain": [
       "<Figure size 432x288 with 2 Axes>"
      ]
     },
     "metadata": {
      "needs_background": "light"
     },
     "output_type": "display_data"
    }
   ],
   "source": [
    "numberpoints = 100\n",
    "x = np.linspace(0,10,numberpoints)\n",
    "y = np.linspace(0,10,numberpoints)\n",
    "x2D, y2D = np.meshgrid(x,y)\n",
    "r2D = np.sqrt(x2D**2 + y2D**2)\n",
    "plt.imshow(r2D, origin=\"lower\")\n",
    "plt.colorbar()"
   ]
  },
  {
   "cell_type": "markdown",
   "id": "baeaf0ce",
   "metadata": {},
   "source": [
    "### Further work\n",
    "\n",
    "It is often said that sunflower seeds in a flower follow a Fibonacci sequence ; in this exercise, you will explore what this means.\n",
    "The key parameters that you will need to explore in polar coordinates ($r, \\theta$) are:\n",
    "$$\n",
    "r      =0.5\\sqrt{n}\\\\\n",
    "\\theta =\\frac{2\\pi n}{1+\\phi}\\\\\n",
    "\\phi   = 0.5(1+\\sqrt{5})\n",
    "$$\n",
    "where $n$ is an integer giving the number of the sunflower seed.\n",
    "\n",
    "1.\tSet up an array for $n$ (integer steps from 0 to anywhere between 100 and 1,000 will be fine, though you may experiment) and use this to create arrays of $r$ and $\\theta$ for the seeds.\n",
    "\n"
   ]
  },
  {
   "cell_type": "code",
   "execution_count": null,
   "id": "a7f6d687",
   "metadata": {},
   "outputs": [],
   "source": []
  },
  {
   "cell_type": "markdown",
   "id": "639adf16",
   "metadata": {},
   "source": [
    "2.\tNow calculate arrays of the cartesian coordinates for the seeds using the standard conversion from 2D polar coordinates."
   ]
  },
  {
   "cell_type": "code",
   "execution_count": null,
   "id": "25d0cf06",
   "metadata": {},
   "outputs": [],
   "source": []
  },
  {
   "cell_type": "markdown",
   "id": "6b44e972",
   "metadata": {},
   "source": [
    "3.\tMake a plot showing the locations of the seeds using just points (I found that using `plt.plot(x,y,’o’)` worked well). Can you see any patterns?"
   ]
  },
  {
   "cell_type": "code",
   "execution_count": null,
   "id": "6d370162",
   "metadata": {},
   "outputs": [],
   "source": []
  },
  {
   "cell_type": "markdown",
   "id": "74049502",
   "metadata": {},
   "source": [
    "4.\tYou will now need to change the plot to explore how Fibonacci numbers appear; you will find that plotting every $f$ seeds in different colours makes the patterns much easier to see. Start with $f=2$, and use array stepping to plot every 2 seeds (e.g. `x[::2]`). If you use two plot commands (on the same plot) for every 2 seeds starting at 0 and at 1, you should see a pattern emerging."
   ]
  },
  {
   "cell_type": "code",
   "execution_count": null,
   "id": "44418414",
   "metadata": {},
   "outputs": [],
   "source": []
  },
  {
   "cell_type": "markdown",
   "id": "af07e48b",
   "metadata": {},
   "source": [
    "5.\tDo the same thing, but now use `plt.polar(theta,r,’o’)` (or whatever style you want). Note that the order of variables in the call to the polar plot is not the scientific standard !"
   ]
  },
  {
   "cell_type": "code",
   "execution_count": null,
   "id": "68805ced",
   "metadata": {},
   "outputs": [],
   "source": []
  },
  {
   "cell_type": "markdown",
   "id": "71a455d9",
   "metadata": {},
   "source": [
    "6.\tNow try f=5 as the Fibonacci number: you will need to have five plot commands, starting with a different number in the arrays each time. Try it with a for loop. (Hint: use `x[start::step]` to do this)"
   ]
  },
  {
   "cell_type": "code",
   "execution_count": null,
   "id": "21a2bc32",
   "metadata": {},
   "outputs": [],
   "source": []
  },
  {
   "cell_type": "markdown",
   "id": "2a49dae0",
   "metadata": {},
   "source": [
    "7.\tTry to create an array of subplots for the first few Fibonacci numbers (avoid 1; I found that the first six numbers all give interesting plots). You will need two for loops: one for the Fibonacci numbers, and one for the different coloured points"
   ]
  },
  {
   "cell_type": "code",
   "execution_count": null,
   "id": "6bbda06f",
   "metadata": {},
   "outputs": [],
   "source": []
  },
  {
   "cell_type": "markdown",
   "id": "e08e43bc",
   "metadata": {},
   "source": [
    "## 5. Loops and control\n",
    "\n",
    "## 5.1 For loops\n",
    "\n",
    "### In-class\n",
    "\n",
    "1.\tLoop over two variables from 1 to 5 (use two nested for loops and variables such as i and j) and store the product of the numbers in a 1D array or list (you may want to create a NumPy array in advance, or use a Python list and append)"
   ]
  },
  {
   "cell_type": "code",
   "execution_count": 131,
   "id": "3e4dce61",
   "metadata": {},
   "outputs": [
    {
     "name": "stdout",
     "output_type": "stream",
     "text": [
      "[ 1  2  3  4  5  2  4  6  8 10  3  6  9 12 15  4  8 12 16 20  5 10 15 20\n",
      " 25]\n"
     ]
    }
   ],
   "source": [
    "array1 = np.array([], dtype=int)\n",
    "for i in range(5):\n",
    "    for j in range (5):\n",
    "        array1 = np.append(array1, int((i+1)*(j+1)))\n",
    "print(array1)"
   ]
  },
  {
   "cell_type": "markdown",
   "id": "3da4f7cc",
   "metadata": {},
   "source": [
    "2.\tNow write a list comprehension to do the same thing"
   ]
  },
  {
   "cell_type": "code",
   "execution_count": 133,
   "id": "beff216f",
   "metadata": {},
   "outputs": [
    {
     "name": "stdout",
     "output_type": "stream",
     "text": [
      "[1, 2, 3, 4, 5, 2, 4, 6, 8, 10, 3, 6, 9, 12, 15, 4, 8, 12, 16, 20, 5, 10, 15, 20, 25]\n"
     ]
    }
   ],
   "source": [
    "array2 = []\n",
    "for i in range(5):\n",
    "    for j in range(5):\n",
    "        array2.append((i+1)*(j+1))\n",
    "print(array2)"
   ]
  },
  {
   "cell_type": "markdown",
   "id": "81b63504",
   "metadata": {},
   "source": [
    "3.\tUse np.reshape and the list comprehension to store the result in a (5×5) array"
   ]
  },
  {
   "cell_type": "code",
   "execution_count": 135,
   "id": "21492c2b",
   "metadata": {},
   "outputs": [
    {
     "name": "stdout",
     "output_type": "stream",
     "text": [
      "[[ 1  2  3  4  5]\n",
      " [ 2  4  6  8 10]\n",
      " [ 3  6  9 12 15]\n",
      " [ 4  8 12 16 20]\n",
      " [ 5 10 15 20 25]]\n"
     ]
    }
   ],
   "source": [
    "array2D = np.reshape(array2,(5,5))\n",
    "print(array2D)"
   ]
  },
  {
   "cell_type": "markdown",
   "id": "4bf2b7ee",
   "metadata": {},
   "source": [
    "4.\tReturn to your for loops; add a condition so that you only store the product if you are in the lower triangle of the matrix, where i≤j, and store zero otherwise (you can write: `a = x*y if condition else 0` to do this - and you can do this inside the argument to a function…)"
   ]
  },
  {
   "cell_type": "code",
   "execution_count": 139,
   "id": "4bfd2676",
   "metadata": {},
   "outputs": [
    {
     "name": "stdout",
     "output_type": "stream",
     "text": [
      "[ 1  0  0  0  0  2  4  0  0  0  3  6  9  0  0  4  8 12 16  0  5 10 15 20\n",
      " 25]\n"
     ]
    }
   ],
   "source": [
    "array1 = np.array([], dtype=int)\n",
    "for i in range(5):\n",
    "    for j in range (5):\n",
    "        if j <= i:\n",
    "            array1 = np.append(array1, int((i+1)*(j+1)))\n",
    "        else:\n",
    "            array1 = np.append(array1, 0)\n",
    "print(array1)"
   ]
  },
  {
   "cell_type": "markdown",
   "id": "c62ced7d",
   "metadata": {},
   "source": [
    "5.\tFollowing on from the last in-class exercise in Section 4.1, we are going to use `for` loops to create the distance array, with an addition. Create a 2D array filled with zeros to store the distances. Using explicit loop indices (say `i` and `j`) and the same 1D x and y arrays as before, use two `for` loops to calculate the distance from each point in the grid to an arbitrary point $\\mathbf{r}_0$, defined in terms of the variables `x0` and `y0`. For a grid spacing of 1, set `x0=4.5`, `y0=4.5` and create and plot the distance array."
   ]
  },
  {
   "cell_type": "code",
   "execution_count": 147,
   "id": "d2b6c100",
   "metadata": {},
   "outputs": [
    {
     "data": {
      "text/plain": [
       "<matplotlib.colorbar.Colorbar at 0x146ffc26190>"
      ]
     },
     "execution_count": 147,
     "metadata": {},
     "output_type": "execute_result"
    },
    {
     "data": {
      "image/png": "[encoded data removed]",
      "text/plain": [
       "<Figure size 432x288 with 2 Axes>"
      ]
     },
     "metadata": {
      "needs_background": "light"
     },
     "output_type": "display_data"
    }
   ],
   "source": [
    "x0 = 4.5\n",
    "y0 = 4.5\n",
    "distance = np.zeros((numberpoints,numberpoints))\n",
    "x2D, y2D = np.meshgrid(x,y)\n",
    "distance = np.sqrt((x2D-x0)**2 + (y2D-y0)**2)\n",
    "plt.imshow(distance, origin=\"lower\")\n",
    "plt.colorbar()"
   ]
  },
  {
   "cell_type": "markdown",
   "id": "3eb9c43f",
   "metadata": {},
   "source": [
    "6.\tNow use enumerate to do the same job without loop indices."
   ]
  },
  {
   "cell_type": "code",
   "execution_count": null,
   "id": "50d125dc",
   "metadata": {},
   "outputs": [],
   "source": []
  },
  {
   "cell_type": "markdown",
   "id": "2969f267",
   "metadata": {},
   "source": [
    "## 5.3 While loops & 5.5 Conditions and branching\n",
    "\n",
    "### In class\n",
    "\n",
    "1.\tWrite a `for` loop to calculate the squares of integers from 1 to 20, but only if they are even (include an `if` and an `else` clause and use `continue`; you may find the modulus operator `%` to be useful)."
   ]
  },
  {
   "cell_type": "code",
   "execution_count": null,
   "id": "78181cb0",
   "metadata": {},
   "outputs": [],
   "source": []
  },
  {
   "cell_type": "markdown",
   "id": "3bcd29f3",
   "metadata": {},
   "source": [
    "2.\tWrite a short piece of code to test for prime numbers for integers from 1 to at least 100. Only write out a number if it is prime. (You will need to use `for`, `while` and `break`; remember that you only need test a number $n$ for factors up to $\\sqrt{n}$.)"
   ]
  },
  {
   "cell_type": "code",
   "execution_count": null,
   "id": "fe5ca49b",
   "metadata": {},
   "outputs": [],
   "source": []
  },
  {
   "cell_type": "markdown",
   "id": "c4fc3c5a",
   "metadata": {},
   "source": [
    "3.\tCreate a (2×5) array containing the numbers from 0 to 9 inclusive. Iterate over the array using `enumerate` and print what is returned. Now introduce another (nested) loop also using `enumerate` to iterate over what is returned from the first `enumerate`. Print both indices: what is happening ?"
   ]
  },
  {
   "cell_type": "code",
   "execution_count": null,
   "id": "dd498093",
   "metadata": {},
   "outputs": [],
   "source": []
  },
  {
   "cell_type": "markdown",
   "id": "02fb5322",
   "metadata": {},
   "source": [
    "### Further work\n",
    "\n",
    "Creating a Mandelbrot set image is relatively simple, and gives good practice with flow control and arrays. The further work will concentrate on this.\n",
    "The Mandelbrot algorithm is applied to points in the complex plane $c=x+iy$ and consists of the following iteration: $z_{n+1}=z_n^2+c$ with $z_0=0$. Points which have $|z_n |≤2$ as $n\\rightarrow\\infty$ do not diverge, and are within the set; we will replace $\\infty$ in the divergence criterion with $n\\ge 70$. (Note that, while complex arithmetic is possible in Python, we will use real arithmetic here.)\n",
    "\n",
    "1.\tYou will need to create two 1D arrays for the real and imaginary parts of the complex number $c$, with ranges $-2≤x≤0.6$ and $-1.2≤y≤1.2$"
   ]
  },
  {
   "cell_type": "code",
   "execution_count": null,
   "id": "e2997145",
   "metadata": {},
   "outputs": [],
   "source": []
  },
  {
   "cell_type": "markdown",
   "id": "7f503b3b",
   "metadata": {},
   "source": [
    "2.\tYou will then need to create a 2D array of zeros which has the shape (nx×ny) to store the results"
   ]
  },
  {
   "cell_type": "code",
   "execution_count": null,
   "id": "9265df24",
   "metadata": {},
   "outputs": [],
   "source": []
  },
  {
   "cell_type": "markdown",
   "id": "827bcb48",
   "metadata": {},
   "source": [
    "3.\tYou should write `for` loops over $x$ and $y$ (two in total) using `enumerate` so that you can store the result of each iteration in the results array, with the appropriate index"
   ]
  },
  {
   "cell_type": "code",
   "execution_count": null,
   "id": "db97251a",
   "metadata": {},
   "outputs": [],
   "source": []
  },
  {
   "cell_type": "markdown",
   "id": "12226388",
   "metadata": {},
   "source": [
    "4.\tFor each point, use a `while` loop to perform the iteration (use two conditions: one on the magnitude of $z$, the other on the number of iterations). You will need to evaluate the real and imaginary parts of $z_{n+1}$ separately. You may want to create an array `[x,y]` for $z$. You should keep track of the number of iterations around the while loop"
   ]
  },
  {
   "cell_type": "code",
   "execution_count": null,
   "id": "daf17502",
   "metadata": {},
   "outputs": [],
   "source": []
  },
  {
   "cell_type": "markdown",
   "id": "e56e7c42",
   "metadata": {},
   "source": [
    "5. You can make a simple black-and-white image by labelling a point within the set as 0 and outside the set as 1; if you instead store $1-\\sqrt{n/70}$, where $n$ is the number of iterations performed, then the resulting plot using `plt.imshow` is quite attractive"
   ]
  },
  {
   "cell_type": "code",
   "execution_count": null,
   "id": "242ba8f1",
   "metadata": {},
   "outputs": [],
   "source": []
  },
  {
   "cell_type": "markdown",
   "id": "3d069866",
   "metadata": {},
   "source": [
    "## 6. Functions\n",
    "\n",
    "### In-class\n",
    "\n",
    "1.\tWrite your own version of the factorial function in the notes (do something differently: use for in place of while, or go up rather than down)"
   ]
  },
  {
   "cell_type": "code",
   "execution_count": 149,
   "id": "4418232c",
   "metadata": {},
   "outputs": [
    {
     "data": {
      "text/plain": [
       "6"
      ]
     },
     "execution_count": 149,
     "metadata": {},
     "output_type": "execute_result"
    }
   ],
   "source": [
    "def factorial(n):\n",
    "    if n < 0:\n",
    "        return 0\n",
    "    elif n == 0:\n",
    "        return 1\n",
    "    else:\n",
    "        return n*factorial(n-1)\n",
    "factorial(3)"
   ]
  },
  {
   "cell_type": "markdown",
   "id": "d43b1228",
   "metadata": {},
   "source": [
    "2.\tWrite a function to calculate the n$^{\\mathrm{th}}$ term in the Fibonacci sequence ($f_{n+1}=f_n+f_{n-1}$ with $f_0=f_1=1$). You can do this in several different ways; it is possible to call a function from within itself (this is known as a *recursive* function call) but this can be inefficient. You could start with the first two terms and build up."
   ]
  },
  {
   "cell_type": "code",
   "execution_count": null,
   "id": "a50edacd",
   "metadata": {},
   "outputs": [],
   "source": []
  },
  {
   "cell_type": "markdown",
   "id": "41d62dfe",
   "metadata": {},
   "source": [
    "3.\tContinuing the work on distance calculation from the previous sections, you should now write a function to calculate the electrostatic potential due to a charge `q0` at a point (`x0`, `y0`). The arguments should be the x and y coordinates of the 2D grid (from `np.meshgrid`), the position of the charge and the value of the charge. The function should return the potential, and should use the most efficient NumPy approach. You should work in atomic units (so $\\phi=q/r$ with an electron having $q=-1$). You might like to think about what happens if the charge is placed directly on a grid point (both from a physics point of view and a coding one!)"
   ]
  },
  {
   "cell_type": "code",
   "execution_count": null,
   "id": "19968f51",
   "metadata": {},
   "outputs": [],
   "source": []
  },
  {
   "cell_type": "markdown",
   "id": "7b941902",
   "metadata": {},
   "source": [
    "4.\tPlot the potential using `plt.imshow` (add a colour bar using plt.colorbar). Check that your result is physically reasonable."
   ]
  },
  {
   "cell_type": "code",
   "execution_count": null,
   "id": "3ef3ae98",
   "metadata": {},
   "outputs": [],
   "source": []
  },
  {
   "cell_type": "markdown",
   "id": "cf2a34de",
   "metadata": {},
   "source": [
    "5.\tNow calculate the electric field on the grid points due to the charge:\n",
    "$$\n",
    "\\mathbf{E}(\\mathbf{r})=q \\frac{\\mathbf{r}-\\mathbf{r}_0}{|\\mathbf{r}-\\mathbf{r}_0 |^3} \n",
    "$$\n",
    "You should return the x and y components of the field as separate 2D arrays. You might like to add this calculation to your potential function, returning both the field and the potential, or write a new function."
   ]
  },
  {
   "cell_type": "code",
   "execution_count": null,
   "id": "299c0db5",
   "metadata": {},
   "outputs": [],
   "source": []
  },
  {
   "cell_type": "markdown",
   "id": "55ad4635",
   "metadata": {},
   "source": [
    "6.\tNow plot the field using `plt.quiver(x,y,Ex,Ey)` where the arrays are all 2D. (I found that I needed to make the figure square; if you are using `plt` then you can set this with the command `plt.rcParams[’figure.figsize’] = 6, 6`.)"
   ]
  },
  {
   "cell_type": "code",
   "execution_count": null,
   "id": "f162f56e",
   "metadata": {},
   "outputs": [],
   "source": []
  },
  {
   "cell_type": "markdown",
   "id": "7c26180d",
   "metadata": {},
   "source": [
    "7.\tAn alternative is to use streamlines: `plt.stream(x,y,Ex,Ey)`. You can add an optional argument density (where a value of 1.0 gives no change) to increase or decrease the streamline density."
   ]
  },
  {
   "cell_type": "code",
   "execution_count": null,
   "id": "2f8e5c6c",
   "metadata": {},
   "outputs": [],
   "source": []
  },
  {
   "cell_type": "markdown",
   "id": "c3c3d460",
   "metadata": {},
   "source": [
    "### Further work\n",
    "\n",
    "1.\tWrite a simple function to split an array into even and odd entries, and return two arrays (use appropriate start and step values)"
   ]
  },
  {
   "cell_type": "code",
   "execution_count": null,
   "id": "e3e01a11",
   "metadata": {},
   "outputs": [],
   "source": []
  },
  {
   "cell_type": "markdown",
   "id": "aad1b9b0",
   "metadata": {},
   "source": [
    "2.\tWrite a simple function to interleave two arrays, returning one array (it should be the inverse of your split function)"
   ]
  },
  {
   "cell_type": "code",
   "execution_count": null,
   "id": "e2c385a4",
   "metadata": {},
   "outputs": [],
   "source": []
  },
  {
   "cell_type": "markdown",
   "id": "5c1e7a68",
   "metadata": {},
   "source": [
    "3.\tWrite a function to implement the Mandelbrot iteration (it should take two numbers as input, and return the number of iterations required). Check that it works by replacing the heart of your Mandelbrot code from earlier."
   ]
  },
  {
   "cell_type": "code",
   "execution_count": null,
   "id": "fa00173b",
   "metadata": {},
   "outputs": [],
   "source": []
  }
 ],
 "metadata": {
  "kernelspec": {
   "display_name": "Python 3",
   "language": "python",
   "name": "python3"
  },
  "language_info": {
   "codemirror_mode": {
    "name": "ipython",
    "version": 3
   },
   "file_extension": ".py",
   "mimetype": "text/x-python",
   "name": "python",
   "nbconvert_exporter": "python",
   "pygments_lexer": "ipython3",
   "version": "3.8.8"
  }
 },
 "nbformat": 4,
 "nbformat_minor": 5
}
