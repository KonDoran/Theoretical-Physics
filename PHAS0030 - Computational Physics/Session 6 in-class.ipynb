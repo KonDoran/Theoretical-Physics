{
 "cells": [
  {
   "cell_type": "markdown",
   "metadata": {},
   "source": [
    "# Session 6 exercises\n",
    "\n",
    "These are sample answers for the in-class exercises in Session 6 of PHAS0030.  You should make sure that you can do these yourself! The further work exercises will be in a separate notebook."
   ]
  },
  {
   "cell_type": "code",
   "execution_count": null,
   "metadata": {},
   "outputs": [],
   "source": [
    "# We always start with appropriate imports; note the use of the IPython magic\n",
    "# command to set up Matplotlib within the notebook\n",
    "%matplotlib inline\n",
    "import numpy as np\n",
    "import matplotlib.pyplot as plt"
   ]
  },
  {
   "cell_type": "markdown",
   "metadata": {},
   "source": [
    "## 3. The classical wave equation\n",
    "\n",
    "### Question 1"
   ]
  },
  {
   "cell_type": "code",
   "execution_count": null,
   "metadata": {},
   "outputs": [],
   "source": [
    "def explicit_wave_eq_update(theta_n, theta_nm1,r):\n",
    "    \"\"\"Update wave equation using simple finite difference \n",
    "    approach.  Assumes periodic boundary conditions.\n",
    "    Inputs: \n",
    "    theta_n   Wave at time t_n     = n*dt\n",
    "    theta_nm1 Wave at time t_{n-1} = (n-1)*dt\n",
    "    r         Constant (c dt/dx)\n",
    "    Output:\n",
    "    theta at time t_{n+1} = (n+1)*dt \"\"\"\n",
    "    theta_np1 = 2.0*(1-r*r)*theta_n - theta_nm1 + r*r*(np.roll(theta_n,1) + np.roll(theta_n,-1))\n",
    "    return theta_np1"
   ]
  },
  {
   "cell_type": "markdown",
   "metadata": {},
   "source": [
    "### Question 2(a)"
   ]
  },
  {
   "cell_type": "code",
   "execution_count": null,
   "metadata": {},
   "outputs": [],
   "source": [
    "wavelength = 1                  #m\n",
    "wavevector = 2*np.pi/wavelength # 1/m\n",
    "frequency = 1                   # Hz\n",
    "ang_freq = 2*np.pi*frequency    # 1/s\n",
    "speed = wavelength*frequency    # m/s\n",
    "\n",
    "# Define number of points in a wavelength and factor r\n",
    "N = 20\n",
    "r = 0.1\n",
    "# Initialise\n",
    "dx = wavelength/N\n",
    "dt = r*dx/speed\n",
    "# Set up physical domain of wavefunction, remembering that\n",
    "# np.arange excludes the final point (important!)\n",
    "q1_x = np.arange(0,3*wavelength,dx)"
   ]
  },
  {
   "cell_type": "code",
   "execution_count": null,
   "metadata": {},
   "outputs": [],
   "source": [
    "print(f\"dt is {dt:.5f}s\")\n",
    "theta_next = np.zeros_like(q1_x)\n",
    "# Initial conditions: wave at t=0...\n",
    "t = 0\n",
    "theta_0 = np.sin(wavevector*q1_x - ang_freq*t)\n",
    "# ...and t=dt\n",
    "t += dt\n",
    "theta_1 = np.sin(wavevector*q1_x - ang_freq*t)\n",
    "# Now step forward 200 steps without storing wave\n",
    "iters = 200\n",
    "for n in range(2,iters):\n",
    "    t += dt\n",
    "    # New theta\n",
    "    theta_next = explicit_wave_eq_update(theta_1,theta_0,r)\n",
    "    # Cycle storage\n",
    "    theta_0 = theta_1\n",
    "    theta_1 = theta_next"
   ]
  },
  {
   "cell_type": "markdown",
   "metadata": {},
   "source": [
    "### Question 2(b)\n",
    "\n",
    "Now plot the wave and the exact solution; below, we plot the difference to find out how large it is."
   ]
  },
  {
   "cell_type": "code",
   "execution_count": null,
   "metadata": {},
   "outputs": [],
   "source": [
    "plt.plot(q1_x,np.sin(wavevector*q1_x - ang_freq*dt*(iters-1)),label='Exact')\n",
    "plt.plot(q1_x,theta_next,label='Numerical')\n",
    "plt.legend()\n",
    "plt.xlabel('x in m')\n",
    "plt.ylabel(r'$\\theta$')\n",
    "plt.title('Wave propagation with r=0.1')"
   ]
  },
  {
   "cell_type": "code",
   "execution_count": null,
   "metadata": {},
   "outputs": [],
   "source": [
    "plt.plot(q1_x,np.sin(wavevector*q1_x - ang_freq*dt*(iters-1))-theta_next)\n",
    "plt.xlabel('x in m')\n",
    "plt.ylabel(r'$\\theta_{exact}$ - $\\theta_{num}$')\n",
    "plt.title('Difference between exact and numerical')"
   ]
  },
  {
   "cell_type": "markdown",
   "metadata": {},
   "source": [
    "These compare extremely well.  If we plot the difference (as above), it is around 2%.\n",
    "\n",
    "### Question 2(c)\n",
    "\n",
    "Now I show an example where we save the wave at all time points, and plot the resulting 2D array using `plt.imshow`."
   ]
  },
  {
   "cell_type": "code",
   "execution_count": null,
   "metadata": {},
   "outputs": [],
   "source": [
    "iters = 200\n",
    "# Set up storage for all time steps\n",
    "theta_store = np.zeros((iters+2,len(q1_x)))\n",
    "# Initial conditions: wave at t=0...\n",
    "t = 0\n",
    "theta_store[0] = np.sin(wavevector*q1_x - ang_freq*t)\n",
    "# ...and t=dt\n",
    "t += dt\n",
    "theta_store[1] = np.sin(wavevector*q1_x - ang_freq*t)\n",
    "# Now step forward 200 steps, storing wave at each step\n",
    "for n in range(2,iters+2):\n",
    "    t += dt\n",
    "    theta_store[n] = explicit_wave_eq_update(theta_store[n-1],theta_store[n-2],r)\n",
    "print(theta_store)\n",
    "# Plot using imshow\n",
    "plt.imshow(theta_store,origin='lower',extent=(0,3*wavelength,0,dt*iters))\n",
    "plt.colorbar(label='Amplitude(m)')\n",
    "plt.xlabel('x in m')\n",
    "plt.ylabel('t in s')\n",
    "plt.title('Wave propagation with r=0.1')"
   ]
  },
  {
   "cell_type": "markdown",
   "metadata": {},
   "source": [
    "The gradient of the stripes clearly gives the phase velocity; this gives a nice overview of the general behaviour of the wave, but quantitative information might be easier with ordinary line plots.\n",
    "\n",
    "### Question 2(d)\n"
   ]
  },
  {
   "cell_type": "code",
   "execution_count": null,
   "metadata": {},
   "outputs": [],
   "source": [
    "# Storage for Nr values of r\n",
    "Nr = 6\n",
    "store = np.zeros((Nr,len(q1_x)))\n",
    "endt = np.zeros(Nr)\n",
    "rvec = np.linspace(0.05,0.55,Nr)\n",
    "# Iterate over values of r\n",
    "for i, r in enumerate(rvec):\n",
    "    # Initialise\n",
    "    dt = r*dx/speed\n",
    "    t = 0\n",
    "    theta_0 = np.sin(wavevector*q1_x - ang_freq*t)\n",
    "    t += dt\n",
    "    theta_1 = np.sin(wavevector*q1_x - ang_freq*t)\n",
    "    iters = 203\n",
    "    for n in range(2,iters):\n",
    "        theta_next = explicit_wave_eq_update(theta_1,theta_0,r)\n",
    "        theta_0 = theta_1\n",
    "        theta_1 = theta_next\n",
    "    # Store final waveform and time for comparison\n",
    "    store[i] = np.copy(theta_next)\n",
    "    endt[i] = (iters-1)*dt\n",
    "for i in range(Nr):\n",
    "    dt = rvec[i]*dx/speed\n",
    "    # This line below calculates the numerical angular frequency: \n",
    "    # it is not actually the same as the actual angular frequency\n",
    "    # However this is a (very!) subtle point which goes beyond the\n",
    "    # course, so we don't describe it, and comment this out by default\n",
    "    # omega_num =  (2/dt)*np.arcsin(rvec[i]*np.sin(wavevector*0.5*dx))\n",
    "    omega_num = ang_freq \n",
    "    print(f\"Exact: {ang_freq}, numerical: {omega_num}\")\n",
    "    plt.plot(q1_x,store[i]-np.sin(wavevector*q1_x - omega_num*endt[i]),label=f'r={rvec[i]:.3f}')\n",
    "plt.legend()\n",
    "plt.xlabel('x in m')\n",
    "plt.ylabel(r'Error in $\\theta$')\n",
    "plt.title('Effect of varying r')"
   ]
  },
  {
   "cell_type": "markdown",
   "metadata": {},
   "source": [
    "This appears to be reasonable behaviour: as we increase the value of `r`, the accuracy decreases (though the computational effort required to reach a certain time will also decrease, because $dt$ will increase).  However, it is quite easy to find anomalous behaviour (e.g. I found that going from 190 to 200 to 210 iterations changes which method is accurate and which is not).\n",
    "\n",
    "What is happening here is that the phase velocity of the numerical solution is not quite equal to the phase velocity of the analytic solution, and will vary with `r`, so for large numbers of iterations we accumulate a phase shift between the numerical and analytic solutions; as we change the number of iterations, the phase shift for each value of `r` changes, moving the different solutions into and out of phase.\n",
    "\n",
    "The difference between the numerical and analytic phase velocities is reduced by increasing the number of points in a wave (i.e. reducing `dx`).  So you could increase this (`N=50` or `N=100` above) or reduce the number of iterations to 20.  Doing this enables us to check the effect of `r`.  (These notes are for your information: I would not expect you to reproduce this in an exam!)\n",
    "\n",
    "### Question 3\n",
    "\n",
    "This time, I will use the figure-based method of plotting, and add a subplot at each iteration."
   ]
  },
  {
   "cell_type": "code",
   "execution_count": null,
   "metadata": {},
   "outputs": [],
   "source": [
    "r = 0.1\n",
    "graph = 1\n",
    "# The argument tight_layout spaces the plots nicely\n",
    "fig_S3Q3 = plt.figure(tight_layout=True)\n",
    "ax_S3Q3 = []\n",
    "for N in (5,10,20,50):\n",
    "    ax_S3Q3.append(fig_S3Q3.add_subplot(2,2,graph))\n",
    "    # Initialise\n",
    "    dx = wavelength/N\n",
    "    q3_x = np.arange(0,3*wavelength,dx)\n",
    "    dt = r*dx/speed\n",
    "    t = 0\n",
    "    theta_0 = np.sin(wavevector*q3_x - ang_freq*t)\n",
    "    t += dt\n",
    "    theta_1 = np.sin(wavevector*q3_x - ang_freq*t)\n",
    "    iters = 200\n",
    "    for n in range(iters):\n",
    "        theta_next = explicit_wave_eq_update(theta_1,theta_0,r)\n",
    "        theta_0 = theta_1\n",
    "        theta_1 = theta_next\n",
    "    ax_S3Q3[graph-1].plot(q3_x,theta_next)\n",
    "    ax_S3Q3[graph-1].plot(q3_x,np.sin(wavevector*q3_x - ang_freq*dt*iters))\n",
    "    ax_S3Q3[graph-1].set_title(f'N={N}')\n",
    "    graph+=1\n",
    "ax_S3Q3[0].set_ylabel(\"Wave amplitude in m\")\n",
    "ax_S3Q3[2].set_ylabel(\"Wave amplitude in m\")\n",
    "ax_S3Q3[2].set_xlabel(\"Distance in m\")\n",
    "ax_S3Q3[3].set_xlabel(\"Distance in m\")\n",
    "fig_S3Q3.suptitle(\"Comparing accuracy for varying N\")"
   ]
  },
  {
   "cell_type": "markdown",
   "metadata": {},
   "source": [
    "Here we see that too small a number of points in $x$ is badly wrong, but even with a small number we do quite well.  For a quantitative discussion we would want to plot the *difference* between the analytic and numerical solutions.\n",
    "\n",
    "## 4. Two dimensions\n",
    "\n",
    "### Question 1\n",
    "\n",
    "Note that I've done the $x$ and $y$ derivatives separately to make it clearer, but this could easily be combined into `4.0*theta_n` for efficiency."
   ]
  },
  {
   "cell_type": "code",
   "execution_count": null,
   "metadata": {},
   "outputs": [],
   "source": [
    "def explicit_2D_wave_eq_update(theta_n, theta_nm1,r):\n",
    "    \"\"\"Update wave equation using simple finite difference \n",
    "    approach.  Assumes periodic boundary conditions.\n",
    "    Inputs: \n",
    "    theta_n   Wave at time t_n     = n*dt\n",
    "    theta_nm1 Wave at time t_{n-1} = (n-1)*dt\n",
    "    r         Constant (c dt/dx)\n",
    "    Output:\n",
    "    theta at time t_{n+1} = (n+1)*dt \"\"\"\n",
    "    theta_np1 = 2.0*theta_n - theta_nm1 + r*r*(np.roll(theta_n,1,axis=0) - # x axis\n",
    "                                               2.0*theta_n + np.roll(theta_n,-1,axis=0)\n",
    "                                      ) + r*r*(np.roll(theta_n,1,axis=1) - # y axis\n",
    "                                               2.0*theta_n + np.roll(theta_n,-1,axis=1))\n",
    "    return theta_np1"
   ]
  },
  {
   "cell_type": "markdown",
   "metadata": {},
   "source": [
    "### Question 2"
   ]
  },
  {
   "cell_type": "code",
   "execution_count": null,
   "metadata": {},
   "outputs": [],
   "source": [
    "# Define number of points\n",
    "N = 100\n",
    "# Initialise\n",
    "wavelength = 1 #m\n",
    "wavevector = 2*np.pi/wavelength\n",
    "frequency = 1 # Hz\n",
    "ang_freq = 2*np.pi*frequency\n",
    "speed = wavelength*frequency\n",
    "dx = wavelength/N # Also dy\n",
    "S4Q2_x = np.arange(0,3*wavelength,dx)\n",
    "S4Q2_y = np.arange(0,3*wavelength,dx)\n",
    "# Use np.meshgrid to make 2D arrays of x and y\n",
    "S4_x2d, S4_y2d = np.meshgrid(S4Q2_x,S4Q2_y)"
   ]
  },
  {
   "cell_type": "markdown",
   "metadata": {},
   "source": [
    "### Question 3\n",
    "\n",
    "Note that it's important to create the initial wave using the 2D $x$ and $y$ arrays generated by `np.meshgrid`, otherwise the initial wave won't be 2D."
   ]
  },
  {
   "cell_type": "code",
   "execution_count": null,
   "metadata": {},
   "outputs": [],
   "source": [
    "midy = 1.5*wavelength\n",
    "sigma = 1.0\n",
    "# Start with a sine wave in x, with Gaussian envelope in y\n",
    "t = 0\n",
    "theta_0 = np.sin(wavevector*S4_x2d - ang_freq*t)*np.exp(-(S4_y2d-midy)**2/sigma)\n",
    "# Now zero beyond 1m\n",
    "theta_0[:,N:] = 0.0\n",
    "theta_0[:,0] = 0.0\n",
    "theta_0[0] = 0.0\n",
    "theta_0[-1] = 0.0\n",
    "plt.imshow(theta_0,extent=(0,3,0,3))\n",
    "plt.colorbar()"
   ]
  },
  {
   "cell_type": "markdown",
   "metadata": {},
   "source": [
    "Let's also use the 3D plotting facility; note that you can set the view point using `ax.view_init(elevation, azimuth)`."
   ]
  },
  {
   "cell_type": "code",
   "execution_count": null,
   "metadata": {},
   "outputs": [],
   "source": [
    "fig_3d1 = plt.figure(tight_layout=True)\n",
    "ax3d1 = fig_3d1.add_subplot(111,projection='3d')\n",
    "surf = ax3d1.plot_surface(S4_x2d,S4_y2d,theta_0,cmap='viridis')\n",
    "ax3d1.set_xlabel('x')\n",
    "ax3d1.set_ylabel('y')\n",
    "ax3d1.set_zlabel(r'$\\theta$')\n",
    "# Notice how we can add a colorbar using the surface (what we want to colour) and \n",
    "# the axis (what we attach the colorbar to)\n",
    "fig_3d1.colorbar(surf,ax=ax3d1)\n",
    "ax3d1.view_init(50, 110)"
   ]
  },
  {
   "cell_type": "markdown",
   "metadata": {},
   "source": [
    "### Question 4"
   ]
  },
  {
   "cell_type": "code",
   "execution_count": null,
   "metadata": {},
   "outputs": [],
   "source": [
    "r = 0.2\n",
    "dt = r*dx/speed\n",
    "t += dt\n",
    "theta_1 = np.sin(wavevector*S4_x2d - ang_freq*t)*np.exp(-(S4_y2d-midy)**2/sigma)\n",
    "# Confine starting wave to left hand side\n",
    "theta_0[:,N:] = 0.0\n",
    "theta_1[:,N:] = 0.0\n",
    "theta_1[:,0] = 0.0\n",
    "# Boundary conditions at top and bottom\n",
    "theta_0[0,:] = 0.0\n",
    "theta_0[3*N-1,:] = 0.0\n",
    "theta_1[0,:] = 0.0\n",
    "theta_1[3*N-1,:] = 0.0\n",
    "iters = 100\n",
    "for n in range(iters):\n",
    "    # Update\n",
    "    theta_next = explicit_2D_wave_eq_update(theta_1,theta_0,r)\n",
    "    # Boundary conditions: hard walls at top & bottom\n",
    "    theta_next[0,:] = 0.0\n",
    "    theta_next[3*N-1,:] = 0.0\n",
    "    # Update\n",
    "    theta_0 = theta_1\n",
    "    theta_1 = theta_next"
   ]
  },
  {
   "cell_type": "code",
   "execution_count": null,
   "metadata": {},
   "outputs": [],
   "source": [
    "plt.imshow(theta_next,extent=(0,3,0,3))\n",
    "plt.colorbar()"
   ]
  },
  {
   "cell_type": "markdown",
   "metadata": {},
   "source": [
    "Notice how there is some small artefact near the top and bottom; this must come from the boundary conditions and the initial wave not quite being zero near the edges.\n",
    "\n",
    "### Question 5"
   ]
  },
  {
   "cell_type": "code",
   "execution_count": null,
   "metadata": {},
   "outputs": [],
   "source": [
    "iters = 1200\n",
    "figS4Q5 = plt.figure(figsize=(10,6),tight_layout=True)\n",
    "# Start with a sine wave in x, with Gaussian envelope in y\n",
    "t = 0\n",
    "theta_0 = np.sin(wavevector*S4_x2d - ang_freq*t)*np.exp(-(S4_y2d-midy)**2/sigma)\n",
    "# Now zero beyond 1m\n",
    "theta_0[:,N:] = 0.0\n",
    "theta_0[:,0] = 0.0\n",
    "theta_0[0] = 0.0\n",
    "theta_0[-1] = 0.0\n",
    "t += dt\n",
    "theta_1 = np.sin(wavevector*S4_x2d - ang_freq*t)*np.exp(-(S4_y2d-midy)**2/sigma)\n",
    "# Confine starting wave to left hand side\n",
    "theta_0[:,N:] = 0.0\n",
    "theta_1[:,N:] = 0.0\n",
    "theta_1[:,0] = 0.0\n",
    "# Boundary conditions at top and bottom\n",
    "theta_0[0,:] = 0.0\n",
    "theta_0[3*N-1,:] = 0.0\n",
    "theta_1[0,:] = 0.0\n",
    "theta_1[3*N-1,:] = 0.0\n",
    "index = 1\n",
    "for n in range(iters):\n",
    "    # Update\n",
    "    theta_next = explicit_2D_wave_eq_update(theta_1,theta_0,r)\n",
    "    # Boundary conditions: hard walls at top & bottom\n",
    "    theta_next[0] = 0.0\n",
    "    theta_next[-1] = 0.0\n",
    "    # Update\n",
    "    theta_0 = theta_1\n",
    "    theta_1 = theta_next\n",
    "    if n%100==0:\n",
    "        ax = figS4Q5.add_subplot(3,4,index)\n",
    "        image = ax.imshow(theta_next)\n",
    "        ax.set_title(f'N={n}')\n",
    "        figS4Q5.colorbar(image)\n",
    "        index+=1"
   ]
  },
  {
   "cell_type": "markdown",
   "metadata": {},
   "source": [
    "## 5. Time-dependent Schrodinger equation\n",
    "\n",
    "### Question 1\n",
    "\n",
    "Note that the value of `sigma` has a strong effect on the propagation; you might like to experiment if you have time."
   ]
  },
  {
   "cell_type": "code",
   "execution_count": null,
   "metadata": {},
   "outputs": [],
   "source": [
    "Nx = 401\n",
    "x = np.linspace(-100,100,Nx)\n",
    "k = 1\n",
    "sigma = 10.0\n",
    "x0 = -75.0\n",
    "psi0 = np.exp(1j*k*x)*np.exp(-(x-x0)**2/sigma**2)"
   ]
  },
  {
   "cell_type": "code",
   "execution_count": null,
   "metadata": {},
   "outputs": [],
   "source": [
    "plt.plot(x,psi0.real,label='real')\n",
    "plt.plot(x,psi0.imag,label='imaginary')\n",
    "plt.xlabel(\"Position in bohr radii\")\n",
    "plt.ylabel(\"Amplitude\")\n",
    "plt.title(\"Initial wavefunction\")\n",
    "plt.legend()"
   ]
  },
  {
   "cell_type": "markdown",
   "metadata": {},
   "source": [
    "### Question 2\n",
    "\n",
    "Create the matrices; notice how we add the array for V to the main diagonal.  The process for making the matrices is identical to the process we used in Session 5 for the heat/diffusion equation.  You could also make $\\mathbf{N}$ as the complex conjugate of $\\mathbf{M}$.  (It's always worth being very careful with complex matrices; these are symmetric, so we don't need to worry about Hermitian conjugates.)\n",
    "\n",
    "I've used `np.full` to generate the 1D arrays (it returns an array of given shape, filled with the value specified - check the help if you want more information) but you could equally well do something like `A*np.ones(N,dtype=complex)` for some appropriate `A`."
   ]
  },
  {
   "cell_type": "code",
   "execution_count": null,
   "metadata": {},
   "outputs": [],
   "source": [
    "def calc_M(N,zeta,V,dt):\n",
    "    \"\"\"Calculate matrix M for Crank-Nicolson solution of TDSE\n",
    "    Inputs: \n",
    "    N    size of matrix\n",
    "    zeta parameter\n",
    "    V    potential (array)\n",
    "    dt   time step\n",
    "    Outputs:\n",
    "    (NxN) matrix\"\"\"\n",
    "    maindiag = np.full(N,2.0*(2.0+1j*zeta)) + 2j*dt*V\n",
    "    offdiag = np.full(N-1,-1j*zeta)\n",
    "    output = np.diag(maindiag) + np.diag(offdiag,k=1) + np.diag(offdiag,k=-1)\n",
    "    return output"
   ]
  },
  {
   "cell_type": "code",
   "execution_count": null,
   "metadata": {},
   "outputs": [],
   "source": [
    "def calc_N(N,zeta,V,dt):\n",
    "    \"\"\"Calculate matrix N for Crank-Nicolson solution of TDSE\n",
    "    Inputs: \n",
    "    N    size of matrix\n",
    "    zeta parameter\n",
    "    V    potential (array)\n",
    "    dt   time step\n",
    "    Outputs:\n",
    "    (NxN) matrix\"\"\"\n",
    "    maindiag = np.full(N,2.0*(2.0-1j*zeta)) - 2j*dt*V\n",
    "    offdiag = np.full(N-1,1j*zeta)\n",
    "    output = np.diag(maindiag) + np.diag(offdiag,k=1) + np.diag(offdiag,k=-1)\n",
    "    return output"
   ]
  },
  {
   "cell_type": "markdown",
   "metadata": {},
   "source": [
    "### Question 3"
   ]
  },
  {
   "cell_type": "code",
   "execution_count": null,
   "metadata": {},
   "outputs": [],
   "source": [
    "V = np.zeros_like(x,dtype=complex)\n",
    "dx = 0.5\n",
    "dt = 0.1\n",
    "zeta = dt/(dx*dx)\n",
    "matM = calc_M(Nx,zeta,V,dt)\n",
    "matN = calc_N(Nx,zeta,V,dt)\n",
    "# Print matrices if you want to check\n",
    "#print(matM)\n",
    "#print(matN)\n",
    "matMinv = np.linalg.inv(matM)\n",
    "# Create boundary condition vector (the boundaries are set to zero)\n",
    "b = np.zeros(Nx,dtype=complex)\n",
    "matMinvN = np.dot(matMinv,matN)\n",
    "matMinvb = np.dot(matMinv,b) # Not strictly necessary as b is zero!\n"
   ]
  },
  {
   "cell_type": "markdown",
   "metadata": {},
   "source": [
    "### Question 4"
   ]
  },
  {
   "cell_type": "code",
   "execution_count": null,
   "metadata": {},
   "outputs": [],
   "source": [
    "iters = 1200\n",
    "psi0[0] = 0.0\n",
    "psi0[-1] = 0.0\n",
    "psi_this = np.copy(psi0)\n",
    "figS5Q4 = plt.figure(figsize=(10,6),tight_layout=True)\n",
    "index = 1\n",
    "for i in range(iters):\n",
    "    psi_next = matMinvb + np.dot(matMinvN,psi_this)\n",
    "    psi_this = psi_next\n",
    "    if i%100 == 0:\n",
    "        ax = figS5Q4.add_subplot(3,4,index)\n",
    "        ax.plot(x,psi_this.real)\n",
    "        ax.set_title(f\"i={i}\")\n",
    "        ax.set_ylim(-1,1) # Ensure consistent plot range for clarity\n",
    "        ax.set_xlabel('x')\n",
    "        ax.set_ylabel(r'$\\psi$')\n",
    "        index += 1"
   ]
  },
  {
   "cell_type": "markdown",
   "metadata": {},
   "source": [
    "Notice how the wavepacket spreads as it propagates: it is not an eigenfunction of the Hamiltonian, and so different frequencies will travel at different speeds, leading to a change in the shape of the wavepacket."
   ]
  },
  {
   "cell_type": "markdown",
   "metadata": {},
   "source": [
    "## 7. Time-independent Schrodinger equation\n",
    "\n",
    "### Question 1\n",
    "\n",
    "This is straightforward: we're just stepping along $x$ and using the formula:\n",
    "\n",
    "$$\\psi_{i} = 2\\psi_{i-1} + 2\\Delta x^{2}(V_{i-1} - E)\\psi_{i-1} - \\psi_{i-2}$$\n",
    "\n",
    "Note how the code is a direct implementation of this formula."
   ]
  },
  {
   "cell_type": "code",
   "execution_count": null,
   "metadata": {},
   "outputs": [],
   "source": [
    "def simple_FD_update(psi0,psi1,V,E,dx,Nx):\n",
    "    \"\"\"Perform simple integration for TISE based on \n",
    "    second-order FD expansion of differential.\n",
    "    \n",
    "    Inputs:\n",
    "    psi0   Value of wavefunction at first point\n",
    "    psi1   Value of wavefunction at second point\n",
    "    V      Array of potential values\n",
    "    E      Energy\n",
    "    dx     Spacing in x\n",
    "    Nx     Number of points in x (inc 0 and 1)\n",
    "    \n",
    "    Output:\n",
    "    psi         Array of values of wavefunction\n",
    "    \"\"\"\n",
    "    psi = np.zeros(Nx,dtype=complex)\n",
    "    psi[0] = psi0\n",
    "    psi[1] = psi1\n",
    "    for i in range(2,Nx):\n",
    "        psi[i] = 2.0*psi[i-1] + 2*dx*dx*(V[i-1]-E)*psi[i-1] - psi[i-2]\n",
    "    return psi"
   ]
  },
  {
   "cell_type": "markdown",
   "metadata": {},
   "source": [
    "### Question 2"
   ]
  },
  {
   "cell_type": "code",
   "execution_count": null,
   "metadata": {},
   "outputs": [],
   "source": [
    "dx = 0.01\n",
    "xmin = -5\n",
    "xmax = 5\n",
    "width = xmax - xmin\n",
    "# Set number of points so that we include both start and end\n",
    "Nx = int((xmax-xmin)/dx)+1\n",
    "x = np.linspace(xmin,xmax,Nx)\n",
    "# This is a zero potential (an infinite square well)\n",
    "V = np.zeros_like(x,dtype=complex)\n",
    "psi = np.zeros_like(x,dtype=complex)\n",
    "# psi0 is required for boundary conditions; psi1 is arbitrary\n",
    "psi0 = 0.0 + 0.0j\n",
    "psi1 = 0.1 + 0.0j"
   ]
  },
  {
   "cell_type": "markdown",
   "metadata": {},
   "source": [
    "### Question 3\n",
    "\n",
    "We note that we have been lucky (or informed!) in choosing guesses for the energy that clearly bracket a solution."
   ]
  },
  {
   "cell_type": "code",
   "execution_count": null,
   "metadata": {},
   "outputs": [],
   "source": [
    "E0 = 0.0\n",
    "E1 = 0.1\n",
    "out0 = simple_FD_update(psi0,psi1,V,E0,dx,Nx)\n",
    "out1 = simple_FD_update(psi0,psi1,V,E1,dx,Nx)\n",
    "plt.plot(x,out0.real,label=f'E={E0}')\n",
    "plt.plot(x,out1.real,label=f'E={E1}')\n",
    "plt.xlabel('x')\n",
    "plt.ylabel(r'$\\psi$')\n",
    "plt.title('Trial wavefunctions')\n",
    "plt.legend()"
   ]
  },
  {
   "cell_type": "markdown",
   "metadata": {},
   "source": [
    "### Question 4\n",
    "\n",
    "We're building on our existing brackets.  Note that $E$ is the independent variable, and the value of the wavefunction at the end of the box is the function we're trying to get to zero."
   ]
  },
  {
   "cell_type": "code",
   "execution_count": null,
   "metadata": {},
   "outputs": [],
   "source": [
    "# E0 and E1 defined above; here are the corresponding function values\n",
    "f0 = out0[-1]\n",
    "f1 = out1[-1]\n",
    "\n",
    "# I've used secant here; bisection is also fine (and a little easier to code)\n",
    "n = 0\n",
    "tol = 1e-4\n",
    "while abs(E1 - E0) > tol:\n",
    "    n += 1\n",
    "    # Calculate next point\n",
    "    dE = E1 - E0\n",
    "    df = f1 - f0\n",
    "    Enext = E1 - f1 * dE / df\n",
    "    # Update storage\n",
    "    E0 = E1\n",
    "    E1 = Enext\n",
    "    f0 = f1\n",
    "    f1 = simple_FD_update(psi0,psi1,V,E1,dx,Nx)[-1]\n",
    "# NB E0 becomes complex because it is calculated using f0 and f1\n",
    "print(f\"After {n} iterations, energy is {E0.real:.6e} Ha\")\n",
    "print(f\"Difference to exact energy is {E0.real-0.5*(np.pi/10)**2:.6e} Ha\")\n",
    "plt.plot(x,simple_FD_update(psi0,psi1,V,E0,dx,Nx).real)\n",
    "plt.xlabel(\"x in Bohr radii\")\n",
    "plt.ylabel(\"Amplitude\")\n",
    "plt.title(\"Ground state wavefunction (unnormalised)\")"
   ]
  },
  {
   "cell_type": "markdown",
   "metadata": {},
   "source": [
    "Note that we have not normalised the wavefunction; this is important in any practical applications, but is easy to do."
   ]
  },
  {
   "cell_type": "code",
   "execution_count": null,
   "metadata": {},
   "outputs": [],
   "source": []
  }
 ],
 "metadata": {
  "kernelspec": {
   "display_name": "Python 3 (ipykernel)",
   "language": "python",
   "name": "python3"
  },
  "language_info": {
   "codemirror_mode": {
    "name": "ipython",
    "version": 3
   },
   "file_extension": ".py",
   "mimetype": "text/x-python",
   "name": "python",
   "nbconvert_exporter": "python",
   "pygments_lexer": "ipython3",
   "version": "3.8.8"
  }
 },
 "nbformat": 4,
 "nbformat_minor": 2
}
