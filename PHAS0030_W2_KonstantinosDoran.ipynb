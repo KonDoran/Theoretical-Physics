{
 "cells": [
  {
   "cell_type": "markdown",
   "metadata": {},
   "source": [
    "# Optimisation algorithms on Quantum Harmonic Oscillator Energy functions\n",
    "## Konstantinos Doran SN:22007700\n",
    "### Introduction\n",
    "In this notebook I will be looking at the energy of a quantum harmonic oscillator (QHO) and finding its minimum eneergy using root finding methods and optimisation functions. First I will approach the oscillator in 1 dimension before expanding to a 2D model. This model has been simplified and uses atomic units, such that $\\hbar =  m_e = 1$\n",
    "The Hamiltonian of the QHO can be written as:\n",
    "$$\n",
    "\\hat{H} = -\\frac{1}{2}\\frac{d^2}{dx^2} +\\frac{1}{2}\\omega^2x^2\n",
    "$$\n",
    "Setting $\\omega=1$, we get the solution: \n",
    "$$\n",
    "\\psi(x) = (2\\alpha/\\pi)^{1/4}e^{-\\alpha x^2}\n",
    "$$"
   ]
  },
  {
   "cell_type": "code",
   "execution_count": 59,
   "metadata": {},
   "outputs": [],
   "source": [
    "# Importing matplotlib and numpy\n",
    "%matplotlib inline\n",
    "import numpy as np\n",
    "import matplotlib.pyplot as plt"
   ]
  },
  {
   "cell_type": "markdown",
   "metadata": {},
   "source": [
    "### Section on 1D QHO\n",
    "In this section I will find the minimum energy of the wavefunction using the bisection root finding technique to find the root of the derivative of the energy, given by the following equation:\n",
    "$$\n",
    "E_{GS} = \\frac{\\alpha}{2} + \\frac{1}{8\\alpha}\n",
    "$$\n",
    "Furthermore, $\\alpha$ is defined to be positive thus only the positive coordinates are plotted"
   ]
  },
  {
   "cell_type": "code",
   "execution_count": 2,
   "metadata": {},
   "outputs": [],
   "source": [
    "def bisection(fun,a,b,tol):\n",
    "    \"\"\"\n",
    "    Takes in function, two seperate points, and tolerance and bisects the points \n",
    "    until the root of the function is found, maximum iterations is reached, or tolerance reached.\n",
    "    Inputs:\n",
    "    fun  mathematical function that takes one input and returns one output. (function)\n",
    "    a    first value input into function (float/int)\n",
    "    b    second value input into function (float/int)\n",
    "    tol  tolerance value will dictate how precise a root the bisection will output (float)\n",
    "    Outputs:\n",
    "    n    iteration counter will give the number of iterations it took to find the root (int)\n",
    "    c    final value calculated from bisection, not guaranteed to be root (float)\n",
    "    \"\"\"\n",
    "    # Evaluate f(a) and f(b)\n",
    "    f_a = fun(a)\n",
    "    f_b = fun(b)\n",
    "    c = (a + b)/2\n",
    "    f_c = fun(c)\n",
    "    # Initialise counter\n",
    "    n = 0 \n",
    "    # Set max number of iterations\n",
    "    maxturns = 200\n",
    "    # Now an iterative loop\n",
    "    while (abs(a-b) > tol) and (n < maxturns):\n",
    "        # Calculate function at points\n",
    "        f_a = fun(a)\n",
    "        f_b = fun(b)\n",
    "        f_c = fun(c)\n",
    "        # Check if a and c values are same sign\n",
    "        if f_a*f_c > 0:\n",
    "            # Move point a to c\n",
    "            a = c\n",
    "            f_a = f_c\n",
    "        else:\n",
    "            # Move point b to c\n",
    "            b = c\n",
    "            f_b = f_c\n",
    "        # Calculate the new c \n",
    "        c = (a + b)/2\n",
    "        # Iterate counter\n",
    "        n = n + 1\n",
    "    # Return iterations and root\n",
    "    return n, c"
   ]
  },
  {
   "cell_type": "code",
   "execution_count": 3,
   "metadata": {},
   "outputs": [],
   "source": [
    "def QHO_E(alpha):\n",
    "    \"\"\"Energy function takes in value and calculates the energy of \n",
    "    a quantum harmonic oscillator for this value.\n",
    "    Inputs:\n",
    "    alpha    number \n",
    "    Outputs:\n",
    "    Energy   Energy of QHO \n",
    "    \"\"\"\n",
    "    Energy = alpha/2 + 1/(8*alpha)\n",
    "    return Energy # Energy"
   ]
  },
  {
   "cell_type": "code",
   "execution_count": 35,
   "metadata": {},
   "outputs": [
    {
     "name": "stderr",
     "output_type": "stream",
     "text": [
      "<ipython-input-35-11e6dd0294eb>:9: RuntimeWarning: divide by zero encountered in true_divide\n",
      "  grad = 1/2 -1/(8*np.square(alpha))\n"
     ]
    },
    {
     "data": {
      "image/png": "[encoded data removed]",
      "text/plain": [
       "<Figure size 432x288 with 1 Axes>"
      ]
     },
     "metadata": {
      "needs_background": "light"
     },
     "output_type": "display_data"
    }
   ],
   "source": [
    "def QHO_grad(alpha):\n",
    "    \"\"\"Gradient of the Energy function takes in values for alpha \n",
    "    and returns gradient for that value of alpha.\n",
    "    Inputs:\n",
    "    alpha number\n",
    "    Outputs:\n",
    "    grad  gradient of E for that value of alpha\n",
    "    \"\"\"\n",
    "    grad = 1/2 -1/(8*np.square(alpha))\n",
    "    return grad # dE/dalpha\n",
    "# Create array of alpha\n",
    "alpha = np.linspace(0,4,101)\n",
    "# Plot these values to identify root\n",
    "plt.plot(alpha,QHO_grad(alpha))\n",
    "# Add axis labels and title\n",
    "plt.xlabel(r\"$\\alpha$\")\n",
    "plt.ylabel(r\"$\\frac{dE}{d\\alpha}$\")\n",
    "plt.title(\"Gradient of Energy of QHO\")\n",
    "plt.grid()"
   ]
  },
  {
   "cell_type": "code",
   "execution_count": 44,
   "metadata": {},
   "outputs": [
    {
     "name": "stdout",
     "output_type": "stream",
     "text": [
      "There were 53 iterations and the minimum energy is at alpha = 0.5\n",
      "This results in a minimum energy of 0.5\n"
     ]
    }
   ],
   "source": [
    "# Define brackets and tolerance\n",
    "a = 0.25\n",
    "b = 0.75\n",
    "tolerance = 1e-16\n",
    "# Run bisection\n",
    "n, alpha = bisection(QHO_grad,a,b,tolerance) \n",
    "# Output result\n",
    "print(\"There were \"+str(n)+\" iterations and the minimum energy is at alpha =\",alpha)\n",
    "print(\"This results in a minimum energy of \"+str(QHO_E(alpha)))"
   ]
  },
  {
   "cell_type": "markdown",
   "metadata": {},
   "source": [
    "The bisection root function took 53 iterations to converge to an exact value of 0.5 for the minimum point of the Energy function which is a lot of iterations considering the bracket size was small and would be very slow if calculating the root of a function over a larger domain. This root finding method is inefficient although simple."
   ]
  },
  {
   "cell_type": "markdown",
   "metadata": {},
   "source": [
    "### Section on 2D QHO\n",
    "Now increasing the complexity of the model to 2D, the new wavefunction is:\n",
    "$$\n",
    "\\psi(x) = (2\\alpha/\\pi)^{1/4}e^{-\\alpha x^2}(2\\beta/\\pi)^{1/4}e^{-\\alpha y^2}\n",
    "$$\n",
    "and has energy:\n",
    "$$\n",
    "E_{GS} = \\frac{\\alpha}{2} + \\frac{1}{8\\alpha} + \\frac{\\beta}{2} + \\frac{1}{8\\beta}\n",
    "$$\n",
    "Where now we must use partial derivatives to find the minimum of the energy. I will now use the SciPy library to import the optimize.minimize function to calculate the minimum instead as it is more efficient for multi-dimensional optimisation. As both $\\alpha$ and $\\beta$ are positive I will plot only the positive quadrant for both. "
   ]
  },
  {
   "cell_type": "code",
   "execution_count": 46,
   "metadata": {},
   "outputs": [],
   "source": [
    "def QHO_2D_grad(x):\n",
    "    \"\"\"Vector gradient function for QHO. Takes 2D array of coordinates \n",
    "    as input and returns the vector gradient at the point as a 2D array \n",
    "    Inputs:\n",
    "    x       2D array of coordinates of the form (x,y)\n",
    "    Outputs:\n",
    "    vecgrad 2D array of the gradient at input coordinates\n",
    "    \"\"\"\n",
    "    # Remember that x[0] will be alpha and x[1] will be beta\n",
    "    grada = 0.5 - 1/(8*np.square(x[0]))\n",
    "    gradb = 0.5 - 1/(8*np.square(x[1]))\n",
    "    vecgrad = np.array([grada, gradb])\n",
    "    return vecgrad"
   ]
  },
  {
   "cell_type": "code",
   "execution_count": 7,
   "metadata": {},
   "outputs": [],
   "source": [
    "def QHO_2D_E(x):\n",
    "    \"\"\"Energy function of QHO. Takes 2D array of coordinates as \n",
    "    input and returns array of scalars at each point.\n",
    "    Inputs:\n",
    "    x       2D array of coordinates of the form (x,y)\n",
    "    Outputs:\n",
    "    Energy  2D array of energy value at input coordinates\n",
    "    \"\"\"\n",
    "    Energy = x[0]/2 + 1/(8*x[0]) + x[1]/2 + 1/(8*x[1])\n",
    "    return Energy"
   ]
  },
  {
   "cell_type": "code",
   "execution_count": 38,
   "metadata": {},
   "outputs": [
    {
     "data": {
      "text/plain": [
       "<matplotlib.colorbar.Colorbar at 0x1c806d9f8e0>"
      ]
     },
     "execution_count": 38,
     "metadata": {},
     "output_type": "execute_result"
    },
    {
     "data": {
      "image/png": "[encoded data removed]",
      "text/plain": [
       "<Figure size 432x288 with 2 Axes>"
      ]
     },
     "metadata": {
      "needs_background": "light"
     },
     "output_type": "display_data"
    }
   ],
   "source": [
    "# Create arrays for alpha and beta\n",
    "alpha = np.linspace(0.1,1,50)\n",
    "beta = np.linspace(0.1,1,50)\n",
    "# Convert into mesh grid\n",
    "alpha2D, beta2D = np.meshgrid(alpha,beta)\n",
    "grid = np.array([alpha2D,beta2D])\n",
    "# Plot energy \n",
    "plt.imshow(QHO_2D_E(grid),origin=\"lower\", extent=(0.1,1,0.1,1))\n",
    "plt.xlabel(r\"$\\alpha$\")\n",
    "plt.ylabel(r\"$\\beta$\")\n",
    "plt.title(\"Energy of QHO in 2D\")\n",
    "plt.colorbar()"
   ]
  },
  {
   "cell_type": "code",
   "execution_count": 50,
   "metadata": {},
   "outputs": [],
   "source": [
    "# Import scipy optimize function\n",
    "from scipy import optimize\n",
    "# Arbitrary starting point\n",
    "x0 = np.array([0.3, 0.4])\n",
    "opt_result = optimize.minimize(QHO_2D_E , x0, method='CG', jac= QHO_2D_grad) # Fill in appropriate functions for 1st and 4th arguments"
   ]
  },
  {
   "cell_type": "code",
   "execution_count": 58,
   "metadata": {},
   "outputs": [
    {
     "name": "stdout",
     "output_type": "stream",
     "text": [
      "Minimum point at: [0.50000017 0.5       ] Number of iterations: 5\n",
      "The optimisation was successful:True\n",
      "The minimum energy is: 1.00000000000003\n"
     ]
    }
   ],
   "source": [
    "# Print resulting minimum, number of iterations using opt_result.x etc\n",
    "print(\"Minimum point at:\",opt_result.x, \"Number of iterations:\", opt_result.nit)\n",
    "# Confirm whether the optimisation was successful\n",
    "print(\"The optimisation was successful:\"+str(opt_result.success))\n",
    "print(\"The minimum energy is:\", QHO_2D_E(opt_result.x))"
   ]
  },
  {
   "cell_type": "markdown",
   "metadata": {},
   "source": [
    "### Conclusions\n",
    "Evidently the minimisation algorithm that uses Conjugate gradients was far more efficient. It found the minimum energy within 5 iterations, thus proving as a superior alternative compared to bisection, even in 1D it was slower. Plotting the energy was also very helpful in deciding what point I should start at."
   ]
  }
 ],
 "metadata": {
  "kernelspec": {
   "display_name": "Python 3",
   "language": "python",
   "name": "python3"
  },
  "language_info": {
   "codemirror_mode": {
    "name": "ipython",
    "version": 3
   },
   "file_extension": ".py",
   "mimetype": "text/x-python",
   "name": "python",
   "nbconvert_exporter": "python",
   "pygments_lexer": "ipython3",
   "version": "3.8.8"
  }
 },
 "nbformat": 4,
 "nbformat_minor": 2
}
