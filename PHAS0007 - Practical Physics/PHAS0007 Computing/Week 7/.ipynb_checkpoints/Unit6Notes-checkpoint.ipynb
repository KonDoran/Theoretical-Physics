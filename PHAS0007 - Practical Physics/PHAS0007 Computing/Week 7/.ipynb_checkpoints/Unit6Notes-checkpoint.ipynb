{
 "cells": [
  {
   "cell_type": "markdown",
   "metadata": {},
   "source": [
    "## PHAS0007 Computing Unit 6: Functions, while loops and applications\n",
    "\n",
    "Authors: Dr Louise Dash, Dr Rebecca Chislett and Dr Ben Waugh\n",
    "\n",
    "Last updated 2022-11-14"
   ]
  },
  {
   "cell_type": "markdown",
   "metadata": {},
   "source": [
    "## Intended learning outcomes\n",
    "\n",
    "At the end of this module, you should\n",
    "- be able to define and use your own Python functions;\n",
    "- be able to use a combination of loops and comparison/conditional operators to _iterate_ processes so that we can converge on a solution;\n",
    "- be aware of some of the problems that can arise when you try and do this in practice; \n",
    "- understand some implications for computational physics research problems."
   ]
  },
  {
   "cell_type": "markdown",
   "metadata": {},
   "source": [
    "## Introduction\n",
    "\n",
    "In earlier modules we have met two different ways of controlling the flow of a program:-\n",
    "- The **for loop** is a way of repeating the same code a given number of times, or once for each element in an array.\n",
    "- The **if statement** which lets us execute different code depending on some condition, such as the value of a variable.\n",
    "\n",
    "We have also learned how to simplify our code by making use of **functions** provided as part of the Python language or defined by packages like NumPy.\n",
    "\n",
    "In this module we will learn two more ways we can repeat the same operations without duplicating the code that implements them:-\n",
    "- Write our **own function** to define an operation, so that it can be carried out whenever and wherever needed.\n",
    "- A **while loop** enables us to keep repeating the same piece of code until some condition is met, without knowing ahead of time how many times we will need to go round the loop."
   ]
  },
  {
   "cell_type": "markdown",
   "metadata": {},
   "source": [
    "## Functions\n",
    "\n",
    "The key advantage of functions is that they make the structure of our code clearer, and avoid repetition. Instead of writing multiple lines of code every time we want to e.g. calculate the trajectory of an asteroid, we can we can define a function once and then call it whenever we want to carry out that task.\n",
    "\n",
    "### Calling functions\n",
    "\n",
    "You have already used many functions in Python, and the unit 2 notes include a brief section on how they work."
   ]
  },
  {
   "cell_type": "markdown",
   "metadata": {},
   "source": [
    "### Defining functions\n",
    "\n",
    "There are many useful functions available in Python packages. In fact, one of the reasons for Python's popularity is the wide range of packages that make it easier to tackle tasks in particular domains, whether in scientific programming, financial computing, web application development or many other areas. However, when you want to solve a more complex problem you will inevitably find that you need to use more than one of these functions, and do some of your own calculations to combine and present the results.\n",
    "\n",
    "Writing your own functions is also a way of making your code easier to understand, test and use. Repeating the same code in more than one place means there is more code to write, more code to read, and more chance of mistakes occurring and not being noticed. This becomes more obvious as you start to tackle more complex tasks, such as the least-squares fitting you did in unit 4.\n",
    "\n",
    "Let's start with a simpler example though. In task 1.2 you wrote some code to calculate the value of a particular Legendre polynomial for a given value of x:\n",
    "\n",
    "$$\n",
    "f(x) = \\frac{1}{8} \\left( 35 x^4 - 30 x^2 + 3 \\right)\n",
    "$$\n",
    "\n",
    "You probably wrote something like this:"
   ]
  },
  {
   "cell_type": "code",
   "execution_count": 1,
   "metadata": {},
   "outputs": [
    {
     "name": "stdout",
     "output_type": "stream",
     "text": [
      "f(1.41) = 10.211994543749995\n"
     ]
    }
   ],
   "source": [
    "x = 1.41\n",
    "y = (35 * x**4 - 30 * x**2 + 3)/8\n",
    "print(f\"f({x}) = {y}\")"
   ]
  },
  {
   "cell_type": "markdown",
   "metadata": {},
   "source": [
    "In task 5.2 you did something similar but the input was a NumPy array instead of a single value of x.\n",
    "\n",
    "But if you wanted to calculate the same polynomial for many different values or arrays of x values, you would not want to retype or copy and paste the code every time. This is where defining a function is useful:"
   ]
  },
  {
   "cell_type": "code",
   "execution_count": 2,
   "metadata": {},
   "outputs": [],
   "source": [
    "def legendre4(x):\n",
    "    \"\"\"Calculates the 4th-order Legendre polynomial for input x.\"\"\"\n",
    "    y = (35 * x**4 - 30 * x**2 + 3)/8\n",
    "    return y"
   ]
  },
  {
   "cell_type": "markdown",
   "metadata": {},
   "source": [
    "Let's look at this to understand how it works:-\n",
    "- The first line defines the **name** of the function (in this case `legendre4`) and includes the **arguments** (inputs) in brackets. In this case there is just one argument `x`.\n",
    "- The first line ends with a colon, like an if statement or a for loop.\n",
    "- The following lines are indented (also like an if statement or for loop) to show that they are part of the function.\n",
    "- The second line is a **docstring** (documentation string) which explains the purpose of the function. This is important, but we will explain it in more detail shortly.\n",
    "- The third line is the definition of the function itself. In this simple example we need only one line of code, but you can include as many lines as are needed.\n",
    "- The final line contains the keyword `return`: this tells Python to return the following value as the output of the function.\n",
    "\n",
    "We can now call our function with any input value we choose, and report the returned value or use it in further calculations:"
   ]
  },
  {
   "cell_type": "code",
   "execution_count": 3,
   "metadata": {},
   "outputs": [
    {
     "name": "stdout",
     "output_type": "stream",
     "text": [
      "f(0) = 0.375; f(1) = 1.0\n",
      "Mean is 0.6875\n"
     ]
    }
   ],
   "source": [
    "y0 = legendre4(0)\n",
    "y1 = legendre4(1)\n",
    "print(f\"f(0) = {y0}; f(1) = {y1}\")\n",
    "print(f\"Mean is {(y0+y1)/2}\")"
   ]
  },
  {
   "cell_type": "markdown",
   "metadata": {},
   "source": [
    "Note that we don't refer to `x` at all in calling the function: this is the name of the **local** variable, which is used to refer to the argument **within** the function. When we call the function we can simply pass a number (as above) or we can use a variable that doesn't need to (but can) be called `x`."
   ]
  },
  {
   "cell_type": "code",
   "execution_count": 4,
   "metadata": {},
   "outputs": [
    {
     "name": "stdout",
     "output_type": "stream",
     "text": [
      "f(x) = 0.3379375; f(theta) = 0.23199999999999998\n"
     ]
    }
   ],
   "source": [
    "x = 0.1\n",
    "theta = 0.2\n",
    "print(f\"f(x) = {legendre4(x)}; f(theta) = {legendre4(theta)}\")"
   ]
  },
  {
   "cell_type": "markdown",
   "metadata": {},
   "source": [
    "### Using NumPy arrays\n",
    "\n",
    "In our examples above, we passed a single number as an input each time we called our function, and received a single number as ouput. When our function represents a mathematical calculation, we often want to apply it to many values at once, and NumPy lets us do this without any further work in many cases. A NumPy array can also be passed as input almost anywhere where a single value can be used, and the function will return a NumPy array with the corresponding output values. This means we can easily plot our function:"
   ]
  },
  {
   "cell_type": "code",
   "execution_count": 5,
   "metadata": {},
   "outputs": [
    {
     "data": {
      "image/png": "[encoded data removed]",
      "text/plain": [
       "<Figure size 432x288 with 1 Axes>"
      ]
     },
     "metadata": {
      "needs_background": "light"
     },
     "output_type": "display_data"
    }
   ],
   "source": [
    "# Set things up for plotting\n",
    "%matplotlib inline\n",
    "import matplotlib.pyplot as plt\n",
    "import numpy as np\n",
    "\n",
    "# Prepare arrays for plotting\n",
    "xplot = np.linspace(-1,1,501)  # suitable number of points for a smooth curve in the range [-1,1]\n",
    "yleg4 = legendre4(xplot)       # 4th-order Legendre polynomial, with x array as input\n",
    "\n",
    "# Present the results\n",
    "plt.figure()\n",
    "plt.plot(xplot,yleg4)\n",
    "plt.title(\"The 4th-order Legendre polynomial\")\n",
    "plt.xlabel('$x$')\n",
    "plt.ylabel('$P_4(x)$')\n",
    "plt.grid()"
   ]
  },
  {
   "cell_type": "markdown",
   "metadata": {},
   "source": [
    "### Docstrings\n",
    "\n",
    "Now let's look in more detail at the **docstring**, the second line in our function above:\n",
    "- It is enclosed by three pairs of quotation marks, and can extend over multiple lines, although in this case it is only a single line.\n",
    "- The docstring fulfils a similar role to a comment, in that it explains to a human user what the purpose of the function is, and what the input and output represent. For more complicated functions, additional comments are likely to be needed within the body of the function too.\n",
    "- The docstring has an additional role: it will be displayed as a help message, which is useful if we forget what our function does, or need a reminder of how to use it:"
   ]
  },
  {
   "cell_type": "code",
   "execution_count": 6,
   "metadata": {},
   "outputs": [
    {
     "name": "stdout",
     "output_type": "stream",
     "text": [
      "Help on function legendre4 in module __main__:\n",
      "\n",
      "legendre4(x)\n",
      "    Calculates the 4th-order Legendre polynomial for input x.\n",
      "\n"
     ]
    }
   ],
   "source": [
    "help(legendre4)"
   ]
  },
  {
   "cell_type": "markdown",
   "metadata": {},
   "source": [
    "* **All functions that you write should include a docstring.**"
   ]
  },
  {
   "cell_type": "markdown",
   "metadata": {},
   "source": [
    "### Example: the Rydberg formula\n",
    "\n",
    "In the revision week task before reading week, you were asked to calculate the wavelength of several different spectral lines using the Rydberg formula. We hadn't covered functions yet, but this would be an excellent opportunity to use one, something like this:-"
   ]
  },
  {
   "cell_type": "code",
   "execution_count": 7,
   "metadata": {},
   "outputs": [
    {
     "name": "stdout",
     "output_type": "stream",
     "text": [
      "The first few wavelengths in the Balmer series are:\n",
      "  1: 656 nm\n",
      "  2: 486 nm\n",
      "  3: 434 nm\n",
      "  4: 410 nm\n"
     ]
    }
   ],
   "source": [
    "def rydberg(n1, n2):\n",
    "    \"\"\"\n",
    "    Calculate the wavelength (in nm) of the radiation from the transition between energy\n",
    "    levels n1 and n2 of a hydrogen atom. We assume that n2 > n1.\n",
    "    \"\"\"\n",
    "    rh = 1.09677583e7                          # Rydberg constant for hydrogen (m^-1)\n",
    "    inv_wavelength = rh * (1/n1**2 - 1/n2**2)  # 1/lambda (m^-1)\n",
    "    wavelength = 1/inv_wavelength              # lambda (m)\n",
    "    wavelength_nm = wavelength * 1e9           # convert to nm\n",
    "    return wavelength_nm\n",
    "\n",
    "print(\"The first few wavelengths in the Balmer series are:\")\n",
    "for i in range(1,5):\n",
    "    m = i+2  # using n1=2 for Balmer, so add line number to this\n",
    "    wavelength = rydberg(2,m)  # get wavelength in nm\n",
    "    print(f\"  {i}: {wavelength:.0f} nm\")"
   ]
  },
  {
   "cell_type": "markdown",
   "metadata": {},
   "source": [
    "### Returning more than one value\n",
    "\n",
    "Sometimes we would like to get more than one piece of information as the output of a given function. You have in fact already seen this in the supplementary notebook for the mid-term assessment: the `polyfit` function returns two arrays, one containing the parameter values and one the covariance matrix:\n",
    "\n",
    "    fit, cvm = np.polyfit(x,y,degree,cov=True)\n",
    "    \n",
    "You will define your own function that does something similar in the assignment for this module, but let's start with a simpler but rather artificial example. Suppose we want to find both the square and cube of any given number, without calling two separate functions. We can do it like this:"
   ]
  },
  {
   "cell_type": "code",
   "execution_count": 8,
   "metadata": {},
   "outputs": [
    {
     "name": "stdout",
     "output_type": "stream",
     "text": [
      "Square is 4, cube is 8.\n"
     ]
    }
   ],
   "source": [
    "def square_and_cube(x):\n",
    "    \"\"\"Calculate the square and cube of the input value x.\"\"\"\n",
    "    x2 = x**2\n",
    "    x3 = x**3\n",
    "    return x2, x3\n",
    "\n",
    "value2, value3 = square_and_cube(2)\n",
    "print(f\"Square is {value2}, cube is {value3}.\")"
   ]
  },
  {
   "cell_type": "markdown",
   "metadata": {},
   "source": [
    "How does this work? You don't need to know this to use it, but we will explain in case you are interested or find it useful later on.\n",
    "\n",
    "In fact a function can only *really* return one value, but that value can be something more complicated than just a number. We have in fact already used many NumPy functions that return arrays of many numbers. In this case, what is returned is actually a **tuple** containing the two numbers: a tuple behaves very much like a list or array, but its contents cannot be changed after it has been created. The two numbers are automatically **packed** into a tuple, and can be **unpacked** by assigning the return value to the appropriate number of variables:"
   ]
  },
  {
   "cell_type": "code",
   "execution_count": 9,
   "metadata": {},
   "outputs": [
    {
     "name": "stdout",
     "output_type": "stream",
     "text": [
      "The return value is a <class 'tuple'>: (9, 27).\n",
      "The first element is 9 and the second element is 27.\n",
      "Unpacked results: 9, 27.\n"
     ]
    }
   ],
   "source": [
    "results = square_and_cube(3)\n",
    "print(f\"The return value is a {type(results)}: {results}.\")\n",
    "print(f\"The first element is {results[0]} and the second element is {results[1]}.\")\n",
    "\n",
    "result1, result2 = results\n",
    "print(f\"Unpacked results: {result1}, {result2}.\")"
   ]
  },
  {
   "cell_type": "markdown",
   "metadata": {},
   "source": [
    "## The while loop\n",
    "\n",
    "The for loop is used when we want to carry out the same operation using each element of an array in turn, or we know how many times we want to repeat the same operation. Often this is not the case though: we may want to keep repeating some code until some other criterion is met. For example, we might need to keep trying until we get some valid input:"
   ]
  },
  {
   "cell_type": "code",
   "execution_count": 10,
   "metadata": {},
   "outputs": [
    {
     "name": "stdout",
     "output_type": "stream",
     "text": [
      "Enter an integer in the range [1,10]: 11\n",
      "Enter an integer in the range [1,10]: 0\n",
      "Enter an integer in the range [1,10]: 2\n",
      "The value is 2\n"
     ]
    }
   ],
   "source": [
    "# We need an integer in the range [1,10] from the user.\n",
    "value = 0                                                        # start with an invalid value\n",
    "while ((value < 1) or (value > 10)):                             # repeat until we get a valid value\n",
    "    value = int(input(\"Enter an integer in the range [1,10]: \")) # prompt user for new value\n",
    "print(f\"The value is {value}\")"
   ]
  },
  {
   "cell_type": "markdown",
   "metadata": {},
   "source": [
    "### How does a while loop work?\n",
    "\n",
    "* The first line has the keyword `while` followed by a **condition**, which is a boolean expression, i.e. something that can have the value `True` or `False`.\n",
    "* As in the `for` loop, the first line ends with a colon, and the block of code to be repeated in the loop is indented.\n",
    "* The indented code will be repeated **while** the condition in the first line is true.\n",
    "* When the condition is false, the indented code will not be executed any more, and the program will continue from the next non-indented line.\n",
    "\n",
    "Let's look at a simple example to increment the value of a variable from 1 to 10. You can run the below cell, and then try changing the condition in the while loop and see what effect this has."
   ]
  },
  {
   "cell_type": "code",
   "execution_count": 11,
   "metadata": {},
   "outputs": [
    {
     "name": "stdout",
     "output_type": "stream",
     "text": [
      "0\n",
      "1\n",
      "2\n",
      "3\n",
      "4\n",
      "5\n",
      "6\n",
      "7\n",
      "8\n",
      "9\n",
      "10\n",
      "We counted to 10!\n"
     ]
    }
   ],
   "source": [
    "x = 0 # initialise x\n",
    "\n",
    "while x <= 10: # start the loop, \n",
    "    # and continue looping until x becomes greater than 10\n",
    "    print(x)   # print the current value of x\n",
    "    x = x + 1  # increment x\n",
    "    \n",
    "print(\"We counted to 10!\")"
   ]
  },
  {
   "cell_type": "markdown",
   "metadata": {},
   "source": [
    "Let's analyse this more closely. The condition on the loop is `x <= 10`, so as long as the value of x is less than or equal to 10, the indented block of code will repeat. As soon as x is greater than 10, Python will skip to the first line of *unindented* code, which will print out \"We counted to 10!\" \n",
    "\n",
    "Within the indented block, we have just two lines of code in this case. The first prints the current value of x, but look carefully at the second line. \"x = x + 1\" takes the current value of x, adds one to it, and replaces the old value of x with the new one. This is, as we'll see, very useful to act as a loop counter.\n",
    "\n",
    "You'll also sometimes see this written as `x += 1`, which is more compact but does the same. You can use whichever form you prefer, but you should be aware of both options since you will see them in code written by other people.\n",
    "\n",
    "There are two extra things to be aware of when using a `while` loop:\n",
    "\n",
    "- if the condition is always true, e.g. `x` is not incremented in the above example so it never reaches 10, we have an \"infinite loop\" and the code will never stop (until you notice the problem and interrupt the kernel);\n",
    "- if the condition is already false at the beginning, the loop will never be executed at all:"
   ]
  },
  {
   "cell_type": "code",
   "execution_count": 12,
   "metadata": {},
   "outputs": [
    {
     "name": "stdout",
     "output_type": "stream",
     "text": [
      "Final value is 4\n"
     ]
    }
   ],
   "source": [
    "a = 4\n",
    "while a < 3:\n",
    "    print(\"Value is too small, doubling it.\")\n",
    "    a = a * 2\n",
    "print(f\"Final value is {a}\")"
   ]
  },
  {
   "cell_type": "markdown",
   "metadata": {},
   "source": [
    "## Practical applications: iteration and convergence"
   ]
  },
  {
   "cell_type": "markdown",
   "metadata": {},
   "source": [
    "Being able to count to ten is good, but we (most of us) can do this on our fingers, so let's look at some more advanced applications.\n",
    "\n",
    "One of the most practical applications of this in Physics is when we want to iterate a procedure until it meets some kind of convergence criterion. To show this we'll look at a simple series: Imagine that we want to calculate a decimal value of 1/3. Of course the simplest way of doing this is to just divide 1 by 3, but that's not very exciting. Instead we'll use a series expansion:\n",
    "\n",
    " $$\\frac{1}{3} = \\frac{3}{10} + \\frac{3}{100} + \\frac{3}{1000} + \\ldots $$\n",
    "\n",
    " $$\\qquad = \\sum_{n=1}^{\\infty} \\frac{3}{10^n} $$\n",
    "\n",
    "We can implement this in a loop with this basic structure:"
   ]
  },
  {
   "cell_type": "markdown",
   "metadata": {},
   "source": [
    "          while <some_condition>:\n",
    "             value = value + 3*10**(-n)\n",
    "             n = n + 1"
   ]
  },
  {
   "cell_type": "markdown",
   "metadata": {},
   "source": [
    "What condition should we use on the loop?  We could just use a fixed number of iterations, for example `while n < 10`. But this does not guarantee convergence to a defined precision, which is generally what we want.\n",
    "\n",
    "Instead, it's more useful to exit the loop when some precision is achieved, for instance when the summation is converged to 8 decimal places. (Obviously, in order to do this, we first need to be certain that the series does actually converge mathematically. If the summation diverges, no amount of brilliant coding will generate a useful result!)\n",
    "\n",
    "If this is OK, then we could look at the size of the final term in the series - is this smaller than our precision tolerance? If so, then our series is likely to have converged to within requirements. (See the separate document on Moodle if you want a more mathematically rigorous justification of this.)\n",
    "\n",
    "The code we worked through in the screencast ended up like this:"
   ]
  },
  {
   "cell_type": "code",
   "execution_count": 3,
   "metadata": {},
   "outputs": [
    {
     "name": "stdout",
     "output_type": "stream",
     "text": [
      " n is 1 : Adding  0.30000000000000004  to our sum...\n",
      " n is 2 : Adding  0.03  to our sum...\n",
      " n is 3 : Adding  0.003  to our sum...\n",
      " n is 4 : Adding  0.00030000000000000003  to our sum...\n",
      " n is 5 : Adding  3.0000000000000004e-05  to our sum...\n",
      " n is 6 : Adding  3e-06  to our sum...\n",
      " n is 7 : Adding  3e-07  to our sum...\n",
      " n is 8 : Adding  3.0000000000000004e-08  to our sum...\n",
      " n is 9 : Adding  3.0000000000000004e-09  to our sum...\n",
      " n is 10 : Adding  3e-10  to our sum...\n",
      " n is 11 : Adding  3e-11  to our sum...\n",
      "Our value is calculated as 0.3333333333300001\n",
      "We used  11  terms in the series\n"
     ]
    }
   ],
   "source": [
    "# sample code for series summation example\n",
    " \n",
    "tolerance = 1e-10   # the precision we require\n",
    "n = 1               # initialize the counter\n",
    "newterm = 1         # any number will do here as long as it is > tolerance\n",
    "value = 0           # initialize the value of the summation\n",
    "\n",
    "while newterm > tolerance:\n",
    "    newterm = 3 * 10**(-n)  # calculate next term in the series\n",
    "    print(\" n is\", n, \": Adding \", newterm, \" to our sum...\")\n",
    "    value = value + newterm # add it to our running total\n",
    "    n = n + 1               # increment the loop counter    \n",
    "print(\"Our value is calculated as\", value)\n",
    "print(\"We used \", n-1, \" terms in the series\") # n-1 terms were used - can you see why?"
   ]
  },
  {
   "cell_type": "markdown",
   "metadata": {},
   "source": [
    "This will terminate the series when the final term is less than 1e-10, meaning the value of 1/3 we obtain is likely to be accurate to at least 10 decimal places."
   ]
  },
  {
   "cell_type": "markdown",
   "metadata": {},
   "source": [
    "## Task 6.2: The Madhava approximation of $\\pi$"
   ]
  },
  {
   "cell_type": "markdown",
   "metadata": {},
   "source": [
    "**You are advised to read through *all* of this section before starting to code!**\n",
    "\n",
    "The Madhava series is a formula for calculating $\\pi/4$:\n",
    "\n",
    "$$ \n",
    "\\frac{\\pi}{4} =\\sum_{n=0}^\\infty \\frac{(−1)^n}{2n+1}\n",
    "$$\n",
    "\n",
    "This series is believed to have been discovered by the fourteenth century Keralan mathematician [Madhava of Sangamagrama](https://en.wikipedia.org/wiki/Madhava_of_Sangamagrama), \"rediscovered\" in 1668 by the Scottish mathematician [James Gregory](https://en.wikipedia.org/wiki/James_Gregory_(mathematician)), and \"re-rediscovered\" a few years after that by [Gottfried Leibniz](https://en.wikipedia.org/wiki/Gottfried_Wilhelm_Leibniz), who ended up getting most of the credit for it.\n",
    "\n",
    "Your task is to write a function to calculate this series to a given convergence tolerance, and investigate how it behaves.\n",
    "\n",
    "### Part A\n",
    "\n",
    "1. Create a Jupyter notebook, with a suitable title, and an introduction.\n",
    "2. Define a function that will calculate an approximation of $\\pi/4$ by summing the Madhava series using a while loop, stopping when the latest term is less than or equal to a given tolerance. You should be able to use your function like this, although you should choose a better name:\n",
    "\n",
    "        pi_over_4_3dp = myfunction(1e-3)\n",
    "      \n",
    "3. Test your code with various tolerance values between $10^{-1}$  and $10^{-7}$, in each case calculating the accuracy, i.e. the difference between your calculated value and the value of $\\pi/4$ provided by NumPy.\n",
    "4. Are we justified in claiming that our result is accurate to $n$ decimal places for a tolerance of $10^{-n}$? Explain your reasoning briefly in a text cell."
   ]
  },
  {
   "cell_type": "markdown",
   "metadata": {},
   "source": [
    "### Part B\n",
    "\n",
    "1. Define a second function by copying and adapting the function from part 1. This function will take a tolerance value as an argument, as before, but will return two values:\n",
    "  - the corresponding approximation to $\\pi/4$;\n",
    "  - the number of terms of the Madhava series that were added to find this approximation.\n",
    "2. You should be able to use your new function like this, although again you should choose a better name:\n",
    "\n",
    "        pi_over_4, num_terms = myfunction2(1e-3)\n",
    "\n",
    "3. Test your code with the same tolerance values you used in part 1, in each case printing the accuracy and the number of terms.\n",
    "4. Use the `%%time` Jupyter \"magic\" function (or another approach) to find out how long it takes to calculate the result in each case. (See the example below for how to do this, although you may remember it from an earlier assignment.)\n",
    "5. Estimate, using appropriate/sensible units, how long it would take your code to calculate $\\pi/4$ to\n",
    "  1. 16 decimal places: the same precision NASA uses in its calculations; \n",
    "  2. 32 decimal places: the precision that the National Institute for Standards and Technology (NIST) use in their calculations for determining the [CODATA](https://physics.nist.gov/cuu/Constants/index.html) values of fundamental physical constants such as $\\hbar$. (See, for example,  https://blogs.scientificamerican.com/observations/how-much-pi-do-you-need/.)         \n",
    "6. Write a conclusion explaining how you extrapolated the results, and whether or not you think this method is a good [algorithm](https://en.wikipedia.org/wiki/Algorithm) for calculating $\\pi$.\n",
    "\n"
   ]
  },
  {
   "cell_type": "markdown",
   "metadata": {},
   "source": [
    "### Hints \n",
    "\n",
    "- What kind of series is this? Try calculating the first few terms by hand using pen and paper, and compare these with the first few terms that your code outputs. If they don't match up, can you see why?\n",
    "- If you need to stop your code before it finishes the calculation, press the red square \"stop button\" at the top right of the IPython console pane.\n",
    "- To estimate the time needed to calculate $\\pi/4$ to a given precision, you will need to think about what it is that determines the time taken, and how to extrapolate this.\n",
    "- This is how to use the `%%time` function:"
   ]
  },
  {
   "cell_type": "code",
   "execution_count": 14,
   "metadata": {},
   "outputs": [
    {
     "name": "stdout",
     "output_type": "stream",
     "text": [
      "CPU times: user 20 µs, sys: 3 µs, total: 23 µs\n",
      "Wall time: 24.6 µs\n"
     ]
    }
   ],
   "source": [
    "%%time\n",
    "# Example of timing an operation using the %%time magic function.\n",
    "# Note that \"%%time\" must be the first line in the cell, before any comments.\n",
    "a = np.sin(1)  # shouldn't take very long at all"
   ]
  }
 ],
 "metadata": {
  "anaconda-cloud": {},
  "kernelspec": {
   "display_name": "Python 3 (ipykernel)",
   "language": "python",
   "name": "python3"
  },
  "language_info": {
   "codemirror_mode": {
    "name": "ipython",
    "version": 3
   },
   "file_extension": ".py",
   "mimetype": "text/x-python",
   "name": "python",
   "nbconvert_exporter": "python",
   "pygments_lexer": "ipython3",
   "version": "3.9.12"
  },
  "toc": {
   "base_numbering": 1,
   "nav_menu": {},
   "number_sections": false,
   "sideBar": true,
   "skip_h1_title": false,
   "title_cell": "Table of Contents",
   "title_sidebar": "Contents",
   "toc_cell": false,
   "toc_position": {},
   "toc_section_display": true,
   "toc_window_display": true
  }
 },
 "nbformat": 4,
 "nbformat_minor": 1
}
