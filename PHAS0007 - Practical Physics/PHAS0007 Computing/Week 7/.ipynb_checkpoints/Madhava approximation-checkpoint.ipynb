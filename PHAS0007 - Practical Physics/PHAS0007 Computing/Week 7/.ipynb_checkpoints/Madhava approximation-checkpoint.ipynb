{
 "cells": [
  {
   "cell_type": "markdown",
   "id": "ea19a0a4",
   "metadata": {},
   "source": [
    "# The Madhava Approximation of $\\pi$"
   ]
  },
  {
   "cell_type": "markdown",
   "id": "11fc5781",
   "metadata": {},
   "source": [
    "The Madhava Approximation uses the following series to approximate:\n",
    "$$\\frac{\\pi}{4} =\\sum_{n=0}^\\infty \\frac{(−1)^n}{2n+1} $$\n",
    "This notebook will use this series to approximate $\\frac{\\pi}{4}$ to a given tolerance."
   ]
  },
  {
   "cell_type": "markdown",
   "id": "4eb925b0",
   "metadata": {},
   "source": [
    "## Part A: Accuracy of Approximation.\n"
   ]
  },
  {
   "cell_type": "code",
   "execution_count": 1,
   "id": "88948626",
   "metadata": {},
   "outputs": [],
   "source": [
    "#------------------------------------------------------------------------------------------------\n",
    "# Date: 15/11/22 Code Written by: Konstantinos Doran\n",
    "# Purpose: This code will be used to show the accuracy of the Madhava Approximation to the actual\n",
    "# value of pi/4 to differing levels of tolerances.\n",
    "#------------------------------------------------------------------------------------------------\n",
    "#import libraries \n",
    "import numpy as np"
   ]
  },
  {
   "cell_type": "code",
   "execution_count": 2,
   "id": "84024574",
   "metadata": {},
   "outputs": [
    {
     "name": "stdout",
     "output_type": "stream",
     "text": [
      "Pi/4 to 10^-1 tolerance is: 0.7440115440115441\n",
      "With accuracy of 0.041386619385904155.\n",
      "Pi/4 to 10^-2 tolerance is: 0.7902996532467627\n",
      "With accuracy of 0.004901489849314378.\n",
      "Pi/4 to 10^-3 tolerance is: 0.7858971648964472\n",
      "With accuracy of 0.0004990014989989522.\n",
      "Pi/4 to 10^-4 tolerance is: 0.7854481533989477\n",
      "With accuracy of 4.999000149941146e-05.\n",
      "Pi/4 to 10^-5 tolerance is: 0.7854031632974463\n",
      "With accuracy of 4.9998999980260805e-06.\n",
      "Pi/4 to 10^-6 tolerance is: 0.7853986633964231\n",
      "With accuracy of 4.999989747789257e-07.\n",
      "Pi/4 to 10^-7 tolerance is: 0.7853982133974349\n",
      "With accuracy of 4.999998659549476e-08.\n"
     ]
    }
   ],
   "source": [
    "#define function for approximation\n",
    "#code adapted from Dash L, Chislett R, Waugh B. \"PHAS0007 Computing Unit 6: Functions, while loops and applications\" available at https://moodle.ucl.ac.uk/mod/resource/view.php?id=4305204\n",
    "def quarter_pi(tolerance):\n",
    "    #define initial values for series\n",
    "    n=0\n",
    "    value = 0\n",
    "    new_term = 1\n",
    "    #As new_term can be negative we need to use the absolute value\n",
    "    while np.abs(new_term) > tolerance:\n",
    "        #summation formula\n",
    "        new_term = ((-1)**n)/(2*n+1)\n",
    "        #sum new term to previous terms\n",
    "        value += new_term\n",
    "        #iterate while loop\n",
    "        n += 1    \n",
    "    return value\n",
    "#print accuracies for approximation\n",
    "for power in range(1,8):\n",
    "    print(f\"Pi/4 to 10^-{power} tolerance is: {quarter_pi(10**(-power))}\")\n",
    "    print(f\"With accuracy of {np.abs((np.pi/4) - quarter_pi(10**(-power)))}.\")\n"
   ]
  },
  {
   "cell_type": "markdown",
   "id": "2b603cc0",
   "metadata": {},
   "source": [
    "When comparing the accuracy obtained for each tolerance, we are justified in saying that the value of $\\frac{\\pi}{4}$ is accurate to $n$ decimal places for a tolerance of $10^{-n}$, but only for $n>1$ as for a tolerance of 0.1, the approximated value to 1 decimal place is 0.7, but when compared to the actual value to 1 d.p, it is 0.8. However, for  $n = 2$ the approximation is 0.79, which is accurate to 2 d.p as $\\frac{\\pi}{4}$ is also 0.79 to 2 d.p and as n increases, the accuracy gets smaller by a factor of 10."
   ]
  },
  {
   "cell_type": "markdown",
   "id": "b819240f",
   "metadata": {},
   "source": [
    "## Part B: Number of Terms and Time Complexity\n"
   ]
  },
  {
   "cell_type": "code",
   "execution_count": 3,
   "id": "1dfbaba9",
   "metadata": {},
   "outputs": [
    {
     "name": "stdout",
     "output_type": "stream",
     "text": [
      "CPU times: total: 0 ns\n",
      "Wall time: 0 ns\n"
     ]
    }
   ],
   "source": [
    "%%time\n",
    "#define function for approximation\n",
    "def quarter_pi_terms(tolerance):\n",
    "    #define initial values for series\n",
    "    n=0\n",
    "    value = 0\n",
    "    new_term = 1\n",
    "    #As new_term can be negative we need to use the absolute value\n",
    "    while np.abs(new_term) > tolerance:\n",
    "        #summation formula\n",
    "        new_term = ((-1)**n)/(2*n+1)\n",
    "        #sum new term to previous terms\n",
    "        value += new_term\n",
    "        #iterate while loop\n",
    "        n += 1\n",
    "    #As n starts at 0 num_terms is 1 more\n",
    "    num_terms = n + 1\n",
    "    return value, num_terms\n"
   ]
  },
  {
   "cell_type": "code",
   "execution_count": 4,
   "id": "2a5c9124",
   "metadata": {},
   "outputs": [
    {
     "name": "stdout",
     "output_type": "stream",
     "text": [
      "Pi/4 to 10^-7 tolerance is: 0.7440115440115441\n",
      "With accuracy of 0.041386619385904155 and used 7 number of terms\n",
      "CPU times: total: 0 ns\n",
      "Wall time: 0 ns\n"
     ]
    }
   ],
   "source": [
    "%%time\n",
    "#print accuracy and term for tolerance = 10^-1\n",
    "pi_approx, termNum = quarter_pi_terms(10**(-1))\n",
    "print(f\"Pi/4 to 10^-{power} tolerance is: {pi_approx}\")\n",
    "print(f\"With accuracy of {(np.abs((np.pi/4) - pi_approx))} and used {termNum} number of terms\")"
   ]
  },
  {
   "cell_type": "code",
   "execution_count": 5,
   "id": "336bc998",
   "metadata": {},
   "outputs": [
    {
     "name": "stdout",
     "output_type": "stream",
     "text": [
      "Pi/4 to 10^-7 tolerance is: 0.7902996532467627\n",
      "With accuracy of 0.004901489849314378 and used 52 number of terms\n",
      "CPU times: total: 0 ns\n",
      "Wall time: 0 ns\n"
     ]
    }
   ],
   "source": [
    "%%time\n",
    "#print accuracy and term for tolerance = 10^-2\n",
    "pi_approx, termNum = quarter_pi_terms(10**(-2))\n",
    "print(f\"Pi/4 to 10^-{power} tolerance is: {pi_approx}\")\n",
    "print(f\"With accuracy of {(np.abs((np.pi/4) - pi_approx))} and used {termNum} number of terms\")"
   ]
  },
  {
   "cell_type": "code",
   "execution_count": 6,
   "id": "e0bc9b51",
   "metadata": {},
   "outputs": [
    {
     "name": "stdout",
     "output_type": "stream",
     "text": [
      "Pi/4 to 10^-7 tolerance is: 0.7858971648964472\n",
      "With accuracy of 0.0004990014989989522 and used 502 number of terms\n",
      "CPU times: total: 0 ns\n",
      "Wall time: 1.03 ms\n"
     ]
    }
   ],
   "source": [
    "%%time\n",
    "#print accuracy and term for tolerance = 10^-3\n",
    "pi_approx, termNum = quarter_pi_terms(10**(-3))\n",
    "print(f\"Pi/4 to 10^-{power} tolerance is: {pi_approx}\")\n",
    "print(f\"With accuracy of {(np.abs((np.pi/4) - pi_approx))} and used {termNum} number of terms\")"
   ]
  },
  {
   "cell_type": "code",
   "execution_count": 7,
   "id": "afe9450a",
   "metadata": {},
   "outputs": [
    {
     "name": "stdout",
     "output_type": "stream",
     "text": [
      "Pi/4 to 10^-7 tolerance is: 0.7854481533989477\n",
      "With accuracy of 4.999000149941146e-05 and used 5002 number of terms\n",
      "CPU times: total: 0 ns\n",
      "Wall time: 4.02 ms\n"
     ]
    }
   ],
   "source": [
    "%%time\n",
    "#print accuracy and term for tolerance = 10^-4\n",
    "pi_approx, termNum = quarter_pi_terms(10**(-4))\n",
    "print(f\"Pi/4 to 10^-{power} tolerance is: {pi_approx}\")\n",
    "print(f\"With accuracy of {(np.abs((np.pi/4) - pi_approx))} and used {termNum} number of terms\")"
   ]
  },
  {
   "cell_type": "code",
   "execution_count": 8,
   "id": "e9e59f86",
   "metadata": {},
   "outputs": [
    {
     "name": "stdout",
     "output_type": "stream",
     "text": [
      "Pi/4 to 10^-7 tolerance is: 0.7854031632974463\n",
      "With accuracy of 4.9998999980260805e-06 and used 50002 number of terms\n",
      "CPU times: total: 46.9 ms\n",
      "Wall time: 46.9 ms\n"
     ]
    }
   ],
   "source": [
    "%%time\n",
    "#print accuracy and term for tolerance = 10^-5\n",
    "pi_approx, termNum = quarter_pi_terms(10**(-5))\n",
    "print(f\"Pi/4 to 10^-{power} tolerance is: {pi_approx}\")\n",
    "print(f\"With accuracy of {(np.abs((np.pi/4) - pi_approx))} and used {termNum} number of terms\")"
   ]
  },
  {
   "cell_type": "code",
   "execution_count": 9,
   "id": "d3708f55",
   "metadata": {},
   "outputs": [
    {
     "name": "stdout",
     "output_type": "stream",
     "text": [
      "Pi/4 to 10^-7 tolerance is: 0.7853986633964231\n",
      "With accuracy of 4.999989747789257e-07 and used 500002 number of terms\n",
      "CPU times: total: 469 ms\n",
      "Wall time: 472 ms\n"
     ]
    }
   ],
   "source": [
    "%%time\n",
    "#print accuracy and term for tolerance = 10^-6\n",
    "pi_approx, termNum = quarter_pi_terms(10**(-6))\n",
    "print(f\"Pi/4 to 10^-{power} tolerance is: {pi_approx}\")\n",
    "print(f\"With accuracy of {(np.abs((np.pi/4) - pi_approx))} and used {termNum} number of terms\")"
   ]
  },
  {
   "cell_type": "code",
   "execution_count": 10,
   "id": "486d6ba5",
   "metadata": {},
   "outputs": [
    {
     "name": "stdout",
     "output_type": "stream",
     "text": [
      "Pi/4 to 10^-7 tolerance is: 0.7853982133974349\n",
      "With accuracy of 4.999998659549476e-08 and used 5000002 number of terms\n",
      "CPU times: total: 4.66 s\n",
      "Wall time: 4.65 s\n"
     ]
    }
   ],
   "source": [
    "%%time\n",
    "#print accuracy and term for tolerance = 10^-7\n",
    "pi_approx, termNum = quarter_pi_terms(10**(-7))\n",
    "print(f\"Pi/4 to 10^-{power} tolerance is: {pi_approx}\")\n",
    "print(f\"With accuracy of {(np.abs((np.pi/4) - pi_approx))} and used {termNum} number of terms\")"
   ]
  },
  {
   "cell_type": "code",
   "execution_count": 11,
   "id": "b2aee6c9",
   "metadata": {},
   "outputs": [
    {
     "name": "stdout",
     "output_type": "stream",
     "text": [
      "Pi/4 to 10^-7 tolerance is: 0.7853981683975626\n",
      "With accuracy of 5.0001143225841815e-09 and used 50000002 number of terms\n",
      "CPU times: total: 47.3 s\n",
      "Wall time: 47.5 s\n"
     ]
    }
   ],
   "source": [
    "%%time\n",
    "#print accuracy and term for tolerance = 10^-8\n",
    "pi_approx, termNum = quarter_pi_terms(10**(-8))\n",
    "print(f\"Pi/4 to 10^-{power} tolerance is: {pi_approx}\")\n",
    "print(f\"With accuracy of {(np.abs((np.pi/4) - pi_approx))} and used {termNum} number of terms\")"
   ]
  },
  {
   "cell_type": "markdown",
   "id": "9a1bacec",
   "metadata": {},
   "source": [
    "## Conclusion:\n",
    "Looking at the time taken between tolerances, when calculating $\\frac{\\pi}{4}$ to an extra decimal place, the time taken is roughly 10 times longer to complete the calculation. As seen when comparing tolerances from $10^{-6}$ to $10^{-8}$, for 2 decimal places the time to complete is around 100 times longer. Thus for finding $\\frac{\\pi}{4}$ to 16 decimal places, which is 8 more decimal places than a tolerance of $10^{-8}$, the time taken will be $ 48.3 * 10^{8} seconds $ which is 153.056733 years and for 32 decimal places, it will take $ 48.3 * 10^{24} seconds $  or $ 1.53056733 * 10^{18} $ years. Given that it would take an extremely long time to calculate $\\frac{\\pi}{4}$ to 32 decimal places shows that this algorithm, although linear, has too large a time complexity and instead an algorithm with smaller time complexity, such as O(log(n)) would be more appropriate."
   ]
  },
  {
   "cell_type": "code",
   "execution_count": null,
   "id": "a7ca68b8",
   "metadata": {},
   "outputs": [],
   "source": []
  }
 ],
 "metadata": {
  "kernelspec": {
   "display_name": "Python 3 (ipykernel)",
   "language": "python",
   "name": "python3"
  },
  "language_info": {
   "codemirror_mode": {
    "name": "ipython",
    "version": 3
   },
   "file_extension": ".py",
   "mimetype": "text/x-python",
   "name": "python",
   "nbconvert_exporter": "python",
   "pygments_lexer": "ipython3",
   "version": "3.9.12"
  }
 },
 "nbformat": 4,
 "nbformat_minor": 5
}
