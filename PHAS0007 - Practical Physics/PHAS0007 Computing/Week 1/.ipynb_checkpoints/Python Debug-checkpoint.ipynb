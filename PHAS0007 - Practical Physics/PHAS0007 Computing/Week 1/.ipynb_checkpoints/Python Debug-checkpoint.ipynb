{
 "cells": [
  {
   "cell_type": "code",
   "execution_count": 15,
   "id": "df93d469",
   "metadata": {},
   "outputs": [
    {
     "name": "stdout",
     "output_type": "stream",
     "text": [
      "The initial velocity is positive, so will initially travel upwards.\n",
      "The final speed of the object is: 19.856988694160048 m/s and the time taken is: 3.043525860770647 seconds.\n"
     ]
    }
   ],
   "source": [
    "#------------------------------------------\n",
    "#The following code uses hardcoded values to calculate the final speed of the object undergoing projectile motion\n",
    "#and the time taken for the object to be displaced from its initial position to its final position\n",
    "#Last edited by Konstantinos Doran - 04/10/22\n",
    "#------------------------------------------\n",
    "#First import the square root function from numpy library\n",
    "from numpy import sqrt\n",
    "#define the gravitational constant and constants for initial velocity/displacement\n",
    "gravaccell = -9.81 #ms^-2\n",
    "initialvelocity = 10 #ms^-1\n",
    "initialdisplacement = 15 #m\n",
    "finaldisplacement = 0.0 #m\n",
    "\n",
    "#calculate the square of the final velocity using the equation : v^2 = u^2 + 2as, where v is final velocity,\n",
    "#u is initial velocity, a is acceleration and s is the change in displacement\n",
    "velsquared = initialvelocity**2 + 2*gravaccell*(finaldisplacement - initialdisplacement)\n",
    "#calculate the final speed by square rooting the square of the final velocity\n",
    "finalspeed = sqrt(velsquared)\n",
    "#output to the user whether the initial velocity is positive - so the object is travelling upwards, or negative,\n",
    "#so the object is travelling downwards\n",
    "if initialvelocity > 0:\n",
    "    print(\"The initial velocity is positive, so will initially travel upwards.\")\n",
    "else:\n",
    "    print (\"The initial velocity is less than or equal to zero, so will initially travel downwards.\")\n",
    "#calculate the time taken for the object to travel the displacement travelled under projectile motion using the equation:\n",
    "# t = -(v+u)/a , where t is time.\n",
    "time_taken = -(finalspeed + initialvelocity)/gravaccell #s\n",
    "#finally output the final speed and the time taken for the object to travel the difference in displacement\n",
    "print(\"The final speed of the object is: \"+ str(finalspeed) + \" m/s\",\"and the time taken is: \" + str(time_taken) + \" seconds.\")"
   ]
  },
  {
   "cell_type": "code",
   "execution_count": null,
   "id": "a9f6c1d2",
   "metadata": {},
   "outputs": [],
   "source": []
  }
 ],
 "metadata": {
  "kernelspec": {
   "display_name": "Python 3 (ipykernel)",
   "language": "python",
   "name": "python3"
  },
  "language_info": {
   "codemirror_mode": {
    "name": "ipython",
    "version": 3
   },
   "file_extension": ".py",
   "mimetype": "text/x-python",
   "name": "python",
   "nbconvert_exporter": "python",
   "pygments_lexer": "ipython3",
   "version": "3.9.12"
  }
 },
 "nbformat": 4,
 "nbformat_minor": 5
}
