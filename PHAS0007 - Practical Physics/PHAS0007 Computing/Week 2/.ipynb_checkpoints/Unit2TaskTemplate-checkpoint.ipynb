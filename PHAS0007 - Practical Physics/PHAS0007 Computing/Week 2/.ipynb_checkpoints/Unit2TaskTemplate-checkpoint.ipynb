{
 "cells": [
  {
   "cell_type": "markdown",
   "metadata": {},
   "source": [
    "# Unit 2 task\n",
    "\n",
    "This Jupyter notebook is a template for this week's assignment. You should fill in the blank code and text cells below to answer the questions, and upload your completed notebook to Moodle for marking.\n",
    "\n",
    "Remember to:\n",
    "* print out the results of each calculation;\n",
    "* where you are asked to complete text cells, make sure you use complete, grammatically correct sentences.\n",
    "\n",
    "Make sure you run the cell below to import the NumPy package."
   ]
  },
  {
   "cell_type": "code",
   "execution_count": 1,
   "metadata": {},
   "outputs": [],
   "source": [
    "import numpy as np"
   ]
  },
  {
   "cell_type": "markdown",
   "metadata": {},
   "source": [
    "## Part 1\n",
    "\n",
    "### (a)\n",
    "\n",
    "The following statement creates an array of evenly spaced values:\n",
    "\n",
    "    np.array([0.5, 1. , 1.5, 2. , 2.5, 3. ])\n",
    "\n",
    "Use an appropriate NumPy function in the next cell to create an array containing the same values in a more efficient way, and assign this to a variable called `array_a`."
   ]
  },
  {
   "cell_type": "code",
   "execution_count": 61,
   "metadata": {},
   "outputs": [
    {
     "name": "stdout",
     "output_type": "stream",
     "text": [
      "[0.5 1.  1.5 2.  2.5 3. ]\n"
     ]
    }
   ],
   "source": [
    "### STUDENT CODE CELL\n",
    "#define array_a to create an array with evenly spaced values from 0.5 to 3\n",
    "array_a = np.linspace(0.5,3,6)\n",
    "print(array_a)"
   ]
  },
  {
   "cell_type": "markdown",
   "metadata": {},
   "source": [
    "### (b)\n",
    "\n",
    "The following statement creates an array of evenly spaced **integers**: \n",
    "\n",
    "    array([ 5, 10, 15, 20, 25, 30])\n",
    "\n",
    "Again, use an appropriate NumPy function in the next cell to create an array containing the same values in a more efficient way, and assign this to a variable called `array_b`."
   ]
  },
  {
   "cell_type": "code",
   "execution_count": 9,
   "metadata": {},
   "outputs": [
    {
     "name": "stdout",
     "output_type": "stream",
     "text": [
      "[ 5 10 15 20 25 30]\n"
     ]
    }
   ],
   "source": [
    "### STUDENT CODE CELL\n",
    "#define array_b to create an array with evenly spaced values from 5 to 30, while keeping the numbers as integers\n",
    "array_b = np.linspace(5,30,6, dtype=int)\n",
    "print(array_b)"
   ]
  },
  {
   "cell_type": "markdown",
   "metadata": {},
   "source": [
    "### (c)\n",
    "\n",
    "Multiply the values in `array_a` and `array_b` together, assigning the results to a variable `array_c`."
   ]
  },
  {
   "cell_type": "code",
   "execution_count": 13,
   "metadata": {},
   "outputs": [
    {
     "name": "stdout",
     "output_type": "stream",
     "text": [
      "[ 2.5 10.  22.5 40.  62.5 90. ]\n"
     ]
    }
   ],
   "source": [
    "### STUDENT CODE CELL\n",
    "#define array_c as the multiplication of elements in the same index of array a and array b.\n",
    "array_c = array_a*array_b\n",
    "print(array_c)"
   ]
  },
  {
   "cell_type": "markdown",
   "metadata": {},
   "source": [
    "### (d)\n",
    "\n",
    "Use array slicing to create an array `array_d` containing the elements from `array_c` but omitting the first and last elements."
   ]
  },
  {
   "cell_type": "code",
   "execution_count": 15,
   "metadata": {},
   "outputs": [],
   "source": [
    "### STUDENT CODE CELL\n",
    "#array d is defined to exlude the first and last values from array c\n",
    "array_d = array_c[1:(len(array_c)-1)]\n",
    "print(array_d)"
   ]
  },
  {
   "cell_type": "markdown",
   "metadata": {},
   "source": [
    "# (e)\n",
    "\n",
    "Use your web searching skills to find NumPy functions that will calculate the dot product and the cross product of two vectors. Use these functions to calculate both products for the vectors (0.3, 0.4, 1.2) and (0.4, -0.3, 1.2)."
   ]
  },
  {
   "cell_type": "code",
   "execution_count": 62,
   "metadata": {},
   "outputs": [
    {
     "name": "stdout",
     "output_type": "stream",
     "text": [
      "The dot product between the vectors is 1.44\n",
      "The cross product between the vectors is [ 0.84  0.12 -0.25]\n"
     ]
    }
   ],
   "source": [
    "### STUDENT CODE CELL\n",
    "#define vectors as lists in python\n",
    "listA = [0.3, 0.4, 1.2]\n",
    "listB = [0.4, -0.3, 1.2]\n",
    "#convert the lists into arrays using the numpy library\n",
    "vectorA = np.array(listA)\n",
    "vectorB = np.array(listB)\n",
    "#use the dot function in numpy to calculate the dot product of vector A and vector B\n",
    "dotvalue = np.dot(vectorA, vectorB)\n",
    "#use the cross  function in numpy to calculate the cross product of vector A and vector B\n",
    "crossvalue = np.cross(vectorA, vectorB)\n",
    "print(f\"The dot product between the vectors is {dotvalue}\")\n",
    "print(f\"The cross product between the vectors is {crossvalue}\")"
   ]
  },
  {
   "cell_type": "markdown",
   "metadata": {},
   "source": [
    "### (f)\n",
    "\n",
    "The for loop is useful when you need to deal with each element of an array in turn, but it can be slow compared to more specialized NumPy functions. In two separate code cells below, you should try adding together the contents of the array `data` in two different ways: \n",
    "- using a loop;\n",
    "- using the function `np.sum`.\n",
    "\n",
    "The `%%time` function (a Jupyter \"magic\" function, not part of Python) will tell you how long each takes. You may need to adjust the size of the array to get useful results.\n",
    "\n",
    "Use the following text cell to comment on the results."
   ]
  },
  {
   "cell_type": "code",
   "execution_count": 26,
   "metadata": {},
   "outputs": [],
   "source": [
    "# Depending on the speed of your computer, you may want to vary the size of this array.\n",
    "# Remember that you can interrupt the kernel if a calculation is taking too long!  \n",
    "data = np.ones(1000000)"
   ]
  },
  {
   "cell_type": "code",
   "execution_count": 27,
   "metadata": {},
   "outputs": [
    {
     "name": "stdout",
     "output_type": "stream",
     "text": [
      "The sum is 1000000.0\n",
      "CPU times: total: 125 ms\n",
      "Wall time: 134 ms\n"
     ]
    }
   ],
   "source": [
    "%%time\n",
    "### STUDENT CODE CELL\n",
    "\n",
    "sum = 0.\n",
    "# Add a loop here to add each element of data in turn to \"sum\".\n",
    "for value in data:\n",
    "    #add the value in each index to the total sum\n",
    "    sum += value\n",
    "#print the total sum of all the elements in the array\n",
    "print(f\"The sum is {sum}\")"
   ]
  },
  {
   "cell_type": "code",
   "execution_count": 29,
   "metadata": {},
   "outputs": [
    {
     "name": "stdout",
     "output_type": "stream",
     "text": [
      "The sum is 1000000.0\n",
      "CPU times: total: 0 ns\n",
      "Wall time: 1.99 ms\n"
     ]
    }
   ],
   "source": [
    "%%time\n",
    "### STUDENT CODE CELL\n",
    "#use the sum function to sum all the elements in the array\n",
    "sum = np.sum(data) # Replace this line with a call to the np.sum function.\n",
    "#output the result of the sum\n",
    "print(f\"The sum is {sum}\")"
   ]
  },
  {
   "cell_type": "markdown",
   "metadata": {},
   "source": [
    "##### STUDENT TEXT CELL: add to this text cell to comment on the results of timing the two different ways of carrying out the same calculation.\n",
    "When using a for loop to calculate the sum of all values in the array, the time complexity is O(n), thus the time for completion is linearly proportional to the number of elements in the array, whereas the sum function appears to have time complexity less than O(n), probably O(log n), as the time to complete is not constant (so not O(1)), but is much smaller than the loop with complexity O(n). "
   ]
  },
  {
   "cell_type": "markdown",
   "metadata": {},
   "source": [
    "## Part 2:\n",
    "\n",
    "For this part of the task you will be working with the \"wheat spike\" example you saw in the first PHAS0007 \"Data Analysis and Statistics\" lecture, and use Python to reproduce some of the calculations you saw there.\n",
    "\n",
    "You'll probably want to consult the lecture slides on Dr Llorente Garcia's Moodle as well as the PHAS0007 Data Analysis Booklet.\n",
    "\n",
    "Download the file `wheatdata.txt` from Moodle and save it in the same directory as your Notebook. This data file contains the same data as on slide 11 of the lecture slides.\n",
    "\n",
    "### (a)\n",
    "\n",
    "Use the code cell below to do the following:-\n",
    "- Import the data from this file into an array using `np.loadtxt()`: choose your own (sensible) variable name for this array.\n",
    "- Print out the array with an appropriate text string."
   ]
  },
  {
   "cell_type": "code",
   "execution_count": 63,
   "metadata": {},
   "outputs": [
    {
     "name": "stdout",
     "output_type": "stream",
     "text": [
      "The values for spikes of wheat in each patch are: [533. 440. 484. 446. 474. 492. 512. 515. 528. 572.]\n"
     ]
    }
   ],
   "source": [
    "### STUDENT CODE CELL\n",
    "#define the array that contains all the data from the text file\n",
    "wheatarray = np.loadtxt(\"wheatdata.txt\")\n",
    "#output the values\n",
    "print(f\"The values for spikes of wheat in each patch are:\", wheatarray)"
   ]
  },
  {
   "cell_type": "markdown",
   "metadata": {},
   "source": [
    "### (b)\n",
    "\n",
    "Using information from the data analysis booklet or elsewhere, find the appropriate NumPy function to calculate the mean number of spikes in each patch. Calculate this in the cell below, and again, output this with an appropriate text string."
   ]
  },
  {
   "cell_type": "code",
   "execution_count": 65,
   "metadata": {},
   "outputs": [
    {
     "name": "stdout",
     "output_type": "stream",
     "text": [
      "The mean value of wheat spikes per patch is: 499.6\n"
     ]
    }
   ],
   "source": [
    "### STUDENT CODE CELL\n",
    "#calculate the mean value of the wheat spikes per patch\n",
    "meanwheat = np.mean(wheatarray)\n",
    "#output the mean value\n",
    "print(f\"The mean value of wheat spikes per patch is:\", meanwheat)"
   ]
  },
  {
   "cell_type": "markdown",
   "metadata": {},
   "source": [
    "### (c)\n",
    "\n",
    "The formula for the (sample) standard deviation is \n",
    "$$ \\sigma = \\sqrt{\\frac{\\sum{(x_i - \\bar{x})^2}}{N-1}}, $$\n",
    "\n",
    "   where $N$ is the number of data points and $\\bar{x}$ the average you just calculated. \n",
    "   \n",
    "   Use the python function `len()` to calculate a value for $N$ in the cell below, and again, output this with an appropriate text string. Remember, you can use \"SHIFT+TAB\" with the cursor on a function name to view the documentation for that function."
   ]
  },
  {
   "cell_type": "code",
   "execution_count": 69,
   "metadata": {},
   "outputs": [
    {
     "name": "stdout",
     "output_type": "stream",
     "text": [
      "There are 10 values for wheat spikes per patch\n"
     ]
    }
   ],
   "source": [
    "### STUDENT CODE CELL\n",
    "Numpatches = len(wheatarray) # calculate the number of data points by using the length of the array\n",
    "print(f\"There are {Numpatches} values for wheat spikes per patch\") # output the number of data points used"
   ]
  },
  {
   "cell_type": "markdown",
   "metadata": {},
   "source": [
    "### (d)\n",
    "\n",
    "We're going to calculate the numerator of the equation for the standard deviation in steps. \n",
    "\n",
    "We can calculate the individual deviations $d_i = x_i - \\bar{x}$ as in the code cell below. You will need to make sure that the variable names here match the variable names you've chosen above."
   ]
  },
  {
   "cell_type": "code",
   "execution_count": 67,
   "metadata": {},
   "outputs": [
    {
     "name": "stdout",
     "output_type": "stream",
     "text": [
      "The individual deviations from the mean are [ 33.4 -59.6 -15.6 -53.6 -25.6  -7.6  12.4  15.4  28.4  72.4]\n"
     ]
    }
   ],
   "source": [
    "# Edit the variable names in this cell to match the variable names you have used above\n",
    "deviations = wheatarray - meanwheat                         # calculate individual deviations\n",
    "print(\"The individual deviations from the mean are\", deviations) # output this value with an appropriate text string"
   ]
  },
  {
   "cell_type": "markdown",
   "metadata": {},
   "source": [
    "Note how this works: `spike_data` is an array of values, but `mean_spikes` is a single value. Numpy will automatically subtract `mean_spikes` from every element of the array `spike_data`."
   ]
  },
  {
   "cell_type": "markdown",
   "metadata": {},
   "source": [
    "### (e)\n",
    "\n",
    "Now we have calculated the individual deviations, we can square them, then sum them together using `np.sum()`. Do this in the cell below. Make sure you do the squaring and summing  in the right order though!\n",
    "\n",
    "Remember to print out the result with an appropriate text string."
   ]
  },
  {
   "cell_type": "code",
   "execution_count": 68,
   "metadata": {},
   "outputs": [
    {
     "name": "stdout",
     "output_type": "stream",
     "text": [
      "The sum of the squares of the deviations from the mean is 14936.400000000001\n"
     ]
    }
   ],
   "source": [
    "### STUDENT CODE CELL\n",
    "squaredev = deviations**2 #square each element in the array deviations\n",
    "sumsquares = np.sum(squaredev) #use the sum function to find the sum of all the elements in the squaredev array\n",
    "print(f\"The sum of the squares of the deviations from the mean is {sumsquares}\") # output the sum of the squares"
   ]
  },
  {
   "cell_type": "markdown",
   "metadata": {},
   "source": [
    "### (f)\n",
    "\n",
    "Now you have all the elements you need to calculate the standard deviation using the equation in question 3 above. Do this in the cell below. You should find your answer is close to (but not exactly the same as) the standard deviation calculated in the lecture slides. \n",
    "\n",
    "Remember to print out the result with an appropriate text string. Yes, you will always need to do this."
   ]
  },
  {
   "cell_type": "code",
   "execution_count": 70,
   "metadata": {},
   "outputs": [
    {
     "name": "stdout",
     "output_type": "stream",
     "text": [
      "The standard deviation for the distribution is 40.738188472243095 spikes per patch\n"
     ]
    }
   ],
   "source": [
    "### STUDENT CODE CELL\n",
    "standdev = (sumsquares/(Numpatches-1))**(0.5) #calculate the standard deviation of the wheat spikes sample distribution\n",
    "print(f\"The standard deviation for the distribution is {standdev} spikes per patch\")"
   ]
  },
  {
   "cell_type": "markdown",
   "metadata": {},
   "source": [
    "That was rather an effort to calculate the standard deviation, and fortunately numpy has a function that will do this for you: `np.std()`.\n",
    "\n",
    "You do have to be a bit careful with this function, and you're about to see why. Run the cell below, compare the results to what you just calculated above, then read both the [documentation for `np.std()`](https://docs.scipy.org/doc/numpy/reference/generated/numpy.std.html) and the information in section 2.6 (p.13) of [Hughes and Hase](https://ebookcentral.proquest.com/lib/ucl/reader.action?docID=584562&ppg=25.) (You may need to sign in with your UCL credentials to access this link).\n",
    "\n",
    "### (g)\n",
    "\n",
    "Then use the text cell below to state which version of the standard deviation you should use here, and (briefly) why."
   ]
  },
  {
   "cell_type": "code",
   "execution_count": 48,
   "metadata": {},
   "outputs": [
    {
     "name": "stdout",
     "output_type": "stream",
     "text": [
      "Standard deviation: first calculation gives 38.647638996451 , second calculation gives 40.738188472243095\n"
     ]
    }
   ],
   "source": [
    "stdev_1 = np.std(wheatarray)          # Edit to reflect your chosen variable names\n",
    "stdev_2 = np.std(wheatarray, ddof=1)  # Edit to reflect your chosen variable names\n",
    "\n",
    "print(\"Standard deviation: first calculation gives\", stdev_1, \", second calculation gives\", stdev_2)"
   ]
  },
  {
   "cell_type": "markdown",
   "metadata": {},
   "source": [
    "##### STUDENT TEXT CELL: add to this text cell to answer question (g)\n",
    "The second calculation of standard deviation agrees with our own calculation as the first standard deviation only considers the entire set of data rather than a sample set. The second calculation give the correct standard deviation for the sample of data which uses the same formula we calculated. The first standard deviation calculation uses the formula:\n",
    "$$ \\sigma_{parent} = \\sqrt{\\frac{\\sum{(\\xi_i - \\mu)^2}}{N_{parent}}}$$, where $\\mu $ is the mean of the entire distribution and $N_{parent}$ is the total number of values in the data.\n",
    "In this case the second value should be used as we are taking a sample of results from a larger data set, so we should use a sample distribution and sample standard deviation along with it."
   ]
  },
  {
   "cell_type": "markdown",
   "metadata": {},
   "source": [
    "### (h)\n",
    "\n",
    "We can also calculate the standard error of the mean, which is given by \n",
    "$$\\alpha = \\frac{\\sigma_{(N-1)}}{\\sqrt{N}}$$\n",
    "Apply what you've learned above to calculate this in the cell below. "
   ]
  },
  {
   "cell_type": "code",
   "execution_count": 52,
   "metadata": {},
   "outputs": [
    {
     "name": "stdout",
     "output_type": "stream",
     "text": [
      "The standard error of the mean is 12.882546332150334\n"
     ]
    }
   ],
   "source": [
    "### STUDENT CODE CELL\n",
    "standerror = (stdev_2)/((Numpatches)**(0.5)) #calculate the standard error of the mean using standard deviation and the root of the number of samples\n",
    "print(f\"The standard error of the mean is {standerror}\") #output the standard error of the mean calculated"
   ]
  },
  {
   "cell_type": "markdown",
   "metadata": {},
   "source": [
    "### (i)\n",
    "\n",
    "Finally, use your web-searching skills to find a Python function that will calculate the standard error of the mean for you, and verify that you get the same result when using this function. (Hint: this function is not in NumPy, so you will need to import another package!)"
   ]
  },
  {
   "cell_type": "code",
   "execution_count": 59,
   "metadata": {},
   "outputs": [
    {
     "name": "stdout",
     "output_type": "stream",
     "text": [
      "The standard error of the mean calculated using the sem function from scipy is 12.882546332150334\n"
     ]
    }
   ],
   "source": [
    "### STUDENT CODE CELL\n",
    "#import the sem function from the scipy library\n",
    "from scipy.stats import sem\n",
    "#define the semwheat variable using the sem function\n",
    "semwheat = sem(wheatarray)\n",
    "#output the standard error calculated via the imported function\n",
    "print(f\"The standard error of the mean calculated using the sem function from scipy is {semwheat}\")"
   ]
  },
  {
   "cell_type": "code",
   "execution_count": 71,
   "metadata": {},
   "outputs": [],
   "source": [
    "### This calculation from the sem function agrees with the value calculated previously\n"
   ]
  },
  {
   "cell_type": "code",
   "execution_count": null,
   "metadata": {},
   "outputs": [],
   "source": []
  }
 ],
 "metadata": {
  "kernelspec": {
   "display_name": "Python 3 (ipykernel)",
   "language": "python",
   "name": "python3"
  },
  "language_info": {
   "codemirror_mode": {
    "name": "ipython",
    "version": 3
   },
   "file_extension": ".py",
   "mimetype": "text/x-python",
   "name": "python",
   "nbconvert_exporter": "python",
   "pygments_lexer": "ipython3",
   "version": "3.9.12"
  },
  "toc": {
   "base_numbering": 1,
   "nav_menu": {},
   "number_sections": false,
   "sideBar": true,
   "skip_h1_title": false,
   "title_cell": "Table of Contents",
   "title_sidebar": "Contents",
   "toc_cell": false,
   "toc_position": {},
   "toc_section_display": true,
   "toc_window_display": false
  }
 },
 "nbformat": 4,
 "nbformat_minor": 2
}
