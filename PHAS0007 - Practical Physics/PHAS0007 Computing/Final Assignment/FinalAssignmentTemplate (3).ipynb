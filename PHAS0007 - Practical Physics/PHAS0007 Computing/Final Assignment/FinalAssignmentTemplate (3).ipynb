{
 "cells": [
  {
   "cell_type": "markdown",
   "metadata": {},
   "source": [
    "# Title\n",
    "\n",
    "## Introduction\n",
    "\n",
    "**Replace the contents of this cell with your own title and introduction.**\n",
    "\n",
    "Remember that the submitted notebook should form a self-contained document. You do not need to include a full derivation of the numerical model for Newton's law of gravitation, as given in the instructions for the task, but you do need to provide an overview of the relevant physics (including equations) and a discussion of the aims of the investigation and the approach taken.\n",
    "\n",
    "Your text cells should be structured in complete, grammatically correct, coherent sentences and paragraphs. Do not paste text verbatim from the script."
   ]
  },
  {
   "cell_type": "code",
   "execution_count": null,
   "metadata": {},
   "outputs": [],
   "source": [
    "%matplotlib notebook\n",
    "import matplotlib.pyplot as plt\n",
    "from matplotlib import animation\n",
    "from IPython.display import HTML\n",
    "import numpy as np\n",
    "from numpy.linalg import norm"
   ]
  },
  {
   "cell_type": "markdown",
   "metadata": {},
   "source": [
    "## Part A"
   ]
  },
  {
   "cell_type": "markdown",
   "metadata": {},
   "source": [
    "### 1. Calculating the gravitational force between two objects\n",
    "\n",
    "You should complete the following function, without changing its name, arguments or docstring, to calculate the force on one object due to the gravitational field of another."
   ]
  },
  {
   "cell_type": "code",
   "execution_count": null,
   "metadata": {},
   "outputs": [],
   "source": [
    "def force(pos1, pos2, m1, m2):\n",
    "    \"\"\"\n",
    "    Returns the gravitational force exerted by object 2 on object 1.\n",
    "    Input:\n",
    "      - pos1 = position vector of first object  (NumPy array)\n",
    "      - pos2 = position vector of second object (NumPy array)\n",
    "      - m1   = mass of first object\n",
    "      - m2   = mass of second object\n",
    "    Depends on:\n",
    "      - G    = gravitational constant (global variable)\n",
    "    \"\"\"\n",
    "    ##################\n",
    "    # YOUR CODE HERE #\n",
    "    ##################"
   ]
  },
  {
   "cell_type": "markdown",
   "metadata": {},
   "source": [
    "#### Testing your function\n",
    "\n",
    "The following cell applies some tests to help you make sure your `force` function works correctly before you use it in the rest of the task. You do not need to understand the details of how it works, but it may help you narrow down any bugs in your code. If each line of output starts with `OK` then it is likely (but not guaranteed) that you have implemented the function correctly.\n",
    "\n",
    "Please leave the code in this cell unchanged: you may add your own tests if you wish, but these should be in a separate cell."
   ]
  },
  {
   "cell_type": "code",
   "execution_count": null,
   "metadata": {},
   "outputs": [],
   "source": [
    "################################################\n",
    "#                                              #\n",
    "# Test force is correct in a few simple cases. #\n",
    "#                                              #\n",
    "#   DO NOT CHANGE THE CODE IN THIS CELL.       #\n",
    "#                                              #\n",
    "################################################\n",
    "\n",
    "def test_force(pos1, pos2, m1, m2, expected_force):\n",
    "    \"\"\"Check whether force function gives expected results.\"\"\"\n",
    "    epsilon = 1e-10\n",
    "    f = force(np.array(pos1), np.array(pos2), m1, m2)\n",
    "    if not isinstance(f,np.ndarray):\n",
    "        print(f\"ERROR: function should return a vector but returns {f}.\")\n",
    "        return\n",
    "    args_as_string = f\"({pos1}, {pos2}, {m1}, {m2})\"\n",
    "    error = norm(f-expected_force)\n",
    "    if error<epsilon:\n",
    "        print(f\"OK: correct results for input {args_as_string}\")\n",
    "    else:\n",
    "        print(f\"ERROR: wrong results for input {args_as_string}\")\n",
    "        print(f\"  expected: {expected_force}\")\n",
    "        print(f\"  got:      {f}\")\n",
    "\n",
    "# Set global variable G to 1 for now to make testing easier\n",
    "G=1\n",
    "\n",
    "# Test force with some simple cases\n",
    "test_force((0,0),(1,0),1,1,(1,0))    # distance = 1 in x direction\n",
    "test_force((1,0),(0,0),1,1,(-1,0))   # swap objects\n",
    "test_force((0,0),(2,0),1,1,(0.25,0)) # distance = 2\n",
    "test_force((0,0),(0,1),1,1,(0,1))    # distance = 1 in y direction\n",
    "test_force((10,0),(10,1),1,1,(0,1))  # displaced from origin\n",
    "test_force((0,0),(1,0),2,1,(2,0))    # non-unit mass 1\n",
    "test_force((0,0),(1,0),1,2,(2,0))    # non-unit mass 2"
   ]
  },
  {
   "cell_type": "markdown",
   "metadata": {},
   "source": [
    "### 2. Calculating the motion of a planet in the gravitational field of a star\n",
    "\n",
    "You should complete the following function, without changing its name, arguments or docstring, to calculate the new position and velocity of a planet after a time step `dt`, in the gravitational field of a star of a given mass situated at the origin. This function will need to call `force` to calculate the acceleration vector of the planet."
   ]
  },
  {
   "cell_type": "code",
   "execution_count": null,
   "metadata": {},
   "outputs": [],
   "source": [
    "def move_planet(position, velocity, m_star, dt):\n",
    "    \"\"\"\n",
    "    Calculate motion of planet in the gravitational field of a star with given mass\n",
    "    at the origin, using Euler's method.\n",
    "    \n",
    "    Input:\n",
    "      - position: position vector of planet at start of time step (NumPy array)\n",
    "      - velocity: velocity vector of planet at start of time step (NumPy array)\n",
    "      - m_star:   mass of star\n",
    "      - dt:       time step\n",
    "      \n",
    "    Output: (position_new, velocity_new)\n",
    "      - position_new: position vector of planet at end of time step (NumPy array)\n",
    "      - velocity_new: velocity vector of planet at end of time step (NumPy array)\n",
    "      \n",
    "    Depends on:\n",
    "      - force = function to calculate the gravitational force between two objects\n",
    "    \"\"\"\n",
    "    ##################\n",
    "    # YOUR CODE HERE #\n",
    "    ##################"
   ]
  },
  {
   "cell_type": "markdown",
   "metadata": {},
   "source": [
    "#### Testing your function\n",
    "\n",
    "The following cell applies some tests to help you make sure your `move_planet` function works correctly before you use it in the rest of the task. You do not need to understand the details of how it works, but it may help you narrow down any bugs in your code. If each line of output starts with `OK` then it is likely (but not guaranteed) that you have implemented the function correctly.\n",
    "\n",
    "Please leave the code in this cell unchanged: you may add your own tests if you wish, but these should be in a separate cell. "
   ]
  },
  {
   "cell_type": "code",
   "execution_count": null,
   "metadata": {},
   "outputs": [],
   "source": [
    "######################################################\n",
    "#                                                    #\n",
    "# Test move_planet is correct in a few simple cases. #\n",
    "#                                                    #\n",
    "#   DO NOT CHANGE THE CODE IN THIS CELL.             #\n",
    "#                                                    #\n",
    "######################################################\n",
    "\n",
    "def test_move_planet(position, velocity, m_star, dt, expected_pos, expected_vel):\n",
    "    \"\"\"Check whether move_planet function gives expected results.\"\"\"\n",
    "    epsilon = 1e-10\n",
    "    results = move_planet(np.array(position), np.array(velocity), m_star, dt)\n",
    "    if not isinstance(results, tuple):\n",
    "        print(f\"ERROR: function should return two vectors but returns {results}.\")\n",
    "        return\n",
    "    if not len(results)==2:\n",
    "        print(f\"ERROR: function should return two vectors but returns {results}.\")\n",
    "        return\n",
    "    pos, vel = results\n",
    "    if not (isinstance(pos,np.ndarray) and isinstance(vel,np.ndarray)):\n",
    "        print(f\"ERROR: function should return two vectors but returns {results}.\")\n",
    "        return\n",
    "    args_as_string = f\"{position}, {velocity}, {m_star}, {dt}\"\n",
    "    err_pos, err_vel = norm(pos - expected_pos), norm(vel - expected_vel)\n",
    "    if err_pos < epsilon and err_vel < epsilon:\n",
    "        print(f\"OK: correct results for input {args_as_string}\")\n",
    "    else:\n",
    "        print(f\"ERROR: wrong results for input {args_as_string}\")\n",
    "        print(f\"  expected: {expected_pos, expected_vel}\")\n",
    "        print(f\"  got:      {results}\")\n",
    "\n",
    "# Set global variable G to 1 for now to make testing easier\n",
    "G=1\n",
    "\n",
    "# Test move_planet with some simple cases\n",
    "test_move_planet((1,0), (1,0), 1, 0, (1,0), (1,0))    # dt = 0: output = input\n",
    "test_move_planet((1,0), (1,0), 1, 1, (2,0), (0,0))    # moving away from star\n",
    "test_move_planet((0,1), (0,-1), 1, 1, (0,0), (0,-2))  # moving towards star\n",
    "test_move_planet((1,0), (0,1), 1, 1, (1,1), (-1,1))   # moving past star\n",
    "test_move_planet((1,0), (0,1), 1, 0.1, (1,0.1), (-0.1,1))  # smaller dt\n",
    "test_move_planet((1,0), (0,1), 2, 0.1, (1,0.1), (-0.2,1))  # larger star mass\n",
    "test_move_planet((2,0), (1,0), 1, 1, (3,0), (0.75,0)) # non-unit distance"
   ]
  },
  {
   "cell_type": "markdown",
   "metadata": {},
   "source": [
    "### 3. Calculating the orbit of a planet\n",
    "\n",
    "You should complete the following function, without changing its name, arguments or docstring, to calculate the $x$ and $y$ coordinates of a planet at each time step."
   ]
  },
  {
   "cell_type": "code",
   "execution_count": null,
   "metadata": {},
   "outputs": [],
   "source": [
    "def trajectory(position, velocity, m_star, dt, t_max):\n",
    "    \"\"\"\n",
    "    Calculate trajectory of planet from given starting position, using Euler's method.\n",
    "    \n",
    "    Input:\n",
    "      - position: position vector of planet at start of simulation [m] (NumPy array)\n",
    "      - velocity: velocity vector of planet at start of simulation [m] (NumPy array)\n",
    "      - m_star:   mass of star [kg]\n",
    "      - dt:       time step    [s]\n",
    "      - t_max:    duration of calculated motion [s]\n",
    "\n",
    "    Output: (x_arr, y_arr) [m]\n",
    "        where x_arr and y_arr are NumPy arrays containing the x and y coordinates of\n",
    "        the planet at each time step, starting with the initial position\n",
    "    \"\"\"\n",
    "    ##################\n",
    "    # YOUR CODE HERE #\n",
    "    ##################"
   ]
  },
  {
   "cell_type": "markdown",
   "metadata": {},
   "source": [
    "#### Testing your function\n",
    "\n",
    "If you have implemented all three functions correctly, the following cell should show an almost circular orbit."
   ]
  },
  {
   "cell_type": "code",
   "execution_count": null,
   "metadata": {},
   "outputs": [],
   "source": [
    "G       = 6.6743e-11 # gravitational constant [m^3 kg^-1 s^-2]\n",
    "YEAR    = 3.154e7    # one year in seconds\n",
    "M_STAR  = 2.5e30     # mass of star [kg]\n",
    "\n",
    "dt = YEAR/10000      # time step for Euler's method\n",
    "pos = np.array([2.0e11, 0])    # initial position (x,y) [m]\n",
    "vel = np.array([0,2.89e4])     # initial velocity (vx,vy) [m/s]\n",
    "\n",
    "# Calculate trajectory\n",
    "x_test, y_test = trajectory(pos,vel,M_STAR,dt,2*YEAR)\n",
    "\n",
    "# Plot trajectory\n",
    "fig, axes = plt.subplots()\n",
    "axes.set_aspect('equal')\n",
    "plt.title('Trajectory of planet')\n",
    "plt.xlabel('x [m]')\n",
    "plt.ylabel('y [m]')\n",
    "plt.plot(x_test, y_test)"
   ]
  },
  {
   "cell_type": "markdown",
   "metadata": {},
   "source": [
    "### 4. Animating the orbit"
   ]
  },
  {
   "cell_type": "markdown",
   "metadata": {},
   "source": [
    "To better visualise the motion of the planet, we create an animation showing the changing position of the planet, with a trail to show its path.\n",
    "\n",
    "As seen in unit 9, we define a function that updates the display of the planet and trail:-"
   ]
  },
  {
   "cell_type": "code",
   "execution_count": null,
   "metadata": {},
   "outputs": [],
   "source": [
    "def animate_with_trail(i, planet, trail, x_arr, y_arr):\n",
    "    \"\"\"\n",
    "    Update display for projectile motion, with trail.\n",
    "    \n",
    "    Arguments:\n",
    "        i:      frame number (from 0 at time = 0)\n",
    "        planet: Line2D object containing coordinates of planet\n",
    "        trail:  Line2D object containing coordinates of trail\n",
    "        x_arr:  array of x coordinate at teach time step\n",
    "        y_arr:  array of y coordinate at teach time step\n",
    "\n",
    "    Result: updates coordinates in Line2D objects provided as arguments\n",
    "    \"bodies\" and \"trails\".\n",
    "    \"\"\"\n",
    "    x, y = x_arr[i], y_arr[i]\n",
    "    planet.set_data([x],[y])                # Body gets coordinates of current position\n",
    "    trail.set_data(x_arr[:i+1],y_arr[:i+1]) # Trail has all points up to the current one"
   ]
  },
  {
   "cell_type": "markdown",
   "metadata": {},
   "source": [
    "To make it easier to create different simulations without repeating too much code, we define a function to create an animation using the calculated trajectory. As well as the arrays of x and y values, we have to pass it the time step used in the simulation, the number of frames per second to use in the animation, and the \"speedup\" factor, which is the ratio of the simulated time (which is typically of order years) to the real time (typically of order seconds).\n",
    "\n",
    "To create a relatively smoothly animation with the finite power of our computer, we can't plot every position we have calculated along the trajectory, but have to pick every $N$th position, where $N$ is chosen to match our animation frame rate to our calculated trajectory."
   ]
  },
  {
   "cell_type": "code",
   "execution_count": null,
   "metadata": {},
   "outputs": [],
   "source": [
    "def create_animation(x_arr, y_arr, dt, fps, speedup):\n",
    "    \"\"\"\n",
    "    Create an animation of an object with given trajectory.\n",
    "    \n",
    "    Arguments:\n",
    "        x_arr, y_arr: arrays of x and y coordinates at each time step [m]\n",
    "        dt:           time step in simulation [s]\n",
    "        fps:          number of frames per second for animation\n",
    "        speedup:      ratio of simulated time to screen time\n",
    "    \"\"\"\n",
    "    # Find range of coordinates to include full trajectory\n",
    "    x_max = max(np.abs(x_arr))\n",
    "    y_max = max(np.abs(y_arr))\n",
    "    r_max = 1.05 * max(x_max, y_max)\n",
    "    \n",
    "    # Create and configure figure and axes\n",
    "    plt.ioff()\n",
    "    fig, axes = plt.subplots()\n",
    "    axes.set_xlim(-r_max,r_max)\n",
    "    axes.set_ylim(-r_max,r_max)\n",
    "    axes.set_aspect('equal')\n",
    "    axes.set_title('Trajectory of planet')\n",
    "    axes.set_xlabel('x [m]')\n",
    "    axes.set_ylabel('y [m]')\n",
    "\n",
    "    # Create Line2D objects to represent body and trail\n",
    "    planet,  = axes.plot([],[],'o')\n",
    "    trail,   = axes.plot([],[],'-')\n",
    "\n",
    "    # Get arrays of coordinates to display (subset of provided data)\n",
    "    frame_interval = 1/fps                  # time between frames [s]\n",
    "    skip = round(frame_interval*speedup/dt) # number of calculated points per frame\n",
    "    if skip==0:\n",
    "        raise Exception(\"Speedup factor too low.\")\n",
    "    x_plot = x_arr[::skip]  # take every Nth value (N = skip)\n",
    "    y_plot = y_arr[::skip]\n",
    "    n_frames = len(x_plot)\n",
    "\n",
    "    # Create and return animation object\n",
    "    ani = animation.FuncAnimation(fig,animate_with_trail, frames=n_frames, interval=frame_interval*1000,\n",
    "                                  fargs=[planet, trail, x_plot, y_plot])\n",
    "    return ani"
   ]
  },
  {
   "cell_type": "markdown",
   "metadata": {},
   "source": [
    "***Animating your calculated orbit.***\n",
    "\n",
    "In the cell below, write some code that calls this function to create an animation of the orbit you have calculated above. You should choose parameters to create a fairly smooth animation that takes a few seconds to run."
   ]
  },
  {
   "cell_type": "code",
   "execution_count": null,
   "metadata": {},
   "outputs": [],
   "source": [
    "##################\n",
    "# YOUR CODE HERE #\n",
    "##################"
   ]
  },
  {
   "cell_type": "markdown",
   "metadata": {},
   "source": [
    "### 5. Investigation\n",
    "\n",
    "You should insert code and text cells below as required to investigate and discuss the effect of changing the parameters of the animation: time step, mass of star, initial position and velocity of planet."
   ]
  },
  {
   "cell_type": "code",
   "execution_count": null,
   "metadata": {},
   "outputs": [],
   "source": []
  },
  {
   "cell_type": "markdown",
   "metadata": {},
   "source": [
    "## Part B\n",
    "\n",
    "It is up to you to structure the rest of the notebook as you see fit, as you complete the tasks set in part B of the assignment.\n",
    "\n",
    "You can call the functions you have defined in part A, or copy and adapt them in part B, but **DO NOT CHANGE THE CODE IN PART A SUCH THAT THE CELLS IN PART A NO LONGER WORK CORRECTLY.** You do not want to lose marks in section A in completing section B."
   ]
  }
 ],
 "metadata": {
  "kernelspec": {
   "display_name": "Python 3 (ipykernel)",
   "language": "python",
   "name": "python3"
  },
  "language_info": {
   "codemirror_mode": {
    "name": "ipython",
    "version": 3
   },
   "file_extension": ".py",
   "mimetype": "text/x-python",
   "name": "python",
   "nbconvert_exporter": "python",
   "pygments_lexer": "ipython3",
   "version": "3.9.12"
  },
  "toc": {
   "base_numbering": 1,
   "nav_menu": {},
   "number_sections": false,
   "sideBar": true,
   "skip_h1_title": false,
   "title_cell": "Table of Contents",
   "title_sidebar": "Contents",
   "toc_cell": false,
   "toc_position": {
    "height": "calc(100% - 180px)",
    "left": "10px",
    "top": "150px",
    "width": "213.333px"
   },
   "toc_section_display": true,
   "toc_window_display": false
  }
 },
 "nbformat": 4,
 "nbformat_minor": 4
}
