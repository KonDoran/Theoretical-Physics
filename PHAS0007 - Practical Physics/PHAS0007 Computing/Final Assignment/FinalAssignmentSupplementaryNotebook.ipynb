{
 "cells": [
  {
   "cell_type": "markdown",
   "id": "6ba7bf17",
   "metadata": {},
   "source": [
    "# Simulating orbits of two planets\n",
    "\n",
    "**PHAS0007 Computing final assignment: supplementary notebook**\n",
    "\n",
    "**Completed version, with code from part A solution.**\n",
    "\n",
    "Author: Dr Ben Waugh\n",
    "\n",
    "Last updated: 2022-12-16\n",
    "\n",
    "## Introduction\n",
    "\n",
    "In part A of the final assignment, you were asked to complete three functions:\n",
    "- `force`, to calculate the gravitational force between two objects;\n",
    "- `move_planet`, to update the position and velocity of a planet after a time step, using Euler's method;\n",
    "- `trajectory`, to calculate the trajectory of a planet over a given time interval.\n",
    "\n",
    "You were given functions:\n",
    "- `animate_with_trail`, to update the position of a planet for each frame of an animation;\n",
    "- `create_animation`, to create an animation of an object with a given trajectory.\n",
    "\n",
    "Using these functions, you should have created an animation showing the orbit of a single planet around a star. In part B you need to create an animation showing the orbits of two planets, first treating them independently and then including the gravitational force between them. This notebook will guide you through some of the steps needed for this. You may copy or adapt this code in your own notebook, as long as you reference it appropriately."
   ]
  },
  {
   "cell_type": "markdown",
   "id": "74ee5048",
   "metadata": {},
   "source": [
    "## Code from part A\n",
    "\n",
    "To use this notebook, you will need to set up Matplotlib, import the required packages, and copy the functions `force`, `move_planet` and `trajectory` from your solution to part A into the cell below."
   ]
  },
  {
   "cell_type": "code",
   "execution_count": null,
   "id": "fc14e4e2",
   "metadata": {},
   "outputs": [],
   "source": [
    "##################\n",
    "# YOUR CODE HERE #\n",
    "##################\n"
   ]
  },
  {
   "cell_type": "markdown",
   "id": "dc25f4b1",
   "metadata": {},
   "source": [
    "## Two independent planets\n",
    "\n",
    "To start with, we will not take into account the gravitational interaction between the two planets, so they move independently. This means we can use the existing function `trajectory` for each planet separately.\n",
    "\n",
    "To create an animation of the two planets, we need new versions of some of the functions we used in part A. The animation function can be amended to take a list of trajectories, and corresponding lists of planet and trail objects, instead of just one of each."
   ]
  },
  {
   "cell_type": "code",
   "execution_count": null,
   "id": "619a0474",
   "metadata": {},
   "outputs": [],
   "source": [
    "def animate_multiple(i, planets, trails, trajectories):\n",
    "    \"\"\"\n",
    "    Update display for motion of multiple bodies with trails.\n",
    "    \n",
    "    Arguments:\n",
    "        i:       frame number (from 0 at time = 0)\n",
    "        planets: list of Line2D objects containing coordinates of each body to move\n",
    "        trails:  list of Line2D objects containing coordinates of trails\n",
    "        trajectories: list of trajectories, each of the form [x_arr, y_arr]\n",
    "                 where x_arr and y_arr are arrays of x and y coordinates at\n",
    "                 each time step\n",
    "    \n",
    "    Note that all trajectories must have the same number of points.\n",
    "    \"\"\"\n",
    "    for j in range(len(trajectories)):    # for each trajectory ...\n",
    "        trajectory = trajectories[j]\n",
    "        x_arr, y_arr = trajectory         # get arrays of x and y coordinats\n",
    "        x, y = x_arr[i], y_arr[i]\n",
    "        planets[j].set_data([x],[y])\n",
    "        trails[j].set_data(x_arr[:i+1],y_arr[:i+1]) # Trail has all points up to this one"
   ]
  },
  {
   "cell_type": "markdown",
   "id": "2ca78138",
   "metadata": {},
   "source": [
    "A new function can be used to obtain the required Line2D objects for planets and their trails, and ensure that they have matching colours."
   ]
  },
  {
   "cell_type": "code",
   "execution_count": null,
   "id": "cf55149b",
   "metadata": {},
   "outputs": [],
   "source": [
    "def get_bodies_and_trails(axes, n):\n",
    "    \"\"\"\n",
    "    Get the required number of Line2D objects to represent the bodies\n",
    "    being animated, and the trails left behind them.\n",
    "    \n",
    "    Arguments:\n",
    "        axes: the axes to be used for plotting the bodies\n",
    "        n:    number of bodies in simulation\n",
    "    \n",
    "    Returns: (bodies, trails) where\n",
    "        bodies is a list of Line2D objects to be plotted as discs\n",
    "        trails is a list of Line2D objects to be plotted as lines\n",
    "    \"\"\"\n",
    "    bodies = []\n",
    "    trails = []\n",
    "    for i in range(n):              # repeat n times\n",
    "        body,  = axes.plot([],[],'o')           # Line2D with disc markers\n",
    "        col    = body.get_color()               # get colour of body ...\n",
    "        trail, = axes.plot([],[],'-',color=col) # and set trail (line) to same colour\n",
    "        bodies.append(body)         # add Line2D objects to lists\n",
    "        trails.append(trail)\n",
    "    return bodies, trails"
   ]
  },
  {
   "cell_type": "markdown",
   "id": "2f2ecf8e",
   "metadata": {},
   "source": [
    "Then the function that creates the animation also needs to be able to handle more than a single planet."
   ]
  },
  {
   "cell_type": "code",
   "execution_count": null,
   "id": "fe528caf",
   "metadata": {},
   "outputs": [],
   "source": [
    "def create_animation_planets(trajectories, dt, fps, speedup):\n",
    "    \"\"\"\n",
    "    Create an animation of objects with given trajectories.\n",
    "    \n",
    "    Arguments:\n",
    "        trajectories: list of trajectories, each of the form [x_arr, y_arr]\n",
    "                 where x_arr and y_arr are arrays of x and y coordinates at\n",
    "                 each time step\n",
    "        dt:           time step in simulation [s]\n",
    "        fps:          number of frames per second for animation\n",
    "        speedup:      ratio of simulated time to screen time\n",
    "    \"\"\"\n",
    "    # Find range of coordinates to include full trajectories \n",
    "    r_max = 1.05 * np.max(np.abs(trajectories))\n",
    "\n",
    "    # Create and configure figure and axes\n",
    "    plt.ioff()\n",
    "    fig, axes = plt.subplots()\n",
    "    axes.set_xlim(-r_max,r_max)\n",
    "    axes.set_ylim(-r_max,r_max)\n",
    "    axes.set_aspect('equal')\n",
    "\n",
    "    # Create Line2D objects to represent bodies and trails\n",
    "    bodies, trails = get_bodies_and_trails(axes, 2)\n",
    "    body = bodies[0]\n",
    "    trail = trails[0]\n",
    "\n",
    "    # Get arrays of coordinates to display (subset of provided data)\n",
    "    frame_interval = 1/fps                  # time between frames [s]\n",
    "    skip = round(frame_interval*speedup/dt) # number of calculated points per frame\n",
    "    plot_trajectories = []\n",
    "    for trajectory in trajectories:\n",
    "        x_arr, y_arr = trajectory\n",
    "        x_plot = x_arr[::skip]  # take every Nth value (N = skip)\n",
    "        y_plot = y_arr[::skip]\n",
    "        plot_trajectory = [x_plot, y_plot]\n",
    "        plot_trajectories.append(plot_trajectory)\n",
    "        n_frames = len(x_plot)\n",
    "    \n",
    "    # Create and return animation object\n",
    "    ani = animation.FuncAnimation(fig,animate_multiple, frames=n_frames, interval=frame_interval*1000,\n",
    "                                  fargs=[bodies, trails, plot_trajectories])\n",
    "    return ani"
   ]
  },
  {
   "cell_type": "markdown",
   "id": "fe745d14",
   "metadata": {},
   "source": [
    "Using these functions, we can create an animation with two bodies orbiting independently."
   ]
  },
  {
   "cell_type": "code",
   "execution_count": null,
   "id": "70c8077f",
   "metadata": {},
   "outputs": [],
   "source": [
    "# Constants and parameters\n",
    "G       = 6.6743e-11 # gravitational constant [m^3 kg^-1 s^-2]\n",
    "YEAR    = 3.154e7    # one year in seconds\n",
    "M_STAR  = 2.5e30     # mass of star [kg]\n",
    "dt = YEAR/10000      # time step for Euler's method\n",
    "\n",
    "# Initial position (x,y) [m] and velocity (vx,vy) [m/s] of each planet\n",
    "pos_a = np.array([3e11, 0])\n",
    "vel_a = np.array([0,2e4])\n",
    "pos_b = np.array([0,2e11])\n",
    "vel_b = np.array([-3e4,0])\n",
    "\n",
    "# Calculate trajectories (lists of x and y coordinates) [m]\n",
    "x_a, y_a = trajectory(pos_a,vel_a,M_STAR,dt,2*YEAR)\n",
    "x_b, y_b = trajectory(pos_b,vel_b,M_STAR,dt,2*YEAR)\n",
    "\n",
    "# Put the results into a list of trajectories, with each trajectory being\n",
    "# a list containing the lists of x and y coordinates.\n",
    "traj_a = [x_a, y_a]\n",
    "traj_b = [x_b, y_b]\n",
    "trajectories = [traj_a, traj_b]\n",
    "\n",
    "# One year is represented by 2 seconds in the animation\n",
    "speedup = YEAR/2\n",
    "\n",
    "# Create and display the animation\n",
    "ani = create_animation_planets(trajectories, dt, 50, speedup)\n",
    "HTML(ani.to_jshtml())"
   ]
  },
  {
   "cell_type": "markdown",
   "id": "fc15eafd",
   "metadata": {},
   "source": [
    "## Interacting planets\n",
    "\n",
    "To allow for the gravitational interactions between planets, we can no longer calculate the trajectories separately. Instead, at each time step we must update the position and velocity of each planet taking into account the position of the other planet as well as the star.\n",
    "\n",
    "You will need to create functions similar to `move_planet` and `trajectory` in part A. This time the arguments will need to include the initial positions and velocities of both planets, as well as their masses."
   ]
  }
 ],
 "metadata": {
  "kernelspec": {
   "display_name": "Python 3 (ipykernel)",
   "language": "python",
   "name": "python3"
  },
  "language_info": {
   "codemirror_mode": {
    "name": "ipython",
    "version": 3
   },
   "file_extension": ".py",
   "mimetype": "text/x-python",
   "name": "python",
   "nbconvert_exporter": "python",
   "pygments_lexer": "ipython3",
   "version": "3.9.12"
  },
  "toc": {
   "base_numbering": 1,
   "nav_menu": {},
   "number_sections": false,
   "sideBar": true,
   "skip_h1_title": false,
   "title_cell": "Table of Contents",
   "title_sidebar": "Contents",
   "toc_cell": false,
   "toc_position": {},
   "toc_section_display": true,
   "toc_window_display": false
  }
 },
 "nbformat": 4,
 "nbformat_minor": 5
}
