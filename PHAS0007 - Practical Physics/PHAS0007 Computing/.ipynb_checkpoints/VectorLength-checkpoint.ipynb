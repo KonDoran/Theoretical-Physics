{
 "cells": [
  {
   "cell_type": "code",
   "execution_count": 4,
   "id": "33e66c40",
   "metadata": {},
   "outputs": [
    {
     "name": "stdout",
     "output_type": "stream",
     "text": [
      "Please enter the x component:7\n",
      "Please enter the y component:10\n",
      "Please enter the z component:14\n",
      "The vector is 18.57417562100671 long\n"
     ]
    }
   ],
   "source": [
    "#~~~~~~~~~~~~~~~~~~~~~~~~~~~~~~~~~~~~~~~~~~~~~~~~~~~~~~~~~~~~~~~~~~~~~~~~~~~~~~~~~\n",
    "# This code will calculate the magnitude of a vector given the 3 perpendicular components that form it\n",
    "#Konstantinos Doran - 04/10/22\n",
    "#~~~~~~~~~~~~~~~~~~~~~~~~~~~~~~~~~~~~~~~~~~~~~~~~~~~~~~~~~~~~~~~~~~~~~~~~~~~~~~~~~\n",
    "#Import square root function from numpy library\n",
    "from numpy import sqrt\n",
    "#input vector components from user\n",
    "xvector = int(input(\"Please enter the x component:\"))\n",
    "yvector = int(input(\"Please enter the y component:\"))\n",
    "zvector = int(input(\"Please enter the z component:\"))\n",
    "#calculate the magnitude of the vector\n",
    "sumofsquares = xvector**2 + yvector**2 + zvector**2\n",
    "vectorlength = sqrt(sumofsquares)\n",
    "#output the value of the magnitude\n",
    "print(f\"The vector is {vectorlength} long\")"
   ]
  },
  {
   "cell_type": "code",
   "execution_count": null,
   "id": "e8a8d081",
   "metadata": {},
   "outputs": [],
   "source": []
  }
 ],
 "metadata": {
  "kernelspec": {
   "display_name": "Python 3 (ipykernel)",
   "language": "python",
   "name": "python3"
  },
  "language_info": {
   "codemirror_mode": {
    "name": "ipython",
    "version": 3
   },
   "file_extension": ".py",
   "mimetype": "text/x-python",
   "name": "python",
   "nbconvert_exporter": "python",
   "pygments_lexer": "ipython3",
   "version": "3.9.12"
  }
 },
 "nbformat": 4,
 "nbformat_minor": 5
}
