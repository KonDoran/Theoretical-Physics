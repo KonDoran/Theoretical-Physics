{
 "cells": [
  {
   "cell_type": "markdown",
   "metadata": {},
   "source": [
    "# PHAS0007 Computing mid-term assignment: Supplementary notebook\n",
    "\n",
    "Authors: Louise Dash, Ben Waugh\n",
    "\n",
    "Last updated: 2022-11-10\n",
    "\n",
    "This notebook contains the following:\n",
    "* some relevant equations from Data Analysis booklet typeset for you;\n",
    "* an example of how to reference using the Vancouver style within a Jupyter notebook.\n",
    "\n",
    "## Equations\n",
    "\n",
    "These are selected equations relevant to the mid-term computing assignment [1].\n",
    "\n",
    "You may copy and paste these equations into your own notebook as required, in which case make sure this notebook is included in your list of references. You should also make sure these equations are suitably referenced, i.e. include a reference to the Data Analysis booklet [2] or to e.g. the appropriate section of Hughes and Hase [3]."
   ]
  },
  {
   "cell_type": "markdown",
   "metadata": {},
   "source": [
    "Equation (16):\n",
    "$$\n",
    "d_i = y_i - y_\\mathrm{line}(x_i) = y_i - mx_i -c\n",
    "$$\n",
    "\n",
    "Equation (22):\n",
    "$$m=\\frac{\\sum_{i=1}^n(x_i-\\bar{x})y_i}{\\sum_{i=1}^n(x_i-\\bar{x})^2}$$\n",
    "\n",
    "Equation (23):\n",
    "$$c=\\bar{y}-m\\bar{x}$$\n",
    "\n",
    "Equation (24):\n",
    "$$\\Delta m = \\sqrt{\\frac{S}{(n-2)D}}$$\n",
    "\n",
    "Equation (25):\n",
    "$$\\Delta c = \\sqrt{\\left( \\frac{1}{n}+\\frac{\\bar{x}^2}{D} \\right)\n",
    "\\frac{S}{(n-2}}$$\n",
    "\n",
    "Equation (26):\n",
    "$$D=\\sum_{i=1}^n (x_i-\\bar{x})^2$$\n",
    "\n",
    "Equation (31):\n",
    "$$\n",
    "m = \\frac\n",
    "{\\sum_i w_i \\sum_i w_i x_i y_i - \\sum_i w_i x_i \\sum_i w_i y_i}\n",
    "{\\sum_i w_i \\sum_i w_i x_i^2 - \\left(\\sum_i w_i x_i\\right)^2}\n",
    "$$\n",
    "\n",
    "Equation (32):\n",
    "$$\n",
    "c = \\frac\n",
    "{\\sum_{i=1}^n w_i y_i - m\\sum_{i=1}^n w_i x_i}\n",
    "{\\sum_{i=1}^n w_i}\n",
    "$$\n",
    "\n",
    "Equation (33):\n",
    "$$\n",
    "\\Delta m = \\sqrt{\\frac{\n",
    "\\sum_i w_i\n",
    "}{\n",
    "\\sum_i w_i \\sum_i w_i x_i^2 - \\left( \\sum_i w_i x_i \\right)^2\n",
    "}}\n",
    "$$\n",
    "\n",
    "Equation (34):\n",
    "$$\n",
    "\\Delta c = \\sqrt{\\frac{\n",
    "\\sum_i w_i x_i^2\n",
    "}{\n",
    "\\sum_i w_i \\sum_i w_i x_i^2 - \\left( \\sum_i w_i x_i \\right)^2\n",
    "}}\n",
    "$$\n",
    "\n",
    "Equation (36):\n",
    "$$\n",
    "\\mathrm{Normalised\\ residual} = \\frac{d_i}{\\Delta y_i}\n",
    "$$\n"
   ]
  },
  {
   "cell_type": "markdown",
   "metadata": {
    "collapsed": true
   },
   "source": [
    "## References\n",
    "\n",
    "[1] Chislett C, Dash L, Lemos P and Waugh B. *PHAS0007 Reading Week Assignment 2022: Using least-squares fitting to calculate the Hubble constant.* [online] UCL: London; 2022 [Accessed 3 November 2022]. Available from: https://moodle.ucl.ac.uk/mod/resource/view.php?id=4305191\n",
    "\n",
    "[2] Llorente-Garcia I and Jones P. *Data Analysis and Statistics Booklet, Practical Physics and Computing 1: Module PHAS0007.* [online] UCL: London; 2021 [Accessed 23 September 2022]. Available from: https://moodle.ucl.ac.uk/mod/resource/view.php?id=4305408\n",
    "\n",
    "[3] \n",
    "Hughes I, Hase T. *Measurements and their uncertainties. A practical guide to modern error analysis.* Oxford University Press; 2010."
   ]
  }
 ],
 "metadata": {
  "anaconda-cloud": {},
  "kernelspec": {
   "display_name": "Python 3 (ipykernel)",
   "language": "python",
   "name": "python3"
  },
  "language_info": {
   "codemirror_mode": {
    "name": "ipython",
    "version": 3
   },
   "file_extension": ".py",
   "mimetype": "text/x-python",
   "name": "python",
   "nbconvert_exporter": "python",
   "pygments_lexer": "ipython3",
   "version": "3.9.12"
  },
  "toc": {
   "base_numbering": 1,
   "nav_menu": {},
   "number_sections": false,
   "sideBar": true,
   "skip_h1_title": false,
   "title_cell": "Table of Contents",
   "title_sidebar": "Contents",
   "toc_cell": false,
   "toc_position": {},
   "toc_section_display": true,
   "toc_window_display": false
  }
 },
 "nbformat": 4,
 "nbformat_minor": 1
}
