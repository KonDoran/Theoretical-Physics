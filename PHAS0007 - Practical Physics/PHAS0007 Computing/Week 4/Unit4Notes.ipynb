{
 "cells": [
  {
   "cell_type": "markdown",
   "metadata": {},
   "source": [
    "# PHAS0007 Computing Unit 4: Linear regression\n",
    "\n",
    "Authors: Ben Waugh, Louise Dash, Becky Chislett\n",
    "\n",
    "Last updated 2022-10-23\n",
    "\n",
    "## Learning objectives\n",
    "\n",
    "By the end of this session, you should be able to:\n",
    "- use Python to fit a straight line to a set of data;\n",
    "- present data, calculations and discussion in a well formatted computational notebook.\n",
    "\n",
    "## Introduction\n",
    "\n",
    "In this unit we will see how to fit a straight line to a set of data, applying the techniques you have learned in the Data Analysis and Statistics (DAS) lectures [1]. You will present your calculation and results, as well as the data itself, in a Jupyter notebook.\n",
    "\n",
    "You should refer to the notes and slides from the DAS course for explanation of the theory of linear regression, and of how to choose the appropriate level of precision to use in quoting numerical results. "
   ]
  },
  {
   "cell_type": "markdown",
   "metadata": {},
   "source": [
    "## Presenting numbers\n",
    "\n",
    "### Format specifiers\n",
    "\n",
    "Many of you will have noticed that Python's default number output doesn't always present data the way you expect or the way you want. Now we'll look at how we can customize how the data is output to the screen:"
   ]
  },
  {
   "cell_type": "code",
   "execution_count": 1,
   "metadata": {},
   "outputs": [
    {
     "name": "stdout",
     "output_type": "stream",
     "text": [
      "num_1 is 4.655 to 3 decimal places.\n",
      "num_2 is -828.0655 to 4 decimal places.\n"
     ]
    }
   ],
   "source": [
    "# here are some numbers\n",
    "num_1 = 4.65467453905654\n",
    "num_2 = -828.06548098432\n",
    "\n",
    "# print with a defined number of decimal places: floating point numbers (f):\n",
    "print(f\"num_1 is {num_1:0.3f} to 3 decimal places.\")\n",
    "print(f\"num_2 is {num_2:0.4f} to 4 decimal places.\")"
   ]
  },
  {
   "cell_type": "markdown",
   "metadata": {},
   "source": [
    "- The `f` before the string marks it as an **f-string** (technically a \"formatted string literal\", meaning it contains expressions in curly brackets `{}` that should be replaced when the code is run.\n",
    "- The variable names within the curly brackets are replaced by the values of the corresponding variables.\n",
    "- The colon `:` marks what follows as a **format specifier**, which tells Python how to present the corresponding value.\n",
    "- The format specifier, e.g. `0.3f` has four parts:\n",
    "  - The first (`0`) is the (minimum) **width**: if we want to line up numbers in a table we might want to pad each one with spaces to take up a certain width, but here we use 0 because we don't want extra space.\n",
    "  - The second (`.`) is just a separator between the width and the next field.\n",
    "  - The third (`3`) is the **precision**, in this case the number of decimal places to print.\n",
    "  - The fourth (`f`) is the **type**: `f` means \"fixed point\"."
   ]
  },
  {
   "cell_type": "markdown",
   "metadata": {},
   "source": [
    "On other occasions we might want to use `e`, for exponential/scientific format, or `d`, for (decimal) integer numbers. For example:\n"
   ]
  },
  {
   "cell_type": "code",
   "execution_count": 2,
   "metadata": {},
   "outputs": [
    {
     "name": "stdout",
     "output_type": "stream",
     "text": [
      "num_3 to 4dp is 146.2300 (extra zeros added automatically).\n",
      "  or rounded to an integer (0dp) it is 146.\n",
      "num_4 really is an integer: 42.\n",
      "num_5 is best in exponential format: 3.66e-08.\n",
      "We can put num_5 in f format 0.0000000366\n",
      "  but you need enough digits otherwise you just get 0.000000.\n"
     ]
    }
   ],
   "source": [
    "num_3 = 146.23\n",
    "num_4 = 42\n",
    "num_5 = 3.6589543805434e-8\n",
    "\n",
    "print(f\"num_3 to 4dp is {num_3:0.4f} (extra zeros added automatically).\")\n",
    "print(f\"  or rounded to an integer (0dp) it is {num_3:0.0f}.\")\n",
    "print(f\"num_4 really is an integer: {num_4:d}.\")\n",
    "print(f\"num_5 is best in exponential format: {num_5:0.2e}.\")\n",
    "print(f\"We can put num_5 in f format {num_5:0.10f}\")\n",
    "print(f\"  but you need enough digits otherwise you just get {num_5:0.6f}.\")"
   ]
  },
  {
   "cell_type": "markdown",
   "metadata": {},
   "source": [
    "Many other options are described in the [Python string documentation](https://docs.python.org/3/library/string.html#formatstrings).\n",
    "\n",
    "### Why is this useful here?\n",
    "\n",
    "Remember, when dealing with data you should quote all uncertainties in your results to one significant figure (usually) or at most two (often appropriate if the first significant figure is 1, or if the uncertainty is an important part of the analysis), and then give your measured or calculated value to the same precision (see section 5.6 of the [PHAS0007 Data Analysis Booklet](https://moodle.ucl.ac.uk/course/view.php?id=31679)).\n",
    "\n",
    "However, if you want to do further calculations with your results, you should always use the numbers at their full calculated precision - hence the best general rule is to **_quote_ your results to 1 or 2 significant figures in the uncertainty, but always _calculate_ with the full number** to avoid any rounding errors.\n",
    "\n",
    "In any case, you will need to output your result to full precision at some point in order to determine how many significant figures are required.\n",
    "\n",
    "So if, for example, you've calculated your least-squares fit line to have a slope of 3.1234567 +/- 0.0043543, you should quote the result as 3.123 +/- 0.004 (not forgetting appropriate units, of course!)\n",
    "\n",
    "Remember though, you can't use LaTeX-style formatting in a python `print()` statement, only ASCII (or if you really feel the need, Unicode) characters. It's fine to use \"^\" to represent a superscript and \"+/-\" for $\\pm$, etc,  in print statements."
   ]
  },
  {
   "cell_type": "markdown",
   "metadata": {},
   "source": [
    "### Adding text to your plot\n",
    "\n",
    "When you do your own least squares fit line, you're going to want to output the slope and intercept (together with their uncertainties) either as text output with a print statement, like above, or on the plot itself.\n",
    "\n",
    "To put a text string with formatted numbers directly on your plot, you'll need to work out roughly the x- and y- coordinates where you want the text to start, then use a command like this:\n",
    "\n",
    "    plt.text(x, y, f\"y = {slope:0.4f} x + {intercept:0.4f}\")\n",
    "\n",
    "You'll need to change `x` and `y` to the numbers corresponding to the position on the plot where you want the text, and will probably need to tweak them to get the position exactly right. Make sure the text isn't obscuring anything on the plot!"
   ]
  },
  {
   "cell_type": "markdown",
   "metadata": {},
   "source": [
    "## Linear regression\n",
    "\n",
    "The separate notebook on [Fitting a Function to Data](https://moodle.ucl.ac.uk/mod/resource/view.php?id=4527144) provides a worked example of fitting a straight line (and other functions) to a set of data. Here we will provide only a short overview of the procedure. As usual we start by importing the packages we will need."
   ]
  },
  {
   "cell_type": "code",
   "execution_count": 3,
   "metadata": {},
   "outputs": [],
   "source": [
    "%matplotlib inline\n",
    "import matplotlib.pyplot as plt\n",
    "import numpy as np"
   ]
  },
  {
   "cell_type": "markdown",
   "metadata": {},
   "source": [
    "Then we can use the NumPy `polyfit` function to carry out the straight-line fit."
   ]
  },
  {
   "cell_type": "code",
   "execution_count": 4,
   "metadata": {},
   "outputs": [
    {
     "name": "stdout",
     "output_type": "stream",
     "text": [
      "m = 2.22 +- 0.17\n",
      "c = 0.25 +- 0.08\n"
     ]
    }
   ],
   "source": [
    "# Fields are x, y, (error on y).\n",
    "# Data generated using a simple artifical simulation, and have no units.\n",
    "x, y, dy = np.loadtxt('unit4data.csv',delimiter=',',unpack=True)\n",
    "\n",
    "# Fit straight line parameters and calculate errors\n",
    "# A straight line is a polynomial of degree 1.\n",
    "degree = 1\n",
    "# Note: to correctly take errors into account,\n",
    "#   - set weights with w=1/error\n",
    "#   - use cov='unscaled'\n",
    "# See https://numpy.org/doc/stable/reference/generated/numpy.polyfit.html\n",
    "coeffs, errors = np.polyfit(x,y,degree,w=1/dy,cov='unscaled')\n",
    "m, c = coeffs  # unpack gradient and intercept from output\n",
    "dm, dc = np.sqrt(np.diag(errors)) # errors are sqrt of diagonal terms\n",
    "\n",
    "# Present results with errors\n",
    "print(f\"m = {m:.2f} +- {dm:.2f}\")\n",
    "print(f\"c = {c:.2f} +- {dc:.2f}\")"
   ]
  },
  {
   "cell_type": "markdown",
   "metadata": {},
   "source": [
    "The data were in fact generated using a simulation with a gradient of 2.1 and an intercept of 0.3, so we have successfully reconstructed these values (within the expected precision) from the data. Let's plot both the \"true\" line used to generate the data, and the best fit line we have reconstructed."
   ]
  },
  {
   "cell_type": "code",
   "execution_count": 5,
   "metadata": {},
   "outputs": [
    {
     "data": {
      "text/plain": [
       "<matplotlib.legend.Legend at 0x1cd537ea3d0>"
      ]
     },
     "execution_count": 5,
     "metadata": {},
     "output_type": "execute_result"
    },
    {
     "data": {
      "image/png": "[encoded data removed]",
      "text/plain": [
       "<Figure size 432x288 with 1 Axes>"
      ]
     },
     "metadata": {
      "needs_background": "light"
     },
     "output_type": "display_data"
    }
   ],
   "source": [
    "# Calculate coordinates to plot true function\n",
    "m_true, c_true = 2.1, 0.3\n",
    "xline = np.array([0,1.5])\n",
    "yline_true = m_true * xline + c_true\n",
    "yline_rec  = m * xline + c\n",
    "\n",
    "# Set up graph\n",
    "plt.figure()\n",
    "plt.title(\"Comparing true and best fit lines\")\n",
    "plt.xlabel(\"x\")\n",
    "plt.ylabel(\"y\")\n",
    "\n",
    "# Plot data and lines\n",
    "plt.errorbar(x,y,yerr=dy,fmt='.',label=\"data\")\n",
    "plt.plot(xline,yline_true,'-',label='true function')\n",
    "plt.plot(xline,yline_rec,'-',label='best fit line')\n",
    "plt.legend()"
   ]
  },
  {
   "cell_type": "markdown",
   "metadata": {},
   "source": [
    "What happens if we don't use the errors, and carry out an unweighted fit?"
   ]
  },
  {
   "cell_type": "code",
   "execution_count": 6,
   "metadata": {},
   "outputs": [
    {
     "name": "stdout",
     "output_type": "stream",
     "text": [
      "m = 2.74 +- 0.16\n",
      "c = -0.03 +- 0.15\n"
     ]
    }
   ],
   "source": [
    "# Fit straight line parameters and calculate errors\n",
    "# Still using degree 1, but no weights.\n",
    "coeffs_uw, errors_uw = np.polyfit(x,y,degree,cov=True)\n",
    "m_uw, c_uw = coeffs_uw  # unpack gradient and intercept from output\n",
    "dm_uw, dc_uw = np.sqrt(np.diag(errors_uw)) # errors are sqrt of diagonal terms\n",
    "\n",
    "# Present results with errors\n",
    "print(f\"m = {m_uw:.2f} +- {dm_uw:.2f}\")\n",
    "print(f\"c = {c_uw:.2f} +- {dc_uw:.2f}\")"
   ]
  },
  {
   "cell_type": "code",
   "execution_count": 7,
   "metadata": {},
   "outputs": [
    {
     "data": {
      "text/plain": [
       "<matplotlib.legend.Legend at 0x1cd538ddf40>"
      ]
     },
     "execution_count": 7,
     "metadata": {},
     "output_type": "execute_result"
    },
    {
     "data": {
      "image/png": "[encoded data removed]",
      "text/plain": [
       "<Figure size 432x288 with 1 Axes>"
      ]
     },
     "metadata": {
      "needs_background": "light"
     },
     "output_type": "display_data"
    }
   ],
   "source": [
    "# Calculate coordinates to plot unweighted fit\n",
    "yline_uw  = m_uw * xline + c_uw\n",
    "\n",
    "# Set up graph\n",
    "plt.figure()\n",
    "plt.title(\"Comparing weighted and unweighted fits\")\n",
    "plt.xlabel(\"x\")\n",
    "plt.ylabel(\"y\")\n",
    "\n",
    "# Plot data and lines\n",
    "plt.errorbar(x,y,yerr=dy,fmt='.',label=\"data\")\n",
    "plt.plot(xline,yline_rec,'-',label='weighted fit')\n",
    "plt.plot(xline,yline_uw,'-',label='unweighted fit')\n",
    "plt.legend()"
   ]
  },
  {
   "cell_type": "markdown",
   "metadata": {},
   "source": [
    "## Goodness of fit\n",
    "\n",
    "To ascertain whether our data is actually well described by the straight line we have fitted to it, we can take various approaches, as described in more detail in the DAS booklet [1].\n",
    "- look at the graph with the line and the points with error bars;\n",
    "- plot the residuals (or normalised residuals);\n",
    "- calculate the $r^2$ statistic;\n",
    "- calculate the normalised $\\chi^2$ statistic.\n",
    "\n",
    "Do you think the data above is well described by a straight line? What difference does it make using a weighted rather than unweighted fit?"
   ]
  },
  {
   "cell_type": "markdown",
   "metadata": {},
   "source": [
    "## Assessed task for this unit"
   ]
  },
  {
   "cell_type": "markdown",
   "metadata": {},
   "source": [
    "### Background to the data\n",
    "\n",
    "The data you will fit comes from an experiment carried out by the PHAS0007 module leader, Dr Jasvir Bhamrah. She was testing Hooke's Law by measuring the length of a spring with different masses attached to it. Hooke's Law states that\n",
    "    \n",
    "$$F = k x$$\n",
    "    \n",
    "where $F$ is the tension in the spring, $x$ is the extension of the spring, and $k$ is the spring constant of the spring. Hence $k$ can be calculated from the gradient of a graph of extension vs the weight applied to the spring."
   ]
  },
  {
   "cell_type": "markdown",
   "metadata": {},
   "source": [
    "### Important note\n",
    "\n",
    "#### Citation\n",
    "    \n",
    "If you reuse code from another source, for example the session script, your own submission from a previous session, or a post on stackoverflow, you **must** make sure you clearly state the original source in the comments, and summarise any changes that you have made. \n",
    "\n",
    "It is **not acceptable** to copy code from other sources without citation and attribution.\n",
    "    \n",
    "This applies to both session tasks and formal assignments.\n",
    "\n",
    "#### Examples\n",
    "\n",
    "For example, in the task today you are asked to adapt code from your earlier work, so include a comment in your code such as:\n",
    "\n",
    "    # Plotting code adapted from my submission for PHAS0007 Unit 3\n",
    "\n",
    "If you use or adapt code from someone else it is of course also important to acknowledge this, e.g. with a comment like\n",
    "\n",
    "    # script in this cell is from http://blog.nextgenetics.net/?e=102\n",
    "      \n",
    "You should **always** do this when reusing code from other sources - it is both academic good practice and useful to remind you where you found something."
   ]
  },
  {
   "cell_type": "markdown",
   "metadata": {},
   "source": [
    "### Instructions\n",
    "\n",
    "1. Create a new notebook.\n",
    "1. Write code (you can adapt it from your work in the previous unit) to read in and plot the data from the file `spring.csv`. Check the data file itself to find out the quantities in each column and their units. Make sure that the code reads the data file from the same directory that your notebook is in. Don't make any changes to the data file itself.\n",
    "1. Use the function `np.polyfit` to find the best-fit line to the data\n",
    "  1. first, without using the errors, i.e. an unweighted fit;\n",
    "  1. then using the errors, i.e. a weighted fit.\n",
    "1. You can refer to the notebook provided, and adapt code from it if you wish.\n",
    "1. In each of the unweighted and weighted cases:-\n",
    "  1. Output, at full precision, your calculated values for the slope, the intercept, and their uncertainties, together with their units and an appropriate text string.\n",
    "  1. Plot the fitted straight line on the same plot as the data.\n",
    "  1. Use Python number formatting to output, at the appropriate precision for quoting your results, your calculated slope and intercept, and the uncertainty on each. You can do this either\n",
    "    - in your plot itself, using `plt.text()`; or\n",
    "    - in a `print()` output in the same code cell as your plot (this is a bit easier, if you are short of time).\n",
    "1. Comment in a text cell on the differences (if any) between the results of the weighted and unweighted fits.\n",
    "1. Use your results to calculate the spring contant $k$ of the spring used in the experiment, printing the result and its uncertainty to the appropriate precision. You can use a value of $g = 9.81 ms^{-2}$ for the acceleration due to gravity.\n",
    "\n",
    "### Reminders\n",
    "\n",
    "- Use text cells to explain what you're doing as you go along, including:\n",
    "  - a title and brief introduction;\n",
    "  - a brief conclusion.\n",
    "- Include comments in code cells where appropriate, including:\n",
    "  - any necessary explanation of the code;\n",
    "  - citation of any copied or adapted code.\n",
    "- Consider how best to present the graphs: the checklists in the notes for unit 3 may be useful."
   ]
  },
  {
   "cell_type": "markdown",
   "metadata": {},
   "source": [
    "## References\n",
    "\n",
    "[1] Llorente-Garcia I and Jones P. *Data Analysis and Statistics Booklet, Practical Physics and Computing 1: Module PHAS0007.* [online] UCL: London; 2021 [Accessed 23 September 2022]. Available from: https://moodle.ucl.ac.uk/mod/resource/view.php?id=4305408"
   ]
  },
  {
   "cell_type": "code",
   "execution_count": null,
   "metadata": {},
   "outputs": [],
   "source": []
  }
 ],
 "metadata": {
  "anaconda-cloud": {},
  "kernelspec": {
   "display_name": "Python 3 (ipykernel)",
   "language": "python",
   "name": "python3"
  },
  "language_info": {
   "codemirror_mode": {
    "name": "ipython",
    "version": 3
   },
   "file_extension": ".py",
   "mimetype": "text/x-python",
   "name": "python",
   "nbconvert_exporter": "python",
   "pygments_lexer": "ipython3",
   "version": "3.9.12"
  },
  "toc": {
   "base_numbering": 1,
   "nav_menu": {},
   "number_sections": false,
   "sideBar": true,
   "skip_h1_title": true,
   "title_cell": "Table of Contents",
   "title_sidebar": "Contents",
   "toc_cell": false,
   "toc_position": {},
   "toc_section_display": true,
   "toc_window_display": true
  }
 },
 "nbformat": 4,
 "nbformat_minor": 1
}
