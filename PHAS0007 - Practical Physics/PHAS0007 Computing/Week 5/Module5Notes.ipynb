{
 "cells": [
  {
   "cell_type": "markdown",
   "metadata": {},
   "source": [
    "# Module 5: Revision\n",
    "\n",
    "Authors: Dr Ben Waugh and Dr Becky Chislett\n",
    "\n",
    "Last updated 2022-10-31\n",
    "\n",
    "This week's assignment is an opportunity to check and consolidate your understanding of what we have done so far, and get help with anything that is still not clear to you. This is a good opportunity to look back over the notes and material covered so far and ask questions in advance of the reading week assignment. There are no new concepts, although it does involve using loops in a slightly more complicated way.\n",
    "\n",
    "## Jupyter notebooks\n",
    "\n",
    "You should start by creating a new Jupyter notebook, and using a Markdown cell to create a title (as a level 1 heading) and introduction for your notebook. This need not be very long, and should focus on the mathematical and physical content of the notebook rather than the Python features you use. You should then use a level 2 heading to introduce each of the sections of the notebook, along with a brief explanation including mathematical equations where appropriate. See e.g. [Basic Syntax](https://www.markdownguide.org/basic-syntax/) or [Markdown Cells](https://jupyter-notebook.readthedocs.io/en/stable/examples/Notebook/Working%20With%20Markdown%20Cells.html) for a reminder of the Markdown syntax you will need.\n",
    "\n",
    "## The fifth-order Legendre polynomial\n",
    "\n",
    "Plot the first-, third- and fifth-order Legendre polynomials on the same axes over the range $-1 \\leq x \\leq 1$.\n",
    "These are defined as\n",
    "\n",
    "$$P_1(x) = x$$\n",
    "\n",
    "$$P_3(x) = \\frac{1}{2} \\left( 5 x^3 - 3 x \\right)$$\n",
    "\n",
    "$$P_5(x) = \\frac{1}{8} \\left( 63 x^5 - 70 x^3 + 15 x \\right)$$\n",
    "\n",
    "You calculated the forth-order Legendre polynomial in the first module and will likely come across them again. You can read more about them [here](https://en.wikipedia.org/wiki/Legendre_polynomials) if you are interested. There is a function in !SciPy that can be used to calculate Legendre polynomials, but for this exercise you should **not** use it, but instead implement your own calculation.\n",
    "\n",
    "Hints:\n",
    "- start by creating an array containing suitable x values;\n",
    "- then create three separate arrays containing the corresponding y values for each function;\n",
    "- you should not use any loops;\n",
    "- you need to use a legend, a suitable title and axis labels.\n",
    "\n",
    "## The Rydberg formula\n",
    "\n",
    "The Rydberg formula can be used to calculate the wavelengths of lines in the spectrum of an atom. For hydrogen it takes the form\n",
    "\n",
    "$$\\frac{1}{\\lambda} = R_H \\left( \\frac{1}{n_1^2} - \\frac{1}{n_2^2} \\right)$$\n",
    "\n",
    "This gives the wavelength of radiation emitted or absorbed when an electron undergoes a transition between energy levels $n_1$ and $n_2$ (where $n_2 > n_1$). $R_H$ is the Rydberg constant for hydrogen, with the value $1.09677583 \\times 10^7$ m$^{-1}$. Historically, the series of lines for each value of $n_1$ has a name, e.g. for $n_1=2$ (and $n_2=3, 4...$) we have the Balmer series, for which the first four lines are in the visible spectrum.\n",
    "\n",
    "Write some Python code to calculate and print (with context) the wavelength of the first line in the Balmer series, i.e. the case with $n_1=2$ and $n_2=3$. You should give the result in nanometres, to the nearest nanometre, using the formatting of numbers in print statements that was introduced last week. You should get a result of 656 nm.\n",
    "\n",
    "Now write some code that prints the wavelengths of the first four lines in each of the first five series. You will need \"nested loops\": one loop inside another. You need to take values of $n_1$ from 1 to 5, then for each $n_1$ value you need to consider the first four valid values of $n_2$. Try to present the print out of these values such that it is clear and easy for the user to read. \n",
    "\n",
    " "
   ]
  },
  {
   "cell_type": "markdown",
   "metadata": {},
   "source": [
    "## Before you submit your work\n",
    "\n",
    "Before you submit your work, you should\n",
    "- restart the kernel and run your entire notebook to ensure it works when run from scratch;\n",
    "- check that you have not missed out anything that you were asked to do;\n",
    "- ensure that your code is as clear and simple as you can make it, neatly laid out, with well-chosen variable names and suitable comments;\n",
    "- consider the marks and feedback you have received on earlier modules, and what you can learn from them to improve this week's work."
   ]
  }
 ],
 "metadata": {
  "kernelspec": {
   "display_name": "Python 3 (ipykernel)",
   "language": "python",
   "name": "python3"
  },
  "language_info": {
   "codemirror_mode": {
    "name": "ipython",
    "version": 3
   },
   "file_extension": ".py",
   "mimetype": "text/x-python",
   "name": "python",
   "nbconvert_exporter": "python",
   "pygments_lexer": "ipython3",
   "version": "3.9.12"
  },
  "toc": {
   "base_numbering": 1,
   "nav_menu": {},
   "number_sections": false,
   "sideBar": true,
   "skip_h1_title": false,
   "title_cell": "Table of Contents",
   "title_sidebar": "Contents",
   "toc_cell": false,
   "toc_position": {},
   "toc_section_display": true,
   "toc_window_display": false
  }
 },
 "nbformat": 4,
 "nbformat_minor": 4
}
