{
 "cells": [
  {
   "cell_type": "markdown",
   "metadata": {},
   "source": [
    "# PHAS0007 Computing Unit 7 Task Introduction: Expanding a square wave as a Fourier series\n",
    "\n",
    "Authors: Louise Dash, Ben Waugh\n",
    "\n",
    "Last revised 2022-11-20"
   ]
  },
  {
   "cell_type": "markdown",
   "metadata": {},
   "source": [
    "## Introduction\n",
    "\n",
    "We'll be doing plotting in this session, so we'll start by immediately importing NumPy and Matplotlib."
   ]
  },
  {
   "cell_type": "code",
   "execution_count": 1,
   "metadata": {},
   "outputs": [],
   "source": [
    "%matplotlib inline\n",
    "import numpy as np\n",
    "import matplotlib.pyplot as plt"
   ]
  },
  {
   "cell_type": "markdown",
   "metadata": {},
   "source": [
    "## Task: Expanding a square wave as a Fourier series\n",
    "\n",
    "### Fourier series\n",
    "\n",
    "Fourier's theorem says that any periodic function can be decomposed into a sum of sine and cosine functions. This is something you'll study in more depth in the Waves, Optics and Acoustics module PHAS0005 and will also come across in maths courses. We won't go into the full details of all the maths here, we just want to be able to understand the concept better by visualising it using Python.\n",
    "\n",
    "We're going to see how this works by building a square wave, like this:\n",
    "\n",
    "<img src=\"./squarewave.png\" width=400>\n",
    "\n",
    "*(If you can't see this image download the separate image file from Moodle.)*\n",
    "\n",
    "We'll vary the number of terms we used in the series, which will enable us to visualise how the square wave is built up from sine waves of different frequencies and amplitudes. \n",
    "\n",
    "The Fourier series for a square wave is given by:\n",
    "\n",
    "$$f_\\text{square}(x) = \\frac{4}{\\pi} \\sum_{n = 1, 3, 5, \\ldots}^{\\infty} \\frac{1}{n} \\sin\\left(\\frac{n \\pi x}{L}\\right)$$\n",
    "\n",
    "where the period of the function is $2L$, so one complete period is included in the range $[-L,L]$.  The $\\frac{4}{\\pi}$  outside the summation ensures that the amplitude of the square wave is 1. Note that each additional term in the series has a smaller amplitude (due to the 1/n term) and is also higher in frequency."
   ]
  },
  {
   "cell_type": "markdown",
   "metadata": {},
   "source": [
    "### What you need to do:\n",
    "\n",
    "Download the task template notebook from Moodle. Your job is to complete it this notebook, following the instructions in the green cells. "
   ]
  }
 ],
 "metadata": {
  "anaconda-cloud": {},
  "kernelspec": {
   "display_name": "Python 3 (ipykernel)",
   "language": "python",
   "name": "python3"
  },
  "language_info": {
   "codemirror_mode": {
    "name": "ipython",
    "version": 3
   },
   "file_extension": ".py",
   "mimetype": "text/x-python",
   "name": "python",
   "nbconvert_exporter": "python",
   "pygments_lexer": "ipython3",
   "version": "3.9.12"
  },
  "toc": {
   "base_numbering": 1,
   "nav_menu": {},
   "number_sections": false,
   "sideBar": true,
   "skip_h1_title": false,
   "title_cell": "Table of Contents",
   "title_sidebar": "Contents",
   "toc_cell": false,
   "toc_position": {},
   "toc_section_display": true,
   "toc_window_display": false
  },
  "widgets": {
   "state": {
    "af97c3933068498bba9b5e54ac4d38d7": {
     "views": [
      {
       "cell_index": 17
      }
     ]
    }
   },
   "version": "1.2.0"
  }
 },
 "nbformat": 4,
 "nbformat_minor": 1
}
